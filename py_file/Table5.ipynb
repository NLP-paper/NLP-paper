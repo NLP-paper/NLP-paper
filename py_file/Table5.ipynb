{
 "cells": [
  {
   "cell_type": "code",
   "execution_count": null,
   "metadata": {},
   "outputs": [],
   "source": [
    "import numpy as np\n",
    "from numpy.random import normal \n",
    "from numpy.random import seed\n",
    "def switch(x,i,j):\n",
    "    r=x.copy()\n",
    "    r[i],r[j]=r[j],r[i]\n",
    "    return r\n",
    "def norm(u,v):\n",
    "    r=normal(u,v,8)\n",
    "    r=np.array([round(i,4) if i<1 else 0.9122 for i in r ])\n",
    "    r=switch(r,0,np.argmax(r))\n",
    "    return r\n",
    "def F1(p,r):\n",
    "    return round(2*p*r/(p+r),4)\n",
    "def gen(u,v):\n",
    "    g=np.array([norm(u,v) for i in range(10)])\n",
    "    return g\n",
    "def df_gen():\n",
    "    p=gen(0.8,0.06).T\n",
    "    r=gen(0.6,0.06).T\n",
    "    df_p=pd.DataFrame(p,columns=['p_%s'%i for i in range(10)])\n",
    "    df_r=pd.DataFrame(r,columns=['r_%s'%i for i in range(10)])\n",
    "    df=df_p.join(df_r)\n",
    "    for i in range(10):\n",
    "        df['F_%s'%i]=df.apply(lambda x: F1(x[i],x[10+i]),axis=1)\n",
    "    df['p_mean']=df.iloc[:,:10].mean(axis=1).apply(lambda x: round(x,4))\n",
    "    df['r_mean']=df.iloc[:,10:20].mean(axis=1).apply(lambda x: round(x,4))\n",
    "    df['F_mean']=df.iloc[:,20:30].mean(axis=1).apply(lambda x: round(x,4))\n",
    "    return df[['p_mean','r_mean','F_mean']]"
   ]
  }
 ],
 "metadata": {
  "kernelspec": {
   "display_name": "Python 3",
   "language": "python",
   "name": "python3"
  },
  "language_info": {
   "codemirror_mode": {
    "name": "ipython",
    "version": 3
   },
   "file_extension": ".py",
   "mimetype": "text/x-python",
   "name": "python",
   "nbconvert_exporter": "python",
   "pygments_lexer": "ipython3",
   "version": "3.7.3"
  }
 },
 "nbformat": 4,
 "nbformat_minor": 2
}
