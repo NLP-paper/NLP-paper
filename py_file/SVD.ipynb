{
 "cells": [
  {
   "cell_type": "code",
   "execution_count": 1,
   "metadata": {},
   "outputs": [],
   "source": [
    "import pandas as pd\n",
    "import numpy as np\n",
    "data=[pd.read_pickle('C:/Users/042300/Desktop/data-master/data_new%s.pickle'%i) for i in range(4)]"
   ]
  },
  {
   "cell_type": "code",
   "execution_count": 2,
   "metadata": {},
   "outputs": [
    {
     "data": {
      "text/html": [
       "<div>\n",
       "<style scoped>\n",
       "    .dataframe tbody tr th:only-of-type {\n",
       "        vertical-align: middle;\n",
       "    }\n",
       "\n",
       "    .dataframe tbody tr th {\n",
       "        vertical-align: top;\n",
       "    }\n",
       "\n",
       "    .dataframe thead th {\n",
       "        text-align: right;\n",
       "    }\n",
       "</style>\n",
       "<table border=\"1\" class=\"dataframe\">\n",
       "  <thead>\n",
       "    <tr style=\"text-align: right;\">\n",
       "      <th></th>\n",
       "      <th>0</th>\n",
       "      <th>1</th>\n",
       "      <th>2</th>\n",
       "      <th>3</th>\n",
       "      <th>4</th>\n",
       "      <th>5</th>\n",
       "      <th>6</th>\n",
       "      <th>7</th>\n",
       "      <th>8</th>\n",
       "      <th>9</th>\n",
       "      <th>10</th>\n",
       "    </tr>\n",
       "  </thead>\n",
       "  <tbody>\n",
       "    <tr>\n",
       "      <th>0</th>\n",
       "      <td>0</td>\n",
       "      <td>5</td>\n",
       "      <td>0</td>\n",
       "      <td>0</td>\n",
       "      <td>0</td>\n",
       "      <td>0</td>\n",
       "      <td>0</td>\n",
       "      <td>0</td>\n",
       "      <td>0</td>\n",
       "      <td>0</td>\n",
       "      <td>0</td>\n",
       "    </tr>\n",
       "    <tr>\n",
       "      <th>1</th>\n",
       "      <td>1</td>\n",
       "      <td>11</td>\n",
       "      <td>1</td>\n",
       "      <td>0</td>\n",
       "      <td>1</td>\n",
       "      <td>1</td>\n",
       "      <td>1</td>\n",
       "      <td>1</td>\n",
       "      <td>0</td>\n",
       "      <td>0</td>\n",
       "      <td>0</td>\n",
       "    </tr>\n",
       "    <tr>\n",
       "      <th>2</th>\n",
       "      <td>1</td>\n",
       "      <td>7</td>\n",
       "      <td>1</td>\n",
       "      <td>0</td>\n",
       "      <td>1</td>\n",
       "      <td>2</td>\n",
       "      <td>2</td>\n",
       "      <td>1</td>\n",
       "      <td>0</td>\n",
       "      <td>0</td>\n",
       "      <td>0</td>\n",
       "    </tr>\n",
       "  </tbody>\n",
       "</table>\n",
       "</div>"
      ],
      "text/plain": [
       "   0   1   2   3   4   5   6   7   8   9   10\n",
       "0   0   5   0   0   0   0   0   0   0   0   0\n",
       "1   1  11   1   0   1   1   1   1   0   0   0\n",
       "2   1   7   1   0   1   2   2   1   0   0   0"
      ]
     },
     "execution_count": 2,
     "metadata": {},
     "output_type": "execute_result"
    }
   ],
   "source": [
    "data=pd.concat(data);data.head(3)"
   ]
  },
  {
   "cell_type": "code",
   "execution_count": 3,
   "metadata": {},
   "outputs": [],
   "source": [
    "data1=data.drop([7,8,9,10],axis=1)\n",
    "data1=data1.applymap(lambda x:str(x))\n",
    "data2=data1.copy()\n",
    "data2['word_all']=data2.apply(lambda x:'_'.join(x.values[1:7]),axis=1)\n",
    "vocab_all=data2['word_all'].unique()\n",
    "data2['word_part']=data2.apply(lambda x:'_'.join(x.values[1:5]),axis=1)\n",
    "vocab_part=data2['word_part'].unique()\n",
    "data_part=data2.loc[:,[0,'word_part']]"
   ]
  },
  {
   "cell_type": "code",
   "execution_count": 4,
   "metadata": {},
   "outputs": [],
   "source": [
    "cust_unique=data_part[0].unique()\n",
    "doc=[data_part[data_part[0]==cust]['word_part'].values for cust in cust_unique]"
   ]
  },
  {
   "cell_type": "code",
   "execution_count": 7,
   "metadata": {},
   "outputs": [
    {
     "data": {
      "text/plain": [
       "True"
      ]
     },
     "execution_count": 7,
     "metadata": {},
     "output_type": "execute_result"
    }
   ],
   "source": [
    "len(doc)==len(cust_unique)"
   ]
  },
  {
   "cell_type": "code",
   "execution_count": 6,
   "metadata": {},
   "outputs": [],
   "source": [
    "from sklearn.feature_extraction.text import CountVectorizer"
   ]
  },
  {
   "cell_type": "code",
   "execution_count": 9,
   "metadata": {},
   "outputs": [],
   "source": [
    "doc_raw_text=[' '.join(i) for i in doc]"
   ]
  },
  {
   "cell_type": "code",
   "execution_count": 11,
   "metadata": {},
   "outputs": [],
   "source": [
    "vectorizer = CountVectorizer()\n",
    "X = vectorizer.fit_transform(doc_raw_text)"
   ]
  },
  {
   "cell_type": "code",
   "execution_count": 13,
   "metadata": {},
   "outputs": [
    {
     "data": {
      "text/plain": [
       "425"
      ]
     },
     "execution_count": 13,
     "metadata": {},
     "output_type": "execute_result"
    }
   ],
   "source": [
    "len(vectorizer.get_feature_names())"
   ]
  },
  {
   "cell_type": "code",
   "execution_count": 21,
   "metadata": {},
   "outputs": [
    {
     "data": {
      "text/plain": [
       "array([[   0,    0,    0, ...,    0,    0,    0],\n",
       "       [6130,  252,  445, ...,    1,    0,    0],\n",
       "       [   0,    0,    0, ...,    0,    0,    0],\n",
       "       ...,\n",
       "       [   0,    0,    0, ...,    0,    0,    0],\n",
       "       [   0,    0,    0, ...,    0,    0,    0],\n",
       "       [   0,    0,    0, ...,    0,    0,    0]], dtype=int64)"
      ]
     },
     "execution_count": 21,
     "metadata": {},
     "output_type": "execute_result"
    }
   ],
   "source": [
    "X.toarray()"
   ]
  },
  {
   "cell_type": "code",
   "execution_count": 17,
   "metadata": {},
   "outputs": [],
   "source": [
    "from sklearn.feature_extraction.text import TfidfVectorizer"
   ]
  },
  {
   "cell_type": "code",
   "execution_count": 18,
   "metadata": {},
   "outputs": [],
   "source": [
    "tfidf_vect=TfidfVectorizer()\n",
    "X_tfidf=tfidf_vect.fit_transform(doc_raw_text)"
   ]
  },
  {
   "cell_type": "code",
   "execution_count": 19,
   "metadata": {},
   "outputs": [
    {
     "data": {
      "text/plain": [
       "array([[0.00000000e+00, 0.00000000e+00, 0.00000000e+00, ...,\n",
       "        0.00000000e+00, 0.00000000e+00, 0.00000000e+00],\n",
       "       [6.37088838e-02, 3.47197577e-03, 5.88694992e-03, ...,\n",
       "        1.27910677e-05, 0.00000000e+00, 0.00000000e+00],\n",
       "       [0.00000000e+00, 0.00000000e+00, 0.00000000e+00, ...,\n",
       "        0.00000000e+00, 0.00000000e+00, 0.00000000e+00],\n",
       "       ...,\n",
       "       [0.00000000e+00, 0.00000000e+00, 0.00000000e+00, ...,\n",
       "        0.00000000e+00, 0.00000000e+00, 0.00000000e+00],\n",
       "       [0.00000000e+00, 0.00000000e+00, 0.00000000e+00, ...,\n",
       "        0.00000000e+00, 0.00000000e+00, 0.00000000e+00],\n",
       "       [0.00000000e+00, 0.00000000e+00, 0.00000000e+00, ...,\n",
       "        0.00000000e+00, 0.00000000e+00, 0.00000000e+00]])"
      ]
     },
     "execution_count": 19,
     "metadata": {},
     "output_type": "execute_result"
    }
   ],
   "source": [
    "X_tfidf.toarray()"
   ]
  },
  {
   "cell_type": "code",
   "execution_count": 20,
   "metadata": {},
   "outputs": [
    {
     "data": {
      "text/plain": [
       "(1418, 425)"
      ]
     },
     "execution_count": 20,
     "metadata": {},
     "output_type": "execute_result"
    }
   ],
   "source": [
    "X_tfidf.shape"
   ]
  },
  {
   "cell_type": "code",
   "execution_count": 22,
   "metadata": {},
   "outputs": [],
   "source": [
    "#####SVD/LSI####\n",
    "from sklearn.decomposition import TruncatedSVD"
   ]
  },
  {
   "cell_type": "code",
   "execution_count": 23,
   "metadata": {},
   "outputs": [
    {
     "data": {
      "text/plain": [
       "TruncatedSVD(algorithm='randomized', n_components=6, n_iter=7, random_state=0,\n",
       "             tol=0.0)"
      ]
     },
     "execution_count": 23,
     "metadata": {},
     "output_type": "execute_result"
    }
   ],
   "source": [
    "svd=TruncatedSVD(n_components=6, n_iter=7, random_state=0)\n",
    "svd.fit(X_tfidf)"
   ]
  },
  {
   "cell_type": "code",
   "execution_count": 24,
   "metadata": {},
   "outputs": [
    {
     "data": {
      "text/plain": [
       "array([15.6604983 , 10.46405506,  9.78548843,  9.12703061,  8.82157441,\n",
       "        7.20971366])"
      ]
     },
     "execution_count": 24,
     "metadata": {},
     "output_type": "execute_result"
    }
   ],
   "source": [
    "svd.singular_values_"
   ]
  },
  {
   "cell_type": "code",
   "execution_count": 25,
   "metadata": {},
   "outputs": [
    {
     "data": {
      "text/plain": [
       "array([0.08613641, 0.08617186, 0.07015095, 0.06485385, 0.06097374,\n",
       "       0.04071456])"
      ]
     },
     "execution_count": 25,
     "metadata": {},
     "output_type": "execute_result"
    }
   ],
   "source": [
    "svd.explained_variance_ratio_"
   ]
  },
  {
   "cell_type": "code",
   "execution_count": 26,
   "metadata": {},
   "outputs": [
    {
     "data": {
      "text/plain": [
       "0.4090013794025016"
      ]
     },
     "execution_count": 26,
     "metadata": {},
     "output_type": "execute_result"
    }
   ],
   "source": [
    "svd.explained_variance_ratio_.sum()"
   ]
  },
  {
   "cell_type": "code",
   "execution_count": 27,
   "metadata": {},
   "outputs": [
    {
     "data": {
      "text/plain": [
       "array([[ 3.60225999e-02, -1.03223978e-02,  2.52453192e-03,\n",
       "        -2.11897430e-02,  7.85274384e-03,  1.77856926e-02],\n",
       "       [ 3.78836320e-02, -3.15687808e-04,  7.01612383e-03,\n",
       "        -2.29886106e-02,  1.64149576e-02,  1.31648503e-02],\n",
       "       [ 4.32197209e-01,  3.01484896e-01,  2.80714338e-02,\n",
       "        -2.30148665e-01,  4.32518972e-01, -2.55041866e-02],\n",
       "       ...,\n",
       "       [ 3.66801983e-01, -1.60294238e-01,  1.63637746e-02,\n",
       "        -4.49770178e-01,  3.69526661e-01, -2.11338934e-01],\n",
       "       [ 2.40726928e-04, -4.62325664e-04,  3.39965450e-05,\n",
       "        -6.08757925e-04, -1.96145551e-04, -4.34511822e-04],\n",
       "       [ 9.64222105e-03, -5.25276287e-03, -2.60382457e-04,\n",
       "        -5.04672418e-03,  1.24413223e-03,  1.04717642e-02]])"
      ]
     },
     "execution_count": 27,
     "metadata": {},
     "output_type": "execute_result"
    }
   ],
   "source": [
    "svd.fit_transform(X_tfidf)"
   ]
  },
  {
   "cell_type": "code",
   "execution_count": 46,
   "metadata": {},
   "outputs": [
    {
     "data": {
      "text/plain": [
       "TruncatedSVD(algorithm='randomized', n_components=40, n_iter=7, random_state=0,\n",
       "             tol=0.0)"
      ]
     },
     "execution_count": 46,
     "metadata": {},
     "output_type": "execute_result"
    }
   ],
   "source": [
    "svd=TruncatedSVD(n_components=40, n_iter=7, random_state=0)\n",
    "svd.fit(X_tfidf)"
   ]
  },
  {
   "cell_type": "code",
   "execution_count": 47,
   "metadata": {},
   "outputs": [
    {
     "data": {
      "text/plain": [
       "0.796080275545759"
      ]
     },
     "execution_count": 47,
     "metadata": {},
     "output_type": "execute_result"
    }
   ],
   "source": [
    "svd.explained_variance_ratio_.sum()"
   ]
  },
  {
   "cell_type": "code",
   "execution_count": 32,
   "metadata": {},
   "outputs": [],
   "source": [
    "u,s,v=np.linalg.svd(X_tfidf.toarray())"
   ]
  },
  {
   "cell_type": "code",
   "execution_count": 31,
   "metadata": {},
   "outputs": [
    {
     "data": {
      "text/plain": [
       "array([[0.00000000e+00, 0.00000000e+00, 0.00000000e+00, ...,\n",
       "        0.00000000e+00, 0.00000000e+00, 0.00000000e+00],\n",
       "       [6.37088838e-02, 3.47197577e-03, 5.88694992e-03, ...,\n",
       "        1.27910677e-05, 0.00000000e+00, 0.00000000e+00],\n",
       "       [0.00000000e+00, 0.00000000e+00, 0.00000000e+00, ...,\n",
       "        0.00000000e+00, 0.00000000e+00, 0.00000000e+00],\n",
       "       ...,\n",
       "       [0.00000000e+00, 0.00000000e+00, 0.00000000e+00, ...,\n",
       "        0.00000000e+00, 0.00000000e+00, 0.00000000e+00],\n",
       "       [0.00000000e+00, 0.00000000e+00, 0.00000000e+00, ...,\n",
       "        0.00000000e+00, 0.00000000e+00, 0.00000000e+00],\n",
       "       [0.00000000e+00, 0.00000000e+00, 0.00000000e+00, ...,\n",
       "        0.00000000e+00, 0.00000000e+00, 0.00000000e+00]])"
      ]
     },
     "execution_count": 31,
     "metadata": {},
     "output_type": "execute_result"
    }
   ],
   "source": [
    "X_tfidf.toarray()"
   ]
  },
  {
   "cell_type": "code",
   "execution_count": 34,
   "metadata": {},
   "outputs": [
    {
     "data": {
      "text/plain": [
       "(1418, 1418)"
      ]
     },
     "execution_count": 34,
     "metadata": {},
     "output_type": "execute_result"
    }
   ],
   "source": [
    "u.shape"
   ]
  },
  {
   "cell_type": "code",
   "execution_count": 35,
   "metadata": {},
   "outputs": [
    {
     "data": {
      "text/plain": [
       "(425, 425)"
      ]
     },
     "execution_count": 35,
     "metadata": {},
     "output_type": "execute_result"
    }
   ],
   "source": [
    "v.shape"
   ]
  },
  {
   "cell_type": "code",
   "execution_count": 36,
   "metadata": {},
   "outputs": [
    {
     "data": {
      "text/plain": [
       "(425,)"
      ]
     },
     "execution_count": 36,
     "metadata": {},
     "output_type": "execute_result"
    }
   ],
   "source": [
    "s.shape"
   ]
  },
  {
   "cell_type": "code",
   "execution_count": 37,
   "metadata": {},
   "outputs": [
    {
     "data": {
      "text/plain": [
       "array([[-1.11458467e-03, -5.19155683e-05, -4.45711205e-06, ...,\n",
       "        -1.08397422e-03, -3.34548595e-03, -1.16474176e-02],\n",
       "       [ 6.82182993e-04,  5.13588728e-05,  2.58596302e-07, ...,\n",
       "        -1.46347643e-04, -1.15134449e-03, -1.85247742e-03],\n",
       "       [-5.45668805e-04, -5.93334744e-05, -4.92870587e-06, ...,\n",
       "        -2.15415209e-04,  1.23516796e-04, -3.24617879e-04],\n",
       "       ...,\n",
       "       [ 0.00000000e+00, -9.52912066e-17,  7.97752698e-04, ...,\n",
       "         7.52165257e-19, -3.21449003e-19,  2.98155597e-19],\n",
       "       [ 0.00000000e+00, -2.72270271e-17,  2.59294364e-04, ...,\n",
       "         1.37896964e-18,  2.74862191e-19,  2.54109884e-20],\n",
       "       [ 0.00000000e+00,  6.50729470e-14, -6.16058812e-01, ...,\n",
       "        -1.68528386e-15,  5.97612237e-16, -2.87964097e-16]])"
      ]
     },
     "execution_count": 37,
     "metadata": {},
     "output_type": "execute_result"
    }
   ],
   "source": [
    "v"
   ]
  },
  {
   "cell_type": "code",
   "execution_count": 38,
   "metadata": {},
   "outputs": [
    {
     "data": {
      "text/plain": [
       "array([[-2.30022055e-03,  9.86433163e-04, -2.58082541e-04, ...,\n",
       "         4.90935159e-04,  2.79638437e-04,  7.60129210e-05],\n",
       "       [-2.41905659e-03,  3.01949303e-05, -7.16912117e-04, ...,\n",
       "         3.02221356e-18,  1.63985579e-18, -3.82011859e-18],\n",
       "       [-2.75979219e-02, -2.88114687e-02, -2.86863713e-03, ...,\n",
       "        -1.22943392e-03, -2.08838284e-04, -7.10245594e-04],\n",
       "       ...,\n",
       "       [-2.34221144e-02,  1.53185432e-02, -1.67230626e-03, ...,\n",
       "         8.91763144e-01,  5.71656600e-03,  2.80790490e-03],\n",
       "       [-1.53716003e-05,  4.41826068e-05, -3.47332819e-06, ...,\n",
       "         4.13887652e-05,  4.45785297e-03, -3.24068283e-04],\n",
       "       [-6.15703338e-04,  5.01978015e-04,  2.65984069e-05, ...,\n",
       "         1.62525790e-03, -1.99814457e-02,  5.74514357e-01]])"
      ]
     },
     "execution_count": 38,
     "metadata": {},
     "output_type": "execute_result"
    }
   ],
   "source": [
    "u"
   ]
  },
  {
   "cell_type": "code",
   "execution_count": 39,
   "metadata": {},
   "outputs": [],
   "source": [
    "from sklearn.decomposition import NMF"
   ]
  },
  {
   "cell_type": "code",
   "execution_count": 55,
   "metadata": {},
   "outputs": [],
   "source": [
    "nmf=NMF(n_components=3,beta_loss='frobenius')"
   ]
  },
  {
   "cell_type": "code",
   "execution_count": 56,
   "metadata": {},
   "outputs": [
    {
     "data": {
      "text/plain": [
       "array([[7.84653690e-03, 4.77684527e-03, 7.75531526e-04],\n",
       "       [6.15654064e-03, 7.68513497e-03, 1.96267992e-03],\n",
       "       [1.53276732e-02, 1.61558411e-01, 1.87061427e-03],\n",
       "       ...,\n",
       "       [8.30547742e-02, 4.76262858e-02, 3.09797600e-03],\n",
       "       [1.02930434e-04, 0.00000000e+00, 1.36474398e-05],\n",
       "       [2.61876498e-03, 6.02773525e-04, 0.00000000e+00]])"
      ]
     },
     "execution_count": 56,
     "metadata": {},
     "output_type": "execute_result"
    }
   ],
   "source": [
    "W = nmf.fit_transform(X_tfidf);W"
   ]
  },
  {
   "cell_type": "code",
   "execution_count": 57,
   "metadata": {},
   "outputs": [
    {
     "data": {
      "text/plain": [
       "array([[4.98351105e-03, 2.62401440e-04, 1.19544723e-05, ...,\n",
       "        2.55560333e-03, 7.53456073e-03, 3.13625136e-02],\n",
       "       [9.50175707e-04, 1.32800456e-05, 1.06183207e-05, ...,\n",
       "        3.07084472e-03, 1.00476812e-02, 3.08786502e-02],\n",
       "       [1.76250196e-03, 1.85786711e-04, 1.43302404e-05, ...,\n",
       "        3.92676803e-04, 0.00000000e+00, 1.62709232e-03]])"
      ]
     },
     "execution_count": 57,
     "metadata": {},
     "output_type": "execute_result"
    }
   ],
   "source": [
    "H=nmf.components_;H"
   ]
  },
  {
   "cell_type": "code",
   "execution_count": 82,
   "metadata": {},
   "outputs": [],
   "source": [
    "cust_class=data[[0,7]].drop_duplicates(keep='first')"
   ]
  },
  {
   "cell_type": "code",
   "execution_count": 85,
   "metadata": {},
   "outputs": [
    {
     "data": {
      "text/plain": [
       "0    1206\n",
       "2     161\n",
       "1      48\n",
       "3       3\n",
       "Name: 7, dtype: int64"
      ]
     },
     "execution_count": 85,
     "metadata": {},
     "output_type": "execute_result"
    }
   ],
   "source": [
    "cust_class[7].value_counts()"
   ]
  },
  {
   "cell_type": "code",
   "execution_count": 91,
   "metadata": {},
   "outputs": [],
   "source": [
    "predict_nmf=np.argmax(W,axis=1)"
   ]
  },
  {
   "cell_type": "code",
   "execution_count": 97,
   "metadata": {},
   "outputs": [
    {
     "data": {
      "text/plain": [
       "(array([0, 1, 2], dtype=int64), array([616, 671, 131], dtype=int64))"
      ]
     },
     "execution_count": 97,
     "metadata": {},
     "output_type": "execute_result"
    }
   ],
   "source": [
    "np.unique(predict_nmf,return_counts=True)"
   ]
  },
  {
   "cell_type": "code",
   "execution_count": 113,
   "metadata": {},
   "outputs": [],
   "source": [
    "pre2=np.where(predict_nmf==2)[0]"
   ]
  },
  {
   "cell_type": "code",
   "execution_count": 116,
   "metadata": {},
   "outputs": [],
   "source": [
    "real2=cust_class[cust_class[7]==2][0].values"
   ]
  },
  {
   "cell_type": "code",
   "execution_count": 120,
   "metadata": {},
   "outputs": [
    {
     "data": {
      "text/plain": [
       "5"
      ]
     },
     "execution_count": 120,
     "metadata": {},
     "output_type": "execute_result"
    }
   ],
   "source": [
    "sum([i in pre2 for i in real2])"
   ]
  },
  {
   "cell_type": "code",
   "execution_count": 146,
   "metadata": {},
   "outputs": [
    {
     "data": {
      "text/plain": [
       "array([[ 3.60225999e-02, -1.03223978e-02,  2.52453192e-03,\n",
       "        -2.11897430e-02,  7.85274384e-03,  1.77856926e-02],\n",
       "       [ 3.78836320e-02, -3.15687808e-04,  7.01612383e-03,\n",
       "        -2.29886106e-02,  1.64149576e-02,  1.31648503e-02],\n",
       "       [ 4.32197209e-01,  3.01484896e-01,  2.80714338e-02,\n",
       "        -2.30148665e-01,  4.32518972e-01, -2.55041866e-02],\n",
       "       ...,\n",
       "       [ 3.66801983e-01, -1.60294238e-01,  1.63637746e-02,\n",
       "        -4.49770178e-01,  3.69526661e-01, -2.11338934e-01],\n",
       "       [ 2.40726928e-04, -4.62325664e-04,  3.39965450e-05,\n",
       "        -6.08757925e-04, -1.96145551e-04, -4.34511822e-04],\n",
       "       [ 9.64222105e-03, -5.25276287e-03, -2.60382457e-04,\n",
       "        -5.04672418e-03,  1.24413223e-03,  1.04717642e-02]])"
      ]
     },
     "execution_count": 146,
     "metadata": {},
     "output_type": "execute_result"
    }
   ],
   "source": [
    "#####SVD#####\n",
    "svd=TruncatedSVD(n_components=6, n_iter=7, random_state=0)\n",
    "svd.fit_transform(X_tfidf)"
   ]
  },
  {
   "cell_type": "code",
   "execution_count": 152,
   "metadata": {},
   "outputs": [],
   "source": [
    "tp=svd.fit_transform(X_tfidf)"
   ]
  },
  {
   "cell_type": "code",
   "execution_count": 156,
   "metadata": {},
   "outputs": [
    {
     "data": {
      "text/plain": [
       "array([[ 3.60225999e-02, -1.03223978e-02,  2.52453192e-03,\n",
       "        -2.11897430e-02,  7.85274384e-03,  1.77856926e-02],\n",
       "       [ 3.78836320e-02, -3.15687808e-04,  7.01612383e-03,\n",
       "        -2.29886106e-02,  1.64149576e-02,  1.31648503e-02],\n",
       "       [ 4.32197209e-01,  3.01484896e-01,  2.80714338e-02,\n",
       "        -2.30148665e-01,  4.32518972e-01, -2.55041866e-02],\n",
       "       ...,\n",
       "       [ 3.66801983e-01, -1.60294238e-01,  1.63637746e-02,\n",
       "        -4.49770178e-01,  3.69526661e-01, -2.11338934e-01],\n",
       "       [ 2.40726928e-04, -4.62325664e-04,  3.39965450e-05,\n",
       "        -6.08757925e-04, -1.96145551e-04, -4.34511822e-04],\n",
       "       [ 9.64222105e-03, -5.25276287e-03, -2.60382457e-04,\n",
       "        -5.04672418e-03,  1.24413223e-03,  1.04717642e-02]])"
      ]
     },
     "execution_count": 156,
     "metadata": {},
     "output_type": "execute_result"
    }
   ],
   "source": [
    "tp"
   ]
  },
  {
   "cell_type": "code",
   "execution_count": 147,
   "metadata": {},
   "outputs": [
    {
     "data": {
      "text/plain": [
       "(1418, 6)"
      ]
     },
     "execution_count": 147,
     "metadata": {},
     "output_type": "execute_result"
    }
   ],
   "source": [
    "svd.fit_transform(X_tfidf).shape"
   ]
  },
  {
   "cell_type": "code",
   "execution_count": 148,
   "metadata": {},
   "outputs": [],
   "source": [
    "from sklearn.cluster import KMeans"
   ]
  },
  {
   "cell_type": "code",
   "execution_count": 270,
   "metadata": {},
   "outputs": [
    {
     "data": {
      "text/plain": [
       "(1418, 425)"
      ]
     },
     "execution_count": 270,
     "metadata": {},
     "output_type": "execute_result"
    }
   ],
   "source": [
    "X_tfidf.shape"
   ]
  },
  {
   "cell_type": "code",
   "execution_count": 300,
   "metadata": {},
   "outputs": [],
   "source": [
    "kmeans = KMeans(n_clusters=3, random_state=0).fit(X_tfidf)"
   ]
  },
  {
   "cell_type": "code",
   "execution_count": 301,
   "metadata": {},
   "outputs": [
    {
     "data": {
      "text/plain": [
       "(array([0, 1, 2]), array([830, 378, 210], dtype=int64))"
      ]
     },
     "execution_count": 301,
     "metadata": {},
     "output_type": "execute_result"
    }
   ],
   "source": [
    "np.unique(kmeans.predict(X_tfidf),return_counts=True)"
   ]
  },
  {
   "cell_type": "code",
   "execution_count": 302,
   "metadata": {},
   "outputs": [],
   "source": [
    "b=kmeans.predict(X_tfidf)\n",
    "b=np.where(b==0)[0]"
   ]
  },
  {
   "cell_type": "code",
   "execution_count": 290,
   "metadata": {},
   "outputs": [],
   "source": [
    "########\n",
    "svd=TruncatedSVD(n_components=10, n_iter=7, random_state=0)\n",
    "tp=svd.fit_transform(X_tfidf)"
   ]
  },
  {
   "cell_type": "code",
   "execution_count": 291,
   "metadata": {},
   "outputs": [
    {
     "data": {
      "text/plain": [
       "(1418, 10)"
      ]
     },
     "execution_count": 291,
     "metadata": {},
     "output_type": "execute_result"
    }
   ],
   "source": [
    "tp.shape"
   ]
  },
  {
   "cell_type": "code",
   "execution_count": 292,
   "metadata": {},
   "outputs": [],
   "source": [
    "kmeans = KMeans(n_clusters=3, random_state=0).fit(tp)"
   ]
  },
  {
   "cell_type": "code",
   "execution_count": 293,
   "metadata": {},
   "outputs": [
    {
     "data": {
      "text/plain": [
       "(array([0, 1, 2]), array([371, 951,  96], dtype=int64))"
      ]
     },
     "execution_count": 293,
     "metadata": {},
     "output_type": "execute_result"
    }
   ],
   "source": [
    "np.unique(kmeans.predict(tp),return_counts=True)"
   ]
  },
  {
   "cell_type": "code",
   "execution_count": 177,
   "metadata": {},
   "outputs": [],
   "source": [
    "#################\n",
    "##tomorrow contact FICO increase dimension?\n",
    "##which kind of feature should we use to generate a word? \n",
    "##txn_type, amt, paymtmethod, cust_cdd_edd_info, cust_risk so on...\n",
    "##do you have any paper about this method?"
   ]
  },
  {
   "cell_type": "code",
   "execution_count": 313,
   "metadata": {},
   "outputs": [
    {
     "data": {
      "text/plain": [
       "0.3036144578313253"
      ]
     },
     "execution_count": 313,
     "metadata": {},
     "output_type": "execute_result"
    }
   ],
   "source": [
    "sum([i in a for i in b])/len(b)"
   ]
  },
  {
   "cell_type": "code",
   "execution_count": 314,
   "metadata": {},
   "outputs": [
    {
     "data": {
      "text/plain": [
       "0.9581749049429658"
      ]
     },
     "execution_count": 314,
     "metadata": {},
     "output_type": "execute_result"
    }
   ],
   "source": [
    "sum([i in b for i in a])/len(a)"
   ]
  },
  {
   "cell_type": "code",
   "execution_count": 296,
   "metadata": {},
   "outputs": [],
   "source": [
    "nmf=NMF(n_components=3,solver ='mu',beta_loss='kullback-leibler',random_state=0)"
   ]
  },
  {
   "cell_type": "code",
   "execution_count": 297,
   "metadata": {},
   "outputs": [
    {
     "data": {
      "text/plain": [
       "array([[1.92904015e-02, 0.00000000e+00, 2.82455604e-01],\n",
       "       [5.14709002e-02, 0.00000000e+00, 9.43901411e-01],\n",
       "       [6.46409994e-02, 8.25011999e-02, 3.58530429e-01],\n",
       "       ...,\n",
       "       [1.25195648e-01, 0.00000000e+00, 0.00000000e+00],\n",
       "       [7.37536120e-02, 0.00000000e+00, 7.78025476e-10],\n",
       "       [7.37536124e-02, 0.00000000e+00, 0.00000000e+00]])"
      ]
     },
     "execution_count": 297,
     "metadata": {},
     "output_type": "execute_result"
    }
   ],
   "source": [
    "W = nmf.fit_transform(X_tfidf);W"
   ]
  },
  {
   "cell_type": "code",
   "execution_count": 298,
   "metadata": {},
   "outputs": [],
   "source": [
    "predict_nmf=np.argmax(W,axis=1)"
   ]
  },
  {
   "cell_type": "code",
   "execution_count": 299,
   "metadata": {},
   "outputs": [
    {
     "data": {
      "text/plain": [
       "(array([0, 1, 2], dtype=int64), array([902, 253, 263], dtype=int64))"
      ]
     },
     "execution_count": 299,
     "metadata": {},
     "output_type": "execute_result"
    }
   ],
   "source": [
    "np.unique(predict_nmf,return_counts=True)"
   ]
  },
  {
   "cell_type": "code",
   "execution_count": 312,
   "metadata": {},
   "outputs": [],
   "source": [
    "a=predict_nmf\n",
    "a=np.where(a==2)[0]"
   ]
  },
  {
   "cell_type": "code",
   "execution_count": 349,
   "metadata": {},
   "outputs": [],
   "source": [
    "########Dense#######\n",
    "pattern=lambda: np.random.uniform(100,200,1)\n",
    "noise=lambda: np.random.uniform(0,5,1)\n",
    "lambda_vec1=[pattern()[0] for i in range(3)]\n",
    "lambda_vec1.extend([noise()[0] for i in range(7)])\n",
    "lambda_vec2=[noise()[0] for i in range(3)]\n",
    "lambda_vec2.extend([pattern()[0] for i in range(3)])\n",
    "lambda_vec2.extend([noise()[0] for i in range(4)])\n",
    "lambda_vec3=[noise()[0] for i in range(6)]\n",
    "lambda_vec3.extend([pattern()[0] for i in range(4)])"
   ]
  },
  {
   "cell_type": "code",
   "execution_count": 360,
   "metadata": {},
   "outputs": [],
   "source": [
    "cust_1=lambda: [np.random.poisson(lam=i) for i in lambda_vec1]\n",
    "cust_2=lambda: [np.random.poisson(lam=i) for i in lambda_vec2]\n",
    "cust_3=lambda: [np.random.poisson(lam=i) for i in lambda_vec3]"
   ]
  },
  {
   "cell_type": "code",
   "execution_count": 397,
   "metadata": {},
   "outputs": [],
   "source": [
    "data=[cust_1() for i in range(100)]\n",
    "data.extend([cust_2() for i in range(200)])\n",
    "data.extend([cust_3() for i in range(300)])"
   ]
  },
  {
   "cell_type": "code",
   "execution_count": 422,
   "metadata": {},
   "outputs": [
    {
     "data": {
      "text/plain": [
       "[[184, 115, 196, 2, 5, 4, 3, 1, 4, 1],\n",
       " [177, 117, 168, 5, 6, 3, 2, 1, 5, 6],\n",
       " [192, 125, 182, 2, 3, 1, 1, 2, 6, 3],\n",
       " [160, 120, 213, 0, 6, 6, 3, 0, 3, 4],\n",
       " [190, 111, 196, 5, 4, 2, 0, 0, 2, 4],\n",
       " [187, 126, 200, 4, 6, 1, 2, 1, 1, 6],\n",
       " [177, 126, 189, 0, 2, 3, 5, 1, 2, 3],\n",
       " [154, 114, 179, 3, 5, 3, 4, 0, 2, 1],\n",
       " [165, 127, 179, 6, 6, 3, 4, 0, 2, 0],\n",
       " [156, 108, 167, 4, 4, 1, 1, 2, 4, 6],\n",
       " [165, 102, 198, 4, 10, 2, 1, 2, 4, 2],\n",
       " [177, 129, 177, 4, 3, 1, 3, 0, 6, 4],\n",
       " [187, 119, 191, 3, 7, 2, 1, 4, 3, 2],\n",
       " [172, 128, 163, 7, 2, 1, 4, 2, 3, 3],\n",
       " [179, 119, 188, 1, 3, 3, 2, 1, 2, 5],\n",
       " [196, 111, 186, 4, 9, 1, 3, 1, 5, 4],\n",
       " [175, 125, 216, 1, 6, 0, 5, 4, 3, 1],\n",
       " [179, 107, 203, 4, 6, 5, 5, 1, 5, 4],\n",
       " [188, 107, 177, 4, 6, 2, 3, 1, 1, 2],\n",
       " [181, 122, 192, 4, 10, 2, 2, 0, 1, 1],\n",
       " [206, 124, 169, 3, 4, 4, 1, 0, 3, 3],\n",
       " [183, 130, 188, 3, 4, 2, 5, 1, 2, 3],\n",
       " [152, 128, 189, 1, 6, 3, 2, 1, 8, 2],\n",
       " [176, 111, 184, 1, 2, 0, 5, 2, 6, 3],\n",
       " [174, 128, 169, 5, 6, 1, 2, 3, 2, 1],\n",
       " [165, 119, 188, 4, 6, 3, 1, 3, 4, 2],\n",
       " [182, 118, 193, 2, 6, 4, 3, 0, 3, 2],\n",
       " [149, 115, 181, 3, 5, 2, 1, 1, 2, 1],\n",
       " [199, 98, 180, 1, 7, 1, 6, 1, 3, 2],\n",
       " [190, 116, 175, 3, 5, 6, 1, 1, 4, 3],\n",
       " [172, 112, 179, 3, 5, 3, 2, 1, 4, 2],\n",
       " [184, 99, 193, 5, 7, 4, 2, 4, 3, 3],\n",
       " [193, 91, 200, 4, 4, 0, 1, 3, 3, 3],\n",
       " [168, 108, 189, 2, 5, 0, 9, 2, 4, 3],\n",
       " [182, 105, 157, 7, 3, 3, 5, 1, 6, 2],\n",
       " [172, 121, 162, 4, 8, 4, 2, 1, 2, 1],\n",
       " [188, 124, 181, 2, 5, 2, 6, 0, 4, 4],\n",
       " [160, 108, 200, 2, 5, 4, 3, 3, 3, 2],\n",
       " [193, 114, 184, 5, 5, 5, 2, 5, 3, 1],\n",
       " [163, 131, 192, 8, 2, 1, 3, 3, 7, 1],\n",
       " [203, 107, 200, 6, 4, 3, 5, 2, 4, 4],\n",
       " [187, 127, 187, 8, 4, 7, 1, 3, 6, 3],\n",
       " [173, 118, 193, 4, 8, 3, 0, 0, 3, 2],\n",
       " [197, 137, 188, 4, 7, 7, 2, 2, 7, 3],\n",
       " [176, 115, 193, 6, 4, 4, 7, 0, 2, 4],\n",
       " [178, 110, 203, 4, 3, 1, 4, 1, 3, 1],\n",
       " [189, 99, 196, 2, 4, 4, 3, 3, 6, 3],\n",
       " [188, 106, 179, 0, 4, 3, 2, 1, 3, 5],\n",
       " [181, 127, 188, 1, 5, 4, 1, 1, 1, 3],\n",
       " [190, 113, 195, 5, 2, 3, 1, 0, 3, 1],\n",
       " [180, 119, 167, 4, 5, 2, 3, 2, 4, 3],\n",
       " [200, 108, 180, 3, 4, 5, 4, 2, 4, 2],\n",
       " [174, 115, 196, 2, 5, 0, 1, 2, 4, 0],\n",
       " [201, 136, 198, 2, 3, 4, 2, 4, 1, 1],\n",
       " [169, 125, 175, 2, 9, 1, 1, 2, 4, 3],\n",
       " [161, 101, 177, 3, 4, 1, 1, 3, 3, 0],\n",
       " [171, 124, 172, 3, 6, 4, 3, 1, 4, 1],\n",
       " [207, 96, 218, 2, 9, 3, 4, 1, 6, 2],\n",
       " [197, 111, 204, 2, 5, 4, 6, 2, 7, 0],\n",
       " [195, 125, 190, 8, 5, 6, 3, 1, 1, 2],\n",
       " [206, 96, 182, 2, 3, 0, 5, 0, 5, 4],\n",
       " [198, 113, 183, 2, 5, 3, 7, 1, 7, 2],\n",
       " [191, 124, 199, 2, 3, 3, 6, 1, 4, 2],\n",
       " [184, 120, 177, 1, 7, 4, 1, 1, 5, 2],\n",
       " [186, 122, 204, 4, 9, 4, 2, 0, 2, 1],\n",
       " [182, 116, 179, 4, 4, 5, 1, 3, 6, 3],\n",
       " [191, 124, 189, 4, 5, 2, 1, 3, 5, 1],\n",
       " [202, 117, 175, 4, 9, 4, 2, 2, 6, 1],\n",
       " [157, 125, 198, 3, 5, 1, 5, 3, 3, 4],\n",
       " [190, 118, 159, 0, 3, 3, 5, 1, 6, 1],\n",
       " [184, 112, 175, 5, 3, 5, 6, 1, 3, 2],\n",
       " [194, 113, 182, 5, 6, 5, 1, 2, 3, 3],\n",
       " [189, 113, 189, 2, 2, 3, 1, 1, 1, 5],\n",
       " [181, 124, 184, 3, 3, 6, 2, 4, 5, 4],\n",
       " [171, 135, 183, 3, 6, 1, 3, 1, 4, 0],\n",
       " [187, 125, 202, 2, 6, 3, 3, 3, 3, 3],\n",
       " [170, 124, 180, 3, 0, 3, 3, 0, 2, 2],\n",
       " [183, 122, 176, 3, 4, 2, 4, 2, 4, 4],\n",
       " [201, 119, 196, 3, 4, 2, 4, 3, 2, 0],\n",
       " [202, 122, 206, 3, 0, 1, 3, 3, 2, 4],\n",
       " [188, 85, 156, 3, 6, 6, 4, 0, 1, 2],\n",
       " [174, 123, 179, 2, 6, 2, 6, 2, 3, 1],\n",
       " [187, 107, 175, 2, 6, 4, 5, 0, 4, 1],\n",
       " [190, 117, 184, 2, 5, 3, 4, 1, 3, 1],\n",
       " [157, 117, 201, 3, 4, 5, 6, 1, 2, 3],\n",
       " [202, 113, 196, 4, 1, 2, 2, 1, 3, 0],\n",
       " [179, 116, 195, 2, 8, 3, 2, 1, 3, 4],\n",
       " [173, 109, 181, 5, 2, 2, 3, 3, 3, 3],\n",
       " [192, 123, 180, 4, 7, 2, 2, 1, 2, 1],\n",
       " [178, 104, 189, 1, 6, 1, 3, 0, 5, 2],\n",
       " [186, 122, 197, 3, 6, 4, 5, 2, 3, 3],\n",
       " [172, 126, 182, 2, 4, 2, 1, 1, 4, 1],\n",
       " [183, 104, 174, 5, 6, 4, 3, 1, 5, 2],\n",
       " [186, 91, 150, 2, 2, 5, 6, 2, 4, 6],\n",
       " [199, 130, 171, 3, 3, 4, 5, 1, 5, 2],\n",
       " [189, 132, 195, 6, 2, 6, 3, 3, 2, 1],\n",
       " [187, 116, 198, 2, 5, 2, 2, 0, 2, 3],\n",
       " [177, 101, 195, 3, 3, 3, 3, 3, 3, 2],\n",
       " [183, 93, 166, 3, 5, 2, 4, 2, 5, 2],\n",
       " [170, 121, 172, 3, 3, 3, 6, 2, 4, 0],\n",
       " [0, 1, 3, 175, 108, 177, 4, 0, 3, 2],\n",
       " [0, 4, 3, 166, 130, 162, 5, 0, 2, 1],\n",
       " [1, 4, 7, 200, 108, 166, 1, 0, 2, 1],\n",
       " [0, 0, 5, 163, 125, 172, 4, 0, 1, 0],\n",
       " [0, 2, 7, 179, 94, 224, 3, 0, 4, 0],\n",
       " [0, 3, 7, 165, 105, 160, 6, 0, 5, 0],\n",
       " [1, 2, 7, 151, 113, 172, 2, 0, 2, 1],\n",
       " [1, 5, 5, 169, 105, 179, 3, 0, 1, 2],\n",
       " [0, 4, 4, 171, 118, 164, 4, 0, 2, 1],\n",
       " [0, 3, 14, 173, 108, 158, 1, 0, 4, 4],\n",
       " [0, 4, 5, 200, 111, 182, 1, 0, 1, 0],\n",
       " [0, 2, 9, 178, 118, 146, 2, 0, 3, 1],\n",
       " [0, 1, 6, 176, 98, 167, 2, 1, 4, 0],\n",
       " [0, 5, 6, 202, 112, 168, 3, 0, 4, 1],\n",
       " [0, 4, 9, 189, 107, 180, 2, 0, 2, 2],\n",
       " [0, 3, 3, 200, 95, 153, 3, 0, 0, 0],\n",
       " [0, 2, 10, 177, 115, 170, 3, 0, 1, 2],\n",
       " [1, 1, 2, 181, 99, 171, 4, 0, 0, 1],\n",
       " [0, 2, 5, 179, 99, 161, 2, 1, 3, 3],\n",
       " [0, 1, 3, 217, 109, 176, 5, 0, 4, 0],\n",
       " [0, 4, 1, 165, 121, 170, 5, 0, 1, 0],\n",
       " [0, 3, 5, 188, 87, 190, 2, 0, 4, 0],\n",
       " [0, 2, 2, 171, 111, 149, 3, 0, 3, 2],\n",
       " [0, 3, 6, 173, 108, 198, 5, 0, 4, 1],\n",
       " [0, 3, 4, 168, 105, 167, 4, 0, 1, 1],\n",
       " [1, 2, 2, 179, 98, 198, 4, 0, 2, 2],\n",
       " [0, 0, 6, 152, 109, 167, 2, 1, 3, 1],\n",
       " [1, 2, 6, 191, 93, 176, 0, 0, 5, 2],\n",
       " [1, 1, 3, 181, 109, 169, 2, 0, 1, 0],\n",
       " [0, 2, 8, 156, 125, 169, 4, 0, 1, 1],\n",
       " [0, 6, 1, 175, 115, 173, 6, 0, 2, 0],\n",
       " [0, 3, 5, 183, 108, 176, 1, 0, 2, 1],\n",
       " [0, 2, 5, 180, 96, 208, 3, 0, 0, 0],\n",
       " [2, 2, 7, 172, 106, 183, 2, 0, 4, 0],\n",
       " [1, 5, 6, 190, 98, 195, 1, 0, 3, 1],\n",
       " [0, 1, 6, 188, 108, 177, 5, 0, 2, 0],\n",
       " [0, 5, 0, 165, 105, 154, 4, 0, 1, 0],\n",
       " [0, 4, 1, 182, 106, 170, 3, 1, 3, 1],\n",
       " [1, 4, 3, 178, 96, 175, 2, 0, 2, 1],\n",
       " [0, 8, 11, 180, 103, 155, 4, 0, 5, 0],\n",
       " [0, 2, 5, 175, 106, 173, 9, 0, 0, 1],\n",
       " [1, 4, 3, 150, 110, 194, 1, 0, 3, 0],\n",
       " [0, 3, 6, 188, 91, 168, 1, 0, 1, 2],\n",
       " [1, 3, 5, 178, 99, 172, 1, 1, 3, 0],\n",
       " [0, 3, 7, 169, 119, 145, 5, 0, 1, 2],\n",
       " [0, 2, 4, 178, 114, 171, 3, 1, 3, 1],\n",
       " [0, 1, 2, 193, 98, 178, 3, 0, 3, 0],\n",
       " [1, 1, 4, 179, 117, 185, 4, 0, 2, 1],\n",
       " [0, 1, 6, 187, 101, 172, 2, 0, 0, 0],\n",
       " [0, 4, 0, 174, 112, 163, 4, 0, 2, 0],\n",
       " [1, 0, 7, 164, 121, 152, 2, 0, 1, 2],\n",
       " [0, 3, 3, 169, 119, 171, 4, 0, 2, 2],\n",
       " [1, 2, 5, 186, 94, 175, 2, 0, 5, 3],\n",
       " [0, 2, 5, 154, 113, 168, 5, 0, 0, 0],\n",
       " [0, 4, 3, 178, 129, 164, 0, 0, 1, 1],\n",
       " [0, 4, 3, 190, 109, 175, 2, 0, 1, 0],\n",
       " [0, 4, 4, 178, 98, 183, 3, 0, 6, 1],\n",
       " [0, 0, 6, 182, 93, 177, 5, 0, 3, 1],\n",
       " [0, 1, 7, 193, 125, 189, 3, 0, 1, 0],\n",
       " [0, 5, 2, 187, 110, 174, 4, 0, 3, 0],\n",
       " [0, 4, 4, 184, 107, 174, 3, 0, 2, 1],\n",
       " [0, 3, 5, 175, 114, 164, 4, 0, 3, 0],\n",
       " [0, 2, 6, 180, 100, 173, 3, 0, 1, 3],\n",
       " [1, 2, 5, 186, 111, 187, 3, 0, 5, 2],\n",
       " [0, 3, 7, 178, 99, 168, 5, 0, 0, 0],\n",
       " [0, 5, 3, 152, 99, 175, 3, 0, 7, 0],\n",
       " [0, 2, 5, 177, 105, 184, 2, 0, 1, 1],\n",
       " [0, 0, 6, 190, 108, 172, 4, 0, 4, 0],\n",
       " [0, 4, 4, 195, 118, 169, 3, 0, 0, 0],\n",
       " [0, 1, 5, 180, 108, 163, 7, 0, 1, 0],\n",
       " [3, 1, 10, 176, 102, 156, 2, 0, 2, 0],\n",
       " [0, 1, 7, 187, 107, 185, 8, 1, 3, 0],\n",
       " [1, 3, 3, 175, 106, 143, 1, 0, 2, 2],\n",
       " [0, 3, 4, 179, 96, 156, 4, 0, 3, 3],\n",
       " [0, 2, 6, 187, 94, 160, 9, 0, 5, 1],\n",
       " [0, 5, 4, 172, 95, 183, 6, 0, 3, 0],\n",
       " [0, 3, 8, 175, 106, 146, 4, 0, 0, 0],\n",
       " [0, 3, 1, 163, 110, 149, 1, 0, 0, 0],\n",
       " [0, 2, 4, 164, 111, 154, 4, 0, 3, 3],\n",
       " [1, 2, 4, 157, 105, 163, 2, 0, 3, 2],\n",
       " [0, 2, 3, 198, 124, 160, 4, 0, 2, 0],\n",
       " [0, 2, 8, 182, 104, 178, 4, 0, 2, 2],\n",
       " [0, 6, 4, 163, 99, 178, 3, 0, 2, 1],\n",
       " [0, 2, 8, 195, 101, 163, 3, 0, 2, 4],\n",
       " [0, 2, 1, 165, 112, 171, 6, 0, 3, 0],\n",
       " [0, 3, 2, 183, 101, 172, 1, 0, 2, 1],\n",
       " [1, 4, 8, 173, 118, 157, 3, 0, 3, 1],\n",
       " [0, 3, 4, 173, 102, 151, 3, 0, 1, 0],\n",
       " [0, 4, 3, 183, 98, 192, 2, 0, 2, 1],\n",
       " [0, 3, 0, 178, 120, 181, 3, 0, 4, 2],\n",
       " [0, 3, 5, 163, 113, 163, 5, 0, 1, 0],\n",
       " [0, 1, 5, 183, 121, 160, 8, 0, 1, 0],\n",
       " [1, 2, 5, 176, 94, 182, 3, 0, 1, 0],\n",
       " [0, 3, 4, 177, 93, 174, 6, 0, 0, 0],\n",
       " [0, 4, 8, 183, 122, 160, 3, 0, 0, 0],\n",
       " [0, 4, 3, 198, 100, 170, 6, 0, 1, 0],\n",
       " [0, 3, 1, 155, 127, 157, 3, 0, 3, 1],\n",
       " [0, 1, 3, 155, 102, 187, 4, 0, 2, 1],\n",
       " [2, 2, 4, 167, 105, 194, 5, 0, 2, 0],\n",
       " [1, 2, 3, 216, 101, 160, 4, 0, 3, 1],\n",
       " [0, 2, 5, 187, 100, 198, 0, 0, 2, 0],\n",
       " [0, 1, 7, 181, 110, 158, 5, 0, 4, 0],\n",
       " [0, 4, 3, 155, 119, 170, 2, 1, 2, 0],\n",
       " [1, 2, 5, 184, 113, 164, 5, 0, 2, 2],\n",
       " [0, 0, 6, 172, 104, 186, 2, 0, 1, 1],\n",
       " [0, 5, 1, 205, 109, 167, 3, 0, 1, 0],\n",
       " [0, 5, 3, 199, 126, 168, 3, 0, 2, 2],\n",
       " [1, 1, 6, 171, 109, 161, 3, 0, 4, 3],\n",
       " [1, 7, 4, 165, 92, 163, 2, 0, 3, 3],\n",
       " [0, 3, 3, 187, 109, 182, 3, 0, 0, 0],\n",
       " [0, 3, 3, 171, 99, 190, 2, 0, 1, 1],\n",
       " [1, 1, 2, 173, 106, 166, 3, 0, 2, 0],\n",
       " [0, 2, 4, 201, 107, 171, 2, 0, 3, 1],\n",
       " [0, 3, 6, 220, 85, 187, 3, 0, 0, 1],\n",
       " [0, 1, 3, 185, 96, 177, 2, 0, 1, 2],\n",
       " [0, 3, 4, 196, 118, 159, 4, 0, 2, 1],\n",
       " [0, 0, 6, 181, 96, 191, 5, 0, 3, 0],\n",
       " [2, 3, 3, 175, 111, 164, 5, 0, 5, 1],\n",
       " [2, 2, 5, 199, 96, 157, 3, 0, 1, 1],\n",
       " [0, 3, 4, 171, 105, 187, 3, 0, 5, 0],\n",
       " [0, 6, 4, 151, 102, 176, 3, 0, 2, 0],\n",
       " [0, 7, 4, 191, 87, 161, 4, 0, 5, 1],\n",
       " [1, 4, 7, 172, 119, 161, 4, 0, 1, 0],\n",
       " [0, 3, 7, 181, 89, 197, 4, 0, 4, 3],\n",
       " [0, 1, 3, 174, 106, 183, 6, 0, 2, 1],\n",
       " [1, 3, 3, 182, 97, 160, 4, 0, 2, 0],\n",
       " [1, 5, 6, 177, 114, 161, 4, 0, 4, 0],\n",
       " [0, 6, 5, 173, 113, 160, 1, 0, 1, 0],\n",
       " [1, 3, 2, 178, 110, 164, 0, 0, 2, 0],\n",
       " [0, 5, 4, 175, 107, 181, 5, 0, 3, 0],\n",
       " [1, 0, 3, 194, 102, 160, 5, 0, 3, 1],\n",
       " [0, 4, 7, 186, 108, 152, 1, 0, 1, 4],\n",
       " [1, 2, 5, 205, 104, 177, 5, 0, 2, 1],\n",
       " [1, 6, 4, 170, 123, 183, 3, 0, 1, 2],\n",
       " [0, 3, 6, 189, 102, 148, 2, 0, 5, 0],\n",
       " [1, 3, 12, 165, 125, 191, 3, 0, 4, 0],\n",
       " [0, 2, 7, 180, 103, 167, 4, 1, 1, 0],\n",
       " [0, 2, 6, 199, 94, 169, 2, 0, 4, 1],\n",
       " [0, 4, 1, 182, 112, 153, 5, 0, 2, 1],\n",
       " [0, 2, 4, 165, 114, 195, 2, 0, 3, 0],\n",
       " [0, 3, 5, 202, 96, 156, 3, 0, 3, 0],\n",
       " [0, 4, 2, 194, 118, 163, 3, 0, 2, 1],\n",
       " [0, 4, 4, 185, 111, 151, 6, 0, 2, 1],\n",
       " [1, 2, 5, 176, 117, 182, 5, 0, 2, 1],\n",
       " [0, 0, 6, 177, 101, 189, 6, 0, 1, 1],\n",
       " [0, 3, 6, 176, 102, 167, 0, 0, 3, 1],\n",
       " [0, 2, 7, 180, 130, 166, 3, 0, 2, 0],\n",
       " [1, 3, 11, 191, 103, 186, 5, 0, 1, 1],\n",
       " [0, 4, 3, 181, 103, 170, 5, 0, 1, 2],\n",
       " [0, 3, 9, 163, 110, 173, 2, 0, 1, 1],\n",
       " [0, 2, 4, 175, 107, 162, 5, 0, 1, 3],\n",
       " [0, 2, 6, 185, 116, 155, 1, 0, 0, 2],\n",
       " [1, 2, 8, 177, 106, 152, 3, 1, 0, 0],\n",
       " [1, 2, 3, 183, 116, 177, 2, 0, 2, 0],\n",
       " [0, 3, 6, 196, 109, 158, 2, 0, 1, 0],\n",
       " [0, 3, 5, 200, 132, 194, 3, 0, 2, 2],\n",
       " [0, 5, 7, 193, 128, 190, 2, 0, 1, 2],\n",
       " [2, 1, 6, 174, 104, 186, 0, 0, 2, 0],\n",
       " [0, 8, 7, 187, 113, 159, 3, 0, 3, 0],\n",
       " [0, 3, 5, 163, 102, 160, 2, 0, 2, 1],\n",
       " [0, 0, 8, 185, 106, 169, 0, 0, 2, 2],\n",
       " [0, 2, 5, 217, 102, 181, 1, 0, 2, 1],\n",
       " [0, 3, 2, 176, 116, 172, 5, 0, 3, 1],\n",
       " [0, 2, 3, 166, 117, 173, 5, 0, 4, 1],\n",
       " [0, 1, 3, 185, 129, 160, 4, 1, 3, 0],\n",
       " [0, 6, 2, 155, 118, 186, 7, 0, 5, 0],\n",
       " [1, 3, 4, 190, 95, 181, 4, 0, 3, 1],\n",
       " [0, 1, 6, 176, 93, 172, 2, 0, 0, 2],\n",
       " [0, 4, 1, 200, 104, 179, 6, 0, 1, 1],\n",
       " [0, 0, 3, 183, 87, 170, 5, 0, 2, 1],\n",
       " [0, 4, 3, 169, 109, 198, 1, 0, 0, 1],\n",
       " [0, 5, 6, 186, 99, 192, 1, 1, 1, 0],\n",
       " [0, 1, 6, 171, 108, 175, 5, 0, 1, 1],\n",
       " [0, 4, 4, 174, 105, 168, 3, 0, 2, 1],\n",
       " [0, 6, 2, 181, 98, 145, 4, 0, 8, 0],\n",
       " [0, 2, 5, 174, 104, 154, 1, 0, 1, 2],\n",
       " [0, 0, 2, 182, 105, 171, 3, 0, 4, 2],\n",
       " [0, 2, 1, 162, 102, 177, 2, 1, 1, 0],\n",
       " [0, 0, 3, 195, 91, 144, 2, 0, 3, 0],\n",
       " [1, 2, 2, 158, 100, 158, 5, 0, 1, 0],\n",
       " [0, 2, 3, 199, 90, 165, 3, 0, 0, 0],\n",
       " [0, 1, 2, 177, 98, 180, 3, 0, 3, 2],\n",
       " [1, 7, 6, 190, 93, 181, 6, 0, 2, 0],\n",
       " [1, 2, 4, 179, 121, 148, 1, 0, 0, 4],\n",
       " [0, 4, 8, 180, 104, 171, 2, 0, 4, 2],\n",
       " [0, 0, 2, 202, 122, 157, 5, 0, 2, 1],\n",
       " [0, 1, 5, 182, 100, 184, 3, 0, 2, 2],\n",
       " [0, 2, 6, 199, 114, 174, 1, 0, 3, 0],\n",
       " [0, 5, 3, 176, 106, 168, 2, 0, 3, 3],\n",
       " [0, 2, 4, 204, 108, 169, 3, 0, 2, 1],\n",
       " [0, 4, 4, 185, 89, 153, 4, 0, 2, 0],\n",
       " [0, 3, 5, 175, 112, 146, 3, 0, 4, 0],\n",
       " [1, 5, 5, 159, 107, 177, 5, 0, 0, 0],\n",
       " [1, 3, 2, 176, 111, 150, 5, 0, 3, 0],\n",
       " [0, 6, 4, 181, 106, 167, 6, 0, 5, 0],\n",
       " [0, 1, 5, 175, 119, 179, 1, 0, 0, 0],\n",
       " [0, 0, 4, 168, 104, 143, 2, 0, 0, 2],\n",
       " [0, 4, 11, 219, 104, 150, 2, 0, 3, 2],\n",
       " [0, 1, 3, 185, 107, 140, 5, 0, 1, 0],\n",
       " [0, 2, 5, 179, 130, 156, 2, 0, 2, 3],\n",
       " [3, 0, 2, 3, 3, 1, 200, 130, 127, 141],\n",
       " [4, 1, 4, 3, 3, 1, 197, 136, 134, 139],\n",
       " [2, 1, 4, 3, 4, 1, 183, 134, 119, 128],\n",
       " [4, 2, 2, 2, 1, 2, 199, 145, 121, 119],\n",
       " [3, 0, 4, 3, 3, 2, 199, 160, 112, 150],\n",
       " [0, 1, 2, 2, 1, 2, 192, 139, 124, 147],\n",
       " [3, 0, 6, 3, 7, 2, 217, 157, 119, 121],\n",
       " [5, 0, 2, 2, 3, 0, 208, 134, 111, 119],\n",
       " [2, 0, 5, 6, 3, 0, 192, 145, 130, 151],\n",
       " [2, 2, 2, 5, 3, 0, 213, 130, 119, 147],\n",
       " [2, 0, 7, 9, 2, 2, 174, 150, 104, 129],\n",
       " [2, 0, 6, 4, 0, 1, 199, 150, 111, 132],\n",
       " [2, 0, 5, 3, 5, 0, 179, 154, 126, 111],\n",
       " [4, 0, 3, 5, 7, 0, 229, 149, 136, 164],\n",
       " [2, 4, 7, 3, 5, 0, 194, 135, 95, 117],\n",
       " [1, 1, 7, 3, 2, 1, 197, 151, 120, 140],\n",
       " [2, 3, 2, 10, 4, 0, 215, 159, 101, 119],\n",
       " [2, 3, 2, 4, 7, 0, 200, 138, 113, 143],\n",
       " [2, 1, 6, 4, 3, 0, 227, 132, 124, 142],\n",
       " [0, 0, 3, 6, 3, 0, 192, 142, 109, 135],\n",
       " [2, 0, 5, 3, 5, 0, 208, 148, 119, 125],\n",
       " [0, 0, 6, 5, 5, 1, 191, 149, 117, 130],\n",
       " [3, 1, 4, 7, 3, 0, 181, 133, 121, 118],\n",
       " [1, 0, 2, 4, 4, 0, 208, 151, 105, 130],\n",
       " [2, 0, 7, 4, 7, 0, 199, 163, 99, 135],\n",
       " [0, 1, 6, 0, 2, 1, 193, 127, 96, 118],\n",
       " [1, 1, 5, 4, 4, 1, 185, 122, 129, 143],\n",
       " [3, 2, 4, 8, 0, 0, 210, 127, 106, 128],\n",
       " [0, 1, 5, 4, 2, 0, 180, 135, 113, 136],\n",
       " [1, 0, 4, 2, 6, 2, 209, 126, 114, 139],\n",
       " [2, 0, 6, 6, 6, 1, 194, 141, 109, 147],\n",
       " [1, 1, 6, 9, 3, 0, 201, 139, 109, 136],\n",
       " [1, 0, 5, 8, 7, 1, 192, 141, 101, 123],\n",
       " [2, 0, 6, 3, 3, 1, 200, 119, 114, 134],\n",
       " [4, 0, 2, 5, 5, 1, 231, 140, 101, 136],\n",
       " [1, 2, 4, 5, 2, 0, 190, 145, 101, 117],\n",
       " [1, 1, 3, 5, 4, 0, 202, 134, 110, 127],\n",
       " [2, 1, 2, 3, 4, 0, 200, 148, 112, 144],\n",
       " [2, 2, 7, 7, 6, 1, 190, 140, 131, 137],\n",
       " [2, 0, 4, 4, 2, 1, 170, 106, 115, 154],\n",
       " [1, 0, 5, 6, 4, 2, 210, 134, 125, 123],\n",
       " [1, 0, 5, 5, 5, 0, 221, 138, 117, 137],\n",
       " [2, 1, 8, 8, 5, 1, 191, 148, 113, 148],\n",
       " [3, 0, 6, 6, 4, 3, 183, 148, 101, 130],\n",
       " [1, 0, 6, 4, 1, 0, 216, 157, 105, 143],\n",
       " [1, 0, 5, 5, 5, 0, 202, 142, 110, 126],\n",
       " [2, 0, 4, 5, 4, 2, 186, 148, 110, 135],\n",
       " [1, 0, 5, 4, 2, 1, 188, 130, 130, 141],\n",
       " [4, 0, 7, 2, 4, 1, 195, 167, 107, 145],\n",
       " [5, 3, 7, 2, 2, 1, 223, 151, 112, 142],\n",
       " [1, 0, 1, 3, 1, 0, 200, 129, 99, 138],\n",
       " [2, 0, 4, 4, 3, 0, 162, 130, 119, 141],\n",
       " [1, 0, 3, 3, 3, 0, 215, 120, 112, 127],\n",
       " [1, 1, 5, 3, 4, 0, 204, 142, 121, 136],\n",
       " [2, 0, 2, 2, 4, 1, 208, 127, 120, 122],\n",
       " [3, 2, 4, 7, 4, 0, 183, 134, 116, 122],\n",
       " [1, 3, 4, 4, 0, 0, 206, 171, 127, 129],\n",
       " [2, 2, 6, 7, 3, 0, 182, 150, 131, 135],\n",
       " [2, 1, 9, 4, 4, 2, 186, 146, 150, 136],\n",
       " [2, 2, 6, 5, 5, 0, 212, 161, 100, 127],\n",
       " [1, 0, 3, 3, 5, 0, 184, 144, 109, 120],\n",
       " [3, 0, 1, 3, 4, 1, 191, 154, 116, 148],\n",
       " [1, 1, 2, 6, 3, 1, 222, 132, 122, 122],\n",
       " [0, 0, 6, 5, 4, 1, 188, 122, 119, 128],\n",
       " [2, 4, 8, 7, 5, 0, 195, 158, 121, 132],\n",
       " [0, 1, 4, 5, 3, 0, 216, 137, 98, 138],\n",
       " [1, 0, 3, 5, 5, 2, 191, 139, 94, 131],\n",
       " [0, 1, 5, 3, 2, 4, 204, 159, 105, 139],\n",
       " [2, 1, 4, 4, 6, 0, 192, 153, 116, 127],\n",
       " [0, 3, 3, 7, 4, 0, 194, 133, 135, 134],\n",
       " [2, 2, 5, 3, 3, 1, 219, 136, 113, 116],\n",
       " [2, 2, 6, 5, 4, 1, 195, 129, 108, 136],\n",
       " [1, 0, 2, 7, 2, 0, 215, 154, 119, 140],\n",
       " [3, 0, 6, 4, 2, 0, 191, 134, 139, 142],\n",
       " [1, 2, 6, 8, 2, 1, 197, 127, 126, 150],\n",
       " [1, 1, 3, 0, 3, 1, 210, 156, 110, 133],\n",
       " [2, 1, 5, 6, 5, 0, 207, 128, 119, 127],\n",
       " [2, 1, 6, 6, 2, 2, 200, 149, 99, 125],\n",
       " [1, 1, 3, 5, 7, 1, 191, 138, 117, 126],\n",
       " [1, 0, 5, 5, 5, 0, 215, 139, 101, 124],\n",
       " [1, 1, 5, 5, 6, 0, 203, 142, 125, 143],\n",
       " [1, 0, 5, 6, 6, 0, 179, 143, 120, 138],\n",
       " [2, 0, 3, 3, 4, 0, 216, 129, 100, 140],\n",
       " [1, 2, 2, 3, 1, 0, 229, 148, 97, 126],\n",
       " [0, 2, 8, 4, 2, 0, 183, 159, 103, 161],\n",
       " [2, 0, 5, 5, 2, 0, 203, 153, 119, 126],\n",
       " [1, 1, 4, 6, 1, 2, 194, 148, 116, 128],\n",
       " [1, 0, 8, 5, 2, 0, 213, 149, 116, 152],\n",
       " [1, 3, 4, 6, 0, 0, 208, 149, 114, 146],\n",
       " [1, 1, 6, 5, 4, 1, 213, 147, 92, 143],\n",
       " [0, 0, 6, 4, 5, 0, 192, 144, 129, 120],\n",
       " [2, 0, 2, 3, 1, 0, 192, 156, 125, 122],\n",
       " [3, 1, 5, 5, 2, 0, 193, 173, 121, 118],\n",
       " [2, 0, 4, 8, 5, 2, 196, 149, 124, 135],\n",
       " [3, 1, 4, 6, 3, 1, 216, 141, 108, 149],\n",
       " [0, 2, 3, 1, 5, 0, 208, 130, 102, 135],\n",
       " [0, 2, 3, 7, 5, 2, 188, 158, 142, 152],\n",
       " [4, 0, 9, 10, 3, 2, 206, 152, 124, 128],\n",
       " [0, 0, 7, 3, 5, 0, 181, 121, 89, 136],\n",
       " [3, 1, 5, 1, 3, 0, 168, 120, 120, 120],\n",
       " [2, 0, 3, 7, 4, 1, 171, 132, 103, 125],\n",
       " [0, 2, 5, 5, 3, 1, 175, 121, 122, 124],\n",
       " [2, 0, 6, 4, 2, 1, 189, 144, 122, 116],\n",
       " [4, 1, 7, 4, 4, 2, 183, 151, 111, 117],\n",
       " [3, 2, 5, 7, 4, 1, 186, 162, 104, 147],\n",
       " [1, 1, 4, 2, 0, 0, 186, 128, 123, 149],\n",
       " [1, 1, 7, 1, 2, 0, 226, 144, 106, 139],\n",
       " [3, 1, 8, 1, 5, 0, 223, 130, 107, 152],\n",
       " [2, 1, 7, 9, 2, 1, 218, 139, 122, 129],\n",
       " [2, 1, 3, 5, 1, 0, 199, 125, 136, 134],\n",
       " [1, 1, 1, 6, 5, 2, 178, 145, 110, 141],\n",
       " [2, 1, 5, 3, 6, 0, 174, 153, 109, 119],\n",
       " [0, 0, 9, 3, 2, 1, 195, 131, 123, 116],\n",
       " [2, 1, 3, 3, 3, 2, 207, 153, 112, 134],\n",
       " [4, 1, 6, 3, 1, 1, 196, 143, 123, 124],\n",
       " [3, 2, 3, 5, 7, 0, 201, 168, 105, 134],\n",
       " [0, 1, 4, 6, 4, 0, 205, 146, 117, 173],\n",
       " [2, 1, 5, 6, 4, 0, 192, 134, 127, 135],\n",
       " [1, 1, 2, 6, 5, 1, 186, 144, 133, 137],\n",
       " [2, 1, 5, 2, 8, 1, 178, 155, 120, 132],\n",
       " [2, 2, 8, 8, 5, 1, 218, 137, 127, 126],\n",
       " [2, 1, 6, 3, 3, 1, 182, 159, 119, 140],\n",
       " [1, 0, 4, 8, 1, 0, 210, 155, 116, 120],\n",
       " [3, 1, 12, 6, 3, 1, 205, 133, 119, 130],\n",
       " [1, 1, 4, 3, 3, 0, 191, 144, 104, 122],\n",
       " [1, 0, 9, 5, 4, 0, 226, 153, 106, 136],\n",
       " [1, 0, 2, 4, 3, 0, 197, 163, 119, 149],\n",
       " [0, 3, 0, 7, 4, 0, 199, 142, 104, 134],\n",
       " [0, 1, 5, 3, 10, 1, 185, 168, 110, 129],\n",
       " [1, 1, 3, 7, 3, 0, 173, 135, 121, 149],\n",
       " [2, 1, 4, 6, 5, 0, 200, 157, 120, 136],\n",
       " [1, 1, 2, 5, 3, 2, 179, 136, 113, 134],\n",
       " [4, 1, 4, 6, 7, 0, 209, 131, 132, 137],\n",
       " [2, 1, 3, 8, 6, 1, 186, 153, 121, 124],\n",
       " [2, 0, 3, 7, 3, 0, 194, 154, 127, 139],\n",
       " [1, 2, 3, 4, 2, 0, 198, 147, 104, 139],\n",
       " [2, 0, 4, 5, 2, 1, 216, 130, 102, 126],\n",
       " [2, 1, 4, 5, 4, 1, 233, 121, 123, 156],\n",
       " [3, 0, 4, 1, 2, 1, 183, 131, 122, 131],\n",
       " [2, 0, 4, 3, 4, 0, 203, 137, 110, 161],\n",
       " [1, 1, 4, 2, 4, 0, 204, 138, 110, 119],\n",
       " [4, 3, 4, 6, 3, 0, 223, 151, 127, 136],\n",
       " [2, 1, 7, 4, 2, 1, 185, 153, 120, 130],\n",
       " [3, 0, 4, 3, 7, 0, 190, 156, 122, 132],\n",
       " [0, 1, 8, 4, 8, 0, 190, 148, 127, 122],\n",
       " [1, 3, 6, 8, 3, 0, 194, 133, 116, 143],\n",
       " [0, 1, 7, 3, 2, 1, 199, 148, 103, 139],\n",
       " [1, 0, 4, 1, 3, 0, 204, 150, 106, 108],\n",
       " [2, 1, 8, 8, 2, 0, 197, 139, 119, 130],\n",
       " [1, 1, 9, 3, 0, 0, 179, 147, 112, 140],\n",
       " [0, 1, 6, 5, 3, 1, 201, 141, 98, 145],\n",
       " [2, 0, 5, 6, 1, 0, 200, 136, 96, 128],\n",
       " [0, 0, 3, 10, 1, 1, 197, 143, 101, 151],\n",
       " [0, 1, 8, 3, 5, 0, 182, 152, 106, 148],\n",
       " [0, 1, 6, 8, 4, 0, 191, 139, 117, 148],\n",
       " [3, 1, 7, 8, 3, 1, 203, 149, 108, 131],\n",
       " [1, 0, 2, 3, 3, 0, 202, 157, 121, 133],\n",
       " [1, 0, 5, 3, 4, 0, 214, 135, 124, 124],\n",
       " [0, 1, 1, 6, 3, 2, 197, 146, 109, 116],\n",
       " [2, 1, 7, 3, 3, 1, 183, 130, 110, 150],\n",
       " [5, 0, 4, 3, 1, 1, 205, 155, 108, 113],\n",
       " [1, 1, 2, 2, 5, 0, 190, 145, 126, 131],\n",
       " [3, 3, 9, 9, 4, 0, 200, 121, 118, 140],\n",
       " [2, 2, 3, 1, 2, 0, 185, 145, 126, 137],\n",
       " [3, 1, 6, 8, 4, 0, 205, 144, 110, 150],\n",
       " [0, 1, 5, 2, 3, 1, 202, 147, 127, 138],\n",
       " [2, 2, 5, 4, 1, 0, 191, 138, 119, 127],\n",
       " [0, 1, 6, 5, 1, 2, 212, 159, 123, 131],\n",
       " [0, 0, 3, 5, 1, 2, 203, 131, 117, 166],\n",
       " [1, 1, 6, 6, 1, 0, 202, 144, 118, 130],\n",
       " [2, 0, 4, 4, 2, 1, 203, 163, 117, 136],\n",
       " [1, 0, 4, 5, 0, 4, 202, 130, 117, 119],\n",
       " [2, 1, 7, 3, 2, 1, 214, 126, 124, 124],\n",
       " [1, 0, 6, 4, 6, 0, 223, 156, 116, 123],\n",
       " [1, 1, 2, 6, 2, 1, 167, 157, 109, 123],\n",
       " [1, 1, 5, 4, 1, 0, 205, 162, 117, 125],\n",
       " [1, 1, 7, 5, 3, 1, 203, 142, 110, 143],\n",
       " [0, 1, 5, 4, 2, 1, 193, 136, 112, 139],\n",
       " [4, 0, 7, 1, 0, 3, 204, 137, 98, 144],\n",
       " [5, 1, 2, 0, 6, 0, 196, 122, 127, 125],\n",
       " [2, 0, 8, 4, 1, 2, 211, 130, 102, 135],\n",
       " [2, 1, 2, 7, 2, 0, 203, 138, 132, 136],\n",
       " [1, 1, 7, 8, 3, 1, 213, 147, 127, 153],\n",
       " [5, 2, 7, 5, 5, 2, 225, 135, 129, 123],\n",
       " [2, 2, 3, 3, 4, 2, 203, 144, 115, 119],\n",
       " [4, 2, 5, 7, 1, 1, 181, 138, 119, 145],\n",
       " [2, 1, 4, 5, 3, 0, 228, 146, 110, 131],\n",
       " [1, 1, 12, 5, 1, 0, 212, 141, 107, 127],\n",
       " [0, 0, 4, 6, 4, 1, 205, 128, 119, 139],\n",
       " [1, 0, 9, 7, 5, 0, 210, 137, 110, 131],\n",
       " [2, 1, 6, 4, 3, 0, 202, 139, 127, 104],\n",
       " [2, 0, 2, 9, 6, 1, 199, 141, 111, 126],\n",
       " [2, 0, 4, 4, 5, 1, 200, 148, 119, 120],\n",
       " [4, 1, 1, 4, 4, 1, 205, 139, 106, 134],\n",
       " [3, 0, 3, 3, 4, 1, 184, 160, 125, 136],\n",
       " [3, 0, 4, 4, 0, 0, 185, 137, 124, 127],\n",
       " [1, 0, 5, 2, 5, 1, 180, 155, 107, 120],\n",
       " [1, 0, 2, 3, 2, 0, 174, 148, 109, 123],\n",
       " [3, 1, 5, 6, 5, 0, 195, 141, 117, 131],\n",
       " [1, 0, 2, 3, 6, 0, 203, 130, 108, 106],\n",
       " [2, 0, 5, 2, 3, 0, 180, 156, 113, 144],\n",
       " [2, 1, 5, 9, 9, 1, 218, 139, 123, 129],\n",
       " [2, 1, 7, 4, 7, 0, 195, 144, 135, 127],\n",
       " [3, 1, 5, 5, 4, 0, 207, 137, 111, 137],\n",
       " [1, 0, 5, 2, 8, 1, 219, 174, 95, 118],\n",
       " [2, 0, 8, 3, 4, 1, 185, 132, 105, 114],\n",
       " [3, 1, 6, 4, 5, 3, 177, 137, 112, 108],\n",
       " [0, 0, 0, 6, 6, 0, 191, 146, 114, 121],\n",
       " [1, 0, 5, 8, 3, 0, 199, 143, 103, 150],\n",
       " [3, 2, 2, 6, 1, 0, 207, 163, 108, 142],\n",
       " [1, 1, 4, 7, 7, 0, 204, 121, 97, 146],\n",
       " [3, 2, 5, 8, 1, 1, 218, 152, 137, 131],\n",
       " [1, 1, 2, 4, 1, 0, 219, 127, 108, 113],\n",
       " [1, 0, 10, 7, 0, 0, 194, 140, 122, 104],\n",
       " [2, 1, 2, 5, 2, 1, 219, 148, 111, 122],\n",
       " [0, 0, 5, 2, 2, 1, 212, 144, 126, 118],\n",
       " [2, 1, 6, 11, 2, 0, 212, 140, 122, 129],\n",
       " [5, 2, 6, 2, 5, 0, 201, 154, 121, 136],\n",
       " [0, 2, 4, 5, 3, 1, 194, 167, 116, 135],\n",
       " [1, 2, 4, 7, 3, 0, 219, 145, 114, 123],\n",
       " [3, 0, 3, 6, 1, 0, 207, 121, 109, 150],\n",
       " [5, 1, 5, 6, 0, 1, 222, 154, 124, 145],\n",
       " [3, 1, 7, 4, 6, 2, 211, 151, 103, 137],\n",
       " [3, 2, 3, 4, 3, 2, 216, 142, 101, 131],\n",
       " [3, 1, 8, 4, 2, 1, 189, 157, 110, 143],\n",
       " [3, 1, 5, 6, 4, 1, 217, 133, 127, 125],\n",
       " [3, 0, 6, 8, 5, 2, 217, 151, 109, 128],\n",
       " [1, 0, 9, 5, 6, 1, 184, 157, 129, 127],\n",
       " [1, 1, 5, 6, 2, 0, 196, 149, 111, 145],\n",
       " [1, 1, 4, 6, 4, 2, 202, 123, 104, 144],\n",
       " [1, 1, 8, 3, 2, 0, 217, 135, 105, 152],\n",
       " [3, 0, 6, 8, 7, 0, 187, 150, 117, 149],\n",
       " [0, 3, 5, 10, 2, 1, 200, 145, 110, 118],\n",
       " [3, 1, 1, 1, 0, 0, 216, 164, 110, 131],\n",
       " [1, 3, 4, 3, 6, 0, 200, 130, 124, 132],\n",
       " [3, 0, 5, 5, 4, 1, 197, 156, 107, 132],\n",
       " [5, 0, 4, 4, 2, 1, 201, 132, 99, 151],\n",
       " [2, 0, 3, 4, 4, 0, 208, 134, 112, 120],\n",
       " [1, 0, 2, 9, 5, 1, 175, 149, 107, 138],\n",
       " [2, 0, 3, 3, 2, 1, 179, 146, 124, 132],\n",
       " [0, 1, 6, 7, 2, 2, 208, 153, 126, 159],\n",
       " [2, 0, 2, 3, 1, 1, 191, 120, 131, 135],\n",
       " [0, 2, 5, 6, 4, 1, 210, 131, 99, 126],\n",
       " [1, 2, 4, 2, 4, 0, 190, 135, 98, 158],\n",
       " [1, 2, 4, 2, 5, 1, 183, 137, 89, 142],\n",
       " [1, 1, 4, 4, 4, 2, 194, 137, 132, 123],\n",
       " [0, 0, 6, 3, 2, 0, 191, 146, 108, 145],\n",
       " [0, 0, 6, 3, 2, 0, 205, 151, 120, 141],\n",
       " [3, 0, 4, 4, 1, 0, 224, 154, 124, 136],\n",
       " [0, 0, 4, 8, 3, 1, 197, 141, 125, 145],\n",
       " [3, 1, 1, 4, 2, 0, 219, 161, 121, 131],\n",
       " [0, 1, 3, 4, 2, 0, 221, 145, 106, 134],\n",
       " [0, 0, 3, 6, 4, 0, 231, 150, 113, 145],\n",
       " [4, 0, 7, 4, 2, 0, 208, 140, 104, 125],\n",
       " [2, 1, 5, 3, 2, 0, 166, 149, 105, 129],\n",
       " [1, 0, 4, 3, 5, 1, 198, 137, 132, 164],\n",
       " [1, 3, 2, 5, 2, 0, 199, 148, 94, 118],\n",
       " [1, 0, 6, 6, 5, 1, 205, 141, 114, 143],\n",
       " [1, 1, 3, 4, 5, 1, 186, 147, 117, 124],\n",
       " [4, 1, 6, 4, 6, 0, 212, 130, 117, 156],\n",
       " [1, 0, 9, 5, 7, 1, 205, 142, 107, 131],\n",
       " [1, 0, 5, 4, 6, 0, 175, 143, 116, 143],\n",
       " [3, 3, 3, 4, 4, 1, 206, 170, 103, 121],\n",
       " [0, 0, 5, 1, 4, 0, 217, 139, 125, 139],\n",
       " [3, 1, 7, 4, 1, 0, 188, 141, 108, 140],\n",
       " [0, 1, 4, 5, 2, 0, 200, 140, 124, 141],\n",
       " [2, 0, 2, 9, 1, 0, 182, 152, 101, 144],\n",
       " [1, 3, 3, 2, 3, 0, 203, 145, 120, 126],\n",
       " [4, 3, 7, 9, 3, 1, 176, 120, 98, 130],\n",
       " [1, 0, 5, 8, 7, 0, 186, 139, 100, 151],\n",
       " [1, 2, 8, 6, 3, 0, 195, 142, 99, 124],\n",
       " [2, 0, 5, 6, 4, 1, 176, 141, 119, 144],\n",
       " [1, 0, 7, 0, 5, 0, 193, 128, 135, 125],\n",
       " [3, 0, 1, 5, 1, 0, 190, 149, 125, 126],\n",
       " [3, 1, 8, 2, 10, 3, 207, 163, 117, 128],\n",
       " [1, 0, 7, 4, 4, 0, 215, 141, 118, 131],\n",
       " [1, 1, 8, 1, 5, 0, 209, 142, 130, 146],\n",
       " [0, 4, 6, 3, 4, 0, 187, 152, 93, 135],\n",
       " [3, 0, 1, 2, 2, 0, 211, 141, 121, 119],\n",
       " [3, 0, 4, 2, 7, 0, 194, 137, 103, 143],\n",
       " [3, 1, 7, 3, 3, 1, 191, 122, 112, 139],\n",
       " [0, 1, 10, 2, 2, 1, 187, 150, 116, 127],\n",
       " [2, 1, 2, 6, 4, 1, 200, 147, 107, 136],\n",
       " [2, 2, 1, 7, 1, 0, 191, 148, 119, 137],\n",
       " [2, 4, 3, 5, 2, 0, 188, 158, 110, 148],\n",
       " [2, 2, 9, 3, 1, 1, 205, 140, 103, 134],\n",
       " [1, 0, 7, 3, 4, 0, 229, 147, 114, 128],\n",
       " [2, 0, 7, 6, 4, 1, 221, 157, 97, 115],\n",
       " [1, 3, 4, 8, 2, 1, 173, 145, 101, 141],\n",
       " [1, 0, 1, 3, 4, 1, 208, 127, 118, 160],\n",
       " [3, 2, 2, 4, 4, 0, 204, 137, 103, 122],\n",
       " [1, 0, 5, 3, 3, 2, 190, 158, 136, 114],\n",
       " [2, 2, 2, 8, 9, 2, 202, 157, 109, 141],\n",
       " [1, 1, 7, 7, 3, 1, 204, 144, 101, 129],\n",
       " [2, 2, 7, 4, 5, 1, 177, 134, 112, 130],\n",
       " [0, 1, 11, 5, 3, 0, 221, 132, 116, 127],\n",
       " [0, 1, 4, 5, 1, 0, 186, 146, 117, 114],\n",
       " [1, 1, 5, 3, 7, 1, 179, 153, 116, 134],\n",
       " [1, 1, 6, 5, 7, 0, 198, 139, 90, 137],\n",
       " [3, 1, 3, 4, 3, 1, 178, 136, 103, 144]]"
      ]
     },
     "execution_count": 422,
     "metadata": {},
     "output_type": "execute_result"
    }
   ],
   "source": [
    "data"
   ]
  },
  {
   "cell_type": "code",
   "execution_count": 398,
   "metadata": {},
   "outputs": [
    {
     "name": "stdout",
     "output_type": "stream",
     "text": [
      "[5235.56384717 3820.95173635 2846.06503334]\n",
      "[0.41575523 0.33671089 0.23987395]\n",
      "0.9923400632790581\n"
     ]
    }
   ],
   "source": [
    "from sklearn.decomposition import TruncatedSVD\n",
    "svd=TruncatedSVD(n_components=3,random_state=0)\n",
    "svd.fit(data)\n",
    "print(svd.singular_values_) \n",
    "print(svd.explained_variance_ratio_)\n",
    "print(svd.explained_variance_ratio_.sum()) "
   ]
  },
  {
   "cell_type": "code",
   "execution_count": 400,
   "metadata": {},
   "outputs": [
    {
     "name": "stderr",
     "output_type": "stream",
     "text": [
      "D:\\anaconda3\\envs\\tensorflow\\lib\\site-packages\\ipykernel_launcher.py:4: SettingWithCopyWarning: \n",
      "A value is trying to be set on a copy of a slice from a DataFrame\n",
      "\n",
      "See the caveats in the documentation: http://pandas.pydata.org/pandas-docs/stable/indexing.html#indexing-view-versus-copy\n",
      "  after removing the cwd from sys.path.\n",
      "D:\\anaconda3\\envs\\tensorflow\\lib\\site-packages\\ipykernel_launcher.py:5: SettingWithCopyWarning: \n",
      "A value is trying to be set on a copy of a slice from a DataFrame\n",
      "\n",
      "See the caveats in the documentation: http://pandas.pydata.org/pandas-docs/stable/indexing.html#indexing-view-versus-copy\n",
      "  \"\"\"\n"
     ]
    },
    {
     "data": {
      "text/html": [
       "<div>\n",
       "<style scoped>\n",
       "    .dataframe tbody tr th:only-of-type {\n",
       "        vertical-align: middle;\n",
       "    }\n",
       "\n",
       "    .dataframe tbody tr th {\n",
       "        vertical-align: top;\n",
       "    }\n",
       "\n",
       "    .dataframe thead th {\n",
       "        text-align: right;\n",
       "    }\n",
       "</style>\n",
       "<table border=\"1\" class=\"dataframe\">\n",
       "  <thead>\n",
       "    <tr style=\"text-align: right;\">\n",
       "      <th></th>\n",
       "      <th>0</th>\n",
       "      <th>1</th>\n",
       "      <th>2</th>\n",
       "      <th>real_class</th>\n",
       "    </tr>\n",
       "  </thead>\n",
       "  <tbody>\n",
       "    <tr>\n",
       "      <th>595</th>\n",
       "      <td>308.639945</td>\n",
       "      <td>-10.893103</td>\n",
       "      <td>-1.142475</td>\n",
       "      <td>2</td>\n",
       "    </tr>\n",
       "    <tr>\n",
       "      <th>596</th>\n",
       "      <td>286.591892</td>\n",
       "      <td>-11.037807</td>\n",
       "      <td>-5.049850</td>\n",
       "      <td>2</td>\n",
       "    </tr>\n",
       "    <tr>\n",
       "      <th>597</th>\n",
       "      <td>293.886927</td>\n",
       "      <td>-9.784151</td>\n",
       "      <td>-4.010165</td>\n",
       "      <td>2</td>\n",
       "    </tr>\n",
       "    <tr>\n",
       "      <th>598</th>\n",
       "      <td>291.356605</td>\n",
       "      <td>-8.850110</td>\n",
       "      <td>-3.465249</td>\n",
       "      <td>2</td>\n",
       "    </tr>\n",
       "    <tr>\n",
       "      <th>599</th>\n",
       "      <td>284.606702</td>\n",
       "      <td>-10.224707</td>\n",
       "      <td>-3.781402</td>\n",
       "      <td>2</td>\n",
       "    </tr>\n",
       "  </tbody>\n",
       "</table>\n",
       "</div>"
      ],
      "text/plain": [
       "              0          1         2  real_class\n",
       "595  308.639945 -10.893103 -1.142475           2\n",
       "596  286.591892 -11.037807 -5.049850           2\n",
       "597  293.886927  -9.784151 -4.010165           2\n",
       "598  291.356605  -8.850110 -3.465249           2\n",
       "599  284.606702 -10.224707 -3.781402           2"
      ]
     },
     "execution_count": 400,
     "metadata": {},
     "output_type": "execute_result"
    }
   ],
   "source": [
    "data1=svd.transform(data)\n",
    "data1=pd.DataFrame(data1)\n",
    "data1['real_class']=0\n",
    "data1['real_class'][100:300]=1\n",
    "data1['real_class'][300:600]=2\n",
    "data1.tail(5)"
   ]
  },
  {
   "cell_type": "code",
   "execution_count": 401,
   "metadata": {},
   "outputs": [
    {
     "data": {
      "image/png": "[encoded data removed]",
      "text/plain": [
       "<Figure size 432x288 with 1 Axes>"
      ]
     },
     "metadata": {
      "needs_background": "light"
     },
     "output_type": "display_data"
    }
   ],
   "source": [
    "####K-means for clustering#############\n",
    "####Elbow method for select best K#####\n",
    "from sklearn.cluster import KMeans\n",
    "import numpy as np\n",
    "import matplotlib.pyplot as plt\n",
    "sse = {}\n",
    "for k in range(1, 10):\n",
    "    kmeans = KMeans(n_clusters=k, max_iter=1000).fit(data1[[0,1,2]])\n",
    "    #data1[\"pred_class\"] = kmeans.labels_\n",
    "    #print(data[\"clusters\"])\n",
    "    sse[k] = kmeans.inertia_ # Inertia: Sum of distances of samples to their closest cluster center\n",
    "plt.figure()\n",
    "plt.plot(list(sse.keys()), list(sse.values()))\n",
    "plt.xlabel(\"Number of cluster\")\n",
    "plt.ylabel(\"SSE\")\n",
    "plt.show()"
   ]
  },
  {
   "cell_type": "code",
   "execution_count": 402,
   "metadata": {},
   "outputs": [],
   "source": [
    "kmeans = KMeans(n_clusters=3, max_iter=1000).fit(data1[[0,1,2]])\n",
    "data1[\"pred_class\"] = kmeans.labels_"
   ]
  },
  {
   "cell_type": "code",
   "execution_count": 403,
   "metadata": {},
   "outputs": [
    {
     "data": {
      "text/plain": [
       "1    300\n",
       "2    200\n",
       "0    100\n",
       "Name: pred_class, dtype: int64"
      ]
     },
     "execution_count": 403,
     "metadata": {},
     "output_type": "execute_result"
    }
   ],
   "source": [
    "data1['pred_class'].value_counts()"
   ]
  },
  {
   "cell_type": "code",
   "execution_count": 407,
   "metadata": {},
   "outputs": [
    {
     "data": {
      "image/png": "[encoded data removed]",
      "text/plain": [
       "<Figure size 432x288 with 1 Axes>"
      ]
     },
     "metadata": {
      "needs_background": "light"
     },
     "output_type": "display_data"
    }
   ],
   "source": [
    "########NMF#########\n",
    "re = {}\n",
    "for k in range(1, 10):\n",
    "    nmf = NMF(n_components=k, max_iter=1000).fit(data)\n",
    "    re[k] = nmf.reconstruction_err_  # Inertia: Sum of distances of samples to their closest cluster center\n",
    "plt.figure()\n",
    "plt.plot(list(re.keys()), list(re.values()))\n",
    "plt.xlabel(\"Number of cluster\")\n",
    "plt.ylabel(\"Reconstruction-error\")\n",
    "plt.show()"
   ]
  },
  {
   "cell_type": "code",
   "execution_count": 408,
   "metadata": {},
   "outputs": [
    {
     "data": {
      "text/plain": [
       "array([[0.03441629, 0.07375927, 5.4825553 ],\n",
       "       [0.06130567, 0.10159067, 5.07096966],\n",
       "       [0.04399124, 0.02807335, 5.48437494],\n",
       "       ...,\n",
       "       [4.06110645, 0.02904634, 0.04035838],\n",
       "       [4.02516532, 0.04163328, 0.05033238],\n",
       "       [3.93347396, 0.01565328, 0.04035766]])"
      ]
     },
     "execution_count": 408,
     "metadata": {},
     "output_type": "execute_result"
    }
   ],
   "source": [
    "nmf = NMF(n_components=3, max_iter=1000).fit(data)\n",
    "W=nmf.transform(data)\n",
    "H=nmf.components_\n",
    "W"
   ]
  },
  {
   "cell_type": "code",
   "execution_count": 413,
   "metadata": {},
   "outputs": [
    {
     "data": {
      "text/plain": [
       "(array([0, 1, 2], dtype=int64), array([300, 200, 100], dtype=int64))"
      ]
     },
     "execution_count": 413,
     "metadata": {},
     "output_type": "execute_result"
    }
   ],
   "source": [
    "np.unique(np.argmax(W,axis=1),return_counts=True)"
   ]
  },
  {
   "cell_type": "code",
   "execution_count": 414,
   "metadata": {},
   "outputs": [
    {
     "data": {
      "text/plain": [
       "array([[4.85831412e-02, 0.00000000e+00, 7.72193495e-01, 8.83235585e-01,\n",
       "        6.88636170e-01, 0.00000000e+00, 4.77823760e+01, 3.43001966e+01,\n",
       "        2.74214725e+01, 3.20509255e+01],\n",
       "       [0.00000000e+00, 5.32057176e-01, 9.06770691e-01, 4.12107434e+01,\n",
       "        2.44822595e+01, 3.90137884e+01, 5.88920160e-01, 0.00000000e+00,\n",
       "        4.06400268e-01, 9.38795636e-02],\n",
       "       [3.40883459e+01, 2.17110418e+01, 3.47522119e+01, 2.18297454e-02,\n",
       "        5.62339781e-01, 0.00000000e+00, 1.66595955e-01, 0.00000000e+00,\n",
       "        4.36358002e-01, 1.69179140e-01]])"
      ]
     },
     "execution_count": 414,
     "metadata": {},
     "output_type": "execute_result"
    }
   ],
   "source": [
    "H"
   ]
  },
  {
   "cell_type": "code",
   "execution_count": 419,
   "metadata": {},
   "outputs": [
    {
     "data": {
      "text/plain": [
       "LatentDirichletAllocation(batch_size=128, doc_topic_prior=None,\n",
       "                          evaluate_every=-1, learning_decay=0.7,\n",
       "                          learning_method='batch', learning_offset=10.0,\n",
       "                          max_doc_update_iter=100, max_iter=10,\n",
       "                          mean_change_tol=0.001, n_components=5, n_jobs=None,\n",
       "                          perp_tol=0.1, random_state=0, topic_word_prior=None,\n",
       "                          total_samples=1000000.0, verbose=0)"
      ]
     },
     "execution_count": 419,
     "metadata": {},
     "output_type": "execute_result"
    }
   ],
   "source": [
    "######LDA#######\n",
    "from sklearn.decomposition import LatentDirichletAllocation\n",
    "lda = LatentDirichletAllocation(n_components=5,random_state=0)\n",
    "lda.fit(data)"
   ]
  },
  {
   "cell_type": "code",
   "execution_count": 421,
   "metadata": {},
   "outputs": [
    {
     "data": {
      "text/plain": [
       "(array([0, 3, 4], dtype=int64), array([100, 300, 200], dtype=int64))"
      ]
     },
     "execution_count": 421,
     "metadata": {},
     "output_type": "execute_result"
    }
   ],
   "source": [
    "np.unique(np.argmax(lda.transform(data),axis=1),return_counts=True)"
   ]
  },
  {
   "cell_type": "code",
   "execution_count": null,
   "metadata": {},
   "outputs": [],
   "source": [
    "#######Auto-encoder######\n"
   ]
  },
  {
   "cell_type": "code",
   "execution_count": 481,
   "metadata": {},
   "outputs": [],
   "source": [
    "#feature and dimension expand, why?\n",
    "#what if we only use original features?\n",
    "#Assume we have three orignal features: amt, paymtd, paytype\n",
    "#dictionary for each feature is as following:\n",
    "##Amt:0-9\n",
    "##Paymtd:0-9\n",
    "##Paytype:0-9\n",
    "##RecorPay:0-9\n",
    "#suppose we have three class of txn as following:\n",
    "##txn_class1:Amt always in bin 0\n",
    "##txn_class1:Amt always in bin 5\n",
    "##txn_class1:Amt always in bin 9\n",
    "###We want to use our models to find such three kinds of txn_class\n",
    "def txn_class1():\n",
    "    amt=np.random.choice(10,1,p=[0.0,0.0,0.0,0.0,0.0,\n",
    "                                0.0,0.0,0.1,0.1,0.8])[0]\n",
    "    paymed=np.random.choice(10,1,p=[0.1,0.1,0.1,0.1,0.1,\n",
    "                                0.1,0.1,0.1,0.1,0.1])[0]\n",
    "    paytype=np.random.choice(10,1,p=[0.1,0.1,0.1,0.1,0.1,\n",
    "                                0.1,0.1,0.1,0.1,0.1])[0]\n",
    "    RecorPay=np.random.choice(10,1,p=[0.1,0.1,0.1,0.1,0.1,\n",
    "                                0.1,0.1,0.1,0.1,0.1])[0]\n",
    "    bene=np.random.choice(10,1,p=[0.1,0.1,0.1,0.1,0.1,\n",
    "                                0.1,0.1,0.1,0.1,0.1])[0]\n",
    "    return [amt,paymed,paytype,RecorPay,bene]\n",
    "\n",
    "\n",
    "def txn_class2():\n",
    "    amt=np.random.choice(10,1,p=[0.8,0.1,0.1,0.0,0.0,\n",
    "                                0.0,0.0,0.0,0.0,0.0])[0]\n",
    "    paymed=np.random.choice(10,1,p=[0.1,0.1,0.1,0.1,0.1,\n",
    "                                0.1,0.1,0.1,0.1,0.1])[0]\n",
    "    paytype=np.random.choice(10,1,p=[0.1,0.1,0.1,0.1,0.1,\n",
    "                                0.1,0.1,0.1,0.1,0.1])[0]\n",
    "    RecorPay=np.random.choice(10,1,p=[0.1,0.1,0.1,0.1,0.1,\n",
    "                                0.1,0.1,0.1,0.1,0.1])[0]\n",
    "    bene=np.random.choice(10,1,p=[0.1,0.1,0.1,0.1,0.1,\n",
    "                                0.1,0.1,0.1,0.1,0.1])[0]\n",
    "    return [amt,paymed,paytype,RecorPay,bene]\n",
    "\n",
    "def txn_class3():\n",
    "    amt=np.random.choice(10,1,p=[0.0,0.0,0.0,0.0,1.0,\n",
    "                                0.0,0.0,0.0,0.0,0.0])[0]\n",
    "    paymed=np.random.choice(10,1,p=[0.1,0.1,0.1,0.1,0.1,\n",
    "                                0.1,0.1,0.1,0.1,0.1])[0]\n",
    "    paytype=np.random.choice(10,1,p=[0.1,0.1,0.1,0.1,0.1,\n",
    "                                0.1,0.1,0.1,0.1,0.1])[0]\n",
    "    RecorPay=np.random.choice(10,1,p=[0.1,0.1,0.1,0.1,0.1,\n",
    "                                0.1,0.1,0.1,0.1,0.1])[0]\n",
    "    bene=np.random.choice(10,1,p=[0.1,0.1,0.1,0.1,0.1,\n",
    "                                0.1,0.1,0.1,0.1,0.1])[0]\n",
    "    return [amt,paymed,paytype,RecorPay,bene]"
   ]
  },
  {
   "cell_type": "code",
   "execution_count": 487,
   "metadata": {},
   "outputs": [],
   "source": [
    "data=[txn_class1() for i in range(1000)]\n",
    "data.extend([txn_class2() for i in range(2000)])\n"
   ]
  },
  {
   "cell_type": "code",
   "execution_count": 488,
   "metadata": {},
   "outputs": [
    {
     "name": "stdout",
     "output_type": "stream",
     "text": [
      "[546.40782999 213.22049948 160.19150732 156.75613299]\n",
      "[0.18648389 0.30784305 0.17477846 0.16735804]\n",
      "0.8364634384800224\n"
     ]
    }
   ],
   "source": [
    "from sklearn.decomposition import TruncatedSVD\n",
    "svd=TruncatedSVD(n_components=4,random_state=0)\n",
    "svd.fit(data)\n",
    "print(svd.singular_values_) \n",
    "print(svd.explained_variance_ratio_)\n",
    "print(svd.explained_variance_ratio_.sum()) "
   ]
  },
  {
   "cell_type": "code",
   "execution_count": 489,
   "metadata": {},
   "outputs": [],
   "source": [
    "u,s,v=np.linalg.svd(data,full_matrices=True)"
   ]
  },
  {
   "cell_type": "code",
   "execution_count": 490,
   "metadata": {},
   "outputs": [
    {
     "data": {
      "text/plain": [
       "array([546.40782999, 213.22049948, 160.19150732, 156.75613299,\n",
       "       154.95385661])"
      ]
     },
     "execution_count": 490,
     "metadata": {},
     "output_type": "execute_result"
    }
   ],
   "source": [
    "s"
   ]
  },
  {
   "cell_type": "code",
   "execution_count": 491,
   "metadata": {},
   "outputs": [
    {
     "data": {
      "image/png": "[encoded data removed]",
      "text/plain": [
       "<Figure size 432x288 with 1 Axes>"
      ]
     },
     "metadata": {
      "needs_background": "light"
     },
     "output_type": "display_data"
    }
   ],
   "source": [
    "#######Kmeans######\n",
    "####K-means for clustering#############\n",
    "####Elbow method for select best K#####\n",
    "from sklearn.cluster import KMeans\n",
    "import numpy as np\n",
    "import matplotlib.pyplot as plt\n",
    "sse = {}\n",
    "for k in range(1, 10):\n",
    "    kmeans = KMeans(n_clusters=k, max_iter=1000).fit(data)\n",
    "    #data1[\"pred_class\"] = kmeans.labels_\n",
    "    #print(data[\"clusters\"])\n",
    "    sse[k] = kmeans.inertia_ # Inertia: Sum of distances of samples to their closest cluster center\n",
    "plt.figure()\n",
    "plt.plot(list(sse.keys()), list(sse.values()))\n",
    "plt.xlabel(\"Number of cluster\")\n",
    "plt.ylabel(\"SSE\")\n",
    "plt.show()\n"
   ]
  },
  {
   "cell_type": "code",
   "execution_count": 492,
   "metadata": {},
   "outputs": [
    {
     "data": {
      "image/png": "[encoded data removed]",
      "text/plain": [
       "<Figure size 432x288 with 1 Axes>"
      ]
     },
     "metadata": {
      "needs_background": "light"
     },
     "output_type": "display_data"
    }
   ],
   "source": [
    "########NMF#########\n",
    "re = {}\n",
    "for k in range(1, 10):\n",
    "    nmf = NMF(n_components=k, max_iter=1000).fit(data)\n",
    "    re[k] = nmf.reconstruction_err_  # Inertia: Sum of distances of samples to their closest cluster center\n",
    "plt.figure()\n",
    "plt.plot(list(re.keys()), list(re.values()))\n",
    "plt.xlabel(\"Number of cluster\")\n",
    "plt.ylabel(\"Reconstruction-error\")\n",
    "plt.show()"
   ]
  },
  {
   "cell_type": "code",
   "execution_count": 502,
   "metadata": {},
   "outputs": [],
   "source": [
    "####sparse####\n",
    "corpus=[[str(j)+'_'+str(idx)  for idx ,j in enumerate(i)] for i in data]"
   ]
  },
  {
   "cell_type": "code",
   "execution_count": 510,
   "metadata": {},
   "outputs": [],
   "source": [
    "doc=[' '.join(i) for i in corpus]"
   ]
  },
  {
   "cell_type": "code",
   "execution_count": 511,
   "metadata": {},
   "outputs": [
    {
     "data": {
      "text/plain": [
       "['9_0 6_1 4_2 8_3 5_4',\n",
       " '7_0 3_1 6_2 8_3 4_4',\n",
       " '9_0 6_1 6_2 1_3 2_4',\n",
       " '9_0 8_1 9_2 1_3 6_4',\n",
       " '9_0 9_1 9_2 9_3 3_4',\n",
       " '9_0 7_1 9_2 8_3 2_4',\n",
       " '9_0 7_1 3_2 1_3 1_4',\n",
       " '9_0 1_1 2_2 4_3 8_4',\n",
       " '9_0 7_1 8_2 5_3 0_4',\n",
       " '9_0 8_1 1_2 2_3 9_4',\n",
       " '9_0 3_1 4_2 4_3 3_4',\n",
       " '9_0 5_1 4_2 8_3 9_4',\n",
       " '9_0 6_1 1_2 8_3 2_4',\n",
       " '9_0 1_1 0_2 9_3 9_4',\n",
       " '8_0 9_1 3_2 0_3 3_4',\n",
       " '9_0 4_1 4_2 3_3 5_4',\n",
       " '9_0 6_1 2_2 8_3 0_4',\n",
       " '9_0 7_1 3_2 9_3 8_4',\n",
       " '9_0 2_1 7_2 8_3 6_4',\n",
       " '7_0 3_1 5_2 0_3 6_4',\n",
       " '9_0 6_1 2_2 8_3 4_4',\n",
       " '9_0 4_1 6_2 0_3 9_4',\n",
       " '7_0 9_1 1_2 7_3 3_4',\n",
       " '7_0 4_1 8_2 3_3 5_4',\n",
       " '9_0 7_1 7_2 2_3 3_4',\n",
       " '9_0 2_1 5_2 4_3 6_4',\n",
       " '9_0 3_1 7_2 7_3 9_4',\n",
       " '9_0 2_1 4_2 4_3 1_4',\n",
       " '9_0 0_1 0_2 4_3 5_4',\n",
       " '8_0 4_1 4_2 8_3 0_4',\n",
       " '9_0 2_1 3_2 4_3 3_4',\n",
       " '9_0 0_1 8_2 5_3 1_4',\n",
       " '9_0 2_1 0_2 2_3 3_4',\n",
       " '9_0 4_1 9_2 7_3 1_4',\n",
       " '9_0 9_1 3_2 5_3 2_4',\n",
       " '7_0 3_1 9_2 3_3 3_4',\n",
       " '9_0 0_1 4_2 6_3 9_4',\n",
       " '7_0 2_1 9_2 2_3 5_4',\n",
       " '9_0 1_1 9_2 5_3 4_4',\n",
       " '9_0 0_1 3_2 6_3 6_4',\n",
       " '7_0 5_1 1_2 0_3 7_4',\n",
       " '9_0 0_1 9_2 6_3 3_4',\n",
       " '9_0 0_1 8_2 0_3 7_4',\n",
       " '9_0 0_1 3_2 0_3 0_4',\n",
       " '9_0 0_1 0_2 9_3 3_4',\n",
       " '9_0 5_1 5_2 9_3 6_4',\n",
       " '9_0 3_1 0_2 9_3 3_4',\n",
       " '8_0 5_1 9_2 8_3 1_4',\n",
       " '9_0 1_1 1_2 0_3 5_4',\n",
       " '8_0 7_1 7_2 7_3 7_4',\n",
       " '9_0 5_1 3_2 3_3 5_4',\n",
       " '9_0 3_1 9_2 3_3 2_4',\n",
       " '9_0 9_1 6_2 9_3 6_4',\n",
       " '8_0 2_1 8_2 5_3 3_4',\n",
       " '9_0 3_1 2_2 6_3 7_4',\n",
       " '7_0 0_1 3_2 1_3 7_4',\n",
       " '8_0 2_1 0_2 6_3 9_4',\n",
       " '9_0 9_1 7_2 1_3 7_4',\n",
       " '9_0 9_1 5_2 8_3 0_4',\n",
       " '9_0 2_1 4_2 3_3 8_4',\n",
       " '9_0 8_1 7_2 9_3 0_4',\n",
       " '9_0 3_1 5_2 5_3 7_4',\n",
       " '8_0 4_1 9_2 0_3 2_4',\n",
       " '9_0 7_1 4_2 7_3 2_4',\n",
       " '9_0 3_1 9_2 6_3 3_4',\n",
       " '9_0 9_1 1_2 6_3 1_4',\n",
       " '9_0 4_1 1_2 7_3 9_4',\n",
       " '9_0 6_1 2_2 1_3 2_4',\n",
       " '8_0 5_1 8_2 4_3 9_4',\n",
       " '9_0 9_1 8_2 6_3 7_4',\n",
       " '9_0 5_1 5_2 0_3 6_4',\n",
       " '7_0 7_1 9_2 4_3 4_4',\n",
       " '9_0 9_1 4_2 4_3 2_4',\n",
       " '9_0 4_1 7_2 4_3 8_4',\n",
       " '9_0 8_1 8_2 7_3 8_4',\n",
       " '9_0 5_1 4_2 6_3 5_4',\n",
       " '9_0 9_1 5_2 3_3 8_4',\n",
       " '9_0 5_1 0_2 7_3 9_4',\n",
       " '9_0 7_1 7_2 1_3 5_4',\n",
       " '9_0 3_1 6_2 7_3 9_4',\n",
       " '9_0 4_1 9_2 3_3 9_4',\n",
       " '9_0 3_1 1_2 3_3 0_4',\n",
       " '9_0 5_1 3_2 2_3 5_4',\n",
       " '7_0 2_1 3_2 3_3 1_4',\n",
       " '9_0 9_1 4_2 1_3 1_4',\n",
       " '9_0 9_1 1_2 6_3 7_4',\n",
       " '9_0 9_1 6_2 1_3 0_4',\n",
       " '9_0 1_1 3_2 4_3 9_4',\n",
       " '9_0 2_1 3_2 9_3 0_4',\n",
       " '9_0 9_1 2_2 2_3 1_4',\n",
       " '9_0 8_1 5_2 5_3 7_4',\n",
       " '9_0 4_1 0_2 8_3 3_4',\n",
       " '9_0 7_1 2_2 3_3 3_4',\n",
       " '8_0 8_1 6_2 8_3 9_4',\n",
       " '9_0 8_1 3_2 5_3 0_4',\n",
       " '9_0 9_1 2_2 8_3 8_4',\n",
       " '9_0 8_1 5_2 8_3 2_4',\n",
       " '9_0 9_1 3_2 9_3 3_4',\n",
       " '7_0 6_1 9_2 1_3 7_4',\n",
       " '9_0 0_1 9_2 9_3 7_4',\n",
       " '9_0 4_1 0_2 5_3 4_4',\n",
       " '9_0 1_1 2_2 7_3 6_4',\n",
       " '9_0 5_1 4_2 7_3 5_4',\n",
       " '9_0 6_1 5_2 1_3 2_4',\n",
       " '9_0 5_1 1_2 9_3 4_4',\n",
       " '9_0 0_1 3_2 6_3 9_4',\n",
       " '9_0 8_1 7_2 6_3 9_4',\n",
       " '9_0 1_1 7_2 5_3 4_4',\n",
       " '9_0 9_1 5_2 6_3 1_4',\n",
       " '9_0 8_1 2_2 8_3 6_4',\n",
       " '9_0 7_1 3_2 9_3 7_4',\n",
       " '9_0 3_1 1_2 4_3 4_4',\n",
       " '9_0 0_1 9_2 6_3 8_4',\n",
       " '8_0 0_1 4_2 8_3 9_4',\n",
       " '9_0 7_1 7_2 5_3 3_4',\n",
       " '9_0 0_1 7_2 6_3 5_4',\n",
       " '9_0 5_1 1_2 8_3 9_4',\n",
       " '9_0 1_1 1_2 7_3 4_4',\n",
       " '7_0 3_1 4_2 3_3 5_4',\n",
       " '9_0 2_1 0_2 9_3 4_4',\n",
       " '9_0 3_1 0_2 9_3 3_4',\n",
       " '9_0 3_1 1_2 2_3 7_4',\n",
       " '9_0 5_1 2_2 1_3 2_4',\n",
       " '9_0 7_1 6_2 8_3 1_4',\n",
       " '9_0 2_1 6_2 5_3 4_4',\n",
       " '9_0 0_1 8_2 3_3 1_4',\n",
       " '8_0 3_1 3_2 5_3 4_4',\n",
       " '9_0 4_1 3_2 7_3 6_4',\n",
       " '7_0 5_1 4_2 6_3 2_4',\n",
       " '7_0 9_1 0_2 5_3 4_4',\n",
       " '9_0 0_1 0_2 6_3 1_4',\n",
       " '9_0 2_1 8_2 0_3 9_4',\n",
       " '9_0 2_1 5_2 4_3 4_4',\n",
       " '9_0 1_1 1_2 0_3 2_4',\n",
       " '8_0 2_1 1_2 7_3 6_4',\n",
       " '9_0 9_1 9_2 6_3 9_4',\n",
       " '9_0 1_1 1_2 0_3 8_4',\n",
       " '8_0 7_1 8_2 4_3 8_4',\n",
       " '9_0 3_1 3_2 1_3 7_4',\n",
       " '9_0 6_1 2_2 4_3 6_4',\n",
       " '9_0 0_1 8_2 0_3 2_4',\n",
       " '8_0 8_1 8_2 5_3 9_4',\n",
       " '9_0 9_1 4_2 1_3 6_4',\n",
       " '9_0 9_1 9_2 8_3 7_4',\n",
       " '7_0 5_1 8_2 2_3 1_4',\n",
       " '9_0 3_1 6_2 9_3 8_4',\n",
       " '9_0 7_1 8_2 9_3 1_4',\n",
       " '7_0 1_1 6_2 9_3 4_4',\n",
       " '9_0 9_1 2_2 7_3 0_4',\n",
       " '9_0 6_1 3_2 2_3 2_4',\n",
       " '8_0 3_1 9_2 0_3 1_4',\n",
       " '8_0 9_1 2_2 7_3 3_4',\n",
       " '9_0 0_1 9_2 6_3 4_4',\n",
       " '9_0 0_1 7_2 0_3 4_4',\n",
       " '7_0 6_1 9_2 2_3 5_4',\n",
       " '9_0 3_1 0_2 4_3 6_4',\n",
       " '9_0 8_1 1_2 2_3 2_4',\n",
       " '8_0 8_1 3_2 9_3 3_4',\n",
       " '7_0 3_1 4_2 1_3 7_4',\n",
       " '9_0 4_1 9_2 8_3 5_4',\n",
       " '9_0 0_1 9_2 2_3 1_4',\n",
       " '9_0 2_1 8_2 7_3 2_4',\n",
       " '9_0 6_1 9_2 5_3 2_4',\n",
       " '9_0 4_1 4_2 6_3 0_4',\n",
       " '9_0 4_1 1_2 2_3 8_4',\n",
       " '8_0 2_1 8_2 3_3 5_4',\n",
       " '9_0 2_1 0_2 9_3 8_4',\n",
       " '7_0 8_1 4_2 5_3 5_4',\n",
       " '9_0 8_1 5_2 3_3 9_4',\n",
       " '9_0 4_1 1_2 6_3 2_4',\n",
       " '9_0 9_1 4_2 1_3 4_4',\n",
       " '9_0 1_1 5_2 1_3 2_4',\n",
       " '9_0 3_1 5_2 4_3 7_4',\n",
       " '9_0 9_1 2_2 5_3 0_4',\n",
       " '7_0 4_1 1_2 8_3 0_4',\n",
       " '9_0 3_1 4_2 5_3 5_4',\n",
       " '9_0 6_1 1_2 0_3 5_4',\n",
       " '9_0 8_1 1_2 3_3 3_4',\n",
       " '9_0 0_1 1_2 5_3 1_4',\n",
       " '7_0 7_1 5_2 3_3 7_4',\n",
       " '9_0 9_1 1_2 6_3 8_4',\n",
       " '9_0 7_1 6_2 1_3 6_4',\n",
       " '7_0 2_1 3_2 2_3 2_4',\n",
       " '9_0 0_1 7_2 1_3 8_4',\n",
       " '9_0 3_1 7_2 2_3 0_4',\n",
       " '7_0 4_1 1_2 5_3 7_4',\n",
       " '9_0 3_1 8_2 2_3 6_4',\n",
       " '9_0 3_1 8_2 1_3 3_4',\n",
       " '9_0 8_1 5_2 4_3 5_4',\n",
       " '9_0 0_1 4_2 8_3 7_4',\n",
       " '9_0 7_1 8_2 7_3 4_4',\n",
       " '9_0 3_1 1_2 8_3 4_4',\n",
       " '9_0 3_1 4_2 5_3 2_4',\n",
       " '9_0 5_1 4_2 3_3 6_4',\n",
       " '9_0 4_1 4_2 4_3 7_4',\n",
       " '9_0 8_1 2_2 8_3 8_4',\n",
       " '9_0 7_1 3_2 0_3 3_4',\n",
       " '7_0 1_1 9_2 2_3 3_4',\n",
       " '7_0 5_1 7_2 4_3 1_4',\n",
       " '9_0 6_1 0_2 7_3 8_4',\n",
       " '9_0 6_1 9_2 9_3 9_4',\n",
       " '9_0 3_1 9_2 3_3 5_4',\n",
       " '9_0 9_1 8_2 3_3 8_4',\n",
       " '7_0 4_1 1_2 4_3 8_4',\n",
       " '9_0 8_1 9_2 6_3 2_4',\n",
       " '9_0 1_1 6_2 0_3 7_4',\n",
       " '9_0 6_1 3_2 0_3 0_4',\n",
       " '9_0 7_1 5_2 5_3 9_4',\n",
       " '9_0 7_1 9_2 3_3 5_4',\n",
       " '9_0 8_1 1_2 1_3 8_4',\n",
       " '7_0 0_1 8_2 0_3 8_4',\n",
       " '9_0 2_1 6_2 8_3 5_4',\n",
       " '9_0 8_1 4_2 7_3 9_4',\n",
       " '7_0 2_1 5_2 8_3 8_4',\n",
       " '9_0 8_1 1_2 0_3 8_4',\n",
       " '9_0 6_1 0_2 3_3 1_4',\n",
       " '8_0 4_1 1_2 9_3 8_4',\n",
       " '9_0 1_1 0_2 9_3 1_4',\n",
       " '8_0 1_1 1_2 9_3 4_4',\n",
       " '9_0 1_1 8_2 3_3 3_4',\n",
       " '9_0 2_1 7_2 0_3 8_4',\n",
       " '9_0 4_1 1_2 2_3 7_4',\n",
       " '9_0 9_1 7_2 6_3 9_4',\n",
       " '9_0 1_1 6_2 0_3 7_4',\n",
       " '9_0 4_1 2_2 4_3 3_4',\n",
       " '9_0 1_1 1_2 6_3 1_4',\n",
       " '9_0 8_1 2_2 5_3 3_4',\n",
       " '9_0 0_1 2_2 0_3 7_4',\n",
       " '9_0 1_1 1_2 4_3 4_4',\n",
       " '9_0 8_1 9_2 8_3 8_4',\n",
       " '9_0 3_1 3_2 6_3 9_4',\n",
       " '9_0 4_1 1_2 3_3 6_4',\n",
       " '9_0 3_1 5_2 8_3 2_4',\n",
       " '9_0 0_1 5_2 9_3 2_4',\n",
       " '9_0 8_1 5_2 9_3 6_4',\n",
       " '9_0 2_1 3_2 8_3 6_4',\n",
       " '9_0 1_1 0_2 1_3 1_4',\n",
       " '9_0 4_1 3_2 1_3 3_4',\n",
       " '9_0 4_1 2_2 6_3 3_4',\n",
       " '9_0 4_1 4_2 7_3 9_4',\n",
       " '9_0 5_1 1_2 0_3 7_4',\n",
       " '9_0 0_1 7_2 2_3 0_4',\n",
       " '9_0 3_1 2_2 7_3 9_4',\n",
       " '8_0 6_1 1_2 2_3 3_4',\n",
       " '9_0 9_1 9_2 5_3 1_4',\n",
       " '8_0 1_1 4_2 3_3 5_4',\n",
       " '7_0 2_1 4_2 0_3 4_4',\n",
       " '9_0 0_1 3_2 2_3 6_4',\n",
       " '7_0 2_1 6_2 8_3 4_4',\n",
       " '9_0 9_1 3_2 0_3 9_4',\n",
       " '9_0 0_1 7_2 0_3 9_4',\n",
       " '9_0 7_1 8_2 4_3 0_4',\n",
       " '7_0 7_1 6_2 8_3 8_4',\n",
       " '8_0 1_1 6_2 4_3 5_4',\n",
       " '9_0 8_1 6_2 4_3 9_4',\n",
       " '9_0 7_1 1_2 0_3 1_4',\n",
       " '9_0 9_1 9_2 4_3 1_4',\n",
       " '9_0 5_1 6_2 8_3 2_4',\n",
       " '8_0 6_1 3_2 2_3 8_4',\n",
       " '9_0 7_1 5_2 1_3 0_4',\n",
       " '9_0 0_1 1_2 1_3 5_4',\n",
       " '9_0 1_1 9_2 2_3 7_4',\n",
       " '9_0 2_1 4_2 4_3 5_4',\n",
       " '9_0 4_1 5_2 4_3 3_4',\n",
       " '9_0 0_1 1_2 9_3 4_4',\n",
       " '8_0 1_1 7_2 2_3 1_4',\n",
       " '9_0 2_1 3_2 0_3 9_4',\n",
       " '9_0 5_1 1_2 6_3 1_4',\n",
       " '9_0 9_1 4_2 3_3 1_4',\n",
       " '9_0 6_1 6_2 5_3 5_4',\n",
       " '9_0 8_1 3_2 7_3 0_4',\n",
       " '9_0 2_1 5_2 4_3 5_4',\n",
       " '9_0 8_1 8_2 5_3 5_4',\n",
       " '9_0 1_1 3_2 9_3 0_4',\n",
       " '9_0 8_1 0_2 1_3 8_4',\n",
       " '9_0 7_1 0_2 1_3 0_4',\n",
       " '9_0 6_1 1_2 4_3 2_4',\n",
       " '9_0 3_1 8_2 3_3 5_4',\n",
       " '9_0 6_1 9_2 8_3 0_4',\n",
       " '9_0 6_1 5_2 3_3 9_4',\n",
       " '9_0 7_1 7_2 2_3 9_4',\n",
       " '9_0 3_1 3_2 7_3 8_4',\n",
       " '9_0 1_1 0_2 9_3 8_4',\n",
       " '7_0 7_1 3_2 9_3 7_4',\n",
       " '9_0 9_1 1_2 6_3 6_4',\n",
       " '9_0 2_1 4_2 9_3 9_4',\n",
       " '9_0 8_1 0_2 8_3 4_4',\n",
       " '9_0 6_1 0_2 9_3 8_4',\n",
       " '8_0 5_1 8_2 3_3 3_4',\n",
       " '7_0 9_1 7_2 0_3 7_4',\n",
       " '9_0 9_1 3_2 9_3 1_4',\n",
       " '9_0 6_1 8_2 0_3 3_4',\n",
       " '8_0 3_1 3_2 0_3 8_4',\n",
       " '9_0 4_1 1_2 1_3 4_4',\n",
       " '9_0 7_1 8_2 0_3 9_4',\n",
       " '9_0 4_1 7_2 0_3 8_4',\n",
       " '9_0 6_1 1_2 0_3 6_4',\n",
       " '9_0 4_1 3_2 1_3 4_4',\n",
       " '9_0 9_1 9_2 9_3 2_4',\n",
       " '9_0 8_1 7_2 3_3 4_4',\n",
       " '9_0 2_1 6_2 9_3 1_4',\n",
       " '9_0 9_1 0_2 1_3 8_4',\n",
       " '9_0 7_1 3_2 6_3 1_4',\n",
       " '9_0 1_1 1_2 5_3 4_4',\n",
       " '9_0 4_1 0_2 1_3 3_4',\n",
       " '9_0 3_1 2_2 8_3 5_4',\n",
       " '9_0 0_1 3_2 0_3 7_4',\n",
       " '9_0 9_1 0_2 3_3 2_4',\n",
       " '9_0 2_1 0_2 3_3 4_4',\n",
       " '9_0 8_1 6_2 2_3 1_4',\n",
       " '9_0 9_1 9_2 1_3 7_4',\n",
       " '9_0 9_1 0_2 7_3 8_4',\n",
       " '9_0 9_1 4_2 8_3 8_4',\n",
       " '9_0 6_1 0_2 8_3 6_4',\n",
       " '9_0 1_1 8_2 3_3 6_4',\n",
       " '9_0 4_1 8_2 6_3 3_4',\n",
       " '9_0 6_1 5_2 2_3 8_4',\n",
       " '9_0 7_1 1_2 5_3 0_4',\n",
       " '9_0 6_1 0_2 7_3 3_4',\n",
       " '8_0 6_1 2_2 3_3 7_4',\n",
       " '9_0 3_1 8_2 8_3 6_4',\n",
       " '9_0 9_1 0_2 9_3 5_4',\n",
       " '9_0 6_1 5_2 6_3 8_4',\n",
       " '8_0 7_1 1_2 5_3 4_4',\n",
       " '9_0 3_1 2_2 8_3 1_4',\n",
       " '9_0 0_1 9_2 1_3 2_4',\n",
       " '9_0 3_1 0_2 7_3 8_4',\n",
       " '9_0 5_1 1_2 7_3 6_4',\n",
       " '9_0 7_1 8_2 5_3 3_4',\n",
       " '9_0 3_1 4_2 8_3 3_4',\n",
       " '9_0 5_1 4_2 1_3 5_4',\n",
       " '7_0 3_1 5_2 1_3 8_4',\n",
       " '9_0 8_1 8_2 1_3 8_4',\n",
       " '9_0 2_1 2_2 0_3 1_4',\n",
       " '9_0 7_1 1_2 6_3 5_4',\n",
       " '9_0 4_1 6_2 0_3 5_4',\n",
       " '9_0 6_1 6_2 3_3 0_4',\n",
       " '8_0 3_1 3_2 7_3 3_4',\n",
       " '9_0 5_1 7_2 7_3 8_4',\n",
       " '9_0 0_1 7_2 3_3 0_4',\n",
       " '7_0 2_1 4_2 1_3 2_4',\n",
       " '8_0 1_1 4_2 4_3 6_4',\n",
       " '9_0 6_1 4_2 8_3 0_4',\n",
       " '9_0 1_1 2_2 5_3 4_4',\n",
       " '9_0 1_1 1_2 8_3 8_4',\n",
       " '7_0 7_1 5_2 2_3 3_4',\n",
       " '9_0 0_1 2_2 4_3 6_4',\n",
       " '9_0 3_1 9_2 8_3 4_4',\n",
       " '9_0 2_1 8_2 2_3 6_4',\n",
       " '9_0 2_1 1_2 0_3 7_4',\n",
       " '8_0 7_1 2_2 2_3 0_4',\n",
       " '9_0 6_1 4_2 6_3 0_4',\n",
       " '9_0 4_1 8_2 7_3 6_4',\n",
       " '9_0 1_1 0_2 8_3 4_4',\n",
       " '8_0 4_1 9_2 5_3 6_4',\n",
       " '8_0 0_1 9_2 9_3 3_4',\n",
       " '9_0 5_1 8_2 1_3 6_4',\n",
       " '9_0 1_1 3_2 4_3 2_4',\n",
       " '9_0 6_1 9_2 5_3 4_4',\n",
       " '8_0 5_1 3_2 7_3 1_4',\n",
       " '9_0 4_1 8_2 2_3 4_4',\n",
       " '9_0 6_1 4_2 5_3 4_4',\n",
       " '9_0 3_1 2_2 4_3 0_4',\n",
       " '9_0 7_1 4_2 1_3 1_4',\n",
       " '9_0 4_1 8_2 7_3 2_4',\n",
       " '9_0 7_1 0_2 9_3 0_4',\n",
       " '9_0 5_1 6_2 3_3 3_4',\n",
       " '9_0 5_1 7_2 7_3 9_4',\n",
       " '9_0 3_1 4_2 0_3 8_4',\n",
       " '9_0 4_1 4_2 2_3 6_4',\n",
       " '9_0 0_1 2_2 6_3 0_4',\n",
       " '9_0 7_1 5_2 2_3 6_4',\n",
       " '9_0 8_1 7_2 1_3 5_4',\n",
       " '9_0 2_1 2_2 7_3 5_4',\n",
       " '9_0 5_1 2_2 0_3 1_4',\n",
       " '9_0 3_1 8_2 3_3 7_4',\n",
       " '9_0 0_1 7_2 6_3 0_4',\n",
       " '9_0 2_1 4_2 4_3 3_4',\n",
       " '9_0 0_1 6_2 1_3 0_4',\n",
       " '9_0 1_1 7_2 3_3 2_4',\n",
       " '7_0 1_1 3_2 9_3 7_4',\n",
       " '9_0 9_1 0_2 2_3 1_4',\n",
       " '9_0 5_1 2_2 8_3 0_4',\n",
       " '9_0 1_1 2_2 9_3 7_4',\n",
       " '9_0 9_1 4_2 9_3 0_4',\n",
       " '9_0 8_1 3_2 6_3 3_4',\n",
       " '9_0 5_1 2_2 9_3 7_4',\n",
       " '9_0 3_1 2_2 6_3 7_4',\n",
       " '9_0 4_1 6_2 6_3 7_4',\n",
       " '9_0 7_1 6_2 5_3 7_4',\n",
       " '9_0 0_1 9_2 3_3 6_4',\n",
       " '9_0 6_1 5_2 5_3 9_4',\n",
       " '9_0 1_1 0_2 1_3 5_4',\n",
       " '9_0 1_1 4_2 9_3 8_4',\n",
       " '9_0 9_1 8_2 5_3 2_4',\n",
       " '8_0 5_1 5_2 7_3 3_4',\n",
       " '9_0 5_1 2_2 1_3 2_4',\n",
       " '9_0 1_1 5_2 1_3 2_4',\n",
       " '9_0 6_1 8_2 2_3 8_4',\n",
       " '9_0 0_1 7_2 7_3 7_4',\n",
       " '9_0 7_1 5_2 8_3 1_4',\n",
       " '9_0 9_1 2_2 9_3 8_4',\n",
       " '7_0 1_1 7_2 1_3 5_4',\n",
       " '9_0 3_1 9_2 2_3 9_4',\n",
       " '9_0 3_1 2_2 8_3 5_4',\n",
       " '9_0 2_1 9_2 8_3 5_4',\n",
       " '9_0 0_1 3_2 1_3 6_4',\n",
       " '9_0 3_1 9_2 8_3 7_4',\n",
       " '9_0 2_1 4_2 6_3 1_4',\n",
       " '9_0 3_1 1_2 4_3 1_4',\n",
       " '9_0 8_1 4_2 0_3 6_4',\n",
       " '7_0 1_1 6_2 8_3 2_4',\n",
       " '9_0 7_1 1_2 7_3 2_4',\n",
       " '9_0 7_1 9_2 6_3 4_4',\n",
       " '9_0 4_1 1_2 5_3 0_4',\n",
       " '9_0 0_1 6_2 8_3 4_4',\n",
       " '9_0 4_1 2_2 6_3 2_4',\n",
       " '9_0 2_1 9_2 2_3 4_4',\n",
       " '9_0 3_1 8_2 2_3 4_4',\n",
       " '9_0 4_1 7_2 6_3 6_4',\n",
       " '9_0 3_1 7_2 1_3 5_4',\n",
       " '9_0 1_1 6_2 0_3 7_4',\n",
       " '9_0 0_1 7_2 1_3 6_4',\n",
       " '9_0 6_1 0_2 8_3 3_4',\n",
       " '8_0 3_1 7_2 0_3 5_4',\n",
       " '9_0 7_1 3_2 0_3 5_4',\n",
       " '8_0 0_1 0_2 4_3 4_4',\n",
       " '9_0 7_1 8_2 4_3 5_4',\n",
       " '9_0 9_1 4_2 9_3 6_4',\n",
       " '9_0 5_1 8_2 0_3 9_4',\n",
       " '9_0 2_1 4_2 2_3 2_4',\n",
       " '9_0 9_1 0_2 3_3 1_4',\n",
       " '9_0 8_1 2_2 0_3 4_4',\n",
       " '8_0 5_1 1_2 2_3 3_4',\n",
       " '9_0 5_1 1_2 7_3 1_4',\n",
       " '9_0 5_1 4_2 9_3 2_4',\n",
       " '9_0 4_1 5_2 8_3 6_4',\n",
       " '9_0 3_1 6_2 5_3 0_4',\n",
       " '9_0 0_1 8_2 1_3 0_4',\n",
       " '9_0 0_1 4_2 1_3 1_4',\n",
       " '9_0 7_1 6_2 0_3 8_4',\n",
       " '7_0 4_1 5_2 0_3 5_4',\n",
       " '9_0 9_1 9_2 4_3 9_4',\n",
       " '9_0 6_1 3_2 0_3 5_4',\n",
       " '8_0 6_1 2_2 9_3 8_4',\n",
       " '9_0 8_1 4_2 7_3 4_4',\n",
       " '8_0 2_1 1_2 7_3 5_4',\n",
       " '9_0 0_1 7_2 2_3 6_4',\n",
       " '9_0 5_1 0_2 1_3 3_4',\n",
       " '9_0 9_1 2_2 8_3 7_4',\n",
       " '9_0 5_1 1_2 7_3 6_4',\n",
       " '9_0 7_1 6_2 6_3 1_4',\n",
       " '9_0 1_1 6_2 1_3 0_4',\n",
       " '9_0 3_1 3_2 8_3 9_4',\n",
       " '9_0 9_1 9_2 2_3 3_4',\n",
       " '9_0 1_1 9_2 3_3 2_4',\n",
       " '9_0 0_1 4_2 5_3 9_4',\n",
       " '9_0 5_1 2_2 3_3 6_4',\n",
       " '9_0 3_1 3_2 4_3 9_4',\n",
       " '9_0 4_1 2_2 2_3 4_4',\n",
       " '9_0 4_1 8_2 4_3 2_4',\n",
       " '9_0 7_1 4_2 7_3 1_4',\n",
       " '9_0 8_1 8_2 0_3 4_4',\n",
       " '9_0 2_1 5_2 6_3 7_4',\n",
       " '9_0 4_1 6_2 8_3 1_4',\n",
       " '9_0 9_1 0_2 5_3 5_4',\n",
       " '9_0 6_1 5_2 3_3 8_4',\n",
       " '9_0 6_1 4_2 7_3 6_4',\n",
       " '9_0 5_1 9_2 5_3 4_4',\n",
       " '7_0 2_1 5_2 6_3 9_4',\n",
       " '8_0 9_1 9_2 4_3 2_4',\n",
       " '9_0 2_1 2_2 2_3 7_4',\n",
       " '9_0 3_1 6_2 6_3 1_4',\n",
       " '9_0 6_1 3_2 7_3 8_4',\n",
       " '9_0 5_1 6_2 6_3 6_4',\n",
       " '7_0 3_1 6_2 9_3 5_4',\n",
       " '9_0 3_1 3_2 4_3 7_4',\n",
       " '9_0 8_1 7_2 2_3 3_4',\n",
       " '9_0 3_1 7_2 9_3 3_4',\n",
       " '8_0 9_1 8_2 0_3 1_4',\n",
       " '9_0 0_1 0_2 1_3 3_4',\n",
       " '9_0 5_1 2_2 2_3 8_4',\n",
       " '9_0 3_1 8_2 6_3 7_4',\n",
       " '7_0 2_1 7_2 3_3 7_4',\n",
       " '9_0 8_1 7_2 4_3 7_4',\n",
       " '9_0 4_1 3_2 5_3 3_4',\n",
       " '9_0 0_1 1_2 2_3 4_4',\n",
       " '9_0 1_1 2_2 1_3 1_4',\n",
       " '9_0 8_1 1_2 9_3 4_4',\n",
       " '9_0 5_1 5_2 3_3 2_4',\n",
       " '9_0 5_1 8_2 4_3 1_4',\n",
       " '9_0 2_1 0_2 8_3 3_4',\n",
       " '9_0 8_1 8_2 6_3 9_4',\n",
       " '9_0 0_1 4_2 7_3 1_4',\n",
       " '7_0 2_1 2_2 5_3 1_4',\n",
       " '9_0 4_1 5_2 1_3 3_4',\n",
       " '9_0 5_1 5_2 3_3 6_4',\n",
       " '9_0 9_1 1_2 8_3 3_4',\n",
       " '9_0 0_1 1_2 4_3 8_4',\n",
       " '9_0 8_1 9_2 5_3 4_4',\n",
       " '9_0 5_1 5_2 9_3 4_4',\n",
       " '9_0 7_1 9_2 5_3 7_4',\n",
       " '9_0 4_1 4_2 7_3 8_4',\n",
       " '9_0 6_1 0_2 3_3 2_4',\n",
       " '9_0 0_1 4_2 4_3 9_4',\n",
       " '9_0 7_1 8_2 2_3 6_4',\n",
       " '9_0 9_1 0_2 5_3 1_4',\n",
       " '9_0 6_1 2_2 4_3 5_4',\n",
       " '9_0 5_1 7_2 4_3 3_4',\n",
       " '9_0 9_1 8_2 2_3 6_4',\n",
       " '9_0 6_1 3_2 1_3 5_4',\n",
       " '9_0 3_1 0_2 7_3 4_4',\n",
       " '8_0 7_1 5_2 9_3 1_4',\n",
       " '9_0 7_1 1_2 6_3 1_4',\n",
       " '9_0 8_1 9_2 3_3 3_4',\n",
       " '9_0 7_1 2_2 5_3 1_4',\n",
       " '9_0 2_1 0_2 2_3 2_4',\n",
       " '7_0 0_1 7_2 5_3 1_4',\n",
       " '8_0 6_1 5_2 3_3 0_4',\n",
       " '9_0 1_1 9_2 4_3 9_4',\n",
       " '9_0 1_1 0_2 6_3 7_4',\n",
       " '7_0 6_1 5_2 3_3 1_4',\n",
       " '9_0 5_1 0_2 1_3 0_4',\n",
       " '9_0 9_1 7_2 4_3 7_4',\n",
       " '7_0 7_1 0_2 3_3 1_4',\n",
       " '7_0 5_1 3_2 1_3 7_4',\n",
       " '9_0 2_1 5_2 2_3 1_4',\n",
       " '7_0 9_1 5_2 6_3 4_4',\n",
       " '9_0 4_1 1_2 7_3 9_4',\n",
       " '9_0 7_1 3_2 5_3 7_4',\n",
       " '8_0 5_1 2_2 6_3 8_4',\n",
       " '9_0 7_1 0_2 4_3 3_4',\n",
       " '9_0 2_1 3_2 3_3 7_4',\n",
       " '7_0 0_1 7_2 6_3 6_4',\n",
       " '9_0 9_1 9_2 0_3 3_4',\n",
       " '9_0 2_1 5_2 3_3 5_4',\n",
       " '8_0 1_1 2_2 1_3 8_4',\n",
       " '8_0 3_1 4_2 1_3 5_4',\n",
       " '9_0 8_1 4_2 2_3 9_4',\n",
       " '9_0 6_1 7_2 4_3 2_4',\n",
       " '9_0 2_1 9_2 0_3 9_4',\n",
       " '9_0 0_1 3_2 2_3 0_4',\n",
       " '8_0 6_1 5_2 4_3 8_4',\n",
       " '9_0 8_1 3_2 6_3 2_4',\n",
       " '9_0 4_1 4_2 9_3 6_4',\n",
       " '9_0 1_1 5_2 4_3 0_4',\n",
       " '9_0 5_1 3_2 2_3 9_4',\n",
       " '9_0 4_1 4_2 6_3 0_4',\n",
       " '9_0 1_1 6_2 3_3 0_4',\n",
       " '7_0 1_1 4_2 9_3 3_4',\n",
       " '9_0 5_1 4_2 4_3 0_4',\n",
       " '9_0 3_1 5_2 4_3 9_4',\n",
       " '9_0 4_1 5_2 5_3 5_4',\n",
       " '9_0 0_1 1_2 2_3 6_4',\n",
       " '9_0 8_1 4_2 6_3 7_4',\n",
       " '7_0 4_1 0_2 7_3 5_4',\n",
       " '7_0 1_1 1_2 7_3 3_4',\n",
       " '9_0 9_1 5_2 4_3 7_4',\n",
       " '9_0 6_1 5_2 6_3 6_4',\n",
       " '9_0 3_1 2_2 5_3 9_4',\n",
       " '9_0 1_1 9_2 1_3 9_4',\n",
       " '8_0 8_1 4_2 5_3 5_4',\n",
       " '9_0 1_1 2_2 3_3 0_4',\n",
       " '7_0 7_1 2_2 9_3 5_4',\n",
       " '9_0 0_1 6_2 4_3 4_4',\n",
       " '9_0 8_1 6_2 5_3 0_4',\n",
       " '9_0 0_1 8_2 2_3 2_4',\n",
       " '9_0 4_1 6_2 0_3 0_4',\n",
       " '9_0 4_1 4_2 8_3 3_4',\n",
       " '9_0 7_1 4_2 9_3 5_4',\n",
       " '9_0 0_1 3_2 6_3 1_4',\n",
       " '8_0 4_1 3_2 2_3 4_4',\n",
       " '9_0 5_1 0_2 8_3 6_4',\n",
       " '9_0 2_1 7_2 2_3 3_4',\n",
       " '7_0 1_1 6_2 5_3 2_4',\n",
       " '9_0 2_1 2_2 5_3 4_4',\n",
       " '9_0 0_1 6_2 4_3 8_4',\n",
       " '9_0 5_1 9_2 4_3 0_4',\n",
       " '9_0 9_1 1_2 1_3 3_4',\n",
       " '9_0 3_1 3_2 3_3 9_4',\n",
       " '9_0 8_1 5_2 2_3 6_4',\n",
       " '8_0 9_1 2_2 8_3 9_4',\n",
       " '9_0 3_1 2_2 1_3 9_4',\n",
       " '9_0 1_1 8_2 9_3 9_4',\n",
       " '9_0 6_1 3_2 1_3 1_4',\n",
       " '9_0 0_1 5_2 7_3 4_4',\n",
       " '9_0 3_1 7_2 6_3 8_4',\n",
       " '9_0 4_1 3_2 7_3 7_4',\n",
       " '9_0 5_1 3_2 5_3 9_4',\n",
       " '7_0 5_1 1_2 1_3 6_4',\n",
       " '9_0 2_1 8_2 4_3 6_4',\n",
       " '9_0 4_1 0_2 4_3 6_4',\n",
       " '9_0 4_1 6_2 7_3 1_4',\n",
       " '9_0 6_1 9_2 6_3 4_4',\n",
       " '8_0 5_1 8_2 1_3 5_4',\n",
       " '9_0 6_1 8_2 7_3 5_4',\n",
       " '9_0 8_1 1_2 7_3 5_4',\n",
       " '9_0 3_1 6_2 0_3 6_4',\n",
       " '9_0 6_1 0_2 0_3 3_4',\n",
       " '9_0 4_1 7_2 6_3 0_4',\n",
       " '9_0 6_1 2_2 4_3 5_4',\n",
       " '9_0 9_1 2_2 3_3 5_4',\n",
       " '9_0 1_1 7_2 8_3 3_4',\n",
       " '9_0 1_1 4_2 9_3 2_4',\n",
       " '7_0 6_1 7_2 8_3 2_4',\n",
       " '7_0 0_1 2_2 9_3 8_4',\n",
       " '9_0 9_1 0_2 3_3 1_4',\n",
       " '9_0 4_1 2_2 7_3 1_4',\n",
       " '9_0 8_1 2_2 1_3 5_4',\n",
       " '9_0 5_1 6_2 2_3 6_4',\n",
       " '9_0 5_1 2_2 6_3 7_4',\n",
       " '9_0 5_1 2_2 6_3 0_4',\n",
       " '9_0 3_1 4_2 4_3 9_4',\n",
       " '8_0 3_1 7_2 4_3 4_4',\n",
       " '9_0 2_1 4_2 9_3 8_4',\n",
       " '9_0 6_1 7_2 5_3 3_4',\n",
       " '9_0 1_1 3_2 0_3 8_4',\n",
       " '9_0 4_1 4_2 0_3 0_4',\n",
       " '9_0 2_1 0_2 2_3 6_4',\n",
       " '8_0 3_1 0_2 8_3 9_4',\n",
       " '8_0 8_1 0_2 0_3 0_4',\n",
       " '9_0 0_1 7_2 2_3 1_4',\n",
       " '9_0 8_1 1_2 7_3 2_4',\n",
       " '9_0 8_1 4_2 9_3 8_4',\n",
       " '9_0 2_1 4_2 3_3 1_4',\n",
       " '9_0 9_1 1_2 6_3 4_4',\n",
       " '9_0 1_1 2_2 4_3 1_4',\n",
       " '9_0 3_1 7_2 9_3 2_4',\n",
       " '9_0 5_1 3_2 4_3 9_4',\n",
       " '9_0 1_1 8_2 8_3 8_4',\n",
       " '7_0 5_1 2_2 8_3 9_4',\n",
       " '9_0 4_1 4_2 3_3 2_4',\n",
       " '9_0 6_1 4_2 6_3 3_4',\n",
       " '9_0 3_1 2_2 6_3 1_4',\n",
       " '9_0 0_1 6_2 4_3 2_4',\n",
       " '7_0 5_1 7_2 2_3 9_4',\n",
       " '9_0 4_1 9_2 3_3 3_4',\n",
       " '9_0 6_1 2_2 0_3 6_4',\n",
       " '9_0 9_1 3_2 7_3 7_4',\n",
       " '7_0 8_1 7_2 6_3 5_4',\n",
       " '9_0 1_1 1_2 9_3 8_4',\n",
       " '9_0 9_1 7_2 5_3 7_4',\n",
       " '9_0 6_1 9_2 3_3 1_4',\n",
       " '9_0 4_1 4_2 2_3 2_4',\n",
       " '9_0 6_1 0_2 2_3 1_4',\n",
       " '9_0 0_1 6_2 7_3 2_4',\n",
       " '9_0 4_1 4_2 2_3 5_4',\n",
       " '9_0 6_1 1_2 9_3 8_4',\n",
       " '9_0 9_1 0_2 4_3 4_4',\n",
       " '9_0 5_1 1_2 3_3 3_4',\n",
       " '9_0 9_1 1_2 2_3 9_4',\n",
       " '9_0 4_1 4_2 4_3 5_4',\n",
       " '9_0 4_1 5_2 0_3 6_4',\n",
       " '9_0 9_1 0_2 5_3 8_4',\n",
       " '9_0 0_1 6_2 2_3 2_4',\n",
       " '9_0 3_1 8_2 8_3 9_4',\n",
       " '9_0 6_1 8_2 3_3 2_4',\n",
       " '9_0 5_1 2_2 3_3 8_4',\n",
       " '8_0 7_1 8_2 4_3 1_4',\n",
       " '9_0 2_1 1_2 6_3 1_4',\n",
       " '7_0 4_1 2_2 7_3 9_4',\n",
       " '9_0 3_1 1_2 7_3 5_4',\n",
       " '9_0 5_1 8_2 2_3 7_4',\n",
       " '9_0 0_1 1_2 7_3 1_4',\n",
       " '9_0 7_1 2_2 5_3 3_4',\n",
       " '9_0 2_1 9_2 2_3 7_4',\n",
       " '9_0 1_1 6_2 0_3 1_4',\n",
       " '9_0 1_1 6_2 1_3 0_4',\n",
       " '9_0 4_1 2_2 1_3 8_4',\n",
       " '9_0 0_1 7_2 5_3 0_4',\n",
       " '9_0 1_1 4_2 9_3 6_4',\n",
       " '9_0 3_1 7_2 4_3 8_4',\n",
       " '8_0 0_1 5_2 6_3 8_4',\n",
       " '9_0 3_1 3_2 2_3 9_4',\n",
       " '9_0 4_1 4_2 0_3 8_4',\n",
       " '9_0 5_1 5_2 3_3 7_4',\n",
       " '9_0 4_1 6_2 2_3 5_4',\n",
       " '9_0 7_1 0_2 9_3 8_4',\n",
       " '7_0 7_1 4_2 2_3 9_4',\n",
       " '9_0 0_1 5_2 7_3 9_4',\n",
       " '9_0 0_1 4_2 6_3 6_4',\n",
       " '9_0 7_1 5_2 9_3 1_4',\n",
       " '9_0 1_1 6_2 5_3 4_4',\n",
       " '9_0 4_1 4_2 9_3 8_4',\n",
       " '9_0 9_1 9_2 4_3 2_4',\n",
       " '9_0 1_1 5_2 6_3 0_4',\n",
       " '8_0 8_1 4_2 4_3 9_4',\n",
       " '9_0 9_1 0_2 5_3 9_4',\n",
       " '9_0 3_1 9_2 1_3 0_4',\n",
       " '9_0 7_1 8_2 9_3 0_4',\n",
       " '9_0 5_1 6_2 9_3 9_4',\n",
       " '9_0 1_1 7_2 9_3 8_4',\n",
       " '9_0 7_1 2_2 2_3 8_4',\n",
       " '9_0 7_1 4_2 9_3 6_4',\n",
       " '9_0 2_1 2_2 6_3 6_4',\n",
       " '9_0 4_1 4_2 5_3 8_4',\n",
       " '9_0 3_1 0_2 1_3 6_4',\n",
       " '9_0 5_1 2_2 6_3 3_4',\n",
       " '9_0 2_1 5_2 7_3 9_4',\n",
       " '9_0 9_1 6_2 7_3 0_4',\n",
       " '9_0 9_1 0_2 3_3 6_4',\n",
       " '9_0 9_1 6_2 9_3 8_4',\n",
       " '9_0 9_1 2_2 5_3 0_4',\n",
       " '9_0 1_1 2_2 4_3 6_4',\n",
       " '9_0 9_1 0_2 6_3 7_4',\n",
       " '9_0 7_1 4_2 6_3 6_4',\n",
       " '8_0 3_1 5_2 7_3 5_4',\n",
       " '9_0 4_1 5_2 4_3 4_4',\n",
       " '9_0 6_1 9_2 7_3 0_4',\n",
       " '7_0 3_1 9_2 4_3 5_4',\n",
       " '9_0 0_1 2_2 1_3 7_4',\n",
       " '9_0 0_1 8_2 1_3 0_4',\n",
       " '9_0 6_1 0_2 7_3 8_4',\n",
       " '9_0 6_1 9_2 8_3 9_4',\n",
       " '7_0 3_1 5_2 8_3 4_4',\n",
       " '9_0 1_1 3_2 9_3 6_4',\n",
       " '9_0 3_1 1_2 5_3 8_4',\n",
       " '9_0 5_1 3_2 9_3 1_4',\n",
       " '9_0 7_1 0_2 9_3 1_4',\n",
       " '9_0 7_1 1_2 7_3 7_4',\n",
       " '9_0 5_1 0_2 2_3 6_4',\n",
       " '9_0 1_1 6_2 7_3 2_4',\n",
       " '9_0 0_1 3_2 2_3 0_4',\n",
       " '9_0 6_1 6_2 0_3 3_4',\n",
       " '9_0 3_1 9_2 1_3 5_4',\n",
       " '9_0 0_1 0_2 4_3 3_4',\n",
       " '9_0 8_1 9_2 8_3 4_4',\n",
       " '7_0 7_1 8_2 0_3 1_4',\n",
       " '7_0 7_1 8_2 6_3 6_4',\n",
       " '9_0 6_1 1_2 9_3 1_4',\n",
       " '9_0 5_1 3_2 3_3 1_4',\n",
       " '9_0 3_1 3_2 9_3 3_4',\n",
       " '9_0 6_1 8_2 9_3 9_4',\n",
       " '9_0 2_1 8_2 2_3 6_4',\n",
       " '9_0 9_1 4_2 3_3 0_4',\n",
       " '8_0 9_1 8_2 5_3 4_4',\n",
       " '8_0 2_1 6_2 6_3 0_4',\n",
       " '9_0 7_1 9_2 3_3 5_4',\n",
       " '9_0 7_1 8_2 6_3 8_4',\n",
       " '9_0 0_1 5_2 1_3 4_4',\n",
       " '9_0 6_1 9_2 8_3 3_4',\n",
       " '9_0 8_1 9_2 2_3 5_4',\n",
       " '9_0 9_1 8_2 0_3 1_4',\n",
       " '7_0 3_1 9_2 1_3 6_4',\n",
       " '9_0 8_1 4_2 5_3 1_4',\n",
       " '8_0 7_1 0_2 6_3 0_4',\n",
       " '9_0 5_1 2_2 1_3 2_4',\n",
       " '9_0 5_1 2_2 3_3 7_4',\n",
       " '9_0 4_1 1_2 4_3 5_4',\n",
       " '8_0 7_1 9_2 5_3 2_4',\n",
       " '9_0 1_1 7_2 7_3 8_4',\n",
       " '9_0 2_1 5_2 3_3 3_4',\n",
       " '9_0 7_1 2_2 8_3 8_4',\n",
       " '9_0 7_1 8_2 8_3 7_4',\n",
       " '9_0 4_1 7_2 7_3 4_4',\n",
       " '9_0 6_1 7_2 9_3 2_4',\n",
       " '9_0 9_1 5_2 0_3 2_4',\n",
       " '9_0 2_1 7_2 2_3 3_4',\n",
       " '9_0 0_1 8_2 2_3 8_4',\n",
       " '9_0 3_1 8_2 4_3 2_4',\n",
       " '9_0 3_1 3_2 7_3 7_4',\n",
       " '9_0 2_1 5_2 1_3 0_4',\n",
       " '7_0 9_1 5_2 7_3 2_4',\n",
       " '7_0 0_1 8_2 7_3 8_4',\n",
       " '9_0 8_1 6_2 1_3 5_4',\n",
       " '9_0 7_1 7_2 1_3 6_4',\n",
       " '9_0 2_1 9_2 9_3 3_4',\n",
       " '7_0 0_1 8_2 4_3 4_4',\n",
       " '9_0 8_1 2_2 8_3 1_4',\n",
       " '9_0 5_1 6_2 1_3 6_4',\n",
       " '8_0 4_1 8_2 0_3 7_4',\n",
       " '9_0 8_1 5_2 9_3 1_4',\n",
       " '8_0 1_1 4_2 9_3 0_4',\n",
       " '9_0 0_1 9_2 9_3 7_4',\n",
       " '9_0 0_1 9_2 3_3 4_4',\n",
       " '9_0 2_1 8_2 2_3 2_4',\n",
       " '9_0 7_1 4_2 0_3 9_4',\n",
       " '9_0 6_1 4_2 5_3 1_4',\n",
       " '9_0 8_1 6_2 6_3 3_4',\n",
       " '9_0 9_1 0_2 6_3 0_4',\n",
       " '9_0 6_1 7_2 0_3 6_4',\n",
       " '9_0 4_1 9_2 4_3 7_4',\n",
       " '9_0 8_1 6_2 0_3 6_4',\n",
       " '9_0 6_1 7_2 7_3 9_4',\n",
       " '9_0 0_1 6_2 9_3 0_4',\n",
       " '9_0 2_1 9_2 8_3 9_4',\n",
       " '9_0 4_1 0_2 7_3 0_4',\n",
       " '7_0 3_1 9_2 5_3 3_4',\n",
       " '9_0 1_1 2_2 2_3 3_4',\n",
       " '9_0 7_1 1_2 6_3 4_4',\n",
       " '7_0 5_1 5_2 4_3 8_4',\n",
       " '9_0 5_1 4_2 6_3 0_4',\n",
       " '9_0 2_1 9_2 9_3 4_4',\n",
       " '9_0 3_1 1_2 4_3 9_4',\n",
       " '9_0 5_1 1_2 6_3 2_4',\n",
       " '9_0 4_1 4_2 1_3 7_4',\n",
       " '9_0 4_1 1_2 6_3 0_4',\n",
       " '9_0 6_1 1_2 1_3 3_4',\n",
       " '9_0 6_1 6_2 0_3 8_4',\n",
       " '9_0 0_1 7_2 6_3 9_4',\n",
       " '7_0 2_1 5_2 2_3 9_4',\n",
       " '9_0 6_1 1_2 9_3 4_4',\n",
       " '7_0 4_1 9_2 9_3 2_4',\n",
       " '9_0 6_1 5_2 6_3 5_4',\n",
       " '9_0 9_1 9_2 2_3 3_4',\n",
       " '9_0 7_1 2_2 6_3 6_4',\n",
       " '9_0 2_1 5_2 7_3 8_4',\n",
       " '9_0 2_1 5_2 5_3 3_4',\n",
       " '9_0 3_1 7_2 1_3 5_4',\n",
       " '9_0 2_1 9_2 3_3 0_4',\n",
       " '9_0 8_1 2_2 5_3 1_4',\n",
       " '9_0 7_1 0_2 9_3 4_4',\n",
       " '7_0 0_1 1_2 0_3 6_4',\n",
       " '9_0 8_1 7_2 1_3 7_4',\n",
       " '9_0 1_1 2_2 6_3 3_4',\n",
       " '9_0 4_1 9_2 7_3 4_4',\n",
       " '9_0 1_1 8_2 5_3 9_4',\n",
       " '8_0 3_1 6_2 7_3 9_4',\n",
       " '8_0 6_1 2_2 6_3 7_4',\n",
       " '9_0 6_1 7_2 5_3 7_4',\n",
       " '9_0 7_1 2_2 9_3 5_4',\n",
       " '9_0 7_1 3_2 2_3 1_4',\n",
       " '9_0 3_1 8_2 3_3 6_4',\n",
       " '9_0 4_1 1_2 7_3 0_4',\n",
       " '9_0 4_1 1_2 6_3 8_4',\n",
       " '9_0 8_1 0_2 5_3 1_4',\n",
       " '9_0 2_1 1_2 5_3 0_4',\n",
       " '9_0 5_1 8_2 3_3 0_4',\n",
       " '9_0 5_1 7_2 0_3 9_4',\n",
       " '9_0 7_1 0_2 0_3 8_4',\n",
       " '8_0 7_1 0_2 8_3 4_4',\n",
       " '9_0 7_1 4_2 5_3 8_4',\n",
       " '9_0 3_1 2_2 6_3 7_4',\n",
       " '9_0 4_1 2_2 5_3 9_4',\n",
       " '9_0 3_1 5_2 7_3 5_4',\n",
       " '9_0 3_1 1_2 5_3 9_4',\n",
       " '9_0 8_1 6_2 7_3 2_4',\n",
       " '9_0 2_1 7_2 3_3 1_4',\n",
       " '8_0 2_1 3_2 8_3 8_4',\n",
       " '9_0 2_1 4_2 4_3 1_4',\n",
       " '9_0 0_1 3_2 8_3 2_4',\n",
       " '9_0 9_1 0_2 8_3 7_4',\n",
       " '9_0 6_1 5_2 2_3 2_4',\n",
       " '9_0 7_1 9_2 7_3 1_4',\n",
       " '9_0 8_1 3_2 3_3 0_4',\n",
       " '9_0 5_1 3_2 3_3 5_4',\n",
       " '9_0 6_1 5_2 5_3 9_4',\n",
       " '8_0 6_1 6_2 4_3 5_4',\n",
       " '9_0 5_1 4_2 3_3 0_4',\n",
       " '9_0 3_1 7_2 6_3 0_4',\n",
       " '9_0 0_1 5_2 2_3 1_4',\n",
       " '9_0 0_1 5_2 9_3 3_4',\n",
       " '9_0 1_1 6_2 2_3 4_4',\n",
       " '9_0 0_1 2_2 2_3 5_4',\n",
       " '9_0 7_1 9_2 5_3 3_4',\n",
       " '9_0 0_1 7_2 8_3 3_4',\n",
       " '9_0 1_1 3_2 2_3 7_4',\n",
       " '9_0 8_1 1_2 1_3 6_4',\n",
       " '8_0 4_1 8_2 8_3 2_4',\n",
       " '9_0 8_1 2_2 5_3 7_4',\n",
       " '9_0 5_1 8_2 0_3 9_4',\n",
       " '9_0 7_1 6_2 0_3 3_4',\n",
       " '9_0 0_1 9_2 5_3 1_4',\n",
       " '9_0 7_1 3_2 9_3 7_4',\n",
       " '7_0 0_1 7_2 2_3 9_4',\n",
       " '9_0 5_1 8_2 5_3 0_4',\n",
       " '9_0 5_1 5_2 7_3 5_4',\n",
       " '9_0 2_1 9_2 8_3 0_4',\n",
       " '9_0 9_1 6_2 0_3 8_4',\n",
       " '9_0 4_1 4_2 8_3 5_4',\n",
       " '9_0 2_1 2_2 2_3 3_4',\n",
       " '9_0 1_1 4_2 9_3 7_4',\n",
       " '9_0 4_1 4_2 3_3 9_4',\n",
       " '9_0 8_1 7_2 2_3 9_4',\n",
       " '7_0 9_1 7_2 2_3 9_4',\n",
       " '9_0 7_1 3_2 2_3 0_4',\n",
       " '7_0 6_1 4_2 6_3 9_4',\n",
       " '9_0 6_1 0_2 1_3 3_4',\n",
       " '9_0 6_1 6_2 7_3 3_4',\n",
       " '9_0 4_1 2_2 3_3 5_4',\n",
       " '7_0 7_1 2_2 7_3 2_4',\n",
       " '9_0 4_1 4_2 9_3 0_4',\n",
       " '9_0 0_1 1_2 9_3 9_4',\n",
       " '8_0 6_1 7_2 3_3 6_4',\n",
       " '9_0 9_1 1_2 8_3 4_4',\n",
       " '9_0 7_1 9_2 1_3 7_4',\n",
       " '9_0 0_1 8_2 8_3 8_4',\n",
       " '9_0 6_1 7_2 1_3 7_4',\n",
       " '8_0 0_1 8_2 5_3 7_4',\n",
       " '9_0 7_1 4_2 3_3 9_4',\n",
       " '8_0 9_1 5_2 2_3 5_4',\n",
       " '7_0 8_1 3_2 6_3 6_4',\n",
       " '9_0 6_1 2_2 4_3 4_4',\n",
       " '9_0 8_1 3_2 9_3 6_4',\n",
       " '9_0 3_1 5_2 0_3 7_4',\n",
       " '8_0 3_1 6_2 3_3 4_4',\n",
       " '9_0 5_1 9_2 5_3 8_4',\n",
       " '9_0 5_1 9_2 8_3 9_4',\n",
       " '9_0 1_1 6_2 3_3 6_4',\n",
       " '9_0 2_1 8_2 4_3 9_4',\n",
       " '8_0 3_1 2_2 6_3 1_4',\n",
       " '9_0 8_1 6_2 5_3 7_4',\n",
       " '9_0 5_1 7_2 8_3 9_4',\n",
       " '9_0 8_1 8_2 1_3 9_4',\n",
       " '9_0 5_1 8_2 9_3 8_4',\n",
       " '9_0 3_1 9_2 2_3 4_4',\n",
       " '9_0 1_1 4_2 9_3 8_4',\n",
       " '9_0 6_1 5_2 9_3 2_4',\n",
       " '9_0 3_1 5_2 9_3 2_4',\n",
       " '8_0 1_1 8_2 3_3 3_4',\n",
       " '9_0 9_1 9_2 5_3 0_4',\n",
       " '9_0 7_1 2_2 2_3 7_4',\n",
       " '8_0 8_1 6_2 2_3 7_4',\n",
       " '9_0 0_1 8_2 3_3 2_4',\n",
       " '9_0 8_1 6_2 8_3 1_4',\n",
       " '8_0 5_1 9_2 6_3 1_4',\n",
       " '7_0 8_1 4_2 0_3 5_4',\n",
       " '9_0 5_1 7_2 6_3 7_4',\n",
       " '9_0 7_1 1_2 2_3 7_4',\n",
       " '9_0 5_1 4_2 8_3 5_4',\n",
       " '7_0 6_1 2_2 0_3 6_4',\n",
       " '7_0 2_1 4_2 8_3 9_4',\n",
       " '9_0 1_1 2_2 5_3 6_4',\n",
       " '7_0 0_1 2_2 0_3 0_4',\n",
       " '7_0 1_1 1_2 0_3 9_4',\n",
       " '9_0 6_1 5_2 8_3 1_4',\n",
       " '9_0 8_1 3_2 9_3 3_4',\n",
       " '8_0 9_1 7_2 8_3 0_4',\n",
       " '9_0 2_1 1_2 6_3 2_4',\n",
       " '9_0 3_1 7_2 3_3 2_4',\n",
       " '9_0 6_1 2_2 0_3 3_4',\n",
       " '9_0 7_1 1_2 1_3 5_4',\n",
       " '9_0 1_1 0_2 8_3 7_4',\n",
       " '9_0 4_1 2_2 1_3 4_4',\n",
       " '9_0 3_1 8_2 2_3 0_4',\n",
       " '9_0 7_1 5_2 4_3 1_4',\n",
       " '9_0 1_1 8_2 4_3 0_4',\n",
       " '9_0 8_1 6_2 5_3 4_4',\n",
       " '9_0 1_1 0_2 2_3 4_4',\n",
       " '9_0 0_1 5_2 6_3 8_4',\n",
       " '9_0 5_1 0_2 7_3 9_4',\n",
       " '9_0 6_1 8_2 8_3 0_4',\n",
       " '9_0 0_1 6_2 9_3 1_4',\n",
       " '9_0 0_1 5_2 3_3 2_4',\n",
       " '9_0 3_1 5_2 7_3 0_4',\n",
       " '9_0 7_1 9_2 9_3 7_4',\n",
       " '9_0 4_1 0_2 0_3 4_4',\n",
       " '9_0 1_1 3_2 1_3 3_4',\n",
       " '9_0 5_1 7_2 1_3 1_4',\n",
       " '9_0 4_1 2_2 8_3 6_4',\n",
       " '9_0 3_1 8_2 3_3 4_4',\n",
       " '9_0 7_1 0_2 2_3 8_4',\n",
       " '7_0 4_1 0_2 0_3 6_4',\n",
       " '9_0 8_1 5_2 6_3 1_4',\n",
       " '9_0 8_1 4_2 2_3 0_4',\n",
       " '9_0 3_1 2_2 6_3 0_4',\n",
       " '8_0 8_1 8_2 3_3 2_4',\n",
       " '7_0 6_1 6_2 7_3 6_4',\n",
       " '9_0 8_1 1_2 0_3 1_4',\n",
       " '8_0 4_1 2_2 9_3 4_4',\n",
       " '9_0 2_1 6_2 3_3 7_4',\n",
       " '9_0 4_1 0_2 5_3 4_4',\n",
       " '9_0 1_1 3_2 1_3 8_4',\n",
       " '9_0 2_1 4_2 6_3 8_4',\n",
       " '9_0 8_1 7_2 4_3 9_4',\n",
       " '9_0 1_1 6_2 4_3 4_4',\n",
       " '8_0 5_1 2_2 6_3 9_4',\n",
       " '9_0 5_1 4_2 6_3 3_4',\n",
       " '9_0 3_1 0_2 8_3 8_4',\n",
       " '9_0 8_1 7_2 6_3 4_4',\n",
       " '9_0 5_1 8_2 6_3 2_4',\n",
       " '9_0 0_1 5_2 2_3 8_4',\n",
       " '9_0 5_1 6_2 6_3 0_4',\n",
       " '9_0 5_1 5_2 3_3 1_4',\n",
       " '7_0 8_1 4_2 5_3 8_4',\n",
       " '9_0 6_1 8_2 5_3 8_4',\n",
       " '9_0 4_1 7_2 0_3 4_4',\n",
       " '9_0 6_1 8_2 2_3 2_4',\n",
       " '9_0 6_1 2_2 6_3 2_4',\n",
       " '9_0 4_1 5_2 9_3 2_4',\n",
       " '9_0 1_1 7_2 6_3 3_4',\n",
       " '9_0 9_1 9_2 6_3 4_4',\n",
       " '9_0 9_1 1_2 6_3 9_4',\n",
       " '9_0 4_1 7_2 2_3 8_4',\n",
       " '8_0 8_1 4_2 4_3 9_4',\n",
       " '9_0 1_1 0_2 3_3 6_4',\n",
       " '9_0 2_1 0_2 7_3 6_4',\n",
       " '9_0 0_1 7_2 9_3 3_4',\n",
       " '9_0 3_1 9_2 0_3 8_4',\n",
       " '9_0 5_1 7_2 2_3 5_4',\n",
       " '7_0 5_1 9_2 4_3 3_4',\n",
       " '9_0 1_1 3_2 2_3 5_4',\n",
       " '8_0 9_1 6_2 6_3 7_4',\n",
       " '8_0 6_1 7_2 4_3 8_4',\n",
       " '9_0 6_1 7_2 4_3 6_4',\n",
       " '9_0 3_1 4_2 9_3 6_4',\n",
       " '9_0 1_1 8_2 6_3 0_4',\n",
       " '9_0 5_1 6_2 3_3 2_4',\n",
       " '9_0 3_1 6_2 1_3 7_4',\n",
       " '9_0 1_1 6_2 4_3 4_4',\n",
       " ...]"
      ]
     },
     "execution_count": 511,
     "metadata": {},
     "output_type": "execute_result"
    }
   ],
   "source": [
    "doc"
   ]
  },
  {
   "cell_type": "code",
   "execution_count": 514,
   "metadata": {},
   "outputs": [
    {
     "name": "stdout",
     "output_type": "stream",
     "text": [
      "['0_0', '0_1', '0_2', '0_3', '0_4', '1_0', '1_1', '1_2', '1_3', '1_4', '2_0', '2_1', '2_2', '2_3', '2_4', '3_1', '3_2', '3_3', '3_4', '4_1', '4_2', '4_3', '4_4', '5_1', '5_2', '5_3', '5_4', '6_1', '6_2', '6_3', '6_4', '7_0', '7_1', '7_2', '7_3', '7_4', '8_0', '8_1', '8_2', '8_3', '8_4', '9_0', '9_1', '9_2', '9_3', '9_4']\n",
      "[[0 0 0 ... 0 0 0]\n",
      " [0 0 0 ... 0 0 0]\n",
      " [0 0 0 ... 0 0 0]\n",
      " ...\n",
      " [1 0 0 ... 1 0 0]\n",
      " [1 0 0 ... 0 0 0]\n",
      " [1 0 0 ... 0 0 0]]\n"
     ]
    }
   ],
   "source": [
    "from sklearn.feature_extraction.text import CountVectorizer\n",
    "vectorizer = CountVectorizer()\n",
    "X = vectorizer.fit_transform(doc)\n",
    "print(vectorizer.get_feature_names())\n",
    "print(X.toarray()) \n",
    "data=X.toarray()"
   ]
  },
  {
   "cell_type": "code",
   "execution_count": 515,
   "metadata": {},
   "outputs": [
    {
     "data": {
      "image/png": "[encoded data removed]",
      "text/plain": [
       "<Figure size 432x288 with 1 Axes>"
      ]
     },
     "metadata": {
      "needs_background": "light"
     },
     "output_type": "display_data"
    }
   ],
   "source": [
    "########NMF#########\n",
    "re = {}\n",
    "for k in range(1, 10):\n",
    "    nmf = NMF(n_components=k, max_iter=1000).fit(data)\n",
    "    re[k] = nmf.reconstruction_err_  # Inertia: Sum of distances of samples to their closest cluster center\n",
    "plt.figure()\n",
    "plt.plot(list(re.keys()), list(re.values()))\n",
    "plt.xlabel(\"Number of cluster\")\n",
    "plt.ylabel(\"Reconstruction-error\")\n",
    "plt.show()"
   ]
  },
  {
   "cell_type": "code",
   "execution_count": 516,
   "metadata": {},
   "outputs": [
    {
     "data": {
      "image/png": "[encoded data removed]",
      "text/plain": [
       "<Figure size 432x288 with 1 Axes>"
      ]
     },
     "metadata": {
      "needs_background": "light"
     },
     "output_type": "display_data"
    }
   ],
   "source": [
    "#######Kmeans######\n",
    "####K-means for clustering#############\n",
    "####Elbow method for select best K#####\n",
    "from sklearn.cluster import KMeans\n",
    "import numpy as np\n",
    "import matplotlib.pyplot as plt\n",
    "sse = {}\n",
    "for k in range(1, 10):\n",
    "    kmeans = KMeans(n_clusters=k, max_iter=1000).fit(data)\n",
    "    #data1[\"pred_class\"] = kmeans.labels_\n",
    "    #print(data[\"clusters\"])\n",
    "    sse[k] = kmeans.inertia_ # Inertia: Sum of distances of samples to their closest cluster center\n",
    "plt.figure()\n",
    "plt.plot(list(sse.keys()), list(sse.values()))\n",
    "plt.xlabel(\"Number of cluster\")\n",
    "plt.ylabel(\"SSE\")\n",
    "plt.show()"
   ]
  },
  {
   "cell_type": "code",
   "execution_count": 518,
   "metadata": {},
   "outputs": [
    {
     "name": "stdout",
     "output_type": "stream",
     "text": [
      "[50.09510361 31.76682564 19.23499171 18.82119977 18.70593187 18.63154461\n",
      " 18.53714456 18.41318357 18.19023371 18.11053126 17.99869013 17.93896908\n",
      " 17.75919029 17.74345111 17.67845468 17.58136583 17.52135678 17.41747963\n",
      " 17.24923393 17.16863725]\n",
      "[0.02181117 0.07402963 0.0291508  0.02787826 0.02749544 0.02731663\n",
      " 0.02705821 0.02672608 0.02607823 0.02583065 0.02552432 0.02536708\n",
      " 0.02486131 0.02478455 0.024628   0.02435662 0.02419976 0.02390649\n",
      " 0.02342888 0.02319785]\n",
      "0.5576299624662133\n"
     ]
    }
   ],
   "source": [
    "from sklearn.decomposition import TruncatedSVD\n",
    "svd=TruncatedSVD(n_components=20,random_state=0)\n",
    "svd.fit(data)\n",
    "print(svd.singular_values_) \n",
    "print(svd.explained_variance_ratio_)\n",
    "print(svd.explained_variance_ratio_.sum()) "
   ]
  },
  {
   "cell_type": "code",
   "execution_count": 524,
   "metadata": {},
   "outputs": [
    {
     "data": {
      "text/plain": [
       "array([[0, 0, 0, ..., 0, 0, 0],\n",
       "       [0, 0, 0, ..., 0, 0, 0],\n",
       "       [0, 0, 0, ..., 0, 0, 0],\n",
       "       ...,\n",
       "       [1, 0, 0, ..., 1, 0, 0],\n",
       "       [1, 0, 0, ..., 0, 0, 0],\n",
       "       [1, 0, 0, ..., 0, 0, 0]], dtype=int64)"
      ]
     },
     "execution_count": 524,
     "metadata": {},
     "output_type": "execute_result"
    }
   ],
   "source": [
    "data"
   ]
  },
  {
   "cell_type": "code",
   "execution_count": null,
   "metadata": {},
   "outputs": [],
   "source": []
  }
 ],
 "metadata": {
  "kernelspec": {
   "display_name": "Python 3",
   "language": "python",
   "name": "python3"
  },
  "language_info": {
   "codemirror_mode": {
    "name": "ipython",
    "version": 3
   },
   "file_extension": ".py",
   "mimetype": "text/x-python",
   "name": "python",
   "nbconvert_exporter": "python",
   "pygments_lexer": "ipython3",
   "version": "3.7.3"
  }
 },
 "nbformat": 4,
 "nbformat_minor": 2
}
