{
 "cells": [
  {
   "cell_type": "code",
   "execution_count": 2,
   "metadata": {},
   "outputs": [
    {
     "name": "stdout",
     "output_type": "stream",
     "text": [
      "Requirement already satisfied: keras in /Users/lilywu/anaconda3/lib/python3.7/site-packages (2.2.4)\n",
      "Requirement already satisfied: six>=1.9.0 in /Users/lilywu/anaconda3/lib/python3.7/site-packages (from keras) (1.12.0)\n",
      "Requirement already satisfied: scipy>=0.14 in /Users/lilywu/anaconda3/lib/python3.7/site-packages (from keras) (1.2.1)\n",
      "Requirement already satisfied: h5py in /Users/lilywu/anaconda3/lib/python3.7/site-packages (from keras) (2.9.0)\n",
      "Requirement already satisfied: numpy>=1.9.1 in /Users/lilywu/anaconda3/lib/python3.7/site-packages (from keras) (1.17.0)\n",
      "Requirement already satisfied: keras-preprocessing>=1.0.5 in /Users/lilywu/anaconda3/lib/python3.7/site-packages (from keras) (1.1.0)\n",
      "Requirement already satisfied: pyyaml in /Users/lilywu/anaconda3/lib/python3.7/site-packages (from keras) (5.1)\n",
      "Requirement already satisfied: keras-applications>=1.0.6 in /Users/lilywu/anaconda3/lib/python3.7/site-packages (from keras) (1.0.8)\n",
      "Requirement already satisfied: mock in /Users/lilywu/anaconda3/lib/python3.7/site-packages (3.0.5)\n",
      "Requirement already satisfied: six in /Users/lilywu/anaconda3/lib/python3.7/site-packages (from mock) (1.12.0)\n",
      "Requirement already satisfied: typed-ast in /Users/lilywu/anaconda3/lib/python3.7/site-packages (1.4.0)\n",
      "Collecting tensorflow\n",
      "  Using cached https://files.pythonhosted.org/packages/ed/11/037887c5cbac5af3124050fb6348e67caa038734cc9673b11c31c8939072/tensorflow-1.14.0-cp37-cp37m-macosx_10_11_x86_64.whl\n",
      "Collecting absl-py>=0.7.0 (from tensorflow)\n",
      "Collecting grpcio>=1.8.6 (from tensorflow)\n",
      "  Using cached https://files.pythonhosted.org/packages/24/39/b9b64be086bb437c83d56b5a400b50360ccf683c476ad702836a39a4eefd/grpcio-1.22.0-cp37-cp37m-macosx_10_9_x86_64.whl\n",
      "Collecting protobuf>=3.6.1 (from tensorflow)\n",
      "  Using cached https://files.pythonhosted.org/packages/c5/3a/8a44dfc21ce42765c6a040bcb83646fa0fb7abfa157cc22cb837c2b1c1af/protobuf-3.9.0-cp37-cp37m-macosx_10_9_intel.macosx_10_9_x86_64.macosx_10_10_intel.macosx_10_10_x86_64.whl\n",
      "Collecting six>=1.10.0 (from tensorflow)\n",
      "  Using cached https://files.pythonhosted.org/packages/73/fb/00a976f728d0d1fecfe898238ce23f502a721c0ac0ecfedb80e0d88c64e9/six-1.12.0-py2.py3-none-any.whl\n",
      "Collecting tensorboard<1.15.0,>=1.14.0 (from tensorflow)\n",
      "  Using cached https://files.pythonhosted.org/packages/91/2d/2ed263449a078cd9c8a9ba50ebd50123adf1f8cfbea1492f9084169b89d9/tensorboard-1.14.0-py3-none-any.whl\n",
      "Collecting astor>=0.6.0 (from tensorflow)\n",
      "  Using cached https://files.pythonhosted.org/packages/d1/4f/950dfae467b384fc96bc6469de25d832534f6b4441033c39f914efd13418/astor-0.8.0-py2.py3-none-any.whl\n",
      "Collecting keras-preprocessing>=1.0.5 (from tensorflow)\n",
      "  Using cached https://files.pythonhosted.org/packages/28/6a/8c1f62c37212d9fc441a7e26736df51ce6f0e38455816445471f10da4f0a/Keras_Preprocessing-1.1.0-py2.py3-none-any.whl\n",
      "Collecting tensorflow-estimator<1.15.0rc0,>=1.14.0rc0 (from tensorflow)\n",
      "  Using cached https://files.pythonhosted.org/packages/3c/d5/21860a5b11caf0678fbc8319341b0ae21a07156911132e0e71bffed0510d/tensorflow_estimator-1.14.0-py2.py3-none-any.whl\n",
      "Collecting keras-applications>=1.0.6 (from tensorflow)\n",
      "  Using cached https://files.pythonhosted.org/packages/71/e3/19762fdfc62877ae9102edf6342d71b28fbfd9dea3d2f96a882ce099b03f/Keras_Applications-1.0.8-py3-none-any.whl\n",
      "Collecting numpy<2.0,>=1.14.5 (from tensorflow)\n",
      "  Using cached https://files.pythonhosted.org/packages/c1/4b/78119133136c20e5ad2e01bf72b0633241defd619939908223cd394a9c32/numpy-1.17.0-cp37-cp37m-macosx_10_6_intel.macosx_10_9_intel.macosx_10_9_x86_64.macosx_10_10_intel.macosx_10_10_x86_64.whl\n",
      "Collecting wheel>=0.26 (from tensorflow)\n",
      "  Using cached https://files.pythonhosted.org/packages/bb/10/44230dd6bf3563b8f227dbf344c908d412ad2ff48066476672f3a72e174e/wheel-0.33.4-py2.py3-none-any.whl\n",
      "Collecting gast>=0.2.0 (from tensorflow)\n",
      "Collecting termcolor>=1.1.0 (from tensorflow)\n",
      "Collecting google-pasta>=0.1.6 (from tensorflow)\n",
      "  Using cached https://files.pythonhosted.org/packages/d0/33/376510eb8d6246f3c30545f416b2263eee461e40940c2a4413c711bdf62d/google_pasta-0.1.7-py3-none-any.whl\n",
      "Collecting wrapt>=1.11.1 (from tensorflow)\n",
      "Collecting setuptools (from protobuf>=3.6.1->tensorflow)\n",
      "  Using cached https://files.pythonhosted.org/packages/ec/51/f45cea425fd5cb0b0380f5b0f048ebc1da5b417e48d304838c02d6288a1e/setuptools-41.0.1-py2.py3-none-any.whl\n",
      "Collecting markdown>=2.6.8 (from tensorboard<1.15.0,>=1.14.0->tensorflow)\n",
      "  Using cached https://files.pythonhosted.org/packages/c0/4e/fd492e91abdc2d2fcb70ef453064d980688762079397f779758e055f6575/Markdown-3.1.1-py2.py3-none-any.whl\n",
      "Collecting werkzeug>=0.11.15 (from tensorboard<1.15.0,>=1.14.0->tensorflow)\n",
      "  Using cached https://files.pythonhosted.org/packages/d1/ab/d3bed6b92042622d24decc7aadc8877badf18aeca1571045840ad4956d3f/Werkzeug-0.15.5-py2.py3-none-any.whl\n",
      "Collecting h5py (from keras-applications>=1.0.6->tensorflow)\n",
      "  Using cached https://files.pythonhosted.org/packages/80/c5/eec74d7324628f1b640c6e706981c4ed51afcaa1656ece26cb08d862598e/h5py-2.9.0-cp37-cp37m-macosx_10_6_intel.macosx_10_9_intel.macosx_10_9_x86_64.macosx_10_10_intel.macosx_10_10_x86_64.whl\n",
      "Installing collected packages: six, absl-py, grpcio, setuptools, protobuf, markdown, werkzeug, wheel, numpy, tensorboard, astor, keras-preprocessing, tensorflow-estimator, h5py, keras-applications, gast, termcolor, google-pasta, wrapt, tensorflow\n",
      "Successfully installed absl-py-0.7.1 astor-0.8.0 gast-0.2.2 google-pasta-0.1.7 grpcio-1.22.0 h5py-2.9.0 keras-applications-1.0.8 keras-preprocessing-1.1.0 markdown-3.1.1 numpy-1.17.0 protobuf-3.9.0 setuptools-41.0.1 six-1.12.0 tensorboard-1.14.0 tensorflow-1.14.0 tensorflow-estimator-1.14.0 termcolor-1.1.0 werkzeug-0.15.5 wheel-0.33.4 wrapt-1.11.2\n",
      "Requirement already satisfied: gensim in /Users/lilywu/anaconda3/lib/python3.7/site-packages (3.8.0)\n",
      "Requirement already satisfied: six>=1.5.0 in /Users/lilywu/anaconda3/lib/python3.7/site-packages (from gensim) (1.12.0)\n",
      "Requirement already satisfied: smart-open>=1.7.0 in /Users/lilywu/anaconda3/lib/python3.7/site-packages (from gensim) (1.8.4)\n",
      "Requirement already satisfied: numpy>=1.11.3 in /Users/lilywu/anaconda3/lib/python3.7/site-packages (from gensim) (1.17.0)\n",
      "Requirement already satisfied: scipy>=0.18.1 in /Users/lilywu/anaconda3/lib/python3.7/site-packages (from gensim) (1.2.1)\n",
      "Requirement already satisfied: boto>=2.32 in /Users/lilywu/anaconda3/lib/python3.7/site-packages (from smart-open>=1.7.0->gensim) (2.49.0)\n",
      "Requirement already satisfied: requests in /Users/lilywu/anaconda3/lib/python3.7/site-packages (from smart-open>=1.7.0->gensim) (2.21.0)\n",
      "Requirement already satisfied: boto3 in /Users/lilywu/anaconda3/lib/python3.7/site-packages (from smart-open>=1.7.0->gensim) (1.9.199)\n",
      "Requirement already satisfied: urllib3<1.25,>=1.21.1 in /Users/lilywu/anaconda3/lib/python3.7/site-packages (from requests->smart-open>=1.7.0->gensim) (1.24.1)\n",
      "Requirement already satisfied: chardet<3.1.0,>=3.0.2 in /Users/lilywu/anaconda3/lib/python3.7/site-packages (from requests->smart-open>=1.7.0->gensim) (3.0.4)\n",
      "Requirement already satisfied: certifi>=2017.4.17 in /Users/lilywu/anaconda3/lib/python3.7/site-packages (from requests->smart-open>=1.7.0->gensim) (2019.3.9)\n",
      "Requirement already satisfied: idna<2.9,>=2.5 in /Users/lilywu/anaconda3/lib/python3.7/site-packages (from requests->smart-open>=1.7.0->gensim) (2.8)\n",
      "Requirement already satisfied: botocore<1.13.0,>=1.12.199 in /Users/lilywu/anaconda3/lib/python3.7/site-packages (from boto3->smart-open>=1.7.0->gensim) (1.12.199)\n",
      "Requirement already satisfied: jmespath<1.0.0,>=0.7.1 in /Users/lilywu/anaconda3/lib/python3.7/site-packages (from boto3->smart-open>=1.7.0->gensim) (0.9.4)\n",
      "Requirement already satisfied: s3transfer<0.3.0,>=0.2.0 in /Users/lilywu/anaconda3/lib/python3.7/site-packages (from boto3->smart-open>=1.7.0->gensim) (0.2.1)\n",
      "Requirement already satisfied: docutils<0.15,>=0.10 in /Users/lilywu/anaconda3/lib/python3.7/site-packages (from botocore<1.13.0,>=1.12.199->boto3->smart-open>=1.7.0->gensim) (0.14)\n",
      "Requirement already satisfied: python-dateutil<3.0.0,>=2.1; python_version >= \"2.7\" in /Users/lilywu/anaconda3/lib/python3.7/site-packages (from botocore<1.13.0,>=1.12.199->boto3->smart-open>=1.7.0->gensim) (2.8.0)\n"
     ]
    },
    {
     "name": "stdout",
     "output_type": "stream",
     "text": [
      "Requirement already up-to-date: scikit-learn in /Users/lilywu/anaconda3/lib/python3.7/site-packages (0.21.3)\r\n",
      "Requirement already satisfied, skipping upgrade: numpy>=1.11.0 in /Users/lilywu/anaconda3/lib/python3.7/site-packages (from scikit-learn) (1.17.0)\r\n",
      "Requirement already satisfied, skipping upgrade: scipy>=0.17.0 in /Users/lilywu/anaconda3/lib/python3.7/site-packages (from scikit-learn) (1.2.1)\r\n",
      "Requirement already satisfied, skipping upgrade: joblib>=0.11 in /Users/lilywu/anaconda3/lib/python3.7/site-packages (from scikit-learn) (0.13.2)\r\n"
     ]
    }
   ],
   "source": [
    "%matplotlib inline\n",
    "!pip install keras\n",
    "!pip install mock\n",
    "!pip install typed-ast\n",
    "!pip install tensorflow --ignore-installed\n",
    "!pip install gensim\n",
    "!pip install -U scikit-learn"
   ]
  },
  {
   "cell_type": "code",
   "execution_count": 3,
   "metadata": {},
   "outputs": [
    {
     "name": "stderr",
     "output_type": "stream",
     "text": [
      "Using TensorFlow backend.\n",
      "/Users/lilywu/anaconda3/lib/python3.7/site-packages/tensorflow/python/framework/dtypes.py:516: FutureWarning: Passing (type, 1) or '1type' as a synonym of type is deprecated; in a future version of numpy, it will be understood as (type, (1,)) / '(1,)type'.\n",
      "  _np_qint8 = np.dtype([(\"qint8\", np.int8, 1)])\n",
      "/Users/lilywu/anaconda3/lib/python3.7/site-packages/tensorflow/python/framework/dtypes.py:517: FutureWarning: Passing (type, 1) or '1type' as a synonym of type is deprecated; in a future version of numpy, it will be understood as (type, (1,)) / '(1,)type'.\n",
      "  _np_quint8 = np.dtype([(\"quint8\", np.uint8, 1)])\n",
      "/Users/lilywu/anaconda3/lib/python3.7/site-packages/tensorflow/python/framework/dtypes.py:518: FutureWarning: Passing (type, 1) or '1type' as a synonym of type is deprecated; in a future version of numpy, it will be understood as (type, (1,)) / '(1,)type'.\n",
      "  _np_qint16 = np.dtype([(\"qint16\", np.int16, 1)])\n",
      "/Users/lilywu/anaconda3/lib/python3.7/site-packages/tensorflow/python/framework/dtypes.py:519: FutureWarning: Passing (type, 1) or '1type' as a synonym of type is deprecated; in a future version of numpy, it will be understood as (type, (1,)) / '(1,)type'.\n",
      "  _np_quint16 = np.dtype([(\"quint16\", np.uint16, 1)])\n",
      "/Users/lilywu/anaconda3/lib/python3.7/site-packages/tensorflow/python/framework/dtypes.py:520: FutureWarning: Passing (type, 1) or '1type' as a synonym of type is deprecated; in a future version of numpy, it will be understood as (type, (1,)) / '(1,)type'.\n",
      "  _np_qint32 = np.dtype([(\"qint32\", np.int32, 1)])\n",
      "/Users/lilywu/anaconda3/lib/python3.7/site-packages/tensorflow/python/framework/dtypes.py:525: FutureWarning: Passing (type, 1) or '1type' as a synonym of type is deprecated; in a future version of numpy, it will be understood as (type, (1,)) / '(1,)type'.\n",
      "  np_resource = np.dtype([(\"resource\", np.ubyte, 1)])\n",
      "/Users/lilywu/anaconda3/lib/python3.7/site-packages/tensorboard/compat/tensorflow_stub/dtypes.py:541: FutureWarning: Passing (type, 1) or '1type' as a synonym of type is deprecated; in a future version of numpy, it will be understood as (type, (1,)) / '(1,)type'.\n",
      "  _np_qint8 = np.dtype([(\"qint8\", np.int8, 1)])\n",
      "/Users/lilywu/anaconda3/lib/python3.7/site-packages/tensorboard/compat/tensorflow_stub/dtypes.py:542: FutureWarning: Passing (type, 1) or '1type' as a synonym of type is deprecated; in a future version of numpy, it will be understood as (type, (1,)) / '(1,)type'.\n",
      "  _np_quint8 = np.dtype([(\"quint8\", np.uint8, 1)])\n",
      "/Users/lilywu/anaconda3/lib/python3.7/site-packages/tensorboard/compat/tensorflow_stub/dtypes.py:543: FutureWarning: Passing (type, 1) or '1type' as a synonym of type is deprecated; in a future version of numpy, it will be understood as (type, (1,)) / '(1,)type'.\n",
      "  _np_qint16 = np.dtype([(\"qint16\", np.int16, 1)])\n",
      "/Users/lilywu/anaconda3/lib/python3.7/site-packages/tensorboard/compat/tensorflow_stub/dtypes.py:544: FutureWarning: Passing (type, 1) or '1type' as a synonym of type is deprecated; in a future version of numpy, it will be understood as (type, (1,)) / '(1,)type'.\n",
      "  _np_quint16 = np.dtype([(\"quint16\", np.uint16, 1)])\n",
      "/Users/lilywu/anaconda3/lib/python3.7/site-packages/tensorboard/compat/tensorflow_stub/dtypes.py:545: FutureWarning: Passing (type, 1) or '1type' as a synonym of type is deprecated; in a future version of numpy, it will be understood as (type, (1,)) / '(1,)type'.\n",
      "  _np_qint32 = np.dtype([(\"qint32\", np.int32, 1)])\n",
      "/Users/lilywu/anaconda3/lib/python3.7/site-packages/tensorboard/compat/tensorflow_stub/dtypes.py:550: FutureWarning: Passing (type, 1) or '1type' as a synonym of type is deprecated; in a future version of numpy, it will be understood as (type, (1,)) / '(1,)type'.\n",
      "  np_resource = np.dtype([(\"resource\", np.ubyte, 1)])\n"
     ]
    }
   ],
   "source": [
    "import pandas as pd\n",
    "import numpy as np\n",
    "#import tensorflow as tf\n",
    "\n",
    "from keras import optimizers, Sequential\n",
    "from keras.models import Model\n",
    "from keras.utils import plot_model\n",
    "from keras.layers import Dense, LSTM, RepeatVector, TimeDistributed\n",
    "from keras.callbacks import TensorBoard\n",
    "from sklearn.preprocessing import StandardScaler\n",
    "from sklearn.model_selection import train_test_split\n",
    "\n",
    "import matplotlib.pyplot as plt\n",
    "import seaborn as sns"
   ]
  },
  {
   "cell_type": "code",
   "execution_count": 4,
   "metadata": {},
   "outputs": [],
   "source": [
    "df=[pd.read_pickle(\"/Users/lilywu/NLPProject2019/NLP-paper-master/data/data_y%d.pickle\" %i) for i in range(3)]"
   ]
  },
  {
   "cell_type": "code",
   "execution_count": 5,
   "metadata": {},
   "outputs": [],
   "source": [
    "df=pd.concat(df)"
   ]
  },
  {
   "cell_type": "code",
   "execution_count": 6,
   "metadata": {},
   "outputs": [
    {
     "data": {
      "text/html": [
       "<div>\n",
       "<style scoped>\n",
       "    .dataframe tbody tr th:only-of-type {\n",
       "        vertical-align: middle;\n",
       "    }\n",
       "\n",
       "    .dataframe tbody tr th {\n",
       "        vertical-align: top;\n",
       "    }\n",
       "\n",
       "    .dataframe thead th {\n",
       "        text-align: right;\n",
       "    }\n",
       "</style>\n",
       "<table border=\"1\" class=\"dataframe\">\n",
       "  <thead>\n",
       "    <tr style=\"text-align: right;\">\n",
       "      <th></th>\n",
       "      <th>X0</th>\n",
       "      <th>X1</th>\n",
       "      <th>X2</th>\n",
       "      <th>X3</th>\n",
       "      <th>X4</th>\n",
       "      <th>X5</th>\n",
       "      <th>X6</th>\n",
       "      <th>X7</th>\n",
       "      <th>X8</th>\n",
       "      <th>X9</th>\n",
       "      <th>...</th>\n",
       "      <th>X15</th>\n",
       "      <th>X16</th>\n",
       "      <th>X17</th>\n",
       "      <th>X18</th>\n",
       "      <th>X19</th>\n",
       "      <th>X20</th>\n",
       "      <th>X21</th>\n",
       "      <th>X22</th>\n",
       "      <th>X23</th>\n",
       "      <th>X24</th>\n",
       "    </tr>\n",
       "  </thead>\n",
       "  <tbody>\n",
       "    <tr>\n",
       "      <th>0</th>\n",
       "      <td>0</td>\n",
       "      <td>0</td>\n",
       "      <td>3</td>\n",
       "      <td>10.152628</td>\n",
       "      <td>0</td>\n",
       "      <td>0</td>\n",
       "      <td>0</td>\n",
       "      <td>0</td>\n",
       "      <td>0</td>\n",
       "      <td>0</td>\n",
       "      <td>...</td>\n",
       "      <td>0</td>\n",
       "      <td>0</td>\n",
       "      <td>0</td>\n",
       "      <td>0</td>\n",
       "      <td>0</td>\n",
       "      <td>0</td>\n",
       "      <td>0</td>\n",
       "      <td>0</td>\n",
       "      <td>0</td>\n",
       "      <td>09</td>\n",
       "    </tr>\n",
       "    <tr>\n",
       "      <th>1</th>\n",
       "      <td>0</td>\n",
       "      <td>0</td>\n",
       "      <td>3</td>\n",
       "      <td>3.433987</td>\n",
       "      <td>0</td>\n",
       "      <td>0</td>\n",
       "      <td>0</td>\n",
       "      <td>0</td>\n",
       "      <td>0</td>\n",
       "      <td>1</td>\n",
       "      <td>...</td>\n",
       "      <td>1</td>\n",
       "      <td>1</td>\n",
       "      <td>0</td>\n",
       "      <td>1</td>\n",
       "      <td>9999</td>\n",
       "      <td>1</td>\n",
       "      <td>9999</td>\n",
       "      <td>9999</td>\n",
       "      <td>9999</td>\n",
       "      <td>09</td>\n",
       "    </tr>\n",
       "    <tr>\n",
       "      <th>2</th>\n",
       "      <td>1</td>\n",
       "      <td>1</td>\n",
       "      <td>3</td>\n",
       "      <td>11.075768</td>\n",
       "      <td>0</td>\n",
       "      <td>0</td>\n",
       "      <td>0</td>\n",
       "      <td>0</td>\n",
       "      <td>0</td>\n",
       "      <td>2</td>\n",
       "      <td>...</td>\n",
       "      <td>1</td>\n",
       "      <td>1</td>\n",
       "      <td>0</td>\n",
       "      <td>2</td>\n",
       "      <td>2</td>\n",
       "      <td>2</td>\n",
       "      <td>2</td>\n",
       "      <td>9999</td>\n",
       "      <td>2</td>\n",
       "      <td>09</td>\n",
       "    </tr>\n",
       "  </tbody>\n",
       "</table>\n",
       "<p>3 rows × 25 columns</p>\n",
       "</div>"
      ],
      "text/plain": [
       "   X0  X1  X2         X3  X4  X5  X6  X7  X8  X9  ...  X15  X16  X17  X18  \\\n",
       "0   0   0   3  10.152628   0   0   0   0   0   0  ...    0    0    0    0   \n",
       "1   0   0   3   3.433987   0   0   0   0   0   1  ...    1    1    0    1   \n",
       "2   1   1   3  11.075768   0   0   0   0   0   2  ...    1    1    0    2   \n",
       "\n",
       "    X19  X20   X21   X22   X23  X24  \n",
       "0     0    0     0     0     0   09  \n",
       "1  9999    1  9999  9999  9999   09  \n",
       "2     2    2     2  9999     2   09  \n",
       "\n",
       "[3 rows x 25 columns]"
      ]
     },
     "execution_count": 6,
     "metadata": {},
     "output_type": "execute_result"
    }
   ],
   "source": [
    "df.head(3)"
   ]
  },
  {
   "cell_type": "code",
   "execution_count": 7,
   "metadata": {},
   "outputs": [
    {
     "data": {
      "text/plain": [
       "(223143, 25)"
      ]
     },
     "execution_count": 7,
     "metadata": {},
     "output_type": "execute_result"
    }
   ],
   "source": [
    "df.shape"
   ]
  },
  {
   "cell_type": "code",
   "execution_count": 8,
   "metadata": {},
   "outputs": [],
   "source": [
    "ratio=[df[df[col]==9999].shape[0]/len(df) for col in df.columns]"
   ]
  },
  {
   "cell_type": "code",
   "execution_count": 9,
   "metadata": {},
   "outputs": [
    {
     "data": {
      "text/plain": [
       "['X12', 'X13', 'X14', 'X15', 'X16', 'X17', 'X19', 'X21', 'X22', 'X23']"
      ]
     },
     "execution_count": 9,
     "metadata": {},
     "output_type": "execute_result"
    }
   ],
   "source": [
    "drop_col=['X'+str(idx) for idx, value in enumerate(ratio) if value>=0.2];drop_col"
   ]
  },
  {
   "cell_type": "code",
   "execution_count": null,
   "metadata": {},
   "outputs": [
    {
     "data": {
      "text/html": [
       "<div>\n",
       "<style scoped>\n",
       "    .dataframe tbody tr th:only-of-type {\n",
       "        vertical-align: middle;\n",
       "    }\n",
       "\n",
       "    .dataframe tbody tr th {\n",
       "        vertical-align: top;\n",
       "    }\n",
       "\n",
       "    .dataframe thead th {\n",
       "        text-align: right;\n",
       "    }\n",
       "</style>\n",
       "<table border=\"1\" class=\"dataframe\">\n",
       "  <thead>\n",
       "    <tr style=\"text-align: right;\">\n",
       "      <th></th>\n",
       "      <th>X0</th>\n",
       "      <th>X1</th>\n",
       "      <th>X2</th>\n",
       "      <th>X3</th>\n",
       "      <th>X4</th>\n",
       "      <th>X5</th>\n",
       "      <th>X6</th>\n",
       "      <th>X7</th>\n",
       "      <th>X8</th>\n",
       "      <th>X9</th>\n",
       "      <th>...</th>\n",
       "      <th>X15</th>\n",
       "      <th>X16</th>\n",
       "      <th>X17</th>\n",
       "      <th>X18</th>\n",
       "      <th>X19</th>\n",
       "      <th>X20</th>\n",
       "      <th>X21</th>\n",
       "      <th>X22</th>\n",
       "      <th>X23</th>\n",
       "      <th>X24</th>\n",
       "    </tr>\n",
       "  </thead>\n",
       "  <tbody>\n",
       "    <tr>\n",
       "      <th>0</th>\n",
       "      <td>0</td>\n",
       "      <td>0</td>\n",
       "      <td>3</td>\n",
       "      <td>10.152628</td>\n",
       "      <td>0</td>\n",
       "      <td>0</td>\n",
       "      <td>0</td>\n",
       "      <td>0</td>\n",
       "      <td>0</td>\n",
       "      <td>0</td>\n",
       "      <td>...</td>\n",
       "      <td>0</td>\n",
       "      <td>0</td>\n",
       "      <td>0</td>\n",
       "      <td>0</td>\n",
       "      <td>0</td>\n",
       "      <td>0</td>\n",
       "      <td>0</td>\n",
       "      <td>0</td>\n",
       "      <td>0</td>\n",
       "      <td>09</td>\n",
       "    </tr>\n",
       "    <tr>\n",
       "      <th>1</th>\n",
       "      <td>0</td>\n",
       "      <td>0</td>\n",
       "      <td>3</td>\n",
       "      <td>3.433987</td>\n",
       "      <td>0</td>\n",
       "      <td>0</td>\n",
       "      <td>0</td>\n",
       "      <td>0</td>\n",
       "      <td>0</td>\n",
       "      <td>1</td>\n",
       "      <td>...</td>\n",
       "      <td>1</td>\n",
       "      <td>1</td>\n",
       "      <td>0</td>\n",
       "      <td>1</td>\n",
       "      <td>9999</td>\n",
       "      <td>1</td>\n",
       "      <td>9999</td>\n",
       "      <td>9999</td>\n",
       "      <td>9999</td>\n",
       "      <td>09</td>\n",
       "    </tr>\n",
       "    <tr>\n",
       "      <th>2</th>\n",
       "      <td>1</td>\n",
       "      <td>1</td>\n",
       "      <td>3</td>\n",
       "      <td>11.075768</td>\n",
       "      <td>0</td>\n",
       "      <td>0</td>\n",
       "      <td>0</td>\n",
       "      <td>0</td>\n",
       "      <td>0</td>\n",
       "      <td>2</td>\n",
       "      <td>...</td>\n",
       "      <td>1</td>\n",
       "      <td>1</td>\n",
       "      <td>0</td>\n",
       "      <td>2</td>\n",
       "      <td>2</td>\n",
       "      <td>2</td>\n",
       "      <td>2</td>\n",
       "      <td>9999</td>\n",
       "      <td>2</td>\n",
       "      <td>09</td>\n",
       "    </tr>\n",
       "  </tbody>\n",
       "</table>\n",
       "<p>3 rows × 25 columns</p>\n",
       "</div>"
      ],
      "text/plain": [
       "   X0  X1  X2         X3  X4  X5  X6  X7  X8  X9  ...  X15  X16  X17  X18  \\\n",
       "0   0   0   3  10.152628   0   0   0   0   0   0  ...    0    0    0    0   \n",
       "1   0   0   3   3.433987   0   0   0   0   0   1  ...    1    1    0    1   \n",
       "2   1   1   3  11.075768   0   0   0   0   0   2  ...    1    1    0    2   \n",
       "\n",
       "    X19  X20   X21   X22   X23  X24  \n",
       "0     0    0     0     0     0   09  \n",
       "1  9999    1  9999  9999  9999   09  \n",
       "2     2    2     2  9999     2   09  \n",
       "\n",
       "[3 rows x 25 columns]"
      ]
     },
     "execution_count": 10,
     "metadata": {},
     "output_type": "execute_result"
    }
   ],
   "source": [
    "df.head(3)"
   ]
  },
  {
   "cell_type": "code",
   "execution_count": null,
   "metadata": {},
   "outputs": [
    {
     "data": {
      "text/plain": [
       "(223143, 25)"
      ]
     },
     "execution_count": 11,
     "metadata": {},
     "output_type": "execute_result"
    }
   ],
   "source": [
    "df.shape"
   ]
  },
  {
   "cell_type": "code",
   "execution_count": null,
   "metadata": {},
   "outputs": [
    {
     "data": {
      "text/html": [
       "<div>\n",
       "<style scoped>\n",
       "    .dataframe tbody tr th:only-of-type {\n",
       "        vertical-align: middle;\n",
       "    }\n",
       "\n",
       "    .dataframe tbody tr th {\n",
       "        vertical-align: top;\n",
       "    }\n",
       "\n",
       "    .dataframe thead th {\n",
       "        text-align: right;\n",
       "    }\n",
       "</style>\n",
       "<table border=\"1\" class=\"dataframe\">\n",
       "  <thead>\n",
       "    <tr style=\"text-align: right;\">\n",
       "      <th></th>\n",
       "      <th>X3</th>\n",
       "      <th>X4</th>\n",
       "      <th>X5</th>\n",
       "      <th>X6</th>\n",
       "      <th>X7</th>\n",
       "      <th>X8</th>\n",
       "      <th>X9</th>\n",
       "      <th>X10</th>\n",
       "      <th>X11</th>\n",
       "      <th>X12</th>\n",
       "      <th>X13</th>\n",
       "    </tr>\n",
       "  </thead>\n",
       "  <tbody>\n",
       "    <tr>\n",
       "      <th>0</th>\n",
       "      <td>10.152628</td>\n",
       "      <td>0</td>\n",
       "      <td>0</td>\n",
       "      <td>0</td>\n",
       "      <td>0</td>\n",
       "      <td>0</td>\n",
       "      <td>0</td>\n",
       "      <td>0</td>\n",
       "      <td>0</td>\n",
       "      <td>0</td>\n",
       "      <td>9999</td>\n",
       "    </tr>\n",
       "    <tr>\n",
       "      <th>1</th>\n",
       "      <td>3.433987</td>\n",
       "      <td>0</td>\n",
       "      <td>0</td>\n",
       "      <td>0</td>\n",
       "      <td>0</td>\n",
       "      <td>0</td>\n",
       "      <td>1</td>\n",
       "      <td>9999</td>\n",
       "      <td>0</td>\n",
       "      <td>1</td>\n",
       "      <td>1</td>\n",
       "    </tr>\n",
       "    <tr>\n",
       "      <th>2</th>\n",
       "      <td>11.075768</td>\n",
       "      <td>0</td>\n",
       "      <td>0</td>\n",
       "      <td>0</td>\n",
       "      <td>0</td>\n",
       "      <td>0</td>\n",
       "      <td>2</td>\n",
       "      <td>2</td>\n",
       "      <td>1</td>\n",
       "      <td>2</td>\n",
       "      <td>2</td>\n",
       "    </tr>\n",
       "  </tbody>\n",
       "</table>\n",
       "</div>"
      ],
      "text/plain": [
       "          X3  X4  X5  X6  X7  X8  X9   X10  X11  X12   X13\n",
       "0  10.152628   0   0   0   0   0   0     0    0    0  9999\n",
       "1   3.433987   0   0   0   0   0   1  9999    0    1     1\n",
       "2  11.075768   0   0   0   0   0   2     2    1    2     2"
      ]
     },
     "execution_count": 12,
     "metadata": {},
     "output_type": "execute_result"
    }
   ],
   "source": [
    "#X0:customer\n",
    "#X1:account\n",
    "#X2:date(day difference)\n",
    "#X24:month\n",
    "df_word=df.iloc[:,3:14]#what are these columns?\n",
    "df_word.head(3)"
   ]
  },
  {
   "cell_type": "code",
   "execution_count": null,
   "metadata": {},
   "outputs": [],
   "source": [
    "def Amt_bin(amt,bin_num,rankAmt):\n",
    "        for idx, th in enumerate(rankAmt):\n",
    "            if amt<=th:\n",
    "                return idx\n",
    "        return bin_num"
   ]
  },
  {
   "cell_type": "code",
   "execution_count": null,
   "metadata": {},
   "outputs": [
    {
     "data": {
      "text/html": [
       "<div>\n",
       "<style scoped>\n",
       "    .dataframe tbody tr th:only-of-type {\n",
       "        vertical-align: middle;\n",
       "    }\n",
       "\n",
       "    .dataframe tbody tr th {\n",
       "        vertical-align: top;\n",
       "    }\n",
       "\n",
       "    .dataframe thead th {\n",
       "        text-align: right;\n",
       "    }\n",
       "</style>\n",
       "<table border=\"1\" class=\"dataframe\">\n",
       "  <thead>\n",
       "    <tr style=\"text-align: right;\">\n",
       "      <th></th>\n",
       "      <th>X3</th>\n",
       "      <th>X4</th>\n",
       "      <th>X5</th>\n",
       "      <th>X6</th>\n",
       "      <th>X7</th>\n",
       "      <th>X8</th>\n",
       "      <th>X9</th>\n",
       "      <th>X10</th>\n",
       "      <th>X11</th>\n",
       "      <th>X12</th>\n",
       "      <th>X13</th>\n",
       "    </tr>\n",
       "  </thead>\n",
       "  <tbody>\n",
       "    <tr>\n",
       "      <th>0</th>\n",
       "      <td>8</td>\n",
       "      <td>0</td>\n",
       "      <td>0</td>\n",
       "      <td>0</td>\n",
       "      <td>0</td>\n",
       "      <td>0</td>\n",
       "      <td>0</td>\n",
       "      <td>0</td>\n",
       "      <td>0</td>\n",
       "      <td>0</td>\n",
       "      <td>9999</td>\n",
       "    </tr>\n",
       "    <tr>\n",
       "      <th>1</th>\n",
       "      <td>1</td>\n",
       "      <td>0</td>\n",
       "      <td>0</td>\n",
       "      <td>0</td>\n",
       "      <td>0</td>\n",
       "      <td>0</td>\n",
       "      <td>1</td>\n",
       "      <td>9999</td>\n",
       "      <td>0</td>\n",
       "      <td>1</td>\n",
       "      <td>1</td>\n",
       "    </tr>\n",
       "    <tr>\n",
       "      <th>2</th>\n",
       "      <td>10</td>\n",
       "      <td>0</td>\n",
       "      <td>0</td>\n",
       "      <td>0</td>\n",
       "      <td>0</td>\n",
       "      <td>0</td>\n",
       "      <td>2</td>\n",
       "      <td>2</td>\n",
       "      <td>1</td>\n",
       "      <td>2</td>\n",
       "      <td>2</td>\n",
       "    </tr>\n",
       "  </tbody>\n",
       "</table>\n",
       "</div>"
      ],
      "text/plain": [
       "   X3  X4  X5  X6  X7  X8  X9   X10  X11  X12   X13\n",
       "0   8   0   0   0   0   0   0     0    0    0  9999\n",
       "1   1   0   0   0   0   0   1  9999    0    1     1\n",
       "2  10   0   0   0   0   0   2     2    1    2     2"
      ]
     },
     "execution_count": 14,
     "metadata": {},
     "output_type": "execute_result"
    }
   ],
   "source": [
    "bin_num=20\n",
    "rankAmt=[df_word['X3'].quantile(i/bin_num) for i in range(bin_num)]\n",
    "df_word['X3']=df_word['X3'].apply(Amt_bin,args=(bin_num,rankAmt))\n",
    "df_word.head(3)"
   ]
  },
  {
   "cell_type": "code",
   "execution_count": null,
   "metadata": {},
   "outputs": [
    {
     "data": {
      "text/html": [
       "<div>\n",
       "<style scoped>\n",
       "    .dataframe tbody tr th:only-of-type {\n",
       "        vertical-align: middle;\n",
       "    }\n",
       "\n",
       "    .dataframe tbody tr th {\n",
       "        vertical-align: top;\n",
       "    }\n",
       "\n",
       "    .dataframe thead th {\n",
       "        text-align: right;\n",
       "    }\n",
       "</style>\n",
       "<table border=\"1\" class=\"dataframe\">\n",
       "  <thead>\n",
       "    <tr style=\"text-align: right;\">\n",
       "      <th></th>\n",
       "      <th>X3</th>\n",
       "      <th>X4</th>\n",
       "      <th>X5</th>\n",
       "      <th>X6</th>\n",
       "      <th>X7</th>\n",
       "      <th>X8</th>\n",
       "      <th>X9</th>\n",
       "      <th>X10</th>\n",
       "      <th>X11</th>\n",
       "      <th>X12</th>\n",
       "      <th>X13</th>\n",
       "    </tr>\n",
       "  </thead>\n",
       "  <tbody>\n",
       "    <tr>\n",
       "      <th>0</th>\n",
       "      <td>8</td>\n",
       "      <td>0</td>\n",
       "      <td>0</td>\n",
       "      <td>0</td>\n",
       "      <td>0</td>\n",
       "      <td>0</td>\n",
       "      <td>0</td>\n",
       "      <td>0</td>\n",
       "      <td>0</td>\n",
       "      <td>0</td>\n",
       "      <td>None</td>\n",
       "    </tr>\n",
       "    <tr>\n",
       "      <th>1</th>\n",
       "      <td>1</td>\n",
       "      <td>0</td>\n",
       "      <td>0</td>\n",
       "      <td>0</td>\n",
       "      <td>0</td>\n",
       "      <td>0</td>\n",
       "      <td>1</td>\n",
       "      <td>None</td>\n",
       "      <td>0</td>\n",
       "      <td>1</td>\n",
       "      <td>1</td>\n",
       "    </tr>\n",
       "    <tr>\n",
       "      <th>2</th>\n",
       "      <td>10</td>\n",
       "      <td>0</td>\n",
       "      <td>0</td>\n",
       "      <td>0</td>\n",
       "      <td>0</td>\n",
       "      <td>0</td>\n",
       "      <td>2</td>\n",
       "      <td>2</td>\n",
       "      <td>1</td>\n",
       "      <td>2</td>\n",
       "      <td>2</td>\n",
       "    </tr>\n",
       "    <tr>\n",
       "      <th>3</th>\n",
       "      <td>11</td>\n",
       "      <td>0</td>\n",
       "      <td>0</td>\n",
       "      <td>0</td>\n",
       "      <td>0</td>\n",
       "      <td>0</td>\n",
       "      <td>3</td>\n",
       "      <td>3</td>\n",
       "      <td>0</td>\n",
       "      <td>1</td>\n",
       "      <td>1</td>\n",
       "    </tr>\n",
       "    <tr>\n",
       "      <th>4</th>\n",
       "      <td>4</td>\n",
       "      <td>0</td>\n",
       "      <td>0</td>\n",
       "      <td>0</td>\n",
       "      <td>0</td>\n",
       "      <td>0</td>\n",
       "      <td>4</td>\n",
       "      <td>4</td>\n",
       "      <td>0</td>\n",
       "      <td>1</td>\n",
       "      <td>1</td>\n",
       "    </tr>\n",
       "  </tbody>\n",
       "</table>\n",
       "</div>"
      ],
      "text/plain": [
       "   X3 X4 X5 X6 X7 X8 X9   X10 X11 X12   X13\n",
       "0   8  0  0  0  0  0  0     0   0   0  None\n",
       "1   1  0  0  0  0  0  1  None   0   1     1\n",
       "2  10  0  0  0  0  0  2     2   1   2     2\n",
       "3  11  0  0  0  0  0  3     3   0   1     1\n",
       "4   4  0  0  0  0  0  4     4   0   1     1"
      ]
     },
     "execution_count": 15,
     "metadata": {},
     "output_type": "execute_result"
    }
   ],
   "source": [
    "dfWordWNone=df_word.replace({9999:None})\n",
    "dfWordWNone.head()"
   ]
  },
  {
   "cell_type": "code",
   "execution_count": null,
   "metadata": {},
   "outputs": [
    {
     "data": {
      "text/html": [
       "<div>\n",
       "<style scoped>\n",
       "    .dataframe tbody tr th:only-of-type {\n",
       "        vertical-align: middle;\n",
       "    }\n",
       "\n",
       "    .dataframe tbody tr th {\n",
       "        vertical-align: top;\n",
       "    }\n",
       "\n",
       "    .dataframe thead th {\n",
       "        text-align: right;\n",
       "    }\n",
       "</style>\n",
       "<table border=\"1\" class=\"dataframe\">\n",
       "  <thead>\n",
       "    <tr style=\"text-align: right;\">\n",
       "      <th></th>\n",
       "      <th>0</th>\n",
       "      <th>1</th>\n",
       "      <th>2</th>\n",
       "      <th>3</th>\n",
       "      <th>4</th>\n",
       "      <th>5</th>\n",
       "      <th>6</th>\n",
       "      <th>7</th>\n",
       "      <th>8</th>\n",
       "      <th>9</th>\n",
       "      <th>10</th>\n",
       "    </tr>\n",
       "  </thead>\n",
       "  <tbody>\n",
       "    <tr>\n",
       "      <th>0</th>\n",
       "      <td>8.0</td>\n",
       "      <td>0.0</td>\n",
       "      <td>0.0</td>\n",
       "      <td>0.0</td>\n",
       "      <td>0.0</td>\n",
       "      <td>0.0</td>\n",
       "      <td>0.0</td>\n",
       "      <td>0.000000</td>\n",
       "      <td>0.0</td>\n",
       "      <td>0.0</td>\n",
       "      <td>0.749418</td>\n",
       "    </tr>\n",
       "    <tr>\n",
       "      <th>1</th>\n",
       "      <td>1.0</td>\n",
       "      <td>0.0</td>\n",
       "      <td>0.0</td>\n",
       "      <td>0.0</td>\n",
       "      <td>0.0</td>\n",
       "      <td>0.0</td>\n",
       "      <td>1.0</td>\n",
       "      <td>334.713203</td>\n",
       "      <td>0.0</td>\n",
       "      <td>1.0</td>\n",
       "      <td>1.000000</td>\n",
       "    </tr>\n",
       "    <tr>\n",
       "      <th>2</th>\n",
       "      <td>10.0</td>\n",
       "      <td>0.0</td>\n",
       "      <td>0.0</td>\n",
       "      <td>0.0</td>\n",
       "      <td>0.0</td>\n",
       "      <td>0.0</td>\n",
       "      <td>2.0</td>\n",
       "      <td>2.000000</td>\n",
       "      <td>1.0</td>\n",
       "      <td>2.0</td>\n",
       "      <td>2.000000</td>\n",
       "    </tr>\n",
       "    <tr>\n",
       "      <th>3</th>\n",
       "      <td>11.0</td>\n",
       "      <td>0.0</td>\n",
       "      <td>0.0</td>\n",
       "      <td>0.0</td>\n",
       "      <td>0.0</td>\n",
       "      <td>0.0</td>\n",
       "      <td>3.0</td>\n",
       "      <td>3.000000</td>\n",
       "      <td>0.0</td>\n",
       "      <td>1.0</td>\n",
       "      <td>1.000000</td>\n",
       "    </tr>\n",
       "    <tr>\n",
       "      <th>4</th>\n",
       "      <td>4.0</td>\n",
       "      <td>0.0</td>\n",
       "      <td>0.0</td>\n",
       "      <td>0.0</td>\n",
       "      <td>0.0</td>\n",
       "      <td>0.0</td>\n",
       "      <td>4.0</td>\n",
       "      <td>4.000000</td>\n",
       "      <td>0.0</td>\n",
       "      <td>1.0</td>\n",
       "      <td>1.000000</td>\n",
       "    </tr>\n",
       "  </tbody>\n",
       "</table>\n",
       "</div>"
      ],
      "text/plain": [
       "     0    1    2    3    4    5    6           7    8    9         10\n",
       "0   8.0  0.0  0.0  0.0  0.0  0.0  0.0    0.000000  0.0  0.0  0.749418\n",
       "1   1.0  0.0  0.0  0.0  0.0  0.0  1.0  334.713203  0.0  1.0  1.000000\n",
       "2  10.0  0.0  0.0  0.0  0.0  0.0  2.0    2.000000  1.0  2.0  2.000000\n",
       "3  11.0  0.0  0.0  0.0  0.0  0.0  3.0    3.000000  0.0  1.0  1.000000\n",
       "4   4.0  0.0  0.0  0.0  0.0  0.0  4.0    4.000000  0.0  1.0  1.000000"
      ]
     },
     "execution_count": 16,
     "metadata": {},
     "output_type": "execute_result"
    }
   ],
   "source": [
    "#missing vlaue imputation (multivariate)\n",
    "from sklearn.experimental import enable_iterative_imputer\n",
    "from sklearn.impute import IterativeImputer\n",
    "imp=IterativeImputer(max_iter=100,random_state=0)\n",
    "imp.fit(dfWordWNone)\n",
    "IterativeImputer(add_indicator=False,estimator=None,\n",
    "                 imputation_order='ascending',initial_strategy='mean',\n",
    "                 max_iter=100,max_value=None,min_value=None,\n",
    "                 missing_values=None,n_nearest_features=None,\n",
    "                 random_state=0,sample_posterior=False,tol=0.001,\n",
    "                 verbose=0)\n",
    "imputedDfWord=pd.DataFrame(imp.transform(dfWordWNone))\n",
    "imputedDfWord.head()"
   ]
  },
  {
   "cell_type": "code",
   "execution_count": null,
   "metadata": {},
   "outputs": [
    {
     "data": {
      "text/plain": [
       "array([[<matplotlib.axes._subplots.AxesSubplot object at 0x1a2e0c4eb8>,\n",
       "        <matplotlib.axes._subplots.AxesSubplot object at 0x10810a240>,\n",
       "        <matplotlib.axes._subplots.AxesSubplot object at 0x1a2c00d7b8>],\n",
       "       [<matplotlib.axes._subplots.AxesSubplot object at 0x1a2bfe8d30>,\n",
       "        <matplotlib.axes._subplots.AxesSubplot object at 0x1a2c2e02e8>,\n",
       "        <matplotlib.axes._subplots.AxesSubplot object at 0x1a2c7fc748>],\n",
       "       [<matplotlib.axes._subplots.AxesSubplot object at 0x1a2c821cc0>,\n",
       "        <matplotlib.axes._subplots.AxesSubplot object at 0x1a2b0ba2b0>,\n",
       "        <matplotlib.axes._subplots.AxesSubplot object at 0x1a2b0ba2e8>],\n",
       "       [<matplotlib.axes._subplots.AxesSubplot object at 0x1a2b103d68>,\n",
       "        <matplotlib.axes._subplots.AxesSubplot object at 0x1a2b132320>,\n",
       "        <matplotlib.axes._subplots.AxesSubplot object at 0x1a2b5c1898>]],\n",
       "      dtype=object)"
      ]
     },
     "execution_count": 17,
     "metadata": {},
     "output_type": "execute_result"
    },
    {
     "data": {
      "image/png": "[encoded data removed]",
      "text/plain": [
       "<Figure size 1080x1080 with 12 Axes>"
      ]
     },
     "metadata": {
      "needs_background": "light"
     },
     "output_type": "display_data"
    }
   ],
   "source": [
    "#visualization \n",
    "#1. hitogram\n",
    "imputedDfWord.hist(bins=100,figsize=(15,15))\n"
   ]
  },
  {
   "cell_type": "code",
   "execution_count": null,
   "metadata": {},
   "outputs": [
    {
     "data": {
      "text/html": [
       "<div>\n",
       "<style scoped>\n",
       "    .dataframe tbody tr th:only-of-type {\n",
       "        vertical-align: middle;\n",
       "    }\n",
       "\n",
       "    .dataframe tbody tr th {\n",
       "        vertical-align: top;\n",
       "    }\n",
       "\n",
       "    .dataframe thead th {\n",
       "        text-align: right;\n",
       "    }\n",
       "</style>\n",
       "<table border=\"1\" class=\"dataframe\">\n",
       "  <thead>\n",
       "    <tr style=\"text-align: right;\">\n",
       "      <th></th>\n",
       "      <th>0</th>\n",
       "      <th>1</th>\n",
       "      <th>3</th>\n",
       "      <th>5</th>\n",
       "      <th>6</th>\n",
       "      <th>7</th>\n",
       "      <th>8</th>\n",
       "      <th>9</th>\n",
       "      <th>10</th>\n",
       "    </tr>\n",
       "  </thead>\n",
       "  <tbody>\n",
       "    <tr>\n",
       "      <th>0</th>\n",
       "      <td>8.0</td>\n",
       "      <td>0.0</td>\n",
       "      <td>0.0</td>\n",
       "      <td>0.0</td>\n",
       "      <td>0.0</td>\n",
       "      <td>0.000000</td>\n",
       "      <td>0.0</td>\n",
       "      <td>0.0</td>\n",
       "      <td>0.749418</td>\n",
       "    </tr>\n",
       "    <tr>\n",
       "      <th>1</th>\n",
       "      <td>1.0</td>\n",
       "      <td>0.0</td>\n",
       "      <td>0.0</td>\n",
       "      <td>0.0</td>\n",
       "      <td>1.0</td>\n",
       "      <td>334.713203</td>\n",
       "      <td>0.0</td>\n",
       "      <td>1.0</td>\n",
       "      <td>1.000000</td>\n",
       "    </tr>\n",
       "    <tr>\n",
       "      <th>2</th>\n",
       "      <td>10.0</td>\n",
       "      <td>0.0</td>\n",
       "      <td>0.0</td>\n",
       "      <td>0.0</td>\n",
       "      <td>2.0</td>\n",
       "      <td>2.000000</td>\n",
       "      <td>1.0</td>\n",
       "      <td>2.0</td>\n",
       "      <td>2.000000</td>\n",
       "    </tr>\n",
       "    <tr>\n",
       "      <th>3</th>\n",
       "      <td>11.0</td>\n",
       "      <td>0.0</td>\n",
       "      <td>0.0</td>\n",
       "      <td>0.0</td>\n",
       "      <td>3.0</td>\n",
       "      <td>3.000000</td>\n",
       "      <td>0.0</td>\n",
       "      <td>1.0</td>\n",
       "      <td>1.000000</td>\n",
       "    </tr>\n",
       "    <tr>\n",
       "      <th>4</th>\n",
       "      <td>4.0</td>\n",
       "      <td>0.0</td>\n",
       "      <td>0.0</td>\n",
       "      <td>0.0</td>\n",
       "      <td>4.0</td>\n",
       "      <td>4.000000</td>\n",
       "      <td>0.0</td>\n",
       "      <td>1.0</td>\n",
       "      <td>1.000000</td>\n",
       "    </tr>\n",
       "  </tbody>\n",
       "</table>\n",
       "</div>"
      ],
      "text/plain": [
       "     0    1    3    5    6           7    8    9         10\n",
       "0   8.0  0.0  0.0  0.0  0.0    0.000000  0.0  0.0  0.749418\n",
       "1   1.0  0.0  0.0  0.0  1.0  334.713203  0.0  1.0  1.000000\n",
       "2  10.0  0.0  0.0  0.0  2.0    2.000000  1.0  2.0  2.000000\n",
       "3  11.0  0.0  0.0  0.0  3.0    3.000000  0.0  1.0  1.000000\n",
       "4   4.0  0.0  0.0  0.0  4.0    4.000000  0.0  1.0  1.000000"
      ]
     },
     "execution_count": 18,
     "metadata": {},
     "output_type": "execute_result"
    }
   ],
   "source": [
    "#drop columns do not have variation\n",
    "imputedDfWord.columns\n",
    "imputedDfWord=imputedDfWord.drop([2,4], axis=1)\n",
    "imputedDfWord.head()"
   ]
  },
  {
   "cell_type": "code",
   "execution_count": null,
   "metadata": {},
   "outputs": [
    {
     "data": {
      "text/html": [
       "<style  type=\"text/css\" >\n",
       "    #T_1e7b3e9e_b6dd_11e9_9e33_a8667f1c0621row0_col0 {\n",
       "            background-color:  #b40426;\n",
       "            color:  #f1f1f1;\n",
       "        }    #T_1e7b3e9e_b6dd_11e9_9e33_a8667f1c0621row0_col1 {\n",
       "            background-color:  #85a8fc;\n",
       "            color:  #000000;\n",
       "        }    #T_1e7b3e9e_b6dd_11e9_9e33_a8667f1c0621row0_col2 {\n",
       "            background-color:  #82a6fb;\n",
       "            color:  #000000;\n",
       "        }    #T_1e7b3e9e_b6dd_11e9_9e33_a8667f1c0621row0_col3 {\n",
       "            background-color:  #3b4cc0;\n",
       "            color:  #f1f1f1;\n",
       "        }    #T_1e7b3e9e_b6dd_11e9_9e33_a8667f1c0621row0_col4 {\n",
       "            background-color:  #3b4cc0;\n",
       "            color:  #f1f1f1;\n",
       "        }    #T_1e7b3e9e_b6dd_11e9_9e33_a8667f1c0621row0_col5 {\n",
       "            background-color:  #3b4cc0;\n",
       "            color:  #f1f1f1;\n",
       "        }    #T_1e7b3e9e_b6dd_11e9_9e33_a8667f1c0621row0_col6 {\n",
       "            background-color:  #3b4cc0;\n",
       "            color:  #f1f1f1;\n",
       "        }    #T_1e7b3e9e_b6dd_11e9_9e33_a8667f1c0621row0_col7 {\n",
       "            background-color:  #3b4cc0;\n",
       "            color:  #f1f1f1;\n",
       "        }    #T_1e7b3e9e_b6dd_11e9_9e33_a8667f1c0621row0_col8 {\n",
       "            background-color:  #3b4cc0;\n",
       "            color:  #f1f1f1;\n",
       "        }    #T_1e7b3e9e_b6dd_11e9_9e33_a8667f1c0621row1_col0 {\n",
       "            background-color:  #c5d6f2;\n",
       "            color:  #000000;\n",
       "        }    #T_1e7b3e9e_b6dd_11e9_9e33_a8667f1c0621row1_col1 {\n",
       "            background-color:  #b40426;\n",
       "            color:  #f1f1f1;\n",
       "        }    #T_1e7b3e9e_b6dd_11e9_9e33_a8667f1c0621row1_col2 {\n",
       "            background-color:  #ec8165;\n",
       "            color:  #000000;\n",
       "        }    #T_1e7b3e9e_b6dd_11e9_9e33_a8667f1c0621row1_col3 {\n",
       "            background-color:  #9ebeff;\n",
       "            color:  #000000;\n",
       "        }    #T_1e7b3e9e_b6dd_11e9_9e33_a8667f1c0621row1_col4 {\n",
       "            background-color:  #89acfd;\n",
       "            color:  #000000;\n",
       "        }    #T_1e7b3e9e_b6dd_11e9_9e33_a8667f1c0621row1_col5 {\n",
       "            background-color:  #96b7ff;\n",
       "            color:  #000000;\n",
       "        }    #T_1e7b3e9e_b6dd_11e9_9e33_a8667f1c0621row1_col6 {\n",
       "            background-color:  #92b4fe;\n",
       "            color:  #000000;\n",
       "        }    #T_1e7b3e9e_b6dd_11e9_9e33_a8667f1c0621row1_col7 {\n",
       "            background-color:  #cbd8ee;\n",
       "            color:  #000000;\n",
       "        }    #T_1e7b3e9e_b6dd_11e9_9e33_a8667f1c0621row1_col8 {\n",
       "            background-color:  #adc9fd;\n",
       "            color:  #000000;\n",
       "        }    #T_1e7b3e9e_b6dd_11e9_9e33_a8667f1c0621row2_col0 {\n",
       "            background-color:  #c7d7f0;\n",
       "            color:  #000000;\n",
       "        }    #T_1e7b3e9e_b6dd_11e9_9e33_a8667f1c0621row2_col1 {\n",
       "            background-color:  #ec7f63;\n",
       "            color:  #000000;\n",
       "        }    #T_1e7b3e9e_b6dd_11e9_9e33_a8667f1c0621row2_col2 {\n",
       "            background-color:  #b40426;\n",
       "            color:  #f1f1f1;\n",
       "        }    #T_1e7b3e9e_b6dd_11e9_9e33_a8667f1c0621row2_col3 {\n",
       "            background-color:  #7ea1fa;\n",
       "            color:  #000000;\n",
       "        }    #T_1e7b3e9e_b6dd_11e9_9e33_a8667f1c0621row2_col4 {\n",
       "            background-color:  #90b2fe;\n",
       "            color:  #000000;\n",
       "        }    #T_1e7b3e9e_b6dd_11e9_9e33_a8667f1c0621row2_col5 {\n",
       "            background-color:  #96b7ff;\n",
       "            color:  #000000;\n",
       "        }    #T_1e7b3e9e_b6dd_11e9_9e33_a8667f1c0621row2_col6 {\n",
       "            background-color:  #81a4fb;\n",
       "            color:  #000000;\n",
       "        }    #T_1e7b3e9e_b6dd_11e9_9e33_a8667f1c0621row2_col7 {\n",
       "            background-color:  #e8d6cc;\n",
       "            color:  #000000;\n",
       "        }    #T_1e7b3e9e_b6dd_11e9_9e33_a8667f1c0621row2_col8 {\n",
       "            background-color:  #d9dce1;\n",
       "            color:  #000000;\n",
       "        }    #T_1e7b3e9e_b6dd_11e9_9e33_a8667f1c0621row3_col0 {\n",
       "            background-color:  #6180e9;\n",
       "            color:  #000000;\n",
       "        }    #T_1e7b3e9e_b6dd_11e9_9e33_a8667f1c0621row3_col1 {\n",
       "            background-color:  #779af7;\n",
       "            color:  #000000;\n",
       "        }    #T_1e7b3e9e_b6dd_11e9_9e33_a8667f1c0621row3_col2 {\n",
       "            background-color:  #4c66d6;\n",
       "            color:  #000000;\n",
       "        }    #T_1e7b3e9e_b6dd_11e9_9e33_a8667f1c0621row3_col3 {\n",
       "            background-color:  #b40426;\n",
       "            color:  #f1f1f1;\n",
       "        }    #T_1e7b3e9e_b6dd_11e9_9e33_a8667f1c0621row3_col4 {\n",
       "            background-color:  #cad8ef;\n",
       "            color:  #000000;\n",
       "        }    #T_1e7b3e9e_b6dd_11e9_9e33_a8667f1c0621row3_col5 {\n",
       "            background-color:  #b6cefa;\n",
       "            color:  #000000;\n",
       "        }    #T_1e7b3e9e_b6dd_11e9_9e33_a8667f1c0621row3_col6 {\n",
       "            background-color:  #a5c3fe;\n",
       "            color:  #000000;\n",
       "        }    #T_1e7b3e9e_b6dd_11e9_9e33_a8667f1c0621row3_col7 {\n",
       "            background-color:  #9ebeff;\n",
       "            color:  #000000;\n",
       "        }    #T_1e7b3e9e_b6dd_11e9_9e33_a8667f1c0621row3_col8 {\n",
       "            background-color:  #9bbcff;\n",
       "            color:  #000000;\n",
       "        }    #T_1e7b3e9e_b6dd_11e9_9e33_a8667f1c0621row4_col0 {\n",
       "            background-color:  #3b4cc0;\n",
       "            color:  #f1f1f1;\n",
       "        }    #T_1e7b3e9e_b6dd_11e9_9e33_a8667f1c0621row4_col1 {\n",
       "            background-color:  #3b4cc0;\n",
       "            color:  #f1f1f1;\n",
       "        }    #T_1e7b3e9e_b6dd_11e9_9e33_a8667f1c0621row4_col2 {\n",
       "            background-color:  #3b4cc0;\n",
       "            color:  #f1f1f1;\n",
       "        }    #T_1e7b3e9e_b6dd_11e9_9e33_a8667f1c0621row4_col3 {\n",
       "            background-color:  #afcafc;\n",
       "            color:  #000000;\n",
       "        }    #T_1e7b3e9e_b6dd_11e9_9e33_a8667f1c0621row4_col4 {\n",
       "            background-color:  #b40426;\n",
       "            color:  #f1f1f1;\n",
       "        }    #T_1e7b3e9e_b6dd_11e9_9e33_a8667f1c0621row4_col5 {\n",
       "            background-color:  #e8765c;\n",
       "            color:  #000000;\n",
       "        }    #T_1e7b3e9e_b6dd_11e9_9e33_a8667f1c0621row4_col6 {\n",
       "            background-color:  #9dbdff;\n",
       "            color:  #000000;\n",
       "        }    #T_1e7b3e9e_b6dd_11e9_9e33_a8667f1c0621row4_col7 {\n",
       "            background-color:  #b6cefa;\n",
       "            color:  #000000;\n",
       "        }    #T_1e7b3e9e_b6dd_11e9_9e33_a8667f1c0621row4_col8 {\n",
       "            background-color:  #b5cdfa;\n",
       "            color:  #000000;\n",
       "        }    #T_1e7b3e9e_b6dd_11e9_9e33_a8667f1c0621row5_col0 {\n",
       "            background-color:  #4e68d8;\n",
       "            color:  #000000;\n",
       "        }    #T_1e7b3e9e_b6dd_11e9_9e33_a8667f1c0621row5_col1 {\n",
       "            background-color:  #5b7ae5;\n",
       "            color:  #000000;\n",
       "        }    #T_1e7b3e9e_b6dd_11e9_9e33_a8667f1c0621row5_col2 {\n",
       "            background-color:  #5470de;\n",
       "            color:  #000000;\n",
       "        }    #T_1e7b3e9e_b6dd_11e9_9e33_a8667f1c0621row5_col3 {\n",
       "            background-color:  #a9c6fd;\n",
       "            color:  #000000;\n",
       "        }    #T_1e7b3e9e_b6dd_11e9_9e33_a8667f1c0621row5_col4 {\n",
       "            background-color:  #e67259;\n",
       "            color:  #000000;\n",
       "        }    #T_1e7b3e9e_b6dd_11e9_9e33_a8667f1c0621row5_col5 {\n",
       "            background-color:  #b40426;\n",
       "            color:  #f1f1f1;\n",
       "        }    #T_1e7b3e9e_b6dd_11e9_9e33_a8667f1c0621row5_col6 {\n",
       "            background-color:  #9fbfff;\n",
       "            color:  #000000;\n",
       "        }    #T_1e7b3e9e_b6dd_11e9_9e33_a8667f1c0621row5_col7 {\n",
       "            background-color:  #c7d7f0;\n",
       "            color:  #000000;\n",
       "        }    #T_1e7b3e9e_b6dd_11e9_9e33_a8667f1c0621row5_col8 {\n",
       "            background-color:  #c6d6f1;\n",
       "            color:  #000000;\n",
       "        }    #T_1e7b3e9e_b6dd_11e9_9e33_a8667f1c0621row6_col0 {\n",
       "            background-color:  #5e7de7;\n",
       "            color:  #000000;\n",
       "        }    #T_1e7b3e9e_b6dd_11e9_9e33_a8667f1c0621row6_col1 {\n",
       "            background-color:  #6788ee;\n",
       "            color:  #000000;\n",
       "        }    #T_1e7b3e9e_b6dd_11e9_9e33_a8667f1c0621row6_col2 {\n",
       "            background-color:  #4f69d9;\n",
       "            color:  #000000;\n",
       "        }    #T_1e7b3e9e_b6dd_11e9_9e33_a8667f1c0621row6_col3 {\n",
       "            background-color:  #a3c2fe;\n",
       "            color:  #000000;\n",
       "        }    #T_1e7b3e9e_b6dd_11e9_9e33_a8667f1c0621row6_col4 {\n",
       "            background-color:  #b9d0f9;\n",
       "            color:  #000000;\n",
       "        }    #T_1e7b3e9e_b6dd_11e9_9e33_a8667f1c0621row6_col5 {\n",
       "            background-color:  #adc9fd;\n",
       "            color:  #000000;\n",
       "        }    #T_1e7b3e9e_b6dd_11e9_9e33_a8667f1c0621row6_col6 {\n",
       "            background-color:  #b40426;\n",
       "            color:  #f1f1f1;\n",
       "        }    #T_1e7b3e9e_b6dd_11e9_9e33_a8667f1c0621row6_col7 {\n",
       "            background-color:  #8caffe;\n",
       "            color:  #000000;\n",
       "        }    #T_1e7b3e9e_b6dd_11e9_9e33_a8667f1c0621row6_col8 {\n",
       "            background-color:  #80a3fa;\n",
       "            color:  #000000;\n",
       "        }    #T_1e7b3e9e_b6dd_11e9_9e33_a8667f1c0621row7_col0 {\n",
       "            background-color:  #6b8df0;\n",
       "            color:  #000000;\n",
       "        }    #T_1e7b3e9e_b6dd_11e9_9e33_a8667f1c0621row7_col1 {\n",
       "            background-color:  #b6cefa;\n",
       "            color:  #000000;\n",
       "        }    #T_1e7b3e9e_b6dd_11e9_9e33_a8667f1c0621row7_col2 {\n",
       "            background-color:  #d7dce3;\n",
       "            color:  #000000;\n",
       "        }    #T_1e7b3e9e_b6dd_11e9_9e33_a8667f1c0621row7_col3 {\n",
       "            background-color:  #a7c5fe;\n",
       "            color:  #000000;\n",
       "        }    #T_1e7b3e9e_b6dd_11e9_9e33_a8667f1c0621row7_col4 {\n",
       "            background-color:  #d4dbe6;\n",
       "            color:  #000000;\n",
       "        }    #T_1e7b3e9e_b6dd_11e9_9e33_a8667f1c0621row7_col5 {\n",
       "            background-color:  #d7dce3;\n",
       "            color:  #000000;\n",
       "        }    #T_1e7b3e9e_b6dd_11e9_9e33_a8667f1c0621row7_col6 {\n",
       "            background-color:  #97b8ff;\n",
       "            color:  #000000;\n",
       "        }    #T_1e7b3e9e_b6dd_11e9_9e33_a8667f1c0621row7_col7 {\n",
       "            background-color:  #b40426;\n",
       "            color:  #f1f1f1;\n",
       "        }    #T_1e7b3e9e_b6dd_11e9_9e33_a8667f1c0621row7_col8 {\n",
       "            background-color:  #d55042;\n",
       "            color:  #000000;\n",
       "        }    #T_1e7b3e9e_b6dd_11e9_9e33_a8667f1c0621row8_col0 {\n",
       "            background-color:  #7396f5;\n",
       "            color:  #000000;\n",
       "        }    #T_1e7b3e9e_b6dd_11e9_9e33_a8667f1c0621row8_col1 {\n",
       "            background-color:  #9abbff;\n",
       "            color:  #000000;\n",
       "        }    #T_1e7b3e9e_b6dd_11e9_9e33_a8667f1c0621row8_col2 {\n",
       "            background-color:  #c9d7f0;\n",
       "            color:  #000000;\n",
       "        }    #T_1e7b3e9e_b6dd_11e9_9e33_a8667f1c0621row8_col3 {\n",
       "            background-color:  #aac7fd;\n",
       "            color:  #000000;\n",
       "        }    #T_1e7b3e9e_b6dd_11e9_9e33_a8667f1c0621row8_col4 {\n",
       "            background-color:  #d7dce3;\n",
       "            color:  #000000;\n",
       "        }    #T_1e7b3e9e_b6dd_11e9_9e33_a8667f1c0621row8_col5 {\n",
       "            background-color:  #dadce0;\n",
       "            color:  #000000;\n",
       "        }    #T_1e7b3e9e_b6dd_11e9_9e33_a8667f1c0621row8_col6 {\n",
       "            background-color:  #93b5fe;\n",
       "            color:  #000000;\n",
       "        }    #T_1e7b3e9e_b6dd_11e9_9e33_a8667f1c0621row8_col7 {\n",
       "            background-color:  #d44e41;\n",
       "            color:  #000000;\n",
       "        }    #T_1e7b3e9e_b6dd_11e9_9e33_a8667f1c0621row8_col8 {\n",
       "            background-color:  #b40426;\n",
       "            color:  #f1f1f1;\n",
       "        }</style><table id=\"T_1e7b3e9e_b6dd_11e9_9e33_a8667f1c0621\" ><thead>    <tr>        <th class=\"blank level0\" ></th>        <th class=\"col_heading level0 col0\" >0</th>        <th class=\"col_heading level0 col1\" >1</th>        <th class=\"col_heading level0 col2\" >3</th>        <th class=\"col_heading level0 col3\" >5</th>        <th class=\"col_heading level0 col4\" >6</th>        <th class=\"col_heading level0 col5\" >7</th>        <th class=\"col_heading level0 col6\" >8</th>        <th class=\"col_heading level0 col7\" >9</th>        <th class=\"col_heading level0 col8\" >10</th>    </tr></thead><tbody>\n",
       "                <tr>\n",
       "                        <th id=\"T_1e7b3e9e_b6dd_11e9_9e33_a8667f1c0621level0_row0\" class=\"row_heading level0 row0\" >0</th>\n",
       "                        <td id=\"T_1e7b3e9e_b6dd_11e9_9e33_a8667f1c0621row0_col0\" class=\"data row0 col0\" >1</td>\n",
       "                        <td id=\"T_1e7b3e9e_b6dd_11e9_9e33_a8667f1c0621row0_col1\" class=\"data row0 col1\" >0.233357</td>\n",
       "                        <td id=\"T_1e7b3e9e_b6dd_11e9_9e33_a8667f1c0621row0_col2\" class=\"data row0 col2\" >0.245509</td>\n",
       "                        <td id=\"T_1e7b3e9e_b6dd_11e9_9e33_a8667f1c0621row0_col3\" class=\"data row0 col3\" >-0.15026</td>\n",
       "                        <td id=\"T_1e7b3e9e_b6dd_11e9_9e33_a8667f1c0621row0_col4\" class=\"data row0 col4\" >-0.309646</td>\n",
       "                        <td id=\"T_1e7b3e9e_b6dd_11e9_9e33_a8667f1c0621row0_col5\" class=\"data row0 col5\" >-0.226257</td>\n",
       "                        <td id=\"T_1e7b3e9e_b6dd_11e9_9e33_a8667f1c0621row0_col6\" class=\"data row0 col6\" >-0.157097</td>\n",
       "                        <td id=\"T_1e7b3e9e_b6dd_11e9_9e33_a8667f1c0621row0_col7\" class=\"data row0 col7\" >-0.107602</td>\n",
       "                        <td id=\"T_1e7b3e9e_b6dd_11e9_9e33_a8667f1c0621row0_col8\" class=\"data row0 col8\" >-0.076775</td>\n",
       "            </tr>\n",
       "            <tr>\n",
       "                        <th id=\"T_1e7b3e9e_b6dd_11e9_9e33_a8667f1c0621level0_row1\" class=\"row_heading level0 row1\" >1</th>\n",
       "                        <td id=\"T_1e7b3e9e_b6dd_11e9_9e33_a8667f1c0621row1_col0\" class=\"data row1 col0\" >0.233357</td>\n",
       "                        <td id=\"T_1e7b3e9e_b6dd_11e9_9e33_a8667f1c0621row1_col1\" class=\"data row1 col1\" >1</td>\n",
       "                        <td id=\"T_1e7b3e9e_b6dd_11e9_9e33_a8667f1c0621row1_col2\" class=\"data row1 col2\" >0.812637</td>\n",
       "                        <td id=\"T_1e7b3e9e_b6dd_11e9_9e33_a8667f1c0621row1_col3\" class=\"data row1 col3\" >0.193471</td>\n",
       "                        <td id=\"T_1e7b3e9e_b6dd_11e9_9e33_a8667f1c0621row1_col4\" class=\"data row1 col4\" >0.00432821</td>\n",
       "                        <td id=\"T_1e7b3e9e_b6dd_11e9_9e33_a8667f1c0621row1_col5\" class=\"data row1 col5\" >0.110909</td>\n",
       "                        <td id=\"T_1e7b3e9e_b6dd_11e9_9e33_a8667f1c0621row1_col6\" class=\"data row1 col6\" >0.146745</td>\n",
       "                        <td id=\"T_1e7b3e9e_b6dd_11e9_9e33_a8667f1c0621row1_col7\" class=\"data row1 col7\" >0.373615</td>\n",
       "                        <td id=\"T_1e7b3e9e_b6dd_11e9_9e33_a8667f1c0621row1_col8\" class=\"data row1 col8\" >0.291087</td>\n",
       "            </tr>\n",
       "            <tr>\n",
       "                        <th id=\"T_1e7b3e9e_b6dd_11e9_9e33_a8667f1c0621level0_row2\" class=\"row_heading level0 row2\" >3</th>\n",
       "                        <td id=\"T_1e7b3e9e_b6dd_11e9_9e33_a8667f1c0621row2_col0\" class=\"data row2 col0\" >0.245509</td>\n",
       "                        <td id=\"T_1e7b3e9e_b6dd_11e9_9e33_a8667f1c0621row2_col1\" class=\"data row2 col1\" >0.812637</td>\n",
       "                        <td id=\"T_1e7b3e9e_b6dd_11e9_9e33_a8667f1c0621row2_col2\" class=\"data row2 col2\" >1</td>\n",
       "                        <td id=\"T_1e7b3e9e_b6dd_11e9_9e33_a8667f1c0621row2_col3\" class=\"data row2 col3\" >0.0902316</td>\n",
       "                        <td id=\"T_1e7b3e9e_b6dd_11e9_9e33_a8667f1c0621row2_col4\" class=\"data row2 col4\" >0.0296227</td>\n",
       "                        <td id=\"T_1e7b3e9e_b6dd_11e9_9e33_a8667f1c0621row2_col5\" class=\"data row2 col5\" >0.110192</td>\n",
       "                        <td id=\"T_1e7b3e9e_b6dd_11e9_9e33_a8667f1c0621row2_col6\" class=\"data row2 col6\" >0.0954425</td>\n",
       "                        <td id=\"T_1e7b3e9e_b6dd_11e9_9e33_a8667f1c0621row2_col7\" class=\"data row2 col7\" >0.495524</td>\n",
       "                        <td id=\"T_1e7b3e9e_b6dd_11e9_9e33_a8667f1c0621row2_col8\" class=\"data row2 col8\" >0.445063</td>\n",
       "            </tr>\n",
       "            <tr>\n",
       "                        <th id=\"T_1e7b3e9e_b6dd_11e9_9e33_a8667f1c0621level0_row3\" class=\"row_heading level0 row3\" >5</th>\n",
       "                        <td id=\"T_1e7b3e9e_b6dd_11e9_9e33_a8667f1c0621row3_col0\" class=\"data row3 col0\" >-0.15026</td>\n",
       "                        <td id=\"T_1e7b3e9e_b6dd_11e9_9e33_a8667f1c0621row3_col1\" class=\"data row3 col1\" >0.193471</td>\n",
       "                        <td id=\"T_1e7b3e9e_b6dd_11e9_9e33_a8667f1c0621row3_col2\" class=\"data row3 col2\" >0.0902316</td>\n",
       "                        <td id=\"T_1e7b3e9e_b6dd_11e9_9e33_a8667f1c0621row3_col3\" class=\"data row3 col3\" >1</td>\n",
       "                        <td id=\"T_1e7b3e9e_b6dd_11e9_9e33_a8667f1c0621row3_col4\" class=\"data row3 col4\" >0.253821</td>\n",
       "                        <td id=\"T_1e7b3e9e_b6dd_11e9_9e33_a8667f1c0621row3_col5\" class=\"data row3 col5\" >0.228442</td>\n",
       "                        <td id=\"T_1e7b3e9e_b6dd_11e9_9e33_a8667f1c0621row3_col6\" class=\"data row3 col6\" >0.211011</td>\n",
       "                        <td id=\"T_1e7b3e9e_b6dd_11e9_9e33_a8667f1c0621row3_col7\" class=\"data row3 col7\" >0.225017</td>\n",
       "                        <td id=\"T_1e7b3e9e_b6dd_11e9_9e33_a8667f1c0621row3_col8\" class=\"data row3 col8\" >0.234523</td>\n",
       "            </tr>\n",
       "            <tr>\n",
       "                        <th id=\"T_1e7b3e9e_b6dd_11e9_9e33_a8667f1c0621level0_row4\" class=\"row_heading level0 row4\" >6</th>\n",
       "                        <td id=\"T_1e7b3e9e_b6dd_11e9_9e33_a8667f1c0621row4_col0\" class=\"data row4 col0\" >-0.309646</td>\n",
       "                        <td id=\"T_1e7b3e9e_b6dd_11e9_9e33_a8667f1c0621row4_col1\" class=\"data row4 col1\" >0.00432821</td>\n",
       "                        <td id=\"T_1e7b3e9e_b6dd_11e9_9e33_a8667f1c0621row4_col2\" class=\"data row4 col2\" >0.0296227</td>\n",
       "                        <td id=\"T_1e7b3e9e_b6dd_11e9_9e33_a8667f1c0621row4_col3\" class=\"data row4 col3\" >0.253821</td>\n",
       "                        <td id=\"T_1e7b3e9e_b6dd_11e9_9e33_a8667f1c0621row4_col4\" class=\"data row4 col4\" >1</td>\n",
       "                        <td id=\"T_1e7b3e9e_b6dd_11e9_9e33_a8667f1c0621row4_col5\" class=\"data row4 col5\" >0.789556</td>\n",
       "                        <td id=\"T_1e7b3e9e_b6dd_11e9_9e33_a8667f1c0621row4_col6\" class=\"data row4 col6\" >0.183738</td>\n",
       "                        <td id=\"T_1e7b3e9e_b6dd_11e9_9e33_a8667f1c0621row4_col7\" class=\"data row4 col7\" >0.30151</td>\n",
       "                        <td id=\"T_1e7b3e9e_b6dd_11e9_9e33_a8667f1c0621row4_col8\" class=\"data row4 col8\" >0.317316</td>\n",
       "            </tr>\n",
       "            <tr>\n",
       "                        <th id=\"T_1e7b3e9e_b6dd_11e9_9e33_a8667f1c0621level0_row5\" class=\"row_heading level0 row5\" >7</th>\n",
       "                        <td id=\"T_1e7b3e9e_b6dd_11e9_9e33_a8667f1c0621row5_col0\" class=\"data row5 col0\" >-0.226257</td>\n",
       "                        <td id=\"T_1e7b3e9e_b6dd_11e9_9e33_a8667f1c0621row5_col1\" class=\"data row5 col1\" >0.110909</td>\n",
       "                        <td id=\"T_1e7b3e9e_b6dd_11e9_9e33_a8667f1c0621row5_col2\" class=\"data row5 col2\" >0.110192</td>\n",
       "                        <td id=\"T_1e7b3e9e_b6dd_11e9_9e33_a8667f1c0621row5_col3\" class=\"data row5 col3\" >0.228442</td>\n",
       "                        <td id=\"T_1e7b3e9e_b6dd_11e9_9e33_a8667f1c0621row5_col4\" class=\"data row5 col4\" >0.789556</td>\n",
       "                        <td id=\"T_1e7b3e9e_b6dd_11e9_9e33_a8667f1c0621row5_col5\" class=\"data row5 col5\" >1</td>\n",
       "                        <td id=\"T_1e7b3e9e_b6dd_11e9_9e33_a8667f1c0621row5_col6\" class=\"data row5 col6\" >0.192039</td>\n",
       "                        <td id=\"T_1e7b3e9e_b6dd_11e9_9e33_a8667f1c0621row5_col7\" class=\"data row5 col7\" >0.362808</td>\n",
       "                        <td id=\"T_1e7b3e9e_b6dd_11e9_9e33_a8667f1c0621row5_col8\" class=\"data row5 col8\" >0.373817</td>\n",
       "            </tr>\n",
       "            <tr>\n",
       "                        <th id=\"T_1e7b3e9e_b6dd_11e9_9e33_a8667f1c0621level0_row6\" class=\"row_heading level0 row6\" >8</th>\n",
       "                        <td id=\"T_1e7b3e9e_b6dd_11e9_9e33_a8667f1c0621row6_col0\" class=\"data row6 col0\" >-0.157097</td>\n",
       "                        <td id=\"T_1e7b3e9e_b6dd_11e9_9e33_a8667f1c0621row6_col1\" class=\"data row6 col1\" >0.146745</td>\n",
       "                        <td id=\"T_1e7b3e9e_b6dd_11e9_9e33_a8667f1c0621row6_col2\" class=\"data row6 col2\" >0.0954425</td>\n",
       "                        <td id=\"T_1e7b3e9e_b6dd_11e9_9e33_a8667f1c0621row6_col3\" class=\"data row6 col3\" >0.211011</td>\n",
       "                        <td id=\"T_1e7b3e9e_b6dd_11e9_9e33_a8667f1c0621row6_col4\" class=\"data row6 col4\" >0.183738</td>\n",
       "                        <td id=\"T_1e7b3e9e_b6dd_11e9_9e33_a8667f1c0621row6_col5\" class=\"data row6 col5\" >0.192039</td>\n",
       "                        <td id=\"T_1e7b3e9e_b6dd_11e9_9e33_a8667f1c0621row6_col6\" class=\"data row6 col6\" >1</td>\n",
       "                        <td id=\"T_1e7b3e9e_b6dd_11e9_9e33_a8667f1c0621row6_col7\" class=\"data row6 col7\" >0.167082</td>\n",
       "                        <td id=\"T_1e7b3e9e_b6dd_11e9_9e33_a8667f1c0621row6_col8\" class=\"data row6 col8\" >0.151037</td>\n",
       "            </tr>\n",
       "            <tr>\n",
       "                        <th id=\"T_1e7b3e9e_b6dd_11e9_9e33_a8667f1c0621level0_row7\" class=\"row_heading level0 row7\" >9</th>\n",
       "                        <td id=\"T_1e7b3e9e_b6dd_11e9_9e33_a8667f1c0621row7_col0\" class=\"data row7 col0\" >-0.107602</td>\n",
       "                        <td id=\"T_1e7b3e9e_b6dd_11e9_9e33_a8667f1c0621row7_col1\" class=\"data row7 col1\" >0.373615</td>\n",
       "                        <td id=\"T_1e7b3e9e_b6dd_11e9_9e33_a8667f1c0621row7_col2\" class=\"data row7 col2\" >0.495524</td>\n",
       "                        <td id=\"T_1e7b3e9e_b6dd_11e9_9e33_a8667f1c0621row7_col3\" class=\"data row7 col3\" >0.225017</td>\n",
       "                        <td id=\"T_1e7b3e9e_b6dd_11e9_9e33_a8667f1c0621row7_col4\" class=\"data row7 col4\" >0.30151</td>\n",
       "                        <td id=\"T_1e7b3e9e_b6dd_11e9_9e33_a8667f1c0621row7_col5\" class=\"data row7 col5\" >0.362808</td>\n",
       "                        <td id=\"T_1e7b3e9e_b6dd_11e9_9e33_a8667f1c0621row7_col6\" class=\"data row7 col6\" >0.167082</td>\n",
       "                        <td id=\"T_1e7b3e9e_b6dd_11e9_9e33_a8667f1c0621row7_col7\" class=\"data row7 col7\" >1</td>\n",
       "                        <td id=\"T_1e7b3e9e_b6dd_11e9_9e33_a8667f1c0621row7_col8\" class=\"data row7 col8\" >0.898149</td>\n",
       "            </tr>\n",
       "            <tr>\n",
       "                        <th id=\"T_1e7b3e9e_b6dd_11e9_9e33_a8667f1c0621level0_row8\" class=\"row_heading level0 row8\" >10</th>\n",
       "                        <td id=\"T_1e7b3e9e_b6dd_11e9_9e33_a8667f1c0621row8_col0\" class=\"data row8 col0\" >-0.076775</td>\n",
       "                        <td id=\"T_1e7b3e9e_b6dd_11e9_9e33_a8667f1c0621row8_col1\" class=\"data row8 col1\" >0.291087</td>\n",
       "                        <td id=\"T_1e7b3e9e_b6dd_11e9_9e33_a8667f1c0621row8_col2\" class=\"data row8 col2\" >0.445063</td>\n",
       "                        <td id=\"T_1e7b3e9e_b6dd_11e9_9e33_a8667f1c0621row8_col3\" class=\"data row8 col3\" >0.234523</td>\n",
       "                        <td id=\"T_1e7b3e9e_b6dd_11e9_9e33_a8667f1c0621row8_col4\" class=\"data row8 col4\" >0.317316</td>\n",
       "                        <td id=\"T_1e7b3e9e_b6dd_11e9_9e33_a8667f1c0621row8_col5\" class=\"data row8 col5\" >0.373817</td>\n",
       "                        <td id=\"T_1e7b3e9e_b6dd_11e9_9e33_a8667f1c0621row8_col6\" class=\"data row8 col6\" >0.151037</td>\n",
       "                        <td id=\"T_1e7b3e9e_b6dd_11e9_9e33_a8667f1c0621row8_col7\" class=\"data row8 col7\" >0.898149</td>\n",
       "                        <td id=\"T_1e7b3e9e_b6dd_11e9_9e33_a8667f1c0621row8_col8\" class=\"data row8 col8\" >1</td>\n",
       "            </tr>\n",
       "    </tbody></table>"
      ],
      "text/plain": [
       "<pandas.io.formats.style.Styler at 0x1a2f2af588>"
      ]
     },
     "execution_count": 19,
     "metadata": {},
     "output_type": "execute_result"
    }
   ],
   "source": [
    "#2. correlation heatmap\n",
    "corr=imputedDfWord.corr()\n",
    "corr.style.background_gradient(cmap='coolwarm')\n",
    "#3. pairwise scatterplot"
   ]
  },
  {
   "cell_type": "code",
   "execution_count": null,
   "metadata": {},
   "outputs": [
    {
     "data": {
      "text/plain": [
       "array([[-4241.17949493,  -408.92302408,   -51.74844373],\n",
       "       [-4099.91159302,  -105.54714441,   -58.12360005],\n",
       "       [-4238.50015023,  -407.89973205,   -49.42792461],\n",
       "       ...,\n",
       "       [ 4713.07173305,  3168.73704861,  -116.91664611],\n",
       "       [-4202.45120395,  -413.35666121,   -42.28378409],\n",
       "       [ 5106.96170909,  4021.09748364,   -83.14732173]])"
      ]
     },
     "execution_count": 20,
     "metadata": {},
     "output_type": "execute_result"
    }
   ],
   "source": [
    "from sklearn.decomposition import PCA\n",
    "df_word.dtypes\n",
    "pca=PCA(n_components=3)\n",
    "reduced=pca.fit_transform(imputedDfWord)\n",
    "recoverd=pca.inverse_transform(reduced)\n",
    "\n",
    "reduced"
   ]
  },
  {
   "cell_type": "code",
   "execution_count": null,
   "metadata": {},
   "outputs": [
    {
     "name": "stdout",
     "output_type": "stream",
     "text": [
      "Populating the interactive namespace from numpy and matplotlib\n"
     ]
    },
    {
     "data": {
      "image/png": "[encoded data removed]",
      "text/plain": [
       "<Figure size 576x576 with 1 Axes>"
      ]
     },
     "metadata": {
      "needs_background": "light"
     },
     "output_type": "display_data"
    }
   ],
   "source": [
    "#len(reduced)\n",
    "len(df_word)\n",
    "\n",
    "%pylab inline\n",
    "from matplotlib import pyplot as plt\n",
    "from mpl_toolkits.mplot3d import Axes3D\n",
    "from mpl_toolkits.mplot3d import proj3d\n",
    "\n",
    "fig = plt.figure(figsize=(8,8))\n",
    "ax = fig.add_subplot(111, projection='3d')\n",
    "plt.rcParams['legend.fontsize'] = 10   \n",
    "ax.plot(reduced[:,0], reduced[:,1], reduced[:,2], 'o', markersize=0.5, color='blue',  label='pca reduced')\n",
    "#ax.plot(reduced[:,0], reduced[:,1], reduced[:,2], '^', markersize=8, alpha=0.5, color='red', label='class2')\n",
    "\n",
    "plt.title('pca reduced data visualization')\n",
    "ax.legend(loc='upper right')\n",
    "\n",
    "plt.show()"
   ]
  },
  {
   "cell_type": "code",
   "execution_count": null,
   "metadata": {},
   "outputs": [],
   "source": [
    "from sklearn.decomposition import KernelPCA\n",
    "rbf_pca=KernelPCA(kernel='rbf')\n",
    "reduced=rbf_pca.fit_transform(imputedDfWord)"
   ]
  },
  {
   "cell_type": "code",
   "execution_count": null,
   "metadata": {},
   "outputs": [],
   "source": [
    "############LW End########################################"
   ]
  },
  {
   "cell_type": "code",
   "execution_count": null,
   "metadata": {},
   "outputs": [],
   "source": []
  },
  {
   "cell_type": "code",
   "execution_count": 15,
   "metadata": {},
   "outputs": [
    {
     "data": {
      "text/html": [
       "<div>\n",
       "<style scoped>\n",
       "    .dataframe tbody tr th:only-of-type {\n",
       "        vertical-align: middle;\n",
       "    }\n",
       "\n",
       "    .dataframe tbody tr th {\n",
       "        vertical-align: top;\n",
       "    }\n",
       "\n",
       "    .dataframe thead th {\n",
       "        text-align: right;\n",
       "    }\n",
       "</style>\n",
       "<table border=\"1\" class=\"dataframe\">\n",
       "  <thead>\n",
       "    <tr style=\"text-align: right;\">\n",
       "      <th></th>\n",
       "      <th>X0</th>\n",
       "      <th>X1</th>\n",
       "      <th>X2</th>\n",
       "      <th>X3</th>\n",
       "      <th>X4</th>\n",
       "      <th>X5</th>\n",
       "      <th>X6</th>\n",
       "      <th>X7</th>\n",
       "      <th>X8</th>\n",
       "      <th>X9</th>\n",
       "      <th>...</th>\n",
       "      <th>X16</th>\n",
       "      <th>X17</th>\n",
       "      <th>X18</th>\n",
       "      <th>X19</th>\n",
       "      <th>X20</th>\n",
       "      <th>X21</th>\n",
       "      <th>X22</th>\n",
       "      <th>X23</th>\n",
       "      <th>X24</th>\n",
       "      <th>word</th>\n",
       "    </tr>\n",
       "  </thead>\n",
       "  <tbody>\n",
       "    <tr>\n",
       "      <th>0</th>\n",
       "      <td>0</td>\n",
       "      <td>0</td>\n",
       "      <td>3</td>\n",
       "      <td>10.152628</td>\n",
       "      <td>0</td>\n",
       "      <td>0</td>\n",
       "      <td>0</td>\n",
       "      <td>0</td>\n",
       "      <td>0</td>\n",
       "      <td>0</td>\n",
       "      <td>...</td>\n",
       "      <td>0</td>\n",
       "      <td>0</td>\n",
       "      <td>0</td>\n",
       "      <td>0</td>\n",
       "      <td>0</td>\n",
       "      <td>0</td>\n",
       "      <td>0</td>\n",
       "      <td>0</td>\n",
       "      <td>09</td>\n",
       "      <td>8_0_0_0_0_0_0_0_0_0_9999</td>\n",
       "    </tr>\n",
       "    <tr>\n",
       "      <th>1</th>\n",
       "      <td>0</td>\n",
       "      <td>0</td>\n",
       "      <td>3</td>\n",
       "      <td>3.433987</td>\n",
       "      <td>0</td>\n",
       "      <td>0</td>\n",
       "      <td>0</td>\n",
       "      <td>0</td>\n",
       "      <td>0</td>\n",
       "      <td>1</td>\n",
       "      <td>...</td>\n",
       "      <td>1</td>\n",
       "      <td>0</td>\n",
       "      <td>1</td>\n",
       "      <td>9999</td>\n",
       "      <td>1</td>\n",
       "      <td>9999</td>\n",
       "      <td>9999</td>\n",
       "      <td>9999</td>\n",
       "      <td>09</td>\n",
       "      <td>1_0_0_0_0_0_1_9999_0_1_1</td>\n",
       "    </tr>\n",
       "    <tr>\n",
       "      <th>2</th>\n",
       "      <td>1</td>\n",
       "      <td>1</td>\n",
       "      <td>3</td>\n",
       "      <td>11.075768</td>\n",
       "      <td>0</td>\n",
       "      <td>0</td>\n",
       "      <td>0</td>\n",
       "      <td>0</td>\n",
       "      <td>0</td>\n",
       "      <td>2</td>\n",
       "      <td>...</td>\n",
       "      <td>1</td>\n",
       "      <td>0</td>\n",
       "      <td>2</td>\n",
       "      <td>2</td>\n",
       "      <td>2</td>\n",
       "      <td>2</td>\n",
       "      <td>9999</td>\n",
       "      <td>2</td>\n",
       "      <td>09</td>\n",
       "      <td>10_0_0_0_0_0_2_2_1_2_2</td>\n",
       "    </tr>\n",
       "  </tbody>\n",
       "</table>\n",
       "<p>3 rows × 26 columns</p>\n",
       "</div>"
      ],
      "text/plain": [
       "   X0  X1  X2         X3  X4  X5  X6  X7  X8  X9  ...  X16  X17  X18   X19  \\\n",
       "0   0   0   3  10.152628   0   0   0   0   0   0  ...    0    0    0     0   \n",
       "1   0   0   3   3.433987   0   0   0   0   0   1  ...    1    0    1  9999   \n",
       "2   1   1   3  11.075768   0   0   0   0   0   2  ...    1    0    2     2   \n",
       "\n",
       "   X20   X21   X22   X23  X24                      word  \n",
       "0    0     0     0     0   09  8_0_0_0_0_0_0_0_0_0_9999  \n",
       "1    1  9999  9999  9999   09  1_0_0_0_0_0_1_9999_0_1_1  \n",
       "2    2     2  9999     2   09    10_0_0_0_0_0_2_2_1_2_2  \n",
       "\n",
       "[3 rows x 26 columns]"
      ]
     },
     "execution_count": 15,
     "metadata": {},
     "output_type": "execute_result"
    }
   ],
   "source": [
    "df_word=df_word.applymap(str)\n",
    "df['word']=df_word.apply(lambda x: '_'.join(x),axis=1);df.head(3)"
   ]
  },
  {
   "cell_type": "code",
   "execution_count": 16,
   "metadata": {},
   "outputs": [],
   "source": [
    "####LDA#####\n",
    "df=df.sort_values(by=['X2'])"
   ]
  },
  {
   "cell_type": "code",
   "execution_count": 17,
   "metadata": {},
   "outputs": [
    {
     "data": {
      "text/html": [
       "<div>\n",
       "<style scoped>\n",
       "    .dataframe tbody tr th:only-of-type {\n",
       "        vertical-align: middle;\n",
       "    }\n",
       "\n",
       "    .dataframe tbody tr th {\n",
       "        vertical-align: top;\n",
       "    }\n",
       "\n",
       "    .dataframe thead th {\n",
       "        text-align: right;\n",
       "    }\n",
       "</style>\n",
       "<table border=\"1\" class=\"dataframe\">\n",
       "  <thead>\n",
       "    <tr style=\"text-align: right;\">\n",
       "      <th></th>\n",
       "      <th>X0</th>\n",
       "      <th>X1</th>\n",
       "      <th>X2</th>\n",
       "      <th>X3</th>\n",
       "      <th>X4</th>\n",
       "      <th>X5</th>\n",
       "      <th>X6</th>\n",
       "      <th>X7</th>\n",
       "      <th>X8</th>\n",
       "      <th>X9</th>\n",
       "      <th>...</th>\n",
       "      <th>X16</th>\n",
       "      <th>X17</th>\n",
       "      <th>X18</th>\n",
       "      <th>X19</th>\n",
       "      <th>X20</th>\n",
       "      <th>X21</th>\n",
       "      <th>X22</th>\n",
       "      <th>X23</th>\n",
       "      <th>X24</th>\n",
       "      <th>word</th>\n",
       "    </tr>\n",
       "  </thead>\n",
       "  <tbody>\n",
       "    <tr>\n",
       "      <th>0</th>\n",
       "      <td>0</td>\n",
       "      <td>0</td>\n",
       "      <td>3</td>\n",
       "      <td>10.152628</td>\n",
       "      <td>0</td>\n",
       "      <td>0</td>\n",
       "      <td>0</td>\n",
       "      <td>0</td>\n",
       "      <td>0</td>\n",
       "      <td>0</td>\n",
       "      <td>...</td>\n",
       "      <td>0</td>\n",
       "      <td>0</td>\n",
       "      <td>0</td>\n",
       "      <td>0</td>\n",
       "      <td>0</td>\n",
       "      <td>0</td>\n",
       "      <td>0</td>\n",
       "      <td>0</td>\n",
       "      <td>09</td>\n",
       "      <td>8_0_0_0_0_0_0_0_0_0_9999</td>\n",
       "    </tr>\n",
       "    <tr>\n",
       "      <th>1316</th>\n",
       "      <td>94</td>\n",
       "      <td>82</td>\n",
       "      <td>3</td>\n",
       "      <td>7.239717</td>\n",
       "      <td>6</td>\n",
       "      <td>0</td>\n",
       "      <td>0</td>\n",
       "      <td>0</td>\n",
       "      <td>6</td>\n",
       "      <td>743</td>\n",
       "      <td>...</td>\n",
       "      <td>37</td>\n",
       "      <td>4</td>\n",
       "      <td>388</td>\n",
       "      <td>327</td>\n",
       "      <td>2</td>\n",
       "      <td>157</td>\n",
       "      <td>50</td>\n",
       "      <td>2</td>\n",
       "      <td>09</td>\n",
       "      <td>3_6_0_0_0_6_743_634_44_60_19</td>\n",
       "    </tr>\n",
       "    <tr>\n",
       "      <th>1315</th>\n",
       "      <td>74</td>\n",
       "      <td>62</td>\n",
       "      <td>3</td>\n",
       "      <td>10.898398</td>\n",
       "      <td>6</td>\n",
       "      <td>0</td>\n",
       "      <td>0</td>\n",
       "      <td>0</td>\n",
       "      <td>6</td>\n",
       "      <td>742</td>\n",
       "      <td>...</td>\n",
       "      <td>37</td>\n",
       "      <td>4</td>\n",
       "      <td>388</td>\n",
       "      <td>327</td>\n",
       "      <td>2</td>\n",
       "      <td>157</td>\n",
       "      <td>50</td>\n",
       "      <td>2</td>\n",
       "      <td>09</td>\n",
       "      <td>10_6_0_0_0_6_742_633_32_60_19</td>\n",
       "    </tr>\n",
       "  </tbody>\n",
       "</table>\n",
       "<p>3 rows × 26 columns</p>\n",
       "</div>"
      ],
      "text/plain": [
       "      X0  X1  X2         X3  X4  X5  X6  X7  X8   X9  ...  X16  X17  X18  X19  \\\n",
       "0      0   0   3  10.152628   0   0   0   0   0    0  ...    0    0    0    0   \n",
       "1316  94  82   3   7.239717   6   0   0   0   6  743  ...   37    4  388  327   \n",
       "1315  74  62   3  10.898398   6   0   0   0   6  742  ...   37    4  388  327   \n",
       "\n",
       "      X20  X21  X22  X23  X24                           word  \n",
       "0       0    0    0    0   09       8_0_0_0_0_0_0_0_0_0_9999  \n",
       "1316    2  157   50    2   09   3_6_0_0_0_6_743_634_44_60_19  \n",
       "1315    2  157   50    2   09  10_6_0_0_0_6_742_633_32_60_19  \n",
       "\n",
       "[3 rows x 26 columns]"
      ]
     },
     "execution_count": 17,
     "metadata": {},
     "output_type": "execute_result"
    }
   ],
   "source": [
    "df.head(3)"
   ]
  },
  {
   "cell_type": "code",
   "execution_count": 18,
   "metadata": {},
   "outputs": [
    {
     "data": {
      "text/plain": [
       "array(['09', '10', '11', '12', '01', '02', '03', '04', '05', '06'],\n",
       "      dtype=object)"
      ]
     },
     "execution_count": 18,
     "metadata": {},
     "output_type": "execute_result"
    }
   ],
   "source": [
    "df['X24'].unique()"
   ]
  },
  {
   "cell_type": "code",
   "execution_count": 19,
   "metadata": {},
   "outputs": [
    {
     "name": "stdout",
     "output_type": "stream",
     "text": [
      "Total num of unique customer is: 740\n",
      "Total num of month is: 10\n",
      "740\n"
     ]
    }
   ],
   "source": [
    "uniq_month=df['X24'].unique()\n",
    "uniq_cust=df['X0'].unique()\n",
    "vocab=df['word'].unique()\n",
    "docs=[list(df[df['X0']==i]['word']) for i in range(len(uniq_cust))]\n",
    "print('Total num of unique customer is: %d'%len(uniq_cust))\n",
    "print('Total num of month is: %d'%len(uniq_month))\n",
    "print(len(docs))"
   ]
  },
  {
   "cell_type": "code",
   "execution_count": 20,
   "metadata": {},
   "outputs": [
    {
     "name": "stdout",
     "output_type": "stream",
     "text": [
      "143624\n",
      "1\n",
      "count       740.000000\n",
      "mean        301.544595\n",
      "std        5319.993036\n",
      "min           1.000000\n",
      "25%           4.000000\n",
      "50%          17.000000\n",
      "75%          32.000000\n",
      "max      143624.000000\n",
      "dtype: float64\n"
     ]
    }
   ],
   "source": [
    "each_doc_len=[len(docs[i]) for i in range(len(docs))] \n",
    "print(max(each_doc_len))\n",
    "print(min(each_doc_len))\n",
    "print(pd.Series(each_doc_len).describe())"
   ]
  },
  {
   "cell_type": "code",
   "execution_count": 23,
   "metadata": {},
   "outputs": [
    {
     "name": "stdout",
     "output_type": "stream",
     "text": [
      "Requirement already satisfied: spacy in /Users/lilywu/anaconda3/lib/python3.7/site-packages (2.1.6)\n",
      "Requirement already satisfied: blis<0.3.0,>=0.2.2 in /Users/lilywu/anaconda3/lib/python3.7/site-packages (from spacy) (0.2.4)\n",
      "Requirement already satisfied: thinc<7.1.0,>=7.0.8 in /Users/lilywu/anaconda3/lib/python3.7/site-packages (from spacy) (7.0.8)\n",
      "Requirement already satisfied: requests<3.0.0,>=2.13.0 in /Users/lilywu/anaconda3/lib/python3.7/site-packages (from spacy) (2.21.0)\n",
      "Requirement already satisfied: plac<1.0.0,>=0.9.6 in /Users/lilywu/anaconda3/lib/python3.7/site-packages (from spacy) (0.9.6)\n",
      "Requirement already satisfied: numpy>=1.15.0 in /Users/lilywu/anaconda3/lib/python3.7/site-packages (from spacy) (1.17.0)\n",
      "Requirement already satisfied: murmurhash<1.1.0,>=0.28.0 in /Users/lilywu/anaconda3/lib/python3.7/site-packages (from spacy) (1.0.2)\n",
      "Requirement already satisfied: cymem<2.1.0,>=2.0.2 in /Users/lilywu/anaconda3/lib/python3.7/site-packages (from spacy) (2.0.2)\n",
      "Requirement already satisfied: wasabi<1.1.0,>=0.2.0 in /Users/lilywu/anaconda3/lib/python3.7/site-packages (from spacy) (0.2.2)\n",
      "Requirement already satisfied: srsly<1.1.0,>=0.0.6 in /Users/lilywu/anaconda3/lib/python3.7/site-packages (from spacy) (0.0.7)\n",
      "Requirement already satisfied: preshed<2.1.0,>=2.0.1 in /Users/lilywu/anaconda3/lib/python3.7/site-packages (from spacy) (2.0.1)\n",
      "Requirement already satisfied: tqdm<5.0.0,>=4.10.0 in /Users/lilywu/anaconda3/lib/python3.7/site-packages (from thinc<7.1.0,>=7.0.8->spacy) (4.31.1)\n",
      "Requirement already satisfied: urllib3<1.25,>=1.21.1 in /Users/lilywu/anaconda3/lib/python3.7/site-packages (from requests<3.0.0,>=2.13.0->spacy) (1.24.1)\n",
      "Requirement already satisfied: certifi>=2017.4.17 in /Users/lilywu/anaconda3/lib/python3.7/site-packages (from requests<3.0.0,>=2.13.0->spacy) (2019.3.9)\n",
      "Requirement already satisfied: chardet<3.1.0,>=3.0.2 in /Users/lilywu/anaconda3/lib/python3.7/site-packages (from requests<3.0.0,>=2.13.0->spacy) (3.0.4)\n",
      "Requirement already satisfied: idna<2.9,>=2.5 in /Users/lilywu/anaconda3/lib/python3.7/site-packages (from requests<3.0.0,>=2.13.0->spacy) (2.8)\n",
      "Collecting pyLDAvis\n",
      "\u001b[?25l  Downloading https://files.pythonhosted.org/packages/a5/3a/af82e070a8a96e13217c8f362f9a73e82d61ac8fff3a2561946a97f96266/pyLDAvis-2.1.2.tar.gz (1.6MB)\n",
      "\u001b[K    100% |████████████████████████████████| 1.6MB 4.5MB/s ta 0:00:011\n",
      "\u001b[?25hRequirement already satisfied: wheel>=0.23.0 in /Users/lilywu/anaconda3/lib/python3.7/site-packages (from pyLDAvis) (0.33.4)\n",
      "Requirement already satisfied: numpy>=1.9.2 in /Users/lilywu/anaconda3/lib/python3.7/site-packages (from pyLDAvis) (1.17.0)\n",
      "Requirement already satisfied: scipy>=0.18.0 in /Users/lilywu/anaconda3/lib/python3.7/site-packages (from pyLDAvis) (1.2.1)\n",
      "Requirement already satisfied: pandas>=0.17.0 in /Users/lilywu/anaconda3/lib/python3.7/site-packages (from pyLDAvis) (0.24.2)\n",
      "Collecting joblib>=0.8.4 (from pyLDAvis)\n",
      "\u001b[?25l  Downloading https://files.pythonhosted.org/packages/cd/c1/50a758e8247561e58cb87305b1e90b171b8c767b15b12a1734001f41d356/joblib-0.13.2-py2.py3-none-any.whl (278kB)\n",
      "\u001b[K    100% |████████████████████████████████| 286kB 8.4MB/s eta 0:00:01\n",
      "\u001b[?25hRequirement already satisfied: jinja2>=2.7.2 in /Users/lilywu/anaconda3/lib/python3.7/site-packages (from pyLDAvis) (2.10)\n",
      "Requirement already satisfied: numexpr in /Users/lilywu/anaconda3/lib/python3.7/site-packages (from pyLDAvis) (2.6.9)\n",
      "Requirement already satisfied: pytest in /Users/lilywu/anaconda3/lib/python3.7/site-packages (from pyLDAvis) (4.3.1)\n",
      "Requirement already satisfied: future in /Users/lilywu/anaconda3/lib/python3.7/site-packages (from pyLDAvis) (0.17.1)\n",
      "Collecting funcy (from pyLDAvis)\n",
      "  Downloading https://files.pythonhosted.org/packages/b3/23/d1f90f4e2af5f9d4921ab3797e33cf0503e3f130dd390a812f3bf59ce9ea/funcy-1.12-py2.py3-none-any.whl\n",
      "Requirement already satisfied: python-dateutil>=2.5.0 in /Users/lilywu/anaconda3/lib/python3.7/site-packages (from pandas>=0.17.0->pyLDAvis) (2.8.0)\n",
      "Requirement already satisfied: pytz>=2011k in /Users/lilywu/anaconda3/lib/python3.7/site-packages (from pandas>=0.17.0->pyLDAvis) (2018.9)\n",
      "Requirement already satisfied: MarkupSafe>=0.23 in /Users/lilywu/anaconda3/lib/python3.7/site-packages (from jinja2>=2.7.2->pyLDAvis) (1.1.1)\n",
      "Requirement already satisfied: py>=1.5.0 in /Users/lilywu/anaconda3/lib/python3.7/site-packages (from pytest->pyLDAvis) (1.8.0)\n",
      "Requirement already satisfied: six>=1.10.0 in /Users/lilywu/anaconda3/lib/python3.7/site-packages (from pytest->pyLDAvis) (1.12.0)\n",
      "Requirement already satisfied: setuptools in /Users/lilywu/anaconda3/lib/python3.7/site-packages (from pytest->pyLDAvis) (41.0.1)\n",
      "Requirement already satisfied: attrs>=17.4.0 in /Users/lilywu/anaconda3/lib/python3.7/site-packages (from pytest->pyLDAvis) (19.1.0)\n",
      "Requirement already satisfied: atomicwrites>=1.0 in /Users/lilywu/anaconda3/lib/python3.7/site-packages (from pytest->pyLDAvis) (1.3.0)\n",
      "Requirement already satisfied: pluggy>=0.7 in /Users/lilywu/anaconda3/lib/python3.7/site-packages (from pytest->pyLDAvis) (0.9.0)\n",
      "Requirement already satisfied: more-itertools>=4.0.0 in /Users/lilywu/anaconda3/lib/python3.7/site-packages (from pytest->pyLDAvis) (6.0.0)\n",
      "Building wheels for collected packages: pyLDAvis\n",
      "  Building wheel for pyLDAvis (setup.py) ... \u001b[?25ldone\n",
      "\u001b[?25h  Stored in directory: /Users/lilywu/Library/Caches/pip/wheels/98/71/24/513a99e58bb6b8465bae4d2d5e9dba8f0bef8179e3051ac414\n",
      "Successfully built pyLDAvis\n",
      "Installing collected packages: joblib, funcy, pyLDAvis\n",
      "Successfully installed funcy-1.12 joblib-0.13.2 pyLDAvis-2.1.2\n"
     ]
    }
   ],
   "source": [
    "########################\n",
    "#### ScikitLearn-LDA####\n",
    "########################\n",
    "# Run in terminal or command prompt\n",
    "# python3 -m spacy download en\n",
    "!pip install spacy\n",
    "!pip install pyLDAvis\n",
    "import numpy as np\n",
    "import pandas as pd\n",
    "import re, nltk, spacy, gensim\n",
    "\n",
    "# Sklearn\n",
    "from sklearn.decomposition import LatentDirichletAllocation, TruncatedSVD\n",
    "from sklearn.feature_extraction.text import CountVectorizer, TfidfVectorizer\n",
    "from sklearn.model_selection import GridSearchCV\n",
    "from pprint import pprint\n",
    "\n",
    "# Plotting tools\n",
    "import pyLDAvis\n",
    "import pyLDAvis.sklearn\n",
    "import matplotlib.pyplot as plt\n",
    "%matplotlib inline\n"
   ]
  },
  {
   "cell_type": "code",
   "execution_count": null,
   "metadata": {},
   "outputs": [],
   "source": [
    "data=docs\n",
    "data=[[str(word) for word in doc] for doc in data]\n",
    "id2word=corpora.Dictionary(data)\n",
    "corpus = [id2word.doc2bow(text) for text in data]"
   ]
  },
  {
   "cell_type": "code",
   "execution_count": null,
   "metadata": {},
   "outputs": [],
   "source": []
  },
  {
   "cell_type": "code",
   "execution_count": null,
   "metadata": {},
   "outputs": [],
   "source": []
  },
  {
   "cell_type": "code",
   "execution_count": null,
   "metadata": {},
   "outputs": [],
   "source": []
  },
  {
   "cell_type": "code",
   "execution_count": null,
   "metadata": {},
   "outputs": [],
   "source": []
  },
  {
   "cell_type": "code",
   "execution_count": null,
   "metadata": {},
   "outputs": [],
   "source": [
    "#########################END################################################"
   ]
  },
  {
   "cell_type": "code",
   "execution_count": 25,
   "metadata": {},
   "outputs": [],
   "source": []
  },
  {
   "cell_type": "code",
   "execution_count": null,
   "metadata": {},
   "outputs": [],
   "source": [
    "###################\n",
    "#### Gensim-LDA####\n",
    "###################\n",
    "import gensim\n",
    "import gensim.corpora as corpora\n",
    "from gensim.models import CoherenceModel\n",
    "from pprint import pprint\n",
    "data=docs\n",
    "data=[[str(word) for word in doc] for doc in data]\n",
    "id2word=corpora.Dictionary(data)\n",
    "corpus = [id2word.doc2bow(text) for text in data]"
   ]
  },
  {
   "cell_type": "code",
   "execution_count": 57,
   "metadata": {},
   "outputs": [
    {
     "name": "stdout",
     "output_type": "stream",
     "text": [
      "Dictionary(73904 unique tokens: ['10_0_0_0_0_0_10166_1866_0_1_1', '10_0_0_0_0_0_10176_6787_0_24_9999', '10_0_0_0_0_0_10178_6788_9999_2_1', '10_0_0_0_0_0_10192_2873_0_1_1', '10_0_0_0_0_0_10246_6824_0_2_1']...)\n"
     ]
    }
   ],
   "source": [
    "print(id2word)"
   ]
  },
  {
   "cell_type": "code",
   "execution_count": 47,
   "metadata": {},
   "outputs": [],
   "source": [
    "from time import time\n",
    "def best_topic_num(dic,corpus,data,start,end,step):\n",
    "    coherence_values = []\n",
    "    model_list = []\n",
    "    for num_topics in range(start,end, step):\n",
    "        t0=time()\n",
    "        model=gensim.models.ldamodel.LdaModel(corpus=corpus,\n",
    "                                           id2word=dic,\n",
    "                                           num_topics=num_topics , \n",
    "                                           random_state=0,\n",
    "                                           update_every=1,\n",
    "                                           alpha='auto',\n",
    "                                           per_word_topics=True,\n",
    "                                           passes = 20,\n",
    "                                           iterations = 400,\n",
    "                                           eval_every = 1)\n",
    "        model_list.append(model)\n",
    "        coherencemodel = CoherenceModel(model=model, texts=data, dictionary=dic, coherence='c_v')\n",
    "        coherence_values.append(coherencemodel.get_coherence())\n",
    "        print('# %d is completed! This step costs %s sec'%(num_topics,str(time()-t0)))\n",
    "\n",
    "    return model_list, coherence_values"
   ]
  },
  {
   "cell_type": "code",
   "execution_count": 49,
   "metadata": {},
   "outputs": [
    {
     "name": "stdout",
     "output_type": "stream",
     "text": [
      "# 3 is completed! This step costs 31.294496059417725 sec\n",
      "# 4 is completed! This step costs 32.87674283981323 sec\n",
      "# 5 is completed! This step costs 33.53972101211548 sec\n",
      "# 6 is completed! This step costs 33.390941858291626 sec\n",
      "# 7 is completed! This step costs 33.45673418045044 sec\n",
      "# 8 is completed! This step costs 33.843913078308105 sec\n",
      "# 9 is completed! This step costs 35.133776903152466 sec\n",
      "# 10 is completed! This step costs 36.521097898483276 sec\n",
      "# 11 is completed! This step costs 38.04939889907837 sec\n",
      "# 12 is completed! This step costs 44.36446261405945 sec\n",
      "# 13 is completed! This step costs 45.652857065200806 sec\n",
      "# 14 is completed! This step costs 41.06421494483948 sec\n",
      "# 15 is completed! This step costs 45.12998986244202 sec\n",
      "# 16 is completed! This step costs 43.8692991733551 sec\n",
      "# 17 is completed! This step costs 44.72411894798279 sec\n",
      "# 18 is completed! This step costs 48.45328402519226 sec\n",
      "# 19 is completed! This step costs 49.310787200927734 sec\n"
     ]
    }
   ],
   "source": [
    "#### best topic number #######\n",
    "model_list, coherence_values = best_topic_num(dic=id2word, \n",
    "                                            corpus=corpus, \n",
    "                                            data=data, \n",
    "                                            start=3, \n",
    "                                            end=20, \n",
    "                                            step=1)\n"
   ]
  },
  {
   "cell_type": "code",
   "execution_count": 50,
   "metadata": {},
   "outputs": [
    {
     "name": "stdout",
     "output_type": "stream",
     "text": [
      "Num Topics = 3  has Coherence Value of 0.4964403653361591\n",
      "Num Topics = 4  has Coherence Value of 0.5080878650375275\n",
      "Num Topics = 5  has Coherence Value of 0.4800228888227208\n",
      "Num Topics = 6  has Coherence Value of 0.4833950787103964\n",
      "Num Topics = 7  has Coherence Value of 0.5138708619274149\n",
      "Num Topics = 8  has Coherence Value of 0.560210234838278\n",
      "Num Topics = 9  has Coherence Value of 0.4733903395052028\n",
      "Num Topics = 10  has Coherence Value of 0.42712122563468824\n",
      "Num Topics = 11  has Coherence Value of 0.40641944602388597\n",
      "Num Topics = 12  has Coherence Value of 0.4631038404749897\n",
      "Num Topics = 13  has Coherence Value of 0.4868081127687616\n",
      "Num Topics = 14  has Coherence Value of 0.455640552019294\n",
      "Num Topics = 15  has Coherence Value of 0.44618319109042165\n",
      "Num Topics = 16  has Coherence Value of 0.4206386562508695\n",
      "Num Topics = 17  has Coherence Value of 0.40995656380114764\n",
      "Num Topics = 18  has Coherence Value of 0.38069858112738886\n",
      "Num Topics = 19  has Coherence Value of 0.38681127539502813\n"
     ]
    },
    {
     "data": {
      "image/png": "[encoded data removed]",
      "text/plain": [
       "<Figure size 432x288 with 1 Axes>"
      ]
     },
     "metadata": {
      "needs_background": "light"
     },
     "output_type": "display_data"
    }
   ],
   "source": [
    "# Plotting tools\n",
    "import matplotlib.pyplot as plt\n",
    "%matplotlib inline\n",
    "num_topic_range = range(3, 20, 1)\n",
    "for x,y in zip(num_topic_range, coherence_values):\n",
    "    print(\"Num Topics =\", x, \" has Coherence Value of\", y)\n",
    "plt.plot(num_topic_range, coherence_values)\n",
    "plt.xlabel(\"Num Topics\")\n",
    "plt.ylabel(\"Coherence score\")\n",
    "plt.legend((\"coherence_values\"), loc='best')\n",
    "plt.show()"
   ]
  },
  {
   "cell_type": "code",
   "execution_count": null,
   "metadata": {},
   "outputs": [],
   "source": [
    "###############\n",
    "##best-model###\n",
    "###############\n",
    "best_model = gensim.models.ldamodel.LdaModel(corpus=corpus,\n",
    "                                           id2word=id2word,\n",
    "                                           num_topics=6, \n",
    "                                           random_state=0,\n",
    "                                           update_every=1,\n",
    "                                           alpha='auto',\n",
    "                                           per_word_topics=True)"
   ]
  },
  {
   "cell_type": "code",
   "execution_count": null,
   "metadata": {},
   "outputs": [],
   "source": [
    "predict_cluster=[[cust,best_model.get_document_topics(bow=corpus[cust])[0][0]] for cust in range(len(uniq_cust))]"
   ]
  },
  {
   "cell_type": "code",
   "execution_count": 190,
   "metadata": {},
   "outputs": [],
   "source": [
    "predict_cluster_df=pd.DataFrame(predict_cluster,columns=['cust_id','cluster'])"
   ]
  },
  {
   "cell_type": "code",
   "execution_count": 191,
   "metadata": {},
   "outputs": [],
   "source": [
    "df1=df.merge(predict_cluster_df,how='left',left_on='X0',right_on='cust_id')"
   ]
  },
  {
   "cell_type": "code",
   "execution_count": 196,
   "metadata": {},
   "outputs": [
    {
     "data": {
      "text/plain": [
       "array([0, 1, 4, 2, 3, 5])"
      ]
     },
     "execution_count": 196,
     "metadata": {},
     "output_type": "execute_result"
    }
   ],
   "source": [
    "df1.cluster.unique()"
   ]
  },
  {
   "cell_type": "code",
   "execution_count": 198,
   "metadata": {},
   "outputs": [
    {
     "data": {
      "text/html": [
       "<div>\n",
       "<style scoped>\n",
       "    .dataframe tbody tr th:only-of-type {\n",
       "        vertical-align: middle;\n",
       "    }\n",
       "\n",
       "    .dataframe tbody tr th {\n",
       "        vertical-align: top;\n",
       "    }\n",
       "\n",
       "    .dataframe thead th {\n",
       "        text-align: right;\n",
       "    }\n",
       "</style>\n",
       "<table border=\"1\" class=\"dataframe\">\n",
       "  <thead>\n",
       "    <tr style=\"text-align: right;\">\n",
       "      <th></th>\n",
       "      <th>X0</th>\n",
       "      <th>X1</th>\n",
       "      <th>X2</th>\n",
       "      <th>X3</th>\n",
       "      <th>X4</th>\n",
       "      <th>X5</th>\n",
       "      <th>X6</th>\n",
       "      <th>X7</th>\n",
       "      <th>X8</th>\n",
       "      <th>X9</th>\n",
       "      <th>X10</th>\n",
       "      <th>X11</th>\n",
       "      <th>X18</th>\n",
       "      <th>X20</th>\n",
       "      <th>X24</th>\n",
       "      <th>word</th>\n",
       "      <th>cust_id</th>\n",
       "      <th>cluster</th>\n",
       "    </tr>\n",
       "  </thead>\n",
       "  <tbody>\n",
       "    <tr>\n",
       "      <th>0</th>\n",
       "      <td>0</td>\n",
       "      <td>0</td>\n",
       "      <td>3</td>\n",
       "      <td>10.152628</td>\n",
       "      <td>0</td>\n",
       "      <td>0</td>\n",
       "      <td>0</td>\n",
       "      <td>0</td>\n",
       "      <td>0</td>\n",
       "      <td>0</td>\n",
       "      <td>0</td>\n",
       "      <td>0</td>\n",
       "      <td>0</td>\n",
       "      <td>0</td>\n",
       "      <td>09</td>\n",
       "      <td>8_0_0_0_0_0_0_0_0_0_0</td>\n",
       "      <td>0</td>\n",
       "      <td>0</td>\n",
       "    </tr>\n",
       "    <tr>\n",
       "      <th>1</th>\n",
       "      <td>0</td>\n",
       "      <td>0</td>\n",
       "      <td>3</td>\n",
       "      <td>3.433987</td>\n",
       "      <td>0</td>\n",
       "      <td>0</td>\n",
       "      <td>0</td>\n",
       "      <td>0</td>\n",
       "      <td>0</td>\n",
       "      <td>1</td>\n",
       "      <td>9999</td>\n",
       "      <td>0</td>\n",
       "      <td>1</td>\n",
       "      <td>1</td>\n",
       "      <td>09</td>\n",
       "      <td>1_0_0_0_0_0_1_9999_0_1_1</td>\n",
       "      <td>0</td>\n",
       "      <td>0</td>\n",
       "    </tr>\n",
       "    <tr>\n",
       "      <th>2</th>\n",
       "      <td>1</td>\n",
       "      <td>1</td>\n",
       "      <td>3</td>\n",
       "      <td>11.075768</td>\n",
       "      <td>0</td>\n",
       "      <td>0</td>\n",
       "      <td>0</td>\n",
       "      <td>0</td>\n",
       "      <td>0</td>\n",
       "      <td>2</td>\n",
       "      <td>2</td>\n",
       "      <td>1</td>\n",
       "      <td>2</td>\n",
       "      <td>2</td>\n",
       "      <td>09</td>\n",
       "      <td>10_0_0_0_0_0_2_2_1_2_2</td>\n",
       "      <td>1</td>\n",
       "      <td>1</td>\n",
       "    </tr>\n",
       "  </tbody>\n",
       "</table>\n",
       "</div>"
      ],
      "text/plain": [
       "   X0  X1  X2         X3  X4  X5  X6  X7  X8  X9   X10  X11  X18  X20 X24  \\\n",
       "0   0   0   3  10.152628   0   0   0   0   0   0     0    0    0    0  09   \n",
       "1   0   0   3   3.433987   0   0   0   0   0   1  9999    0    1    1  09   \n",
       "2   1   1   3  11.075768   0   0   0   0   0   2     2    1    2    2  09   \n",
       "\n",
       "                       word  cust_id  cluster  \n",
       "0     8_0_0_0_0_0_0_0_0_0_0        0        0  \n",
       "1  1_0_0_0_0_0_1_9999_0_1_1        0        0  \n",
       "2    10_0_0_0_0_0_2_2_1_2_2        1        1  "
      ]
     },
     "execution_count": 198,
     "metadata": {},
     "output_type": "execute_result"
    }
   ],
   "source": [
    "df1.head(3)"
   ]
  },
  {
   "cell_type": "code",
   "execution_count": 199,
   "metadata": {},
   "outputs": [
    {
     "data": {
      "text/plain": [
       "0    152899\n",
       "1     28122\n",
       "2     22231\n",
       "4      8150\n",
       "3      7784\n",
       "5      3957\n",
       "Name: cluster, dtype: int64"
      ]
     },
     "execution_count": 199,
     "metadata": {},
     "output_type": "execute_result"
    }
   ],
   "source": [
    "##################\n",
    "##Auto-encoder####\n",
    "##################\n",
    "df1['cluster'].value_counts()"
   ]
  },
  {
   "cell_type": "code",
   "execution_count": 203,
   "metadata": {},
   "outputs": [],
   "source": [
    "df_sub=df1[df1['cluster']==0]"
   ]
  },
  {
   "cell_type": "code",
   "execution_count": 204,
   "metadata": {},
   "outputs": [
    {
     "data": {
      "text/html": [
       "<div>\n",
       "<style scoped>\n",
       "    .dataframe tbody tr th:only-of-type {\n",
       "        vertical-align: middle;\n",
       "    }\n",
       "\n",
       "    .dataframe tbody tr th {\n",
       "        vertical-align: top;\n",
       "    }\n",
       "\n",
       "    .dataframe thead th {\n",
       "        text-align: right;\n",
       "    }\n",
       "</style>\n",
       "<table border=\"1\" class=\"dataframe\">\n",
       "  <thead>\n",
       "    <tr style=\"text-align: right;\">\n",
       "      <th></th>\n",
       "      <th>X0</th>\n",
       "      <th>X1</th>\n",
       "      <th>X2</th>\n",
       "      <th>X3</th>\n",
       "      <th>X4</th>\n",
       "      <th>X5</th>\n",
       "      <th>X6</th>\n",
       "      <th>X7</th>\n",
       "      <th>X8</th>\n",
       "      <th>X9</th>\n",
       "      <th>X10</th>\n",
       "      <th>X11</th>\n",
       "      <th>X18</th>\n",
       "      <th>X20</th>\n",
       "      <th>X24</th>\n",
       "      <th>word</th>\n",
       "      <th>cust_id</th>\n",
       "      <th>cluster</th>\n",
       "    </tr>\n",
       "  </thead>\n",
       "  <tbody>\n",
       "    <tr>\n",
       "      <th>0</th>\n",
       "      <td>0</td>\n",
       "      <td>0</td>\n",
       "      <td>3</td>\n",
       "      <td>10.152628</td>\n",
       "      <td>0</td>\n",
       "      <td>0</td>\n",
       "      <td>0</td>\n",
       "      <td>0</td>\n",
       "      <td>0</td>\n",
       "      <td>0</td>\n",
       "      <td>0</td>\n",
       "      <td>0</td>\n",
       "      <td>0</td>\n",
       "      <td>0</td>\n",
       "      <td>09</td>\n",
       "      <td>8_0_0_0_0_0_0_0_0_0_0</td>\n",
       "      <td>0</td>\n",
       "      <td>0</td>\n",
       "    </tr>\n",
       "    <tr>\n",
       "      <th>1</th>\n",
       "      <td>0</td>\n",
       "      <td>0</td>\n",
       "      <td>3</td>\n",
       "      <td>3.433987</td>\n",
       "      <td>0</td>\n",
       "      <td>0</td>\n",
       "      <td>0</td>\n",
       "      <td>0</td>\n",
       "      <td>0</td>\n",
       "      <td>1</td>\n",
       "      <td>9999</td>\n",
       "      <td>0</td>\n",
       "      <td>1</td>\n",
       "      <td>1</td>\n",
       "      <td>09</td>\n",
       "      <td>1_0_0_0_0_0_1_9999_0_1_1</td>\n",
       "      <td>0</td>\n",
       "      <td>0</td>\n",
       "    </tr>\n",
       "    <tr>\n",
       "      <th>3</th>\n",
       "      <td>0</td>\n",
       "      <td>0</td>\n",
       "      <td>3</td>\n",
       "      <td>11.946955</td>\n",
       "      <td>0</td>\n",
       "      <td>0</td>\n",
       "      <td>0</td>\n",
       "      <td>0</td>\n",
       "      <td>0</td>\n",
       "      <td>3</td>\n",
       "      <td>3</td>\n",
       "      <td>0</td>\n",
       "      <td>3</td>\n",
       "      <td>3</td>\n",
       "      <td>09</td>\n",
       "      <td>11_0_0_0_0_0_3_3_0_3_3</td>\n",
       "      <td>0</td>\n",
       "      <td>0</td>\n",
       "    </tr>\n",
       "  </tbody>\n",
       "</table>\n",
       "</div>"
      ],
      "text/plain": [
       "   X0  X1  X2         X3  X4  X5  X6  X7  X8  X9   X10  X11  X18  X20 X24  \\\n",
       "0   0   0   3  10.152628   0   0   0   0   0   0     0    0    0    0  09   \n",
       "1   0   0   3   3.433987   0   0   0   0   0   1  9999    0    1    1  09   \n",
       "3   0   0   3  11.946955   0   0   0   0   0   3     3    0    3    3  09   \n",
       "\n",
       "                       word  cust_id  cluster  \n",
       "0     8_0_0_0_0_0_0_0_0_0_0        0        0  \n",
       "1  1_0_0_0_0_0_1_9999_0_1_1        0        0  \n",
       "3    11_0_0_0_0_0_3_3_0_3_3        0        0  "
      ]
     },
     "execution_count": 204,
     "metadata": {},
     "output_type": "execute_result"
    }
   ],
   "source": [
    "df_sub.head(3)"
   ]
  },
  {
   "cell_type": "code",
   "execution_count": 205,
   "metadata": {},
   "outputs": [
    {
     "data": {
      "text/html": [
       "<div>\n",
       "<style scoped>\n",
       "    .dataframe tbody tr th:only-of-type {\n",
       "        vertical-align: middle;\n",
       "    }\n",
       "\n",
       "    .dataframe tbody tr th {\n",
       "        vertical-align: top;\n",
       "    }\n",
       "\n",
       "    .dataframe thead th {\n",
       "        text-align: right;\n",
       "    }\n",
       "</style>\n",
       "<table border=\"1\" class=\"dataframe\">\n",
       "  <thead>\n",
       "    <tr style=\"text-align: right;\">\n",
       "      <th></th>\n",
       "      <th>X0</th>\n",
       "      <th>X1</th>\n",
       "      <th>X2</th>\n",
       "      <th>X3</th>\n",
       "      <th>X4</th>\n",
       "      <th>X5</th>\n",
       "      <th>X6</th>\n",
       "      <th>X7</th>\n",
       "      <th>X8</th>\n",
       "      <th>X9</th>\n",
       "      <th>X10</th>\n",
       "      <th>X11</th>\n",
       "      <th>X18</th>\n",
       "      <th>X20</th>\n",
       "      <th>X24</th>\n",
       "      <th>word</th>\n",
       "      <th>cust_id</th>\n",
       "      <th>cluster</th>\n",
       "    </tr>\n",
       "  </thead>\n",
       "  <tbody>\n",
       "    <tr>\n",
       "      <th>0</th>\n",
       "      <td>0</td>\n",
       "      <td>0</td>\n",
       "      <td>3</td>\n",
       "      <td>10.152628</td>\n",
       "      <td>0</td>\n",
       "      <td>0</td>\n",
       "      <td>0</td>\n",
       "      <td>0</td>\n",
       "      <td>0</td>\n",
       "      <td>0</td>\n",
       "      <td>0</td>\n",
       "      <td>0</td>\n",
       "      <td>0</td>\n",
       "      <td>0</td>\n",
       "      <td>09</td>\n",
       "      <td>8_0_0_0_0_0_0_0_0_0_0</td>\n",
       "      <td>0</td>\n",
       "      <td>0</td>\n",
       "    </tr>\n",
       "    <tr>\n",
       "      <th>1</th>\n",
       "      <td>0</td>\n",
       "      <td>0</td>\n",
       "      <td>3</td>\n",
       "      <td>3.433987</td>\n",
       "      <td>0</td>\n",
       "      <td>0</td>\n",
       "      <td>0</td>\n",
       "      <td>0</td>\n",
       "      <td>0</td>\n",
       "      <td>1</td>\n",
       "      <td>9999</td>\n",
       "      <td>0</td>\n",
       "      <td>1</td>\n",
       "      <td>1</td>\n",
       "      <td>09</td>\n",
       "      <td>1_0_0_0_0_0_1_9999_0_1_1</td>\n",
       "      <td>0</td>\n",
       "      <td>0</td>\n",
       "    </tr>\n",
       "    <tr>\n",
       "      <th>3</th>\n",
       "      <td>0</td>\n",
       "      <td>0</td>\n",
       "      <td>3</td>\n",
       "      <td>11.946955</td>\n",
       "      <td>0</td>\n",
       "      <td>0</td>\n",
       "      <td>0</td>\n",
       "      <td>0</td>\n",
       "      <td>0</td>\n",
       "      <td>3</td>\n",
       "      <td>3</td>\n",
       "      <td>0</td>\n",
       "      <td>3</td>\n",
       "      <td>3</td>\n",
       "      <td>09</td>\n",
       "      <td>11_0_0_0_0_0_3_3_0_3_3</td>\n",
       "      <td>0</td>\n",
       "      <td>0</td>\n",
       "    </tr>\n",
       "  </tbody>\n",
       "</table>\n",
       "</div>"
      ],
      "text/plain": [
       "   X0  X1  X2         X3  X4  X5  X6  X7  X8  X9   X10  X11  X18  X20 X24  \\\n",
       "0   0   0   3  10.152628   0   0   0   0   0   0     0    0    0    0  09   \n",
       "1   0   0   3   3.433987   0   0   0   0   0   1  9999    0    1    1  09   \n",
       "3   0   0   3  11.946955   0   0   0   0   0   3     3    0    3    3  09   \n",
       "\n",
       "                       word  cust_id  cluster  \n",
       "0     8_0_0_0_0_0_0_0_0_0_0        0        0  \n",
       "1  1_0_0_0_0_0_1_9999_0_1_1        0        0  \n",
       "3    11_0_0_0_0_0_3_3_0_3_3        0        0  "
      ]
     },
     "execution_count": 205,
     "metadata": {},
     "output_type": "execute_result"
    }
   ],
   "source": [
    "df=df_sub.copy();df.head(3)"
   ]
  },
  {
   "cell_type": "code",
   "execution_count": 206,
   "metadata": {},
   "outputs": [
    {
     "name": "stderr",
     "output_type": "stream",
     "text": [
      "100%|██████████| 371/371 [00:32<00:00, 11.76it/s]"
     ]
    },
    {
     "name": "stdout",
     "output_type": "stream",
     "text": [
      "32.01265478134155\n"
     ]
    },
    {
     "name": "stderr",
     "output_type": "stream",
     "text": [
      "\n"
     ]
    }
   ],
   "source": [
    "##########################\n",
    "##Sample Generation#######\n",
    "##########################\n",
    "from tqdm import tqdm\n",
    "from time import time\n",
    "data=[]\n",
    "uniq_month=df['X24'].unique()\n",
    "uniq_cust=df['X0'].unique()\n",
    "uniq_cust.sort()\n",
    "time0=time()\n",
    "for cust in tqdm(uniq_cust):\n",
    "    for month in uniq_month:\n",
    "        item=df[(df['X24']==month) &\n",
    "                (df[\"X0\"]== cust)].sort_values(by=['X2'])\n",
    "        if item.shape[0]>=10:#why shape[0]>=10\n",
    "            item=item.drop(['X0','X1','X2','X24','word','cust_id','cluster'],axis=1)\n",
    "            data.append(item)\n",
    "print(time()-time0)"
   ]
  },
  {
   "cell_type": "code",
   "execution_count": 210,
   "metadata": {},
   "outputs": [
    {
     "name": "stdout",
     "output_type": "stream",
     "text": [
      "Total num of sample is: 135\n",
      "Total num of unique customer is: 371\n",
      "Total num of unique month is: 10\n"
     ]
    }
   ],
   "source": [
    "print('Total num of sample is: %d' %len(data))\n",
    "print('Total num of unique customer is: %d'%len(uniq_cust))\n",
    "print('Total num of unique month is: %d'%len(uniq_month))"
   ]
  },
  {
   "cell_type": "code",
   "execution_count": 220,
   "metadata": {},
   "outputs": [],
   "source": [
    "def rolling_window_x(x,lookback):\n",
    "    rolling_x=[]\n",
    "    for i in range(lookback, len(x)+1):\n",
    "        rolling_x.append(x.iloc[(i-lookback):i,:])\n",
    "    return rolling_x"
   ]
  },
  {
   "cell_type": "code",
   "execution_count": 221,
   "metadata": {},
   "outputs": [
    {
     "name": "stderr",
     "output_type": "stream",
     "text": [
      "100%|██████████| 135/135 [00:29<00:00, 37.07it/s]\n"
     ]
    },
    {
     "data": {
      "text/plain": [
       "(148673, 10, 11)"
      ]
     },
     "execution_count": 221,
     "metadata": {},
     "output_type": "execute_result"
    }
   ],
   "source": [
    "#########################\n",
    "###Generate 3D array####\n",
    "#######################\n",
    "###[np.array(mat_3D[i]) for i in range(len(mat_3D))]!!!!!\n",
    "lookback=10\n",
    "X=np.empty(shape=(1,10,data[0].shape[1]))\n",
    "for sample in tqdm(range(len(data))):\n",
    "    mat_3D=rolling_window_x(data[sample],lookback)\n",
    "    mat_3D=np.array([np.array(mat_3D[i]) for i in range(len(mat_3D))])\n",
    "    X=np.append(mat_3D,X,axis=0)\n",
    "    #print('Sample %d has been completed!'%sample)\n",
    "X.shape"
   ]
  },
  {
   "cell_type": "code",
   "execution_count": 228,
   "metadata": {},
   "outputs": [],
   "source": [
    "###split train and validate\n",
    "X_train, X_valid,= train_test_split(X,test_size=0.2,random_state=123,shuffle=True)"
   ]
  },
  {
   "cell_type": "code",
   "execution_count": 229,
   "metadata": {},
   "outputs": [
    {
     "name": "stdout",
     "output_type": "stream",
     "text": [
      "_________________________________________________________________\n",
      "Layer (type)                 Output Shape              Param #   \n",
      "=================================================================\n",
      "lstm_19 (LSTM)               (None, 10, 8)             640       \n",
      "_________________________________________________________________\n",
      "lstm_20 (LSTM)               (None, 4)                 208       \n",
      "_________________________________________________________________\n",
      "repeat_vector_5 (RepeatVecto (None, 10, 4)             0         \n",
      "_________________________________________________________________\n",
      "lstm_21 (LSTM)               (None, 10, 4)             144       \n",
      "_________________________________________________________________\n",
      "lstm_22 (LSTM)               (None, 10, 8)             416       \n",
      "_________________________________________________________________\n",
      "time_distributed_5 (TimeDist (None, 10, 11)            99        \n",
      "=================================================================\n",
      "Total params: 1,507\n",
      "Trainable params: 1,507\n",
      "Non-trainable params: 0\n",
      "_________________________________________________________________\n"
     ]
    }
   ],
   "source": [
    "####Training-LSTM-layer####\n",
    "timesteps =  X.shape[1] # equal to the lookback\n",
    "n_features =  X.shape[2] # 59\n",
    "\n",
    "epochs = 10\n",
    "batch = 64\n",
    "lr = 0.001\n",
    "hidden_unit_1=8\n",
    "hidden_unit_2=4\n",
    "##########\n",
    "lstm_encoder = Sequential()\n",
    "# Encoder\n",
    "lstm_encoder.add(LSTM(hidden_unit_1, activation='relu', input_shape=(timesteps, n_features), return_sequences=True))\n",
    "lstm_encoder.add(LSTM(hidden_unit_2, activation='relu', return_sequences=False))\n",
    "lstm_encoder.add(RepeatVector(timesteps))\n",
    "# Decoder\n",
    "lstm_encoder.add(LSTM(hidden_unit_2, activation='relu', return_sequences=True))\n",
    "lstm_encoder.add(LSTM(hidden_unit_1, activation='relu', return_sequences=True))\n",
    "lstm_encoder.add(TimeDistributed(Dense(n_features)))\n",
    "\n",
    "lstm_encoder.summary()"
   ]
  },
  {
   "cell_type": "code",
   "execution_count": 230,
   "metadata": {},
   "outputs": [
    {
     "name": "stdout",
     "output_type": "stream",
     "text": [
      "Train on 118938 samples, validate on 29735 samples\n",
      "Epoch 1/10\n",
      " - 55s - loss: 7133374.6672 - val_loss: 7307459.7998\n",
      "Epoch 2/10\n",
      " - 52s - loss: 6439337.1837 - val_loss: 6183663.7123\n",
      "Epoch 3/10\n",
      " - 49s - loss: 6409422.3684 - val_loss: 10096806.4906\n",
      "Epoch 4/10\n",
      " - 49s - loss: 5868474.9474 - val_loss: 5706309.3431\n",
      "Epoch 5/10\n",
      " - 51s - loss: 5732445.5491 - val_loss: 5688693.4624\n",
      "Epoch 6/10\n",
      " - 52s - loss: 5591846.4524 - val_loss: 5557409.0662\n",
      "Epoch 7/10\n",
      " - 53s - loss: 5476557.4403 - val_loss: 5362137.0063\n",
      "Epoch 8/10\n",
      " - 51s - loss: 5285838.3671 - val_loss: 5317009.8220\n",
      "Epoch 9/10\n",
      " - 50s - loss: 5213827.7100 - val_loss: 5225354.6239\n",
      "Epoch 10/10\n",
      " - 51s - loss: 5188463.1712 - val_loss: 5212218.7957\n"
     ]
    }
   ],
   "source": [
    "###optim####\n",
    "lstm_encoder.compile(loss='mse', optimizer=optimizers.Adam(lr))\n",
    "###tb####\n",
    "tb = TensorBoard(log_dir='/home/frank/Downloads/logs',\n",
    "                histogram_freq=0,\n",
    "                write_graph=True,\n",
    "                write_images=True)\n",
    "###training###\n",
    "lstm_encoder_history = lstm_encoder.fit(X_train, X_train, \n",
    "                                                epochs=epochs, \n",
    "                                                batch_size=batch, \n",
    "                                                validation_data=(X_valid, X_valid),\n",
    "                                                verbose=2).history"
   ]
  },
  {
   "cell_type": "code",
   "execution_count": 67,
   "metadata": {},
   "outputs": [
    {
     "data": {
      "image/png": "[encoded data removed]",
      "text/plain": [
       "<Figure size 432x288 with 1 Axes>"
      ]
     },
     "metadata": {
      "needs_background": "light"
     },
     "output_type": "display_data"
    }
   ],
   "source": [
    "plt.plot(lstm_encoder_history['loss'], linewidth=2, label='train')\n",
    "plt.plot(lstm_encoder_history['val_loss'], linewidth=2, label='valid')\n",
    "plt.ylabel('Loss')\n",
    "plt.xlabel('Epoch')\n",
    "plt.legend()\n",
    "plt.show()"
   ]
  },
  {
   "cell_type": "code",
   "execution_count": 68,
   "metadata": {},
   "outputs": [
    {
     "name": "stdout",
     "output_type": "stream",
     "text": [
      "Train on 121476 samples, validate on 30370 samples\n",
      "Epoch 1/10\n",
      " - 52s - loss: 4041429.7448 - val_loss: 4034061.9104\n",
      "Epoch 2/10\n",
      " - 55s - loss: 4020883.6228 - val_loss: 4041080.7832\n",
      "Epoch 3/10\n",
      " - 52s - loss: 3991604.7278 - val_loss: 3997173.9799\n",
      "Epoch 4/10\n",
      " - 49s - loss: 3974245.3337 - val_loss: 3993496.0069\n",
      "Epoch 5/10\n",
      " - 49s - loss: 3999941.6274 - val_loss: 4012305.6852\n",
      "Epoch 6/10\n",
      " - 50s - loss: 3971422.0097 - val_loss: 3992482.7734\n",
      "Epoch 7/10\n",
      " - 49s - loss: 3952137.0820 - val_loss: 3971535.5643\n",
      "Epoch 8/10\n",
      " - 50s - loss: 3939695.9752 - val_loss: 3959303.0400\n",
      "Epoch 9/10\n",
      " - 50s - loss: 3930655.9123 - val_loss: 3948043.0143\n",
      "Epoch 10/10\n",
      " - 51s - loss: 3983473.1448 - val_loss: 3962841.9572\n"
     ]
    },
    {
     "data": {
      "image/png": "[encoded data removed]",
      "text/plain": [
       "<Figure size 432x288 with 1 Axes>"
      ]
     },
     "metadata": {
      "needs_background": "light"
     },
     "output_type": "display_data"
    }
   ],
   "source": [
    "###optim####\n",
    "lstm_encoder.compile(loss='mse', optimizer=optimizers.Adam(lr))\n",
    "###tb####\n",
    "tb = TensorBoard(log_dir='/home/frank/Downloads/logs',\n",
    "                histogram_freq=0,\n",
    "                write_graph=True,\n",
    "                write_images=True)\n",
    "###training###\n",
    "lstm_encoder_history = lstm_encoder.fit(X_train, X_train, \n",
    "                                                epochs=epochs, \n",
    "                                                batch_size=batch, \n",
    "                                                validation_data=(X_valid, X_valid),\n",
    "                                                verbose=2).history\n",
    "###plot####\n",
    "plt.plot(lstm_encoder_history['loss'], linewidth=2, label='train')\n",
    "plt.plot(lstm_encoder_history['val_loss'], linewidth=2, label='valid')\n",
    "plt.ylabel('Loss')\n",
    "plt.xlabel('Epoch')\n",
    "plt.legend()\n",
    "plt.show()"
   ]
  },
  {
   "cell_type": "code",
   "execution_count": 123,
   "metadata": {},
   "outputs": [
    {
     "name": "stdout",
     "output_type": "stream",
     "text": [
      "7108733.893407841\n"
     ]
    },
    {
     "data": {
      "text/plain": [
       "array([  139965.19044367,  4429080.1400424 ,   345387.8971236 , ...,\n",
       "         158984.33617872, 59460675.55157475, 23681763.21939907])"
      ]
     },
     "execution_count": 123,
     "metadata": {},
     "output_type": "execute_result"
    }
   ],
   "source": [
    "def back_to_2D(X):\n",
    "    X_2D = np.empty((X.shape[0], X.shape[2]))  # sample x features array.\n",
    "    for i in range(X.shape[0]):\n",
    "        X_2D[i] = X[i, (X.shape[1]-1), :]\n",
    "    return(X_2D)\n",
    "\n",
    "x_valid_predict = lstm_autoencoder.predict(X_valid)\n",
    "mse_valid = np.mean(np.power(back_to_2D(X_valid) - back_to_2D(x_valid_predict), 2), axis=1)\n",
    "print(mse_valid.mean())\n",
    "mse_valid"
   ]
  },
  {
   "cell_type": "code",
   "execution_count": 95,
   "metadata": {},
   "outputs": [
    {
     "data": {
      "text/plain": [
       "30370"
      ]
     },
     "execution_count": 95,
     "metadata": {},
     "output_type": "execute_result"
    }
   ],
   "source": [
    "len(mse_valid)"
   ]
  },
  {
   "cell_type": "code",
   "execution_count": 83,
   "metadata": {},
   "outputs": [],
   "source": [
    "####other ckuster reconstruction error###\n",
    "df=df1[df1['cluster']==0]"
   ]
  },
  {
   "cell_type": "code",
   "execution_count": 84,
   "metadata": {},
   "outputs": [
    {
     "name": "stderr",
     "output_type": "stream",
     "text": [
      "100%|██████████| 347/347 [00:10<00:00, 34.33it/s]"
     ]
    },
    {
     "name": "stdout",
     "output_type": "stream",
     "text": [
      "10.110053539276123\n"
     ]
    },
    {
     "name": "stderr",
     "output_type": "stream",
     "text": [
      "\n"
     ]
    }
   ],
   "source": [
    "##########################\n",
    "##Sample Generation#######\n",
    "##########################\n",
    "from tqdm import tqdm\n",
    "from time import time\n",
    "data=[]\n",
    "uniq_month=df['X24'].unique()\n",
    "uniq_cust=df['X0'].unique()\n",
    "uniq_cust.sort()\n",
    "time0=time()\n",
    "for cust in tqdm(uniq_cust):\n",
    "    for month in uniq_month:\n",
    "        item=df[(df['X24']==month) &\n",
    "                (df[\"X0\"]== cust)].sort_values(by=['X2'])\n",
    "        if item.shape[0]>=10:\n",
    "            item=item.drop(['X0','X1','X2','X24','word','cust_id','cluster'],axis=1)\n",
    "            data.append(item)\n",
    "print(time()-time0)"
   ]
  },
  {
   "cell_type": "code",
   "execution_count": 88,
   "metadata": {},
   "outputs": [
    {
     "name": "stderr",
     "output_type": "stream",
     "text": [
      "100%|██████████| 125/125 [00:04<00:00, 31.07it/s]\n"
     ]
    },
    {
     "data": {
      "text/plain": [
       "(17614, 10, 11)"
      ]
     },
     "execution_count": 88,
     "metadata": {},
     "output_type": "execute_result"
    }
   ],
   "source": [
    "#########################\n",
    "###Generate 3D array####\n",
    "#######################\n",
    "###[np.array(mat_3D[i]) for i in range(len(mat_3D))]!!!!!\n",
    "lookback=10\n",
    "X=np.empty(shape=(1,10,data[0].shape[1]))\n",
    "for sample in tqdm(range(len(data))):\n",
    "    mat_3D=rolling_window_x(data[sample],lookback)\n",
    "    mat_3D=np.array([np.array(mat_3D[i]) for i in range(len(mat_3D))])\n",
    "    X=np.append(mat_3D,X,axis=0)\n",
    "    #print('Sample %d has been completed!'%sample)\n",
    "X.shape"
   ]
  },
  {
   "cell_type": "code",
   "execution_count": 96,
   "metadata": {},
   "outputs": [
    {
     "name": "stdout",
     "output_type": "stream",
     "text": [
      "16366317.444204189\n"
     ]
    },
    {
     "data": {
      "text/plain": [
       "array([30857378.36786979, 30857377.08657316, 48138755.37387685, ...,\n",
       "        8176449.23854619,  3352284.28156547, 18191941.36363636])"
      ]
     },
     "execution_count": 96,
     "metadata": {},
     "output_type": "execute_result"
    }
   ],
   "source": [
    "x_predict = lstm_autoencoder.predict(X)\n",
    "mse_other = np.mean(np.power(back_to_2D(X) - back_to_2D(x_predict), 2), axis=1)\n",
    "print(mse_other.mean())\n",
    "mse_other"
   ]
  },
  {
   "cell_type": "code",
   "execution_count": 97,
   "metadata": {},
   "outputs": [
    {
     "data": {
      "text/plain": [
       "9257583.550796349"
      ]
     },
     "execution_count": 97,
     "metadata": {},
     "output_type": "execute_result"
    }
   ],
   "source": [
    "mse_other.mean()-mse_valid.mean()"
   ]
  },
  {
   "cell_type": "code",
   "execution_count": 100,
   "metadata": {},
   "outputs": [
    {
     "data": {
      "text/plain": [
       "2.3022830351521817"
      ]
     },
     "execution_count": 100,
     "metadata": {},
     "output_type": "execute_result"
    }
   ],
   "source": [
    "mse_other.mean()/mse_valid.mean()"
   ]
  },
  {
   "cell_type": "code",
   "execution_count": 124,
   "metadata": {},
   "outputs": [
    {
     "data": {
      "text/plain": [
       "1.7241966617463382"
      ]
     },
     "execution_count": 124,
     "metadata": {},
     "output_type": "execute_result"
    }
   ],
   "source": [
    "len(mse_valid)/len(mse_other)"
   ]
  },
  {
   "cell_type": "code",
   "execution_count": 125,
   "metadata": {},
   "outputs": [],
   "source": [
    "mse_valid,tp=train_test_split(mse_valid,test_size=0.5,random_state=123)"
   ]
  },
  {
   "cell_type": "code",
   "execution_count": 126,
   "metadata": {},
   "outputs": [],
   "source": [
    "error_df=pd.DataFrame({'Recons_error':mse_valid,'cluster':4})"
   ]
  },
  {
   "cell_type": "code",
   "execution_count": 127,
   "metadata": {},
   "outputs": [],
   "source": [
    "error_df=pd.concat([error_df,pd.DataFrame({'Recons_error':mse_other,'cluster':0})],axis=0)"
   ]
  },
  {
   "cell_type": "code",
   "execution_count": 128,
   "metadata": {},
   "outputs": [
    {
     "data": {
      "text/html": [
       "<div>\n",
       "<style scoped>\n",
       "    .dataframe tbody tr th:only-of-type {\n",
       "        vertical-align: middle;\n",
       "    }\n",
       "\n",
       "    .dataframe tbody tr th {\n",
       "        vertical-align: top;\n",
       "    }\n",
       "\n",
       "    .dataframe thead th {\n",
       "        text-align: right;\n",
       "    }\n",
       "</style>\n",
       "<table border=\"1\" class=\"dataframe\">\n",
       "  <thead>\n",
       "    <tr style=\"text-align: right;\">\n",
       "      <th></th>\n",
       "      <th>Recons_error</th>\n",
       "      <th>cluster</th>\n",
       "    </tr>\n",
       "  </thead>\n",
       "  <tbody>\n",
       "    <tr>\n",
       "      <th>0</th>\n",
       "      <td>5.298729e+03</td>\n",
       "      <td>4</td>\n",
       "    </tr>\n",
       "    <tr>\n",
       "      <th>1</th>\n",
       "      <td>3.573040e+07</td>\n",
       "      <td>4</td>\n",
       "    </tr>\n",
       "    <tr>\n",
       "      <th>2</th>\n",
       "      <td>2.424554e+07</td>\n",
       "      <td>4</td>\n",
       "    </tr>\n",
       "  </tbody>\n",
       "</table>\n",
       "</div>"
      ],
      "text/plain": [
       "   Recons_error  cluster\n",
       "0  5.298729e+03        4\n",
       "1  3.573040e+07        4\n",
       "2  2.424554e+07        4"
      ]
     },
     "execution_count": 128,
     "metadata": {},
     "output_type": "execute_result"
    }
   ],
   "source": [
    "error_df.head(3)"
   ]
  },
  {
   "cell_type": "code",
   "execution_count": 134,
   "metadata": {},
   "outputs": [
    {
     "data": {
      "image/png": "[encoded data removed]",
      "text/plain": [
       "<Figure size 432x288 with 1 Axes>"
      ]
     },
     "metadata": {
      "needs_background": "light"
     },
     "output_type": "display_data"
    }
   ],
   "source": [
    "threshold_fixed = 0.4e8\n",
    "groups = error_df.groupby('cluster')\n",
    "fig, ax = plt.subplots()\n",
    "\n",
    "for name, group in groups:\n",
    "    ax.plot(group.index, group.Recons_error, marker='o', ms=3.0, linestyle='',\n",
    "            label= \"Susp\" if name == 0 else \"Normal\")\n",
    "ax.hlines(threshold_fixed, ax.get_xlim()[0], ax.get_xlim()[1], colors=\"r\", zorder=100, label='Threshold')\n",
    "ax.legend()\n",
    "plt.title(\"Reconst error for susp and normal\")\n",
    "plt.ylabel(\"Reconstr error\")\n",
    "plt.xlabel(\"Data point\")\n",
    "plt.show();"
   ]
  },
  {
   "cell_type": "code",
   "execution_count": 132,
   "metadata": {},
   "outputs": [
    {
     "name": "stdout",
     "output_type": "stream",
     "text": [
      "_________________________________________________________________\n",
      "Layer (type)                 Output Shape              Param #   \n",
      "=================================================================\n",
      "dense_16 (Dense)             (None, 8)                 96        \n",
      "_________________________________________________________________\n",
      "dense_17 (Dense)             (None, 4)                 36        \n",
      "_________________________________________________________________\n",
      "dense_18 (Dense)             (None, 4)                 20        \n",
      "_________________________________________________________________\n",
      "dense_19 (Dense)             (None, 8)                 40        \n",
      "_________________________________________________________________\n",
      "dense_20 (Dense)             (None, 11)                99        \n",
      "=================================================================\n",
      "Total params: 291\n",
      "Trainable params: 291\n",
      "Non-trainable params: 0\n",
      "_________________________________________________________________\n"
     ]
    }
   ],
   "source": [
    "####Train-Dense-layer###\n",
    "####Training-LSTM-layer####\n",
    "n_features =  X.shape[2] \n",
    "epochs = 10\n",
    "batch = 64\n",
    "lr = 0.001\n",
    "hidden_unit_1=8\n",
    "hidden_unit_2=4\n",
    "##########\n",
    "lstm_encoder = Sequential()\n",
    "# Encoder\n",
    "lstm_encoder.add(Dense(hidden_unit_1, activation='relu', input_shape=(n_features,)))\n",
    "lstm_encoder.add(Dense(hidden_unit_2, activation='relu'))\n",
    "# Decoder\n",
    "lstm_encoder.add(Dense(hidden_unit_2, activation='relu'))\n",
    "lstm_encoder.add(Dense(hidden_unit_1, activation='relu'))\n",
    "lstm_encoder.add(Dense(n_features, activation='linear'))\n",
    "lstm_encoder.summary()"
   ]
  },
  {
   "cell_type": "code",
   "execution_count": 137,
   "metadata": {},
   "outputs": [],
   "source": [
    "df2_sub=df1.copy()\n",
    "df2_sub=df2_sub[df2_sub['cluster']==4]\n",
    "df2_sub=df2_sub.drop(['X0','X1','X2','X24','word','cust_id','cluster'],axis=1)"
   ]
  }
 ],
 "metadata": {
  "kernelspec": {
   "display_name": "Python 3",
   "language": "python",
   "name": "python3"
  },
  "language_info": {
   "codemirror_mode": {
    "name": "ipython",
    "version": 3
   },
   "file_extension": ".py",
   "mimetype": "text/x-python",
   "name": "python",
   "nbconvert_exporter": "python",
   "pygments_lexer": "ipython3",
   "version": "3.7.3"
  }
 },
 "nbformat": 4,
 "nbformat_minor": 2
}
