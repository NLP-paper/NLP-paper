{
 "cells": [
  {
   "cell_type": "code",
   "execution_count": 1,
   "metadata": {},
   "outputs": [],
   "source": [
    "import pickle as p\n",
    "with open('/home/frank/Downloads/data_paper.pickle','rb') as f:\n",
    "    data=p.load(f)"
   ]
  },
  {
   "cell_type": "code",
   "execution_count": 3,
   "metadata": {},
   "outputs": [],
   "source": [
    "###################\n",
    "### Sklearn-LDA####\n",
    "###################\n",
    "n_samples = 1605\n",
    "n_features = 1000\n",
    "n_components = 10 #topic number\n",
    "n_top_words = 20 #most frequent txn\n",
    "#### tf ######\n",
    "from sklearn.feature_extraction.text import TfidfVectorizer, CountVectorizer\n",
    "def dummy(doc):\n",
    "    return doc\n",
    "tf=CountVectorizer(tokenizer=dummy,preprocessor=dummy,\n",
    "                                   max_features=n_features)  \n",
    "tf_df=tf.fit_transform(data)\n",
    "###### tf-idf #####\n",
    "tfidf=TfidfVectorizer(tokenizer=dummy,preprocessor=dummy,\n",
    "                                   max_features=n_features)\n",
    "tfidf_df=tfidf.fit_transform(data)\n"
   ]
  },
  {
   "cell_type": "code",
   "execution_count": 5,
   "metadata": {},
   "outputs": [],
   "source": [
    "def print_top_words(model, feature_names, n_top_words):\n",
    "    for topic_idx, topic in enumerate(model.components_):\n",
    "        message = \"Topic #%d: \" % topic_idx\n",
    "        message += \" \".join([str(feature_names[i])\n",
    "                             for i in topic.argsort()[:-n_top_words - 1:-1]])\n",
    "        print(message)\n",
    "    print()"
   ]
  },
  {
   "cell_type": "code",
   "execution_count": 28,
   "metadata": {},
   "outputs": [
    {
     "name": "stdout",
     "output_type": "stream",
     "text": [
      "done in 0.83981s.\n",
      "\n",
      "Topics in LDA model:\n",
      "Topic #0: 526 3182 20 3 15748 2 14 18 1 192550 13 0 193185 6 5 4 16 50250 12 193187\n",
      "Topic #1: 8785 10031 6024 62645 917 13496 192449 193430 1776 357563 357562 192791 3939 300407 483 300405 494 1803 193121 11658\n",
      "Topic #2: 459 132520 441 457 16092 5306 16095 203829 203830 8479 192499 6046 193134 1841 1747 7176 205079 356821 891 192494\n",
      "Topic #3: 1340 900 2487 5331 15761 7143 2560 3902 1373 5361 4995 193706 194132 7537 5358 5311 4639 13827 1765 135524\n",
      "Topic #4: 905 357691 171223 184876 1781 926 1791 5669 22975 487 155150 1372 464 474 1335 1792 471 14150 155541 1761\n",
      "Topic #5: 486 471 1381 501 155301 5689 192895 192893 3224 1372 27418 98982 9206 7849 130988 4623 4994 42422 165926 357359\n",
      "Topic #6: 1335 487 464 471 474 1372 486 905 4596 1781 926 9959 1791 1871 193208 2615 5669 39541 17110 154916\n",
      "Topic #7: 2048 179 639 642 175 173 257 192611 247 174 172364 192663 690 357306 259 192609 192686 357305 193982 173523\n",
      "Topic #8: 1372 161755 487 155442 1781 900 154916 905 1791 474 471 1335 1340 357691 171223 184876 926 5669 22975 155150\n",
      "Topic #9: 5017 192644 1761 357691 22975 179 642 175 2048 192611 639 173 257 192663 357306 192609 174 1792 247 3958\n",
      "\n"
     ]
    }
   ],
   "source": [
    "####LDA#####\n",
    "from time import time\n",
    "from sklearn.decomposition import LatentDirichletAllocation\n",
    "lda = LatentDirichletAllocation(n_components=n_components, max_iter=4,\n",
    "                                learning_offset=42.,\n",
    "                                random_state=0)\n",
    "t0 = time()\n",
    "lda.fit(tf_df)\n",
    "tf_feature_names = tf.get_feature_names()\n",
    "print(\"done in %0.5fs.\" % (time() - t0))\n",
    "print(\"\\nTopics in LDA model:\")\n",
    "print_top_words(lda, tf_feature_names, n_top_words)"
   ]
  },
  {
   "cell_type": "code",
   "execution_count": 29,
   "metadata": {},
   "outputs": [
    {
     "name": "stdout",
     "output_type": "stream",
     "text": [
      "done in 0.65586s.\n",
      "\n",
      "Topics in LDA model:\n",
      "Topic #0: 900 20 1340 14 2560 3 13 6 1765 12 0 4 21 16 1 2 18 5311 25 5\n",
      "Topic #1: 487 5311 42422 13827 892 19220 494 2560 471 1335 22975 1791 1372 1781 5669 184876 464 1340 926 486\n",
      "Topic #2: 184876 357691 161755 4481 129293 5045 487 5311 1340 471 192644 1372 486 21 474 464 926 171223 1335 1781\n",
      "Topic #3: 171223 1340 487 22975 1792 1335 1761 5331 3836 12227 3958 1373 2560 51449 5679 900 1372 464 494 474\n",
      "Topic #4: 474 905 1372 464 487 1781 1335 471 356766 174295 171223 2487 2048 8785 10031 494 179 6024 7143 639\n",
      "Topic #5: 1372 471 487 1781 486 1791 905 474 1335 464 926 165926 5669 155442 155301 154916 14150 526 1381 3182\n",
      "Topic #6: 464 1335 487 474 471 486 1340 1372 154916 155541 155150 155442 900 184876 905 1781 1765 2560 1791 171223\n",
      "Topic #7: 15761 3902 4995 7850 3904 201084 11396 7524 494 192644 5311 1765 3958 2560 155150 1791 155301 22975 1781 900\n",
      "Topic #8: 1335 926 487 5669 1781 14150 905 464 1372 474 1791 471 4596 27418 295152 193208 39541 486 360269 10019\n",
      "Topic #9: 494 3958 1761 1792 22975 5017 459 132520 441 457 16092 5306 16095 203829 203830 8479 192499 6046 193134 1841\n",
      "\n"
     ]
    }
   ],
   "source": [
    "t0 = time()\n",
    "lda.fit(tfidf_df)\n",
    "tfidf_feature_names = tfidf.get_feature_names()\n",
    "print(\"done in %0.5fs.\" % (time() - t0))\n",
    "print(\"\\nTopics in LDA model:\")\n",
    "print_top_words(lda, tfidf_feature_names, n_top_words)"
   ]
  },
  {
   "cell_type": "code",
   "execution_count": 30,
   "metadata": {},
   "outputs": [
    {
     "name": "stdout",
     "output_type": "stream",
     "text": [
      "done in 4.20266s.\n",
      "[(0,\n",
      "  '0.004*\"2048\" + 0.003*\"639\" + 0.003*\"179\" + 0.002*\"175\" + 0.002*\"173\" + '\n",
      "  '0.002*\"642\" + 0.002*\"257\" + 0.002*\"247\" + 0.001*\"259\" + 0.001*\"174\"'),\n",
      " (1,\n",
      "  '0.003*\"179\" + 0.003*\"2048\" + 0.003*\"642\" + 0.002*\"175\" + 0.002*\"639\" + '\n",
      "  '0.002*\"173\" + 0.002*\"257\" + 0.002*\"459\" + 0.001*\"192611\" + 0.001*\"247\"'),\n",
      " (2,\n",
      "  '0.004*\"2048\" + 0.003*\"179\" + 0.002*\"175\" + 0.002*\"639\" + 0.002*\"642\" + '\n",
      "  '0.002*\"257\" + 0.002*\"173\" + 0.001*\"690\" + 0.001*\"1372\" + 0.001*\"172364\"'),\n",
      " (3,\n",
      "  '0.004*\"2048\" + 0.004*\"179\" + 0.003*\"639\" + 0.003*\"175\" + 0.003*\"642\" + '\n",
      "  '0.003*\"257\" + 0.002*\"173\" + 0.002*\"192611\" + 0.002*\"192663\" + 0.001*\"247\"'),\n",
      " (4,\n",
      "  '0.005*\"487\" + 0.004*\"1335\" + 0.004*\"471\" + 0.003*\"464\" + 0.003*\"486\" + '\n",
      "  '0.003*\"179\" + 0.002*\"639\" + 0.002*\"1340\" + 0.002*\"1372\" + 0.002*\"175\"'),\n",
      " (5,\n",
      "  '0.004*\"2048\" + 0.003*\"642\" + 0.003*\"175\" + 0.003*\"257\" + 0.003*\"639\" + '\n",
      "  '0.002*\"179\" + 0.002*\"173\" + 0.002*\"174\" + 0.002*\"357306\" + 0.001*\"172364\"'),\n",
      " (6,\n",
      "  '0.004*\"2048\" + 0.004*\"179\" + 0.004*\"639\" + 0.003*\"642\" + 0.002*\"175\" + '\n",
      "  '0.002*\"192611\" + 0.002*\"257\" + 0.002*\"173\" + 0.002*\"459\" + 0.002*\"357306\"'),\n",
      " (7,\n",
      "  '0.004*\"639\" + 0.003*\"459\" + 0.003*\"179\" + 0.003*\"2048\" + 0.003*\"642\" + '\n",
      "  '0.003*\"175\" + 0.003*\"173\" + 0.002*\"457\" + 0.002*\"257\" + 0.002*\"441\"'),\n",
      " (8,\n",
      "  '0.004*\"179\" + 0.004*\"2048\" + 0.003*\"642\" + 0.003*\"639\" + 0.003*\"173\" + '\n",
      "  '0.002*\"175\" + 0.002*\"257\" + 0.002*\"192611\" + 0.001*\"247\" + 0.001*\"174\"'),\n",
      " (9,\n",
      "  '0.005*\"2048\" + 0.003*\"175\" + 0.003*\"173\" + 0.003*\"471\" + 0.003*\"642\" + '\n",
      "  '0.003*\"639\" + 0.002*\"179\" + 0.002*\"257\" + 0.002*\"192611\" + 0.002*\"172364\"')]\n"
     ]
    }
   ],
   "source": [
    "###################\n",
    "#### Gensim-LDA####\n",
    "###################\n",
    "import gensim\n",
    "import gensim.corpora as corpora\n",
    "from gensim.models import CoherenceModel\n",
    "from pprint import pprint\n",
    "data=[[str(word) for word in doc] for doc in data]\n",
    "id2word=corpora.Dictionary(data)\n",
    "corpus = [id2word.doc2bow(text) for text in data]\n",
    "t0=time()\n",
    "lda_model = gensim.models.ldamodel.LdaModel(corpus=corpus,\n",
    "                                           id2word=id2word,\n",
    "                                           num_topics=10, \n",
    "                                           random_state=0,\n",
    "                                           update_every=1,\n",
    "                                           alpha='auto',\n",
    "                                           per_word_topics=True)\n",
    "print(\"done in %0.5fs.\" % (time() - t0))\n",
    "pprint(lda_model.print_topics())"
   ]
  },
  {
   "cell_type": "code",
   "execution_count": 31,
   "metadata": {},
   "outputs": [
    {
     "name": "stdout",
     "output_type": "stream",
     "text": [
      "\n",
      "Perplexity:  -13.68500869080168\n",
      "\n",
      "Coherence Score:  0.5041992481845272\n"
     ]
    }
   ],
   "source": [
    "# Compute Perplexity not use anymore!!!!!!\n",
    "print('\\nPerplexity: ', lda_model.log_perplexity(corpus))# a measure of how good the model is. lower the better.\n",
    "\n",
    "# Compute Coherence Score\n",
    "coherence_model_lda = CoherenceModel(model=lda_model, texts=data, dictionary=id2word, coherence='c_v')\n",
    "coherence_lda = coherence_model_lda.get_coherence()\n",
    "print('\\nCoherence Score: ', coherence_lda)#the bigger the better!"
   ]
  },
  {
   "cell_type": "code",
   "execution_count": 32,
   "metadata": {},
   "outputs": [],
   "source": [
    "def best_topic_num(dic,corpus,data,start,end,step):\n",
    "    coherence_values = []\n",
    "    model_list = []\n",
    "    for num_topics in range(start,end, step):\n",
    "        t0=time()\n",
    "        model=gensim.models.ldamodel.LdaModel(corpus=corpus,\n",
    "                                           id2word=dic,\n",
    "                                           num_topics=num_topics , \n",
    "                                           random_state=0,\n",
    "                                           update_every=1,\n",
    "                                           alpha='auto',\n",
    "                                           per_word_topics=True)\n",
    "        model_list.append(model)\n",
    "        coherencemodel = CoherenceModel(model=model, texts=data, dictionary=dic, coherence='c_v')\n",
    "        coherence_values.append(coherencemodel.get_coherence())\n",
    "        print('# %d is completed! This step costs %s sec'%(num_topics,str(time()-t0)))\n",
    "\n",
    "    return model_list, coherence_values"
   ]
  },
  {
   "cell_type": "code",
   "execution_count": 33,
   "metadata": {},
   "outputs": [
    {
     "name": "stdout",
     "output_type": "stream",
     "text": [
      "# 3 is completed! This step costs 11.128896236419678 sec\n",
      "# 4 is completed! This step costs 11.135303735733032 sec\n",
      "# 5 is completed! This step costs 12.031826496124268 sec\n",
      "# 6 is completed! This step costs 11.516132354736328 sec\n",
      "# 7 is completed! This step costs 12.396293640136719 sec\n",
      "# 8 is completed! This step costs 11.344320297241211 sec\n",
      "# 9 is completed! This step costs 12.399007558822632 sec\n",
      "# 10 is completed! This step costs 12.60720705986023 sec\n",
      "# 11 is completed! This step costs 13.357209205627441 sec\n",
      "# 12 is completed! This step costs 13.816519498825073 sec\n",
      "# 13 is completed! This step costs 12.697038650512695 sec\n",
      "# 14 is completed! This step costs 12.947660684585571 sec\n",
      "# 15 is completed! This step costs 13.171937465667725 sec\n",
      "# 16 is completed! This step costs 13.15787386894226 sec\n",
      "# 17 is completed! This step costs 13.437980651855469 sec\n",
      "# 18 is completed! This step costs 13.6164710521698 sec\n",
      "# 19 is completed! This step costs 13.758577346801758 sec\n"
     ]
    }
   ],
   "source": [
    "#### best topic number #######\n",
    "model_list, coherence_values = best_topic_num(dic=id2word, \n",
    "                                            corpus=corpus, \n",
    "                                            data=data, \n",
    "                                            start=3, \n",
    "                                            end=20, \n",
    "                                            step=1)"
   ]
  },
  {
   "cell_type": "code",
   "execution_count": 35,
   "metadata": {},
   "outputs": [
    {
     "name": "stdout",
     "output_type": "stream",
     "text": [
      "Num Topics = 3  has Coherence Value of 0.4974150748967336\n",
      "Num Topics = 4  has Coherence Value of 0.5162920485746331\n",
      "Num Topics = 5  has Coherence Value of 0.5315916547470753\n",
      "Num Topics = 6  has Coherence Value of 0.5127777387117741\n",
      "Num Topics = 7  has Coherence Value of 0.5065916710801253\n",
      "Num Topics = 8  has Coherence Value of 0.4912007348762757\n",
      "Num Topics = 9  has Coherence Value of 0.497478163325339\n",
      "Num Topics = 10  has Coherence Value of 0.5041992481845272\n",
      "Num Topics = 11  has Coherence Value of 0.5153631691166375\n",
      "Num Topics = 12  has Coherence Value of 0.49952073976943256\n",
      "Num Topics = 13  has Coherence Value of 0.49986405014359875\n",
      "Num Topics = 14  has Coherence Value of 0.5137278866064817\n",
      "Num Topics = 15  has Coherence Value of 0.5071254107599864\n",
      "Num Topics = 16  has Coherence Value of 0.5093492025628987\n",
      "Num Topics = 17  has Coherence Value of 0.5055254410124853\n",
      "Num Topics = 18  has Coherence Value of 0.49596344716159696\n",
      "Num Topics = 19  has Coherence Value of 0.501744276667346\n"
     ]
    },
    {
     "data": {
      "image/png": "[encoded data removed]",
      "text/plain": [
       "<Figure size 432x288 with 1 Axes>"
      ]
     },
     "metadata": {
      "needs_background": "light"
     },
     "output_type": "display_data"
    }
   ],
   "source": [
    "# Plotting tools\n",
    "import matplotlib.pyplot as plt\n",
    "%matplotlib inline\n",
    "num_topic_range = range(3, 20, 1)\n",
    "for x,y in zip(num_topic_range, coherence_values):\n",
    "    print(\"Num Topics =\", x, \" has Coherence Value of\", y)\n",
    "plt.plot(num_topic_range, coherence_values)\n",
    "plt.xlabel(\"Num Topics\")\n",
    "plt.ylabel(\"Coherence score\")\n",
    "plt.legend((\"coherence_values\"), loc='best')\n",
    "plt.show()"
   ]
  },
  {
   "cell_type": "code",
   "execution_count": 40,
   "metadata": {},
   "outputs": [
    {
     "name": "stdout",
     "output_type": "stream",
     "text": [
      "[(0,\n",
      "  '0.004*\"2048\" + 0.003*\"639\" + 0.003*\"179\" + 0.002*\"175\" + 0.002*\"642\" + '\n",
      "  '0.002*\"173\" + 0.002*\"257\" + 0.002*\"247\" + 0.001*\"192611\" + 0.001*\"174\"'),\n",
      " (1,\n",
      "  '0.003*\"2048\" + 0.003*\"179\" + 0.003*\"642\" + 0.003*\"639\" + 0.002*\"175\" + '\n",
      "  '0.002*\"173\" + 0.002*\"459\" + 0.002*\"257\" + 0.001*\"192611\" + 0.001*\"247\"'),\n",
      " (2,\n",
      "  '0.005*\"2048\" + 0.003*\"179\" + 0.002*\"639\" + 0.002*\"175\" + 0.002*\"642\" + '\n",
      "  '0.002*\"257\" + 0.002*\"173\" + 0.002*\"459\" + 0.002*\"192611\" + 0.001*\"172364\"'),\n",
      " (3,\n",
      "  '0.004*\"2048\" + 0.003*\"639\" + 0.003*\"179\" + 0.003*\"642\" + 0.003*\"175\" + '\n",
      "  '0.002*\"257\" + 0.002*\"173\" + 0.002*\"192611\" + 0.002*\"192663\" + 0.001*\"247\"'),\n",
      " (4,\n",
      "  '0.003*\"179\" + 0.003*\"639\" + 0.003*\"487\" + 0.003*\"1335\" + 0.003*\"471\" + '\n",
      "  '0.003*\"642\" + 0.003*\"175\" + 0.003*\"173\" + 0.003*\"257\" + 0.002*\"2048\"')]\n"
     ]
    }
   ],
   "source": [
    "pprint(best_model.print_topics())"
   ]
  }
 ],
 "metadata": {
  "kernelspec": {
   "display_name": "Python 3",
   "language": "python",
   "name": "python3"
  },
  "language_info": {
   "codemirror_mode": {
    "name": "ipython",
    "version": 3
   },
   "file_extension": ".py",
   "mimetype": "text/x-python",
   "name": "python",
   "nbconvert_exporter": "python",
   "pygments_lexer": "ipython3",
   "version": "3.7.3"
  }
 },
 "nbformat": 4,
 "nbformat_minor": 2
}
