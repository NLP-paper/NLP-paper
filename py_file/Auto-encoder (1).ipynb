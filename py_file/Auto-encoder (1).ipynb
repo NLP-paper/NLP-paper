{
 "cells": [
  {
   "cell_type": "code",
   "execution_count": 13,
   "metadata": {},
   "outputs": [],
   "source": [
    "%matplotlib inline\n",
    "import pandas as pd\n",
    "import numpy as np\n",
    "\n",
    "import tensorflow as tf\n",
    "from keras import optimizers, Sequential\n",
    "from keras.models import Model\n",
    "from keras.utils import plot_model\n",
    "from keras.layers import Dense, LSTM, RepeatVector, TimeDistributed\n",
    "from keras.callbacks import TensorBoard\n",
    "from sklearn.preprocessing import StandardScaler\n",
    "from sklearn.model_selection import train_test_split\n",
    "\n",
    "import matplotlib.pyplot as plt\n",
    "import seaborn as sns"
   ]
  },
  {
   "cell_type": "code",
   "execution_count": 22,
   "metadata": {},
   "outputs": [],
   "source": [
    "df=[pd.read_pickle(\"/home/frank/Downloads/Dataset/data_y%d.pickle\" %i) for i in range(3)]"
   ]
  },
  {
   "cell_type": "code",
   "execution_count": 165,
   "metadata": {},
   "outputs": [],
   "source": [
    "df=pd.concat(df)"
   ]
  },
  {
   "cell_type": "code",
   "execution_count": 25,
   "metadata": {},
   "outputs": [
    {
     "data": {
      "text/html": [
       "<div>\n",
       "<style scoped>\n",
       "    .dataframe tbody tr th:only-of-type {\n",
       "        vertical-align: middle;\n",
       "    }\n",
       "\n",
       "    .dataframe tbody tr th {\n",
       "        vertical-align: top;\n",
       "    }\n",
       "\n",
       "    .dataframe thead th {\n",
       "        text-align: right;\n",
       "    }\n",
       "</style>\n",
       "<table border=\"1\" class=\"dataframe\">\n",
       "  <thead>\n",
       "    <tr style=\"text-align: right;\">\n",
       "      <th></th>\n",
       "      <th>X0</th>\n",
       "      <th>X1</th>\n",
       "      <th>X2</th>\n",
       "      <th>X3</th>\n",
       "      <th>X4</th>\n",
       "      <th>X5</th>\n",
       "      <th>X6</th>\n",
       "      <th>X7</th>\n",
       "      <th>X8</th>\n",
       "      <th>X9</th>\n",
       "      <th>...</th>\n",
       "      <th>X15</th>\n",
       "      <th>X16</th>\n",
       "      <th>X17</th>\n",
       "      <th>X18</th>\n",
       "      <th>X19</th>\n",
       "      <th>X20</th>\n",
       "      <th>X21</th>\n",
       "      <th>X22</th>\n",
       "      <th>X23</th>\n",
       "      <th>X24</th>\n",
       "    </tr>\n",
       "  </thead>\n",
       "  <tbody>\n",
       "    <tr>\n",
       "      <th>0</th>\n",
       "      <td>0</td>\n",
       "      <td>0</td>\n",
       "      <td>3</td>\n",
       "      <td>10.152628</td>\n",
       "      <td>0</td>\n",
       "      <td>0</td>\n",
       "      <td>0</td>\n",
       "      <td>0</td>\n",
       "      <td>0</td>\n",
       "      <td>0</td>\n",
       "      <td>...</td>\n",
       "      <td>0</td>\n",
       "      <td>0</td>\n",
       "      <td>0</td>\n",
       "      <td>0</td>\n",
       "      <td>0</td>\n",
       "      <td>0</td>\n",
       "      <td>0</td>\n",
       "      <td>0</td>\n",
       "      <td>0</td>\n",
       "      <td>09</td>\n",
       "    </tr>\n",
       "    <tr>\n",
       "      <th>1</th>\n",
       "      <td>0</td>\n",
       "      <td>0</td>\n",
       "      <td>3</td>\n",
       "      <td>3.433987</td>\n",
       "      <td>0</td>\n",
       "      <td>0</td>\n",
       "      <td>0</td>\n",
       "      <td>0</td>\n",
       "      <td>0</td>\n",
       "      <td>1</td>\n",
       "      <td>...</td>\n",
       "      <td>1</td>\n",
       "      <td>1</td>\n",
       "      <td>0</td>\n",
       "      <td>1</td>\n",
       "      <td>9999</td>\n",
       "      <td>1</td>\n",
       "      <td>9999</td>\n",
       "      <td>9999</td>\n",
       "      <td>9999</td>\n",
       "      <td>09</td>\n",
       "    </tr>\n",
       "    <tr>\n",
       "      <th>2</th>\n",
       "      <td>1</td>\n",
       "      <td>1</td>\n",
       "      <td>3</td>\n",
       "      <td>11.075768</td>\n",
       "      <td>0</td>\n",
       "      <td>0</td>\n",
       "      <td>0</td>\n",
       "      <td>0</td>\n",
       "      <td>0</td>\n",
       "      <td>2</td>\n",
       "      <td>...</td>\n",
       "      <td>1</td>\n",
       "      <td>1</td>\n",
       "      <td>0</td>\n",
       "      <td>2</td>\n",
       "      <td>2</td>\n",
       "      <td>2</td>\n",
       "      <td>2</td>\n",
       "      <td>9999</td>\n",
       "      <td>2</td>\n",
       "      <td>09</td>\n",
       "    </tr>\n",
       "  </tbody>\n",
       "</table>\n",
       "<p>3 rows × 25 columns</p>\n",
       "</div>"
      ],
      "text/plain": [
       "   X0  X1  X2         X3  X4  X5  X6  X7  X8  X9  ...  X15  X16  X17  X18  \\\n",
       "0   0   0   3  10.152628   0   0   0   0   0   0  ...    0    0    0    0   \n",
       "1   0   0   3   3.433987   0   0   0   0   0   1  ...    1    1    0    1   \n",
       "2   1   1   3  11.075768   0   0   0   0   0   2  ...    1    1    0    2   \n",
       "\n",
       "    X19  X20   X21   X22   X23  X24  \n",
       "0     0    0     0     0     0   09  \n",
       "1  9999    1  9999  9999  9999   09  \n",
       "2     2    2     2  9999     2   09  \n",
       "\n",
       "[3 rows x 25 columns]"
      ]
     },
     "execution_count": 25,
     "metadata": {},
     "output_type": "execute_result"
    }
   ],
   "source": [
    "df[0].head(3)"
   ]
  },
  {
   "cell_type": "code",
   "execution_count": 167,
   "metadata": {},
   "outputs": [
    {
     "data": {
      "text/plain": [
       "(223143, 26)"
      ]
     },
     "execution_count": 167,
     "metadata": {},
     "output_type": "execute_result"
    }
   ],
   "source": [
    "df.shape"
   ]
  },
  {
   "cell_type": "code",
   "execution_count": 173,
   "metadata": {},
   "outputs": [],
   "source": [
    "df=df.drop(['Y'],axis=1)"
   ]
  },
  {
   "cell_type": "code",
   "execution_count": 145,
   "metadata": {},
   "outputs": [],
   "source": [
    "ratio=[df[df[col]==9999].shape[0]/len(df) for col in df.columns]"
   ]
  },
  {
   "cell_type": "code",
   "execution_count": 169,
   "metadata": {},
   "outputs": [
    {
     "data": {
      "text/plain": [
       "[0.0,\n",
       " 0.008344424875528248,\n",
       " 0.0,\n",
       " 0.0,\n",
       " 0.0,\n",
       " 0.0,\n",
       " 0.0,\n",
       " 0.0,\n",
       " 0.056708030276549116,\n",
       " 0.009003195260438374,\n",
       " 0.12003065298933868,\n",
       " 0.0653034152987098,\n",
       " 0.3079415442115594,\n",
       " 0.45158037670910584,\n",
       " 0.3105138857145418,\n",
       " 0.2408455564369037,\n",
       " 0.24084107500571383,\n",
       " 0.24394670682029013,\n",
       " 0.044666424669382414,\n",
       " 0.274577289003016,\n",
       " 0.056497403010625474,\n",
       " 0.5122768807446346,\n",
       " 0.7751173014613947,\n",
       " 0.5163549831274116,\n",
       " 0.0]"
      ]
     },
     "execution_count": 169,
     "metadata": {},
     "output_type": "execute_result"
    }
   ],
   "source": [
    "ratio"
   ]
  },
  {
   "cell_type": "code",
   "execution_count": 170,
   "metadata": {},
   "outputs": [
    {
     "data": {
      "text/plain": [
       "['X12', 'X13', 'X14', 'X15', 'X16', 'X17', 'X19', 'X21', 'X22', 'X23']"
      ]
     },
     "execution_count": 170,
     "metadata": {},
     "output_type": "execute_result"
    }
   ],
   "source": [
    "drop_col=['X'+str(idx) for idx, value in enumerate(ratio) if value>=0.2];drop_col"
   ]
  },
  {
   "cell_type": "code",
   "execution_count": 175,
   "metadata": {},
   "outputs": [
    {
     "data": {
      "text/html": [
       "<div>\n",
       "<style scoped>\n",
       "    .dataframe tbody tr th:only-of-type {\n",
       "        vertical-align: middle;\n",
       "    }\n",
       "\n",
       "    .dataframe tbody tr th {\n",
       "        vertical-align: top;\n",
       "    }\n",
       "\n",
       "    .dataframe thead th {\n",
       "        text-align: right;\n",
       "    }\n",
       "</style>\n",
       "<table border=\"1\" class=\"dataframe\">\n",
       "  <thead>\n",
       "    <tr style=\"text-align: right;\">\n",
       "      <th></th>\n",
       "      <th>X0</th>\n",
       "      <th>X1</th>\n",
       "      <th>X2</th>\n",
       "      <th>X3</th>\n",
       "      <th>X4</th>\n",
       "      <th>X5</th>\n",
       "      <th>X6</th>\n",
       "      <th>X7</th>\n",
       "      <th>X8</th>\n",
       "      <th>X9</th>\n",
       "      <th>X10</th>\n",
       "      <th>X11</th>\n",
       "      <th>X18</th>\n",
       "      <th>X20</th>\n",
       "      <th>X24</th>\n",
       "    </tr>\n",
       "  </thead>\n",
       "  <tbody>\n",
       "    <tr>\n",
       "      <th>0</th>\n",
       "      <td>0</td>\n",
       "      <td>0</td>\n",
       "      <td>3</td>\n",
       "      <td>10.152628</td>\n",
       "      <td>0</td>\n",
       "      <td>0</td>\n",
       "      <td>0</td>\n",
       "      <td>0</td>\n",
       "      <td>0</td>\n",
       "      <td>0</td>\n",
       "      <td>0</td>\n",
       "      <td>0</td>\n",
       "      <td>0</td>\n",
       "      <td>0</td>\n",
       "      <td>09</td>\n",
       "    </tr>\n",
       "    <tr>\n",
       "      <th>1</th>\n",
       "      <td>0</td>\n",
       "      <td>0</td>\n",
       "      <td>3</td>\n",
       "      <td>3.433987</td>\n",
       "      <td>0</td>\n",
       "      <td>0</td>\n",
       "      <td>0</td>\n",
       "      <td>0</td>\n",
       "      <td>0</td>\n",
       "      <td>1</td>\n",
       "      <td>9999</td>\n",
       "      <td>0</td>\n",
       "      <td>1</td>\n",
       "      <td>1</td>\n",
       "      <td>09</td>\n",
       "    </tr>\n",
       "    <tr>\n",
       "      <th>2</th>\n",
       "      <td>1</td>\n",
       "      <td>1</td>\n",
       "      <td>3</td>\n",
       "      <td>11.075768</td>\n",
       "      <td>0</td>\n",
       "      <td>0</td>\n",
       "      <td>0</td>\n",
       "      <td>0</td>\n",
       "      <td>0</td>\n",
       "      <td>2</td>\n",
       "      <td>2</td>\n",
       "      <td>1</td>\n",
       "      <td>2</td>\n",
       "      <td>2</td>\n",
       "      <td>09</td>\n",
       "    </tr>\n",
       "  </tbody>\n",
       "</table>\n",
       "</div>"
      ],
      "text/plain": [
       "   X0  X1  X2         X3  X4  X5  X6  X7  X8  X9   X10  X11  X18  X20 X24\n",
       "0   0   0   3  10.152628   0   0   0   0   0   0     0    0    0    0  09\n",
       "1   0   0   3   3.433987   0   0   0   0   0   1  9999    0    1    1  09\n",
       "2   1   1   3  11.075768   0   0   0   0   0   2     2    1    2    2  09"
      ]
     },
     "execution_count": 175,
     "metadata": {},
     "output_type": "execute_result"
    }
   ],
   "source": [
    "df.head(3)"
   ]
  },
  {
   "cell_type": "code",
   "execution_count": 176,
   "metadata": {},
   "outputs": [
    {
     "data": {
      "text/plain": [
       "(223143, 15)"
      ]
     },
     "execution_count": 176,
     "metadata": {},
     "output_type": "execute_result"
    }
   ],
   "source": [
    "df.shape"
   ]
  },
  {
   "cell_type": "code",
   "execution_count": 177,
   "metadata": {},
   "outputs": [
    {
     "data": {
      "text/html": [
       "<div>\n",
       "<style scoped>\n",
       "    .dataframe tbody tr th:only-of-type {\n",
       "        vertical-align: middle;\n",
       "    }\n",
       "\n",
       "    .dataframe tbody tr th {\n",
       "        vertical-align: top;\n",
       "    }\n",
       "\n",
       "    .dataframe thead th {\n",
       "        text-align: right;\n",
       "    }\n",
       "</style>\n",
       "<table border=\"1\" class=\"dataframe\">\n",
       "  <thead>\n",
       "    <tr style=\"text-align: right;\">\n",
       "      <th></th>\n",
       "      <th>X3</th>\n",
       "      <th>X4</th>\n",
       "      <th>X5</th>\n",
       "      <th>X6</th>\n",
       "      <th>X7</th>\n",
       "      <th>X8</th>\n",
       "      <th>X9</th>\n",
       "      <th>X10</th>\n",
       "      <th>X11</th>\n",
       "      <th>X18</th>\n",
       "      <th>X20</th>\n",
       "    </tr>\n",
       "  </thead>\n",
       "  <tbody>\n",
       "    <tr>\n",
       "      <th>0</th>\n",
       "      <td>10.152628</td>\n",
       "      <td>0</td>\n",
       "      <td>0</td>\n",
       "      <td>0</td>\n",
       "      <td>0</td>\n",
       "      <td>0</td>\n",
       "      <td>0</td>\n",
       "      <td>0</td>\n",
       "      <td>0</td>\n",
       "      <td>0</td>\n",
       "      <td>0</td>\n",
       "    </tr>\n",
       "    <tr>\n",
       "      <th>1</th>\n",
       "      <td>3.433987</td>\n",
       "      <td>0</td>\n",
       "      <td>0</td>\n",
       "      <td>0</td>\n",
       "      <td>0</td>\n",
       "      <td>0</td>\n",
       "      <td>1</td>\n",
       "      <td>9999</td>\n",
       "      <td>0</td>\n",
       "      <td>1</td>\n",
       "      <td>1</td>\n",
       "    </tr>\n",
       "    <tr>\n",
       "      <th>2</th>\n",
       "      <td>11.075768</td>\n",
       "      <td>0</td>\n",
       "      <td>0</td>\n",
       "      <td>0</td>\n",
       "      <td>0</td>\n",
       "      <td>0</td>\n",
       "      <td>2</td>\n",
       "      <td>2</td>\n",
       "      <td>1</td>\n",
       "      <td>2</td>\n",
       "      <td>2</td>\n",
       "    </tr>\n",
       "  </tbody>\n",
       "</table>\n",
       "</div>"
      ],
      "text/plain": [
       "          X3  X4  X5  X6  X7  X8  X9   X10  X11  X18  X20\n",
       "0  10.152628   0   0   0   0   0   0     0    0    0    0\n",
       "1   3.433987   0   0   0   0   0   1  9999    0    1    1\n",
       "2  11.075768   0   0   0   0   0   2     2    1    2    2"
      ]
     },
     "execution_count": 177,
     "metadata": {},
     "output_type": "execute_result"
    }
   ],
   "source": [
    "#X0:customer\n",
    "#X1:account\n",
    "#X2:date(day difference)\n",
    "#X24:month\n",
    "df_word=df.iloc[:,3:14]\n",
    "df_word.head(3)"
   ]
  },
  {
   "cell_type": "code",
   "execution_count": 178,
   "metadata": {},
   "outputs": [],
   "source": [
    "def Amt_bin(amt,bin_num,rankAmt):\n",
    "        for idx, th in enumerate(rankAmt):\n",
    "            if amt<=th:\n",
    "                return idx\n",
    "        return bin_num"
   ]
  },
  {
   "cell_type": "code",
   "execution_count": 179,
   "metadata": {},
   "outputs": [
    {
     "data": {
      "text/html": [
       "<div>\n",
       "<style scoped>\n",
       "    .dataframe tbody tr th:only-of-type {\n",
       "        vertical-align: middle;\n",
       "    }\n",
       "\n",
       "    .dataframe tbody tr th {\n",
       "        vertical-align: top;\n",
       "    }\n",
       "\n",
       "    .dataframe thead th {\n",
       "        text-align: right;\n",
       "    }\n",
       "</style>\n",
       "<table border=\"1\" class=\"dataframe\">\n",
       "  <thead>\n",
       "    <tr style=\"text-align: right;\">\n",
       "      <th></th>\n",
       "      <th>X3</th>\n",
       "      <th>X4</th>\n",
       "      <th>X5</th>\n",
       "      <th>X6</th>\n",
       "      <th>X7</th>\n",
       "      <th>X8</th>\n",
       "      <th>X9</th>\n",
       "      <th>X10</th>\n",
       "      <th>X11</th>\n",
       "      <th>X18</th>\n",
       "      <th>X20</th>\n",
       "    </tr>\n",
       "  </thead>\n",
       "  <tbody>\n",
       "    <tr>\n",
       "      <th>0</th>\n",
       "      <td>8</td>\n",
       "      <td>0</td>\n",
       "      <td>0</td>\n",
       "      <td>0</td>\n",
       "      <td>0</td>\n",
       "      <td>0</td>\n",
       "      <td>0</td>\n",
       "      <td>0</td>\n",
       "      <td>0</td>\n",
       "      <td>0</td>\n",
       "      <td>0</td>\n",
       "    </tr>\n",
       "    <tr>\n",
       "      <th>1</th>\n",
       "      <td>1</td>\n",
       "      <td>0</td>\n",
       "      <td>0</td>\n",
       "      <td>0</td>\n",
       "      <td>0</td>\n",
       "      <td>0</td>\n",
       "      <td>1</td>\n",
       "      <td>9999</td>\n",
       "      <td>0</td>\n",
       "      <td>1</td>\n",
       "      <td>1</td>\n",
       "    </tr>\n",
       "    <tr>\n",
       "      <th>2</th>\n",
       "      <td>10</td>\n",
       "      <td>0</td>\n",
       "      <td>0</td>\n",
       "      <td>0</td>\n",
       "      <td>0</td>\n",
       "      <td>0</td>\n",
       "      <td>2</td>\n",
       "      <td>2</td>\n",
       "      <td>1</td>\n",
       "      <td>2</td>\n",
       "      <td>2</td>\n",
       "    </tr>\n",
       "  </tbody>\n",
       "</table>\n",
       "</div>"
      ],
      "text/plain": [
       "   X3  X4  X5  X6  X7  X8  X9   X10  X11  X18  X20\n",
       "0   8   0   0   0   0   0   0     0    0    0    0\n",
       "1   1   0   0   0   0   0   1  9999    0    1    1\n",
       "2  10   0   0   0   0   0   2     2    1    2    2"
      ]
     },
     "execution_count": 179,
     "metadata": {},
     "output_type": "execute_result"
    }
   ],
   "source": [
    "bin_num=20\n",
    "rankAmt=[df_word['X3'].quantile(i/bin_num) for i in range(bin_num)]\n",
    "df_word['X3']=df_word['X3'].apply(Amt_bin,args=(bin_num,rankAmt))\n",
    "df_word.head(3)"
   ]
  },
  {
   "cell_type": "code",
   "execution_count": 180,
   "metadata": {},
   "outputs": [
    {
     "data": {
      "text/html": [
       "<div>\n",
       "<style scoped>\n",
       "    .dataframe tbody tr th:only-of-type {\n",
       "        vertical-align: middle;\n",
       "    }\n",
       "\n",
       "    .dataframe tbody tr th {\n",
       "        vertical-align: top;\n",
       "    }\n",
       "\n",
       "    .dataframe thead th {\n",
       "        text-align: right;\n",
       "    }\n",
       "</style>\n",
       "<table border=\"1\" class=\"dataframe\">\n",
       "  <thead>\n",
       "    <tr style=\"text-align: right;\">\n",
       "      <th></th>\n",
       "      <th>X0</th>\n",
       "      <th>X1</th>\n",
       "      <th>X2</th>\n",
       "      <th>X3</th>\n",
       "      <th>X4</th>\n",
       "      <th>X5</th>\n",
       "      <th>X6</th>\n",
       "      <th>X7</th>\n",
       "      <th>X8</th>\n",
       "      <th>X9</th>\n",
       "      <th>X10</th>\n",
       "      <th>X11</th>\n",
       "      <th>X18</th>\n",
       "      <th>X20</th>\n",
       "      <th>X24</th>\n",
       "      <th>word</th>\n",
       "    </tr>\n",
       "  </thead>\n",
       "  <tbody>\n",
       "    <tr>\n",
       "      <th>0</th>\n",
       "      <td>0</td>\n",
       "      <td>0</td>\n",
       "      <td>3</td>\n",
       "      <td>10.152628</td>\n",
       "      <td>0</td>\n",
       "      <td>0</td>\n",
       "      <td>0</td>\n",
       "      <td>0</td>\n",
       "      <td>0</td>\n",
       "      <td>0</td>\n",
       "      <td>0</td>\n",
       "      <td>0</td>\n",
       "      <td>0</td>\n",
       "      <td>0</td>\n",
       "      <td>09</td>\n",
       "      <td>8_0_0_0_0_0_0_0_0_0_0</td>\n",
       "    </tr>\n",
       "    <tr>\n",
       "      <th>1</th>\n",
       "      <td>0</td>\n",
       "      <td>0</td>\n",
       "      <td>3</td>\n",
       "      <td>3.433987</td>\n",
       "      <td>0</td>\n",
       "      <td>0</td>\n",
       "      <td>0</td>\n",
       "      <td>0</td>\n",
       "      <td>0</td>\n",
       "      <td>1</td>\n",
       "      <td>9999</td>\n",
       "      <td>0</td>\n",
       "      <td>1</td>\n",
       "      <td>1</td>\n",
       "      <td>09</td>\n",
       "      <td>1_0_0_0_0_0_1_9999_0_1_1</td>\n",
       "    </tr>\n",
       "    <tr>\n",
       "      <th>2</th>\n",
       "      <td>1</td>\n",
       "      <td>1</td>\n",
       "      <td>3</td>\n",
       "      <td>11.075768</td>\n",
       "      <td>0</td>\n",
       "      <td>0</td>\n",
       "      <td>0</td>\n",
       "      <td>0</td>\n",
       "      <td>0</td>\n",
       "      <td>2</td>\n",
       "      <td>2</td>\n",
       "      <td>1</td>\n",
       "      <td>2</td>\n",
       "      <td>2</td>\n",
       "      <td>09</td>\n",
       "      <td>10_0_0_0_0_0_2_2_1_2_2</td>\n",
       "    </tr>\n",
       "  </tbody>\n",
       "</table>\n",
       "</div>"
      ],
      "text/plain": [
       "   X0  X1  X2         X3  X4  X5  X6  X7  X8  X9   X10  X11  X18  X20 X24  \\\n",
       "0   0   0   3  10.152628   0   0   0   0   0   0     0    0    0    0  09   \n",
       "1   0   0   3   3.433987   0   0   0   0   0   1  9999    0    1    1  09   \n",
       "2   1   1   3  11.075768   0   0   0   0   0   2     2    1    2    2  09   \n",
       "\n",
       "                       word  \n",
       "0     8_0_0_0_0_0_0_0_0_0_0  \n",
       "1  1_0_0_0_0_0_1_9999_0_1_1  \n",
       "2    10_0_0_0_0_0_2_2_1_2_2  "
      ]
     },
     "execution_count": 180,
     "metadata": {},
     "output_type": "execute_result"
    }
   ],
   "source": [
    "df_word=df_word.applymap(str)\n",
    "df['word']=df_word.apply(lambda x: '_'.join(x),axis=1);df.head(3)"
   ]
  },
  {
   "cell_type": "code",
   "execution_count": 152,
   "metadata": {},
   "outputs": [],
   "source": [
    "####LDA#####\n",
    "df=df.sort_values(by=['X2'])"
   ]
  },
  {
   "cell_type": "code",
   "execution_count": 153,
   "metadata": {},
   "outputs": [],
   "source": [
    "df.to_pickle(\"/home/frank/Downloads/Dataset/data_all.pickle\")"
   ]
  },
  {
   "cell_type": "code",
   "execution_count": 154,
   "metadata": {},
   "outputs": [
    {
     "data": {
      "text/html": [
       "<div>\n",
       "<style scoped>\n",
       "    .dataframe tbody tr th:only-of-type {\n",
       "        vertical-align: middle;\n",
       "    }\n",
       "\n",
       "    .dataframe tbody tr th {\n",
       "        vertical-align: top;\n",
       "    }\n",
       "\n",
       "    .dataframe thead th {\n",
       "        text-align: right;\n",
       "    }\n",
       "</style>\n",
       "<table border=\"1\" class=\"dataframe\">\n",
       "  <thead>\n",
       "    <tr style=\"text-align: right;\">\n",
       "      <th></th>\n",
       "      <th>X0</th>\n",
       "      <th>X1</th>\n",
       "      <th>X2</th>\n",
       "      <th>X3</th>\n",
       "      <th>X4</th>\n",
       "      <th>X5</th>\n",
       "      <th>X6</th>\n",
       "      <th>X7</th>\n",
       "      <th>X8</th>\n",
       "      <th>X9</th>\n",
       "      <th>X10</th>\n",
       "      <th>X11</th>\n",
       "      <th>X18</th>\n",
       "      <th>X20</th>\n",
       "      <th>X24</th>\n",
       "      <th>word</th>\n",
       "    </tr>\n",
       "  </thead>\n",
       "  <tbody>\n",
       "    <tr>\n",
       "      <th>0</th>\n",
       "      <td>0</td>\n",
       "      <td>0</td>\n",
       "      <td>3</td>\n",
       "      <td>10.152628</td>\n",
       "      <td>0</td>\n",
       "      <td>0</td>\n",
       "      <td>0</td>\n",
       "      <td>0</td>\n",
       "      <td>0</td>\n",
       "      <td>0</td>\n",
       "      <td>0</td>\n",
       "      <td>0</td>\n",
       "      <td>0</td>\n",
       "      <td>0</td>\n",
       "      <td>09</td>\n",
       "      <td>8_0_0_0_0_0_0_0_0_0_0</td>\n",
       "    </tr>\n",
       "    <tr>\n",
       "      <th>1316</th>\n",
       "      <td>94</td>\n",
       "      <td>82</td>\n",
       "      <td>3</td>\n",
       "      <td>7.239717</td>\n",
       "      <td>6</td>\n",
       "      <td>0</td>\n",
       "      <td>0</td>\n",
       "      <td>0</td>\n",
       "      <td>6</td>\n",
       "      <td>743</td>\n",
       "      <td>634</td>\n",
       "      <td>44</td>\n",
       "      <td>388</td>\n",
       "      <td>2</td>\n",
       "      <td>09</td>\n",
       "      <td>3_6_0_0_0_6_743_634_44_388_2</td>\n",
       "    </tr>\n",
       "    <tr>\n",
       "      <th>1315</th>\n",
       "      <td>74</td>\n",
       "      <td>62</td>\n",
       "      <td>3</td>\n",
       "      <td>10.898398</td>\n",
       "      <td>6</td>\n",
       "      <td>0</td>\n",
       "      <td>0</td>\n",
       "      <td>0</td>\n",
       "      <td>6</td>\n",
       "      <td>742</td>\n",
       "      <td>633</td>\n",
       "      <td>32</td>\n",
       "      <td>388</td>\n",
       "      <td>2</td>\n",
       "      <td>09</td>\n",
       "      <td>10_6_0_0_0_6_742_633_32_388_2</td>\n",
       "    </tr>\n",
       "  </tbody>\n",
       "</table>\n",
       "</div>"
      ],
      "text/plain": [
       "      X0  X1  X2         X3  X4  X5  X6  X7  X8   X9  X10  X11  X18  X20 X24  \\\n",
       "0      0   0   3  10.152628   0   0   0   0   0    0    0    0    0    0  09   \n",
       "1316  94  82   3   7.239717   6   0   0   0   6  743  634   44  388    2  09   \n",
       "1315  74  62   3  10.898398   6   0   0   0   6  742  633   32  388    2  09   \n",
       "\n",
       "                               word  \n",
       "0             8_0_0_0_0_0_0_0_0_0_0  \n",
       "1316   3_6_0_0_0_6_743_634_44_388_2  \n",
       "1315  10_6_0_0_0_6_742_633_32_388_2  "
      ]
     },
     "execution_count": 154,
     "metadata": {},
     "output_type": "execute_result"
    }
   ],
   "source": [
    "df.head(3)"
   ]
  },
  {
   "cell_type": "code",
   "execution_count": 182,
   "metadata": {},
   "outputs": [
    {
     "data": {
      "text/plain": [
       "array(['09', '10', '11', '12', '01', '02', '03', '04', '05', '06'],\n",
       "      dtype=object)"
      ]
     },
     "execution_count": 182,
     "metadata": {},
     "output_type": "execute_result"
    }
   ],
   "source": [
    "df['X24'].unique()"
   ]
  },
  {
   "cell_type": "code",
   "execution_count": 181,
   "metadata": {},
   "outputs": [
    {
     "name": "stdout",
     "output_type": "stream",
     "text": [
      "Total num of unique customer is: 740\n",
      "Total num of month is: 10\n",
      "740\n"
     ]
    }
   ],
   "source": [
    "uniq_month=df['X24'].unique()\n",
    "uniq_cust=df['X0'].unique()\n",
    "vocab=df['word'].unique()\n",
    "docs=[list(df[df['X0']==i]['word']) for i in range(len(uniq_cust))]\n",
    "print('Total num of unique customer is: %d'%len(uniq_cust))\n",
    "print('Total num of month is: %d'%len(uniq_month))\n",
    "print(len(docs))"
   ]
  },
  {
   "cell_type": "code",
   "execution_count": 183,
   "metadata": {},
   "outputs": [
    {
     "name": "stdout",
     "output_type": "stream",
     "text": [
      "143624\n",
      "1\n",
      "count       740.000000\n",
      "mean        301.544595\n",
      "std        5319.993036\n",
      "min           1.000000\n",
      "25%           4.000000\n",
      "50%          17.000000\n",
      "75%          32.000000\n",
      "max      143624.000000\n",
      "dtype: float64\n"
     ]
    }
   ],
   "source": [
    "each_doc_len=[len(docs[i]) for i in range(len(docs))] \n",
    "print(max(each_doc_len))\n",
    "print(min(each_doc_len))\n",
    "print(pd.Series(each_doc_len).describe())"
   ]
  },
  {
   "cell_type": "code",
   "execution_count": 184,
   "metadata": {},
   "outputs": [],
   "source": [
    "###################\n",
    "#### Gensim-LDA####\n",
    "###################\n",
    "import gensim\n",
    "import gensim.corpora as corpora\n",
    "from gensim.models import CoherenceModel\n",
    "from pprint import pprint\n",
    "data=docs\n",
    "data=[[str(word) for word in doc] for doc in data]\n",
    "id2word=corpora.Dictionary(data)\n",
    "corpus = [id2word.doc2bow(text) for text in data]"
   ]
  },
  {
   "cell_type": "code",
   "execution_count": 185,
   "metadata": {},
   "outputs": [],
   "source": [
    "from time import time\n",
    "def best_topic_num(dic,corpus,data,start,end,step):\n",
    "    coherence_values = []\n",
    "    model_list = []\n",
    "    for num_topics in range(start,end, step):\n",
    "        t0=time()\n",
    "        model=gensim.models.ldamodel.LdaModel(corpus=corpus,\n",
    "                                           id2word=dic,\n",
    "                                           num_topics=num_topics , \n",
    "                                           random_state=0,\n",
    "                                           update_every=1,\n",
    "                                           alpha='auto',\n",
    "                                           per_word_topics=True)\n",
    "        model_list.append(model)\n",
    "        coherencemodel = CoherenceModel(model=model, texts=data, dictionary=dic, coherence='c_v')\n",
    "        coherence_values.append(coherencemodel.get_coherence())\n",
    "        #print('# %d is completed! This step costs %s sec'%(num_topics,str(time()-t0)))\n",
    "\n",
    "    return model_list, coherence_values"
   ]
  },
  {
   "cell_type": "code",
   "execution_count": 186,
   "metadata": {},
   "outputs": [],
   "source": [
    "#### best topic number #######\n",
    "model_list, coherence_values = best_topic_num(dic=id2word, \n",
    "                                            corpus=corpus, \n",
    "                                            data=data, \n",
    "                                            start=3, \n",
    "                                            end=20, \n",
    "                                            step=1)"
   ]
  },
  {
   "cell_type": "code",
   "execution_count": 187,
   "metadata": {},
   "outputs": [
    {
     "name": "stdout",
     "output_type": "stream",
     "text": [
      "Num Topics = 3  has Coherence Value of 0.493936515103152\n",
      "Num Topics = 4  has Coherence Value of 0.5040486995378433\n",
      "Num Topics = 5  has Coherence Value of 0.5137090703184072\n",
      "Num Topics = 6  has Coherence Value of 0.5237111167304239\n",
      "Num Topics = 7  has Coherence Value of 0.4875892957851321\n",
      "Num Topics = 8  has Coherence Value of 0.4456641356104918\n",
      "Num Topics = 9  has Coherence Value of 0.4571009797088649\n",
      "Num Topics = 10  has Coherence Value of 0.4853329483497224\n",
      "Num Topics = 11  has Coherence Value of 0.48092971066268897\n",
      "Num Topics = 12  has Coherence Value of 0.48375888660170857\n",
      "Num Topics = 13  has Coherence Value of 0.4718996813665734\n",
      "Num Topics = 14  has Coherence Value of 0.48023318061643244\n",
      "Num Topics = 15  has Coherence Value of 0.47457083691541935\n",
      "Num Topics = 16  has Coherence Value of 0.4699161780581005\n",
      "Num Topics = 17  has Coherence Value of 0.4673734109361435\n",
      "Num Topics = 18  has Coherence Value of 0.47584820440973835\n",
      "Num Topics = 19  has Coherence Value of 0.44607379712352235\n"
     ]
    },
    {
     "data": {
      "image/png": "[encoded data removed]",
      "text/plain": [
       "<Figure size 432x288 with 1 Axes>"
      ]
     },
     "metadata": {
      "needs_background": "light"
     },
     "output_type": "display_data"
    }
   ],
   "source": [
    "# Plotting tools\n",
    "import matplotlib.pyplot as plt\n",
    "%matplotlib inline\n",
    "num_topic_range = range(3, 20, 1)\n",
    "for x,y in zip(num_topic_range, coherence_values):\n",
    "    print(\"Num Topics =\", x, \" has Coherence Value of\", y)\n",
    "plt.plot(num_topic_range, coherence_values)\n",
    "plt.xlabel(\"Num Topics\")\n",
    "plt.ylabel(\"Coherence score\")\n",
    "plt.legend((\"coherence_values\"), loc='best')\n",
    "plt.show()"
   ]
  },
  {
   "cell_type": "code",
   "execution_count": 188,
   "metadata": {},
   "outputs": [],
   "source": [
    "###############\n",
    "##best-model###\n",
    "###############\n",
    "best_model = gensim.models.ldamodel.LdaModel(corpus=corpus,\n",
    "                                           id2word=id2word,\n",
    "                                           num_topics=6, \n",
    "                                           random_state=0,\n",
    "                                           update_every=1,\n",
    "                                           alpha='auto',\n",
    "                                           per_word_topics=True)"
   ]
  },
  {
   "cell_type": "code",
   "execution_count": 189,
   "metadata": {},
   "outputs": [],
   "source": [
    "predict_cluster=[[cust,best_model.get_document_topics(bow=corpus[cust])[0][0]] for cust in range(len(uniq_cust))]"
   ]
  },
  {
   "cell_type": "code",
   "execution_count": 190,
   "metadata": {},
   "outputs": [],
   "source": [
    "predict_cluster_df=pd.DataFrame(predict_cluster,columns=['cust_id','cluster'])"
   ]
  },
  {
   "cell_type": "code",
   "execution_count": 191,
   "metadata": {},
   "outputs": [],
   "source": [
    "df1=df.merge(predict_cluster_df,how='left',left_on='X0',right_on='cust_id')"
   ]
  },
  {
   "cell_type": "code",
   "execution_count": 196,
   "metadata": {},
   "outputs": [
    {
     "data": {
      "text/plain": [
       "array([0, 1, 4, 2, 3, 5])"
      ]
     },
     "execution_count": 196,
     "metadata": {},
     "output_type": "execute_result"
    }
   ],
   "source": [
    "df1.cluster.unique()"
   ]
  },
  {
   "cell_type": "code",
   "execution_count": 198,
   "metadata": {},
   "outputs": [
    {
     "data": {
      "text/html": [
       "<div>\n",
       "<style scoped>\n",
       "    .dataframe tbody tr th:only-of-type {\n",
       "        vertical-align: middle;\n",
       "    }\n",
       "\n",
       "    .dataframe tbody tr th {\n",
       "        vertical-align: top;\n",
       "    }\n",
       "\n",
       "    .dataframe thead th {\n",
       "        text-align: right;\n",
       "    }\n",
       "</style>\n",
       "<table border=\"1\" class=\"dataframe\">\n",
       "  <thead>\n",
       "    <tr style=\"text-align: right;\">\n",
       "      <th></th>\n",
       "      <th>X0</th>\n",
       "      <th>X1</th>\n",
       "      <th>X2</th>\n",
       "      <th>X3</th>\n",
       "      <th>X4</th>\n",
       "      <th>X5</th>\n",
       "      <th>X6</th>\n",
       "      <th>X7</th>\n",
       "      <th>X8</th>\n",
       "      <th>X9</th>\n",
       "      <th>X10</th>\n",
       "      <th>X11</th>\n",
       "      <th>X18</th>\n",
       "      <th>X20</th>\n",
       "      <th>X24</th>\n",
       "      <th>word</th>\n",
       "      <th>cust_id</th>\n",
       "      <th>cluster</th>\n",
       "    </tr>\n",
       "  </thead>\n",
       "  <tbody>\n",
       "    <tr>\n",
       "      <th>0</th>\n",
       "      <td>0</td>\n",
       "      <td>0</td>\n",
       "      <td>3</td>\n",
       "      <td>10.152628</td>\n",
       "      <td>0</td>\n",
       "      <td>0</td>\n",
       "      <td>0</td>\n",
       "      <td>0</td>\n",
       "      <td>0</td>\n",
       "      <td>0</td>\n",
       "      <td>0</td>\n",
       "      <td>0</td>\n",
       "      <td>0</td>\n",
       "      <td>0</td>\n",
       "      <td>09</td>\n",
       "      <td>8_0_0_0_0_0_0_0_0_0_0</td>\n",
       "      <td>0</td>\n",
       "      <td>0</td>\n",
       "    </tr>\n",
       "    <tr>\n",
       "      <th>1</th>\n",
       "      <td>0</td>\n",
       "      <td>0</td>\n",
       "      <td>3</td>\n",
       "      <td>3.433987</td>\n",
       "      <td>0</td>\n",
       "      <td>0</td>\n",
       "      <td>0</td>\n",
       "      <td>0</td>\n",
       "      <td>0</td>\n",
       "      <td>1</td>\n",
       "      <td>9999</td>\n",
       "      <td>0</td>\n",
       "      <td>1</td>\n",
       "      <td>1</td>\n",
       "      <td>09</td>\n",
       "      <td>1_0_0_0_0_0_1_9999_0_1_1</td>\n",
       "      <td>0</td>\n",
       "      <td>0</td>\n",
       "    </tr>\n",
       "    <tr>\n",
       "      <th>2</th>\n",
       "      <td>1</td>\n",
       "      <td>1</td>\n",
       "      <td>3</td>\n",
       "      <td>11.075768</td>\n",
       "      <td>0</td>\n",
       "      <td>0</td>\n",
       "      <td>0</td>\n",
       "      <td>0</td>\n",
       "      <td>0</td>\n",
       "      <td>2</td>\n",
       "      <td>2</td>\n",
       "      <td>1</td>\n",
       "      <td>2</td>\n",
       "      <td>2</td>\n",
       "      <td>09</td>\n",
       "      <td>10_0_0_0_0_0_2_2_1_2_2</td>\n",
       "      <td>1</td>\n",
       "      <td>1</td>\n",
       "    </tr>\n",
       "  </tbody>\n",
       "</table>\n",
       "</div>"
      ],
      "text/plain": [
       "   X0  X1  X2         X3  X4  X5  X6  X7  X8  X9   X10  X11  X18  X20 X24  \\\n",
       "0   0   0   3  10.152628   0   0   0   0   0   0     0    0    0    0  09   \n",
       "1   0   0   3   3.433987   0   0   0   0   0   1  9999    0    1    1  09   \n",
       "2   1   1   3  11.075768   0   0   0   0   0   2     2    1    2    2  09   \n",
       "\n",
       "                       word  cust_id  cluster  \n",
       "0     8_0_0_0_0_0_0_0_0_0_0        0        0  \n",
       "1  1_0_0_0_0_0_1_9999_0_1_1        0        0  \n",
       "2    10_0_0_0_0_0_2_2_1_2_2        1        1  "
      ]
     },
     "execution_count": 198,
     "metadata": {},
     "output_type": "execute_result"
    }
   ],
   "source": [
    "df1.head(3)"
   ]
  },
  {
   "cell_type": "code",
   "execution_count": 199,
   "metadata": {},
   "outputs": [
    {
     "data": {
      "text/plain": [
       "0    152899\n",
       "1     28122\n",
       "2     22231\n",
       "4      8150\n",
       "3      7784\n",
       "5      3957\n",
       "Name: cluster, dtype: int64"
      ]
     },
     "execution_count": 199,
     "metadata": {},
     "output_type": "execute_result"
    }
   ],
   "source": [
    "##################\n",
    "##Auto-encoder####\n",
    "##################\n",
    "df1['cluster'].value_counts()"
   ]
  },
  {
   "cell_type": "code",
   "execution_count": 203,
   "metadata": {},
   "outputs": [],
   "source": [
    "df_sub=df1[df1['cluster']==0]"
   ]
  },
  {
   "cell_type": "code",
   "execution_count": 204,
   "metadata": {},
   "outputs": [
    {
     "data": {
      "text/html": [
       "<div>\n",
       "<style scoped>\n",
       "    .dataframe tbody tr th:only-of-type {\n",
       "        vertical-align: middle;\n",
       "    }\n",
       "\n",
       "    .dataframe tbody tr th {\n",
       "        vertical-align: top;\n",
       "    }\n",
       "\n",
       "    .dataframe thead th {\n",
       "        text-align: right;\n",
       "    }\n",
       "</style>\n",
       "<table border=\"1\" class=\"dataframe\">\n",
       "  <thead>\n",
       "    <tr style=\"text-align: right;\">\n",
       "      <th></th>\n",
       "      <th>X0</th>\n",
       "      <th>X1</th>\n",
       "      <th>X2</th>\n",
       "      <th>X3</th>\n",
       "      <th>X4</th>\n",
       "      <th>X5</th>\n",
       "      <th>X6</th>\n",
       "      <th>X7</th>\n",
       "      <th>X8</th>\n",
       "      <th>X9</th>\n",
       "      <th>X10</th>\n",
       "      <th>X11</th>\n",
       "      <th>X18</th>\n",
       "      <th>X20</th>\n",
       "      <th>X24</th>\n",
       "      <th>word</th>\n",
       "      <th>cust_id</th>\n",
       "      <th>cluster</th>\n",
       "    </tr>\n",
       "  </thead>\n",
       "  <tbody>\n",
       "    <tr>\n",
       "      <th>0</th>\n",
       "      <td>0</td>\n",
       "      <td>0</td>\n",
       "      <td>3</td>\n",
       "      <td>10.152628</td>\n",
       "      <td>0</td>\n",
       "      <td>0</td>\n",
       "      <td>0</td>\n",
       "      <td>0</td>\n",
       "      <td>0</td>\n",
       "      <td>0</td>\n",
       "      <td>0</td>\n",
       "      <td>0</td>\n",
       "      <td>0</td>\n",
       "      <td>0</td>\n",
       "      <td>09</td>\n",
       "      <td>8_0_0_0_0_0_0_0_0_0_0</td>\n",
       "      <td>0</td>\n",
       "      <td>0</td>\n",
       "    </tr>\n",
       "    <tr>\n",
       "      <th>1</th>\n",
       "      <td>0</td>\n",
       "      <td>0</td>\n",
       "      <td>3</td>\n",
       "      <td>3.433987</td>\n",
       "      <td>0</td>\n",
       "      <td>0</td>\n",
       "      <td>0</td>\n",
       "      <td>0</td>\n",
       "      <td>0</td>\n",
       "      <td>1</td>\n",
       "      <td>9999</td>\n",
       "      <td>0</td>\n",
       "      <td>1</td>\n",
       "      <td>1</td>\n",
       "      <td>09</td>\n",
       "      <td>1_0_0_0_0_0_1_9999_0_1_1</td>\n",
       "      <td>0</td>\n",
       "      <td>0</td>\n",
       "    </tr>\n",
       "    <tr>\n",
       "      <th>3</th>\n",
       "      <td>0</td>\n",
       "      <td>0</td>\n",
       "      <td>3</td>\n",
       "      <td>11.946955</td>\n",
       "      <td>0</td>\n",
       "      <td>0</td>\n",
       "      <td>0</td>\n",
       "      <td>0</td>\n",
       "      <td>0</td>\n",
       "      <td>3</td>\n",
       "      <td>3</td>\n",
       "      <td>0</td>\n",
       "      <td>3</td>\n",
       "      <td>3</td>\n",
       "      <td>09</td>\n",
       "      <td>11_0_0_0_0_0_3_3_0_3_3</td>\n",
       "      <td>0</td>\n",
       "      <td>0</td>\n",
       "    </tr>\n",
       "  </tbody>\n",
       "</table>\n",
       "</div>"
      ],
      "text/plain": [
       "   X0  X1  X2         X3  X4  X5  X6  X7  X8  X9   X10  X11  X18  X20 X24  \\\n",
       "0   0   0   3  10.152628   0   0   0   0   0   0     0    0    0    0  09   \n",
       "1   0   0   3   3.433987   0   0   0   0   0   1  9999    0    1    1  09   \n",
       "3   0   0   3  11.946955   0   0   0   0   0   3     3    0    3    3  09   \n",
       "\n",
       "                       word  cust_id  cluster  \n",
       "0     8_0_0_0_0_0_0_0_0_0_0        0        0  \n",
       "1  1_0_0_0_0_0_1_9999_0_1_1        0        0  \n",
       "3    11_0_0_0_0_0_3_3_0_3_3        0        0  "
      ]
     },
     "execution_count": 204,
     "metadata": {},
     "output_type": "execute_result"
    }
   ],
   "source": [
    "df_sub.head(3)"
   ]
  },
  {
   "cell_type": "code",
   "execution_count": 205,
   "metadata": {},
   "outputs": [
    {
     "data": {
      "text/html": [
       "<div>\n",
       "<style scoped>\n",
       "    .dataframe tbody tr th:only-of-type {\n",
       "        vertical-align: middle;\n",
       "    }\n",
       "\n",
       "    .dataframe tbody tr th {\n",
       "        vertical-align: top;\n",
       "    }\n",
       "\n",
       "    .dataframe thead th {\n",
       "        text-align: right;\n",
       "    }\n",
       "</style>\n",
       "<table border=\"1\" class=\"dataframe\">\n",
       "  <thead>\n",
       "    <tr style=\"text-align: right;\">\n",
       "      <th></th>\n",
       "      <th>X0</th>\n",
       "      <th>X1</th>\n",
       "      <th>X2</th>\n",
       "      <th>X3</th>\n",
       "      <th>X4</th>\n",
       "      <th>X5</th>\n",
       "      <th>X6</th>\n",
       "      <th>X7</th>\n",
       "      <th>X8</th>\n",
       "      <th>X9</th>\n",
       "      <th>X10</th>\n",
       "      <th>X11</th>\n",
       "      <th>X18</th>\n",
       "      <th>X20</th>\n",
       "      <th>X24</th>\n",
       "      <th>word</th>\n",
       "      <th>cust_id</th>\n",
       "      <th>cluster</th>\n",
       "    </tr>\n",
       "  </thead>\n",
       "  <tbody>\n",
       "    <tr>\n",
       "      <th>0</th>\n",
       "      <td>0</td>\n",
       "      <td>0</td>\n",
       "      <td>3</td>\n",
       "      <td>10.152628</td>\n",
       "      <td>0</td>\n",
       "      <td>0</td>\n",
       "      <td>0</td>\n",
       "      <td>0</td>\n",
       "      <td>0</td>\n",
       "      <td>0</td>\n",
       "      <td>0</td>\n",
       "      <td>0</td>\n",
       "      <td>0</td>\n",
       "      <td>0</td>\n",
       "      <td>09</td>\n",
       "      <td>8_0_0_0_0_0_0_0_0_0_0</td>\n",
       "      <td>0</td>\n",
       "      <td>0</td>\n",
       "    </tr>\n",
       "    <tr>\n",
       "      <th>1</th>\n",
       "      <td>0</td>\n",
       "      <td>0</td>\n",
       "      <td>3</td>\n",
       "      <td>3.433987</td>\n",
       "      <td>0</td>\n",
       "      <td>0</td>\n",
       "      <td>0</td>\n",
       "      <td>0</td>\n",
       "      <td>0</td>\n",
       "      <td>1</td>\n",
       "      <td>9999</td>\n",
       "      <td>0</td>\n",
       "      <td>1</td>\n",
       "      <td>1</td>\n",
       "      <td>09</td>\n",
       "      <td>1_0_0_0_0_0_1_9999_0_1_1</td>\n",
       "      <td>0</td>\n",
       "      <td>0</td>\n",
       "    </tr>\n",
       "    <tr>\n",
       "      <th>3</th>\n",
       "      <td>0</td>\n",
       "      <td>0</td>\n",
       "      <td>3</td>\n",
       "      <td>11.946955</td>\n",
       "      <td>0</td>\n",
       "      <td>0</td>\n",
       "      <td>0</td>\n",
       "      <td>0</td>\n",
       "      <td>0</td>\n",
       "      <td>3</td>\n",
       "      <td>3</td>\n",
       "      <td>0</td>\n",
       "      <td>3</td>\n",
       "      <td>3</td>\n",
       "      <td>09</td>\n",
       "      <td>11_0_0_0_0_0_3_3_0_3_3</td>\n",
       "      <td>0</td>\n",
       "      <td>0</td>\n",
       "    </tr>\n",
       "  </tbody>\n",
       "</table>\n",
       "</div>"
      ],
      "text/plain": [
       "   X0  X1  X2         X3  X4  X5  X6  X7  X8  X9   X10  X11  X18  X20 X24  \\\n",
       "0   0   0   3  10.152628   0   0   0   0   0   0     0    0    0    0  09   \n",
       "1   0   0   3   3.433987   0   0   0   0   0   1  9999    0    1    1  09   \n",
       "3   0   0   3  11.946955   0   0   0   0   0   3     3    0    3    3  09   \n",
       "\n",
       "                       word  cust_id  cluster  \n",
       "0     8_0_0_0_0_0_0_0_0_0_0        0        0  \n",
       "1  1_0_0_0_0_0_1_9999_0_1_1        0        0  \n",
       "3    11_0_0_0_0_0_3_3_0_3_3        0        0  "
      ]
     },
     "execution_count": 205,
     "metadata": {},
     "output_type": "execute_result"
    }
   ],
   "source": [
    "df=df_sub.copy();df.head(3)"
   ]
  },
  {
   "cell_type": "code",
   "execution_count": 206,
   "metadata": {},
   "outputs": [
    {
     "name": "stderr",
     "output_type": "stream",
     "text": [
      "100%|██████████| 371/371 [00:32<00:00, 11.76it/s]"
     ]
    },
    {
     "name": "stdout",
     "output_type": "stream",
     "text": [
      "32.01265478134155\n"
     ]
    },
    {
     "name": "stderr",
     "output_type": "stream",
     "text": [
      "\n"
     ]
    }
   ],
   "source": [
    "##########################\n",
    "##Sample Generation#######\n",
    "##########################\n",
    "from tqdm import tqdm\n",
    "from time import time\n",
    "data=[]\n",
    "uniq_month=df['X24'].unique()\n",
    "uniq_cust=df['X0'].unique()\n",
    "uniq_cust.sort()\n",
    "time0=time()\n",
    "for cust in tqdm(uniq_cust):\n",
    "    for month in uniq_month:\n",
    "        item=df[(df['X24']==month) &\n",
    "                (df[\"X0\"]== cust)].sort_values(by=['X2'])\n",
    "        if item.shape[0]>=10:#why shape[0]>=10\n",
    "            item=item.drop(['X0','X1','X2','X24','word','cust_id','cluster'],axis=1)\n",
    "            data.append(item)\n",
    "print(time()-time0)"
   ]
  },
  {
   "cell_type": "code",
   "execution_count": 210,
   "metadata": {},
   "outputs": [
    {
     "name": "stdout",
     "output_type": "stream",
     "text": [
      "Total num of sample is: 135\n",
      "Total num of unique customer is: 371\n",
      "Total num of unique month is: 10\n"
     ]
    }
   ],
   "source": [
    "print('Total num of sample is: %d' %len(data))\n",
    "print('Total num of unique customer is: %d'%len(uniq_cust))\n",
    "print('Total num of unique month is: %d'%len(uniq_month))"
   ]
  },
  {
   "cell_type": "code",
   "execution_count": 220,
   "metadata": {},
   "outputs": [],
   "source": [
    "def rolling_window_x(x,lookback):\n",
    "    rolling_x=[]\n",
    "    for i in range(lookback, len(x)+1):\n",
    "        rolling_x.append(x.iloc[(i-lookback):i,:])\n",
    "    return rolling_x"
   ]
  },
  {
   "cell_type": "code",
   "execution_count": 221,
   "metadata": {},
   "outputs": [
    {
     "name": "stderr",
     "output_type": "stream",
     "text": [
      "100%|██████████| 135/135 [00:29<00:00, 37.07it/s]\n"
     ]
    },
    {
     "data": {
      "text/plain": [
       "(148673, 10, 11)"
      ]
     },
     "execution_count": 221,
     "metadata": {},
     "output_type": "execute_result"
    }
   ],
   "source": [
    "#########################\n",
    "###Generate 3D array####\n",
    "#######################\n",
    "###[np.array(mat_3D[i]) for i in range(len(mat_3D))]!!!!!\n",
    "lookback=10\n",
    "X=np.empty(shape=(1,10,data[0].shape[1]))\n",
    "for sample in tqdm(range(len(data))):\n",
    "    mat_3D=rolling_window_x(data[sample],lookback)\n",
    "    mat_3D=np.array([np.array(mat_3D[i]) for i in range(len(mat_3D))])\n",
    "    X=np.append(mat_3D,X,axis=0)\n",
    "    #print('Sample %d has been completed!'%sample)\n",
    "X.shape"
   ]
  },
  {
   "cell_type": "code",
   "execution_count": 228,
   "metadata": {},
   "outputs": [],
   "source": [
    "###split train and validate\n",
    "X_train, X_valid,= train_test_split(X,test_size=0.2,random_state=123,shuffle=True)"
   ]
  },
  {
   "cell_type": "code",
   "execution_count": 229,
   "metadata": {},
   "outputs": [
    {
     "name": "stdout",
     "output_type": "stream",
     "text": [
      "_________________________________________________________________\n",
      "Layer (type)                 Output Shape              Param #   \n",
      "=================================================================\n",
      "lstm_19 (LSTM)               (None, 10, 8)             640       \n",
      "_________________________________________________________________\n",
      "lstm_20 (LSTM)               (None, 4)                 208       \n",
      "_________________________________________________________________\n",
      "repeat_vector_5 (RepeatVecto (None, 10, 4)             0         \n",
      "_________________________________________________________________\n",
      "lstm_21 (LSTM)               (None, 10, 4)             144       \n",
      "_________________________________________________________________\n",
      "lstm_22 (LSTM)               (None, 10, 8)             416       \n",
      "_________________________________________________________________\n",
      "time_distributed_5 (TimeDist (None, 10, 11)            99        \n",
      "=================================================================\n",
      "Total params: 1,507\n",
      "Trainable params: 1,507\n",
      "Non-trainable params: 0\n",
      "_________________________________________________________________\n"
     ]
    }
   ],
   "source": [
    "####Training-LSTM-layer####\n",
    "timesteps =  X.shape[1] # equal to the lookback\n",
    "n_features =  X.shape[2] # 59\n",
    "\n",
    "epochs = 10\n",
    "batch = 64\n",
    "lr = 0.001\n",
    "hidden_unit_1=8\n",
    "hidden_unit_2=4\n",
    "##########\n",
    "lstm_encoder = Sequential()\n",
    "# Encoder\n",
    "lstm_encoder.add(LSTM(hidden_unit_1, activation='relu', input_shape=(timesteps, n_features), return_sequences=True))\n",
    "lstm_encoder.add(LSTM(hidden_unit_2, activation='relu', return_sequences=False))\n",
    "lstm_encoder.add(RepeatVector(timesteps))\n",
    "# Decoder\n",
    "lstm_encoder.add(LSTM(hidden_unit_2, activation='relu', return_sequences=True))\n",
    "lstm_encoder.add(LSTM(hidden_unit_1, activation='relu', return_sequences=True))\n",
    "lstm_encoder.add(TimeDistributed(Dense(n_features)))\n",
    "\n",
    "lstm_encoder.summary()"
   ]
  },
  {
   "cell_type": "code",
   "execution_count": 230,
   "metadata": {},
   "outputs": [
    {
     "name": "stdout",
     "output_type": "stream",
     "text": [
      "Train on 118938 samples, validate on 29735 samples\n",
      "Epoch 1/10\n",
      " - 55s - loss: 7133374.6672 - val_loss: 7307459.7998\n",
      "Epoch 2/10\n",
      " - 52s - loss: 6439337.1837 - val_loss: 6183663.7123\n",
      "Epoch 3/10\n",
      " - 49s - loss: 6409422.3684 - val_loss: 10096806.4906\n",
      "Epoch 4/10\n",
      " - 49s - loss: 5868474.9474 - val_loss: 5706309.3431\n",
      "Epoch 5/10\n",
      " - 51s - loss: 5732445.5491 - val_loss: 5688693.4624\n",
      "Epoch 6/10\n",
      " - 52s - loss: 5591846.4524 - val_loss: 5557409.0662\n",
      "Epoch 7/10\n",
      " - 53s - loss: 5476557.4403 - val_loss: 5362137.0063\n",
      "Epoch 8/10\n",
      " - 51s - loss: 5285838.3671 - val_loss: 5317009.8220\n",
      "Epoch 9/10\n",
      " - 50s - loss: 5213827.7100 - val_loss: 5225354.6239\n",
      "Epoch 10/10\n",
      " - 51s - loss: 5188463.1712 - val_loss: 5212218.7957\n"
     ]
    }
   ],
   "source": [
    "###optim####\n",
    "lstm_encoder.compile(loss='mse', optimizer=optimizers.Adam(lr))\n",
    "###tb####\n",
    "tb = TensorBoard(log_dir='/home/frank/Downloads/logs',\n",
    "                histogram_freq=0,\n",
    "                write_graph=True,\n",
    "                write_images=True)\n",
    "###training###\n",
    "lstm_encoder_history = lstm_encoder.fit(X_train, X_train, \n",
    "                                                epochs=epochs, \n",
    "                                                batch_size=batch, \n",
    "                                                validation_data=(X_valid, X_valid),\n",
    "                                                verbose=2).history"
   ]
  },
  {
   "cell_type": "code",
   "execution_count": 67,
   "metadata": {},
   "outputs": [
    {
     "data": {
      "image/png": "[encoded data removed]",
      "text/plain": [
       "<Figure size 432x288 with 1 Axes>"
      ]
     },
     "metadata": {
      "needs_background": "light"
     },
     "output_type": "display_data"
    }
   ],
   "source": [
    "plt.plot(lstm_encoder_history['loss'], linewidth=2, label='train')\n",
    "plt.plot(lstm_encoder_history['val_loss'], linewidth=2, label='valid')\n",
    "plt.ylabel('Loss')\n",
    "plt.xlabel('Epoch')\n",
    "plt.legend()\n",
    "plt.show()"
   ]
  },
  {
   "cell_type": "code",
   "execution_count": 68,
   "metadata": {},
   "outputs": [
    {
     "name": "stdout",
     "output_type": "stream",
     "text": [
      "Train on 121476 samples, validate on 30370 samples\n",
      "Epoch 1/10\n",
      " - 52s - loss: 4041429.7448 - val_loss: 4034061.9104\n",
      "Epoch 2/10\n",
      " - 55s - loss: 4020883.6228 - val_loss: 4041080.7832\n",
      "Epoch 3/10\n",
      " - 52s - loss: 3991604.7278 - val_loss: 3997173.9799\n",
      "Epoch 4/10\n",
      " - 49s - loss: 3974245.3337 - val_loss: 3993496.0069\n",
      "Epoch 5/10\n",
      " - 49s - loss: 3999941.6274 - val_loss: 4012305.6852\n",
      "Epoch 6/10\n",
      " - 50s - loss: 3971422.0097 - val_loss: 3992482.7734\n",
      "Epoch 7/10\n",
      " - 49s - loss: 3952137.0820 - val_loss: 3971535.5643\n",
      "Epoch 8/10\n",
      " - 50s - loss: 3939695.9752 - val_loss: 3959303.0400\n",
      "Epoch 9/10\n",
      " - 50s - loss: 3930655.9123 - val_loss: 3948043.0143\n",
      "Epoch 10/10\n",
      " - 51s - loss: 3983473.1448 - val_loss: 3962841.9572\n"
     ]
    },
    {
     "data": {
      "image/png": "[encoded data removed]",
      "text/plain": [
       "<Figure size 432x288 with 1 Axes>"
      ]
     },
     "metadata": {
      "needs_background": "light"
     },
     "output_type": "display_data"
    }
   ],
   "source": [
    "###optim####\n",
    "lstm_encoder.compile(loss='mse', optimizer=optimizers.Adam(lr))\n",
    "###tb####\n",
    "tb = TensorBoard(log_dir='/home/frank/Downloads/logs',\n",
    "                histogram_freq=0,\n",
    "                write_graph=True,\n",
    "                write_images=True)\n",
    "###training###\n",
    "lstm_encoder_history = lstm_encoder.fit(X_train, X_train, \n",
    "                                                epochs=epochs, \n",
    "                                                batch_size=batch, \n",
    "                                                validation_data=(X_valid, X_valid),\n",
    "                                                verbose=2).history\n",
    "###plot####\n",
    "plt.plot(lstm_encoder_history['loss'], linewidth=2, label='train')\n",
    "plt.plot(lstm_encoder_history['val_loss'], linewidth=2, label='valid')\n",
    "plt.ylabel('Loss')\n",
    "plt.xlabel('Epoch')\n",
    "plt.legend()\n",
    "plt.show()"
   ]
  },
  {
   "cell_type": "code",
   "execution_count": 123,
   "metadata": {},
   "outputs": [
    {
     "name": "stdout",
     "output_type": "stream",
     "text": [
      "7108733.893407841\n"
     ]
    },
    {
     "data": {
      "text/plain": [
       "array([  139965.19044367,  4429080.1400424 ,   345387.8971236 , ...,\n",
       "         158984.33617872, 59460675.55157475, 23681763.21939907])"
      ]
     },
     "execution_count": 123,
     "metadata": {},
     "output_type": "execute_result"
    }
   ],
   "source": [
    "def back_to_2D(X):\n",
    "    X_2D = np.empty((X.shape[0], X.shape[2]))  # sample x features array.\n",
    "    for i in range(X.shape[0]):\n",
    "        X_2D[i] = X[i, (X.shape[1]-1), :]\n",
    "    return(X_2D)\n",
    "\n",
    "x_valid_predict = lstm_autoencoder.predict(X_valid)\n",
    "mse_valid = np.mean(np.power(back_to_2D(X_valid) - back_to_2D(x_valid_predict), 2), axis=1)\n",
    "print(mse_valid.mean())\n",
    "mse_valid"
   ]
  },
  {
   "cell_type": "code",
   "execution_count": 95,
   "metadata": {},
   "outputs": [
    {
     "data": {
      "text/plain": [
       "30370"
      ]
     },
     "execution_count": 95,
     "metadata": {},
     "output_type": "execute_result"
    }
   ],
   "source": [
    "len(mse_valid)"
   ]
  },
  {
   "cell_type": "code",
   "execution_count": 83,
   "metadata": {},
   "outputs": [],
   "source": [
    "####other ckuster reconstruction error###\n",
    "df=df1[df1['cluster']==0]"
   ]
  },
  {
   "cell_type": "code",
   "execution_count": 84,
   "metadata": {},
   "outputs": [
    {
     "name": "stderr",
     "output_type": "stream",
     "text": [
      "100%|██████████| 347/347 [00:10<00:00, 34.33it/s]"
     ]
    },
    {
     "name": "stdout",
     "output_type": "stream",
     "text": [
      "10.110053539276123\n"
     ]
    },
    {
     "name": "stderr",
     "output_type": "stream",
     "text": [
      "\n"
     ]
    }
   ],
   "source": [
    "##########################\n",
    "##Sample Generation#######\n",
    "##########################\n",
    "from tqdm import tqdm\n",
    "from time import time\n",
    "data=[]\n",
    "uniq_month=df['X24'].unique()\n",
    "uniq_cust=df['X0'].unique()\n",
    "uniq_cust.sort()\n",
    "time0=time()\n",
    "for cust in tqdm(uniq_cust):\n",
    "    for month in uniq_month:\n",
    "        item=df[(df['X24']==month) &\n",
    "                (df[\"X0\"]== cust)].sort_values(by=['X2'])\n",
    "        if item.shape[0]>=10:\n",
    "            item=item.drop(['X0','X1','X2','X24','word','cust_id','cluster'],axis=1)\n",
    "            data.append(item)\n",
    "print(time()-time0)"
   ]
  },
  {
   "cell_type": "code",
   "execution_count": 88,
   "metadata": {},
   "outputs": [
    {
     "name": "stderr",
     "output_type": "stream",
     "text": [
      "100%|██████████| 125/125 [00:04<00:00, 31.07it/s]\n"
     ]
    },
    {
     "data": {
      "text/plain": [
       "(17614, 10, 11)"
      ]
     },
     "execution_count": 88,
     "metadata": {},
     "output_type": "execute_result"
    }
   ],
   "source": [
    "#########################\n",
    "###Generate 3D array####\n",
    "#######################\n",
    "###[np.array(mat_3D[i]) for i in range(len(mat_3D))]!!!!!\n",
    "lookback=10\n",
    "X=np.empty(shape=(1,10,data[0].shape[1]))\n",
    "for sample in tqdm(range(len(data))):\n",
    "    mat_3D=rolling_window_x(data[sample],lookback)\n",
    "    mat_3D=np.array([np.array(mat_3D[i]) for i in range(len(mat_3D))])\n",
    "    X=np.append(mat_3D,X,axis=0)\n",
    "    #print('Sample %d has been completed!'%sample)\n",
    "X.shape"
   ]
  },
  {
   "cell_type": "code",
   "execution_count": 96,
   "metadata": {},
   "outputs": [
    {
     "name": "stdout",
     "output_type": "stream",
     "text": [
      "16366317.444204189\n"
     ]
    },
    {
     "data": {
      "text/plain": [
       "array([30857378.36786979, 30857377.08657316, 48138755.37387685, ...,\n",
       "        8176449.23854619,  3352284.28156547, 18191941.36363636])"
      ]
     },
     "execution_count": 96,
     "metadata": {},
     "output_type": "execute_result"
    }
   ],
   "source": [
    "x_predict = lstm_autoencoder.predict(X)\n",
    "mse_other = np.mean(np.power(back_to_2D(X) - back_to_2D(x_predict), 2), axis=1)\n",
    "print(mse_other.mean())\n",
    "mse_other"
   ]
  },
  {
   "cell_type": "code",
   "execution_count": 97,
   "metadata": {},
   "outputs": [
    {
     "data": {
      "text/plain": [
       "9257583.550796349"
      ]
     },
     "execution_count": 97,
     "metadata": {},
     "output_type": "execute_result"
    }
   ],
   "source": [
    "mse_other.mean()-mse_valid.mean()"
   ]
  },
  {
   "cell_type": "code",
   "execution_count": 100,
   "metadata": {},
   "outputs": [
    {
     "data": {
      "text/plain": [
       "2.3022830351521817"
      ]
     },
     "execution_count": 100,
     "metadata": {},
     "output_type": "execute_result"
    }
   ],
   "source": [
    "mse_other.mean()/mse_valid.mean()"
   ]
  },
  {
   "cell_type": "code",
   "execution_count": 124,
   "metadata": {},
   "outputs": [
    {
     "data": {
      "text/plain": [
       "1.7241966617463382"
      ]
     },
     "execution_count": 124,
     "metadata": {},
     "output_type": "execute_result"
    }
   ],
   "source": [
    "len(mse_valid)/len(mse_other)"
   ]
  },
  {
   "cell_type": "code",
   "execution_count": 125,
   "metadata": {},
   "outputs": [],
   "source": [
    "mse_valid,tp=train_test_split(mse_valid,test_size=0.5,random_state=123)"
   ]
  },
  {
   "cell_type": "code",
   "execution_count": 126,
   "metadata": {},
   "outputs": [],
   "source": [
    "error_df=pd.DataFrame({'Recons_error':mse_valid,'cluster':4})"
   ]
  },
  {
   "cell_type": "code",
   "execution_count": 127,
   "metadata": {},
   "outputs": [],
   "source": [
    "error_df=pd.concat([error_df,pd.DataFrame({'Recons_error':mse_other,'cluster':0})],axis=0)"
   ]
  },
  {
   "cell_type": "code",
   "execution_count": 128,
   "metadata": {},
   "outputs": [
    {
     "data": {
      "text/html": [
       "<div>\n",
       "<style scoped>\n",
       "    .dataframe tbody tr th:only-of-type {\n",
       "        vertical-align: middle;\n",
       "    }\n",
       "\n",
       "    .dataframe tbody tr th {\n",
       "        vertical-align: top;\n",
       "    }\n",
       "\n",
       "    .dataframe thead th {\n",
       "        text-align: right;\n",
       "    }\n",
       "</style>\n",
       "<table border=\"1\" class=\"dataframe\">\n",
       "  <thead>\n",
       "    <tr style=\"text-align: right;\">\n",
       "      <th></th>\n",
       "      <th>Recons_error</th>\n",
       "      <th>cluster</th>\n",
       "    </tr>\n",
       "  </thead>\n",
       "  <tbody>\n",
       "    <tr>\n",
       "      <th>0</th>\n",
       "      <td>5.298729e+03</td>\n",
       "      <td>4</td>\n",
       "    </tr>\n",
       "    <tr>\n",
       "      <th>1</th>\n",
       "      <td>3.573040e+07</td>\n",
       "      <td>4</td>\n",
       "    </tr>\n",
       "    <tr>\n",
       "      <th>2</th>\n",
       "      <td>2.424554e+07</td>\n",
       "      <td>4</td>\n",
       "    </tr>\n",
       "  </tbody>\n",
       "</table>\n",
       "</div>"
      ],
      "text/plain": [
       "   Recons_error  cluster\n",
       "0  5.298729e+03        4\n",
       "1  3.573040e+07        4\n",
       "2  2.424554e+07        4"
      ]
     },
     "execution_count": 128,
     "metadata": {},
     "output_type": "execute_result"
    }
   ],
   "source": [
    "error_df.head(3)"
   ]
  },
  {
   "cell_type": "code",
   "execution_count": 134,
   "metadata": {},
   "outputs": [
    {
     "data": {
      "image/png": "[encoded data removed]",
      "text/plain": [
       "<Figure size 432x288 with 1 Axes>"
      ]
     },
     "metadata": {
      "needs_background": "light"
     },
     "output_type": "display_data"
    }
   ],
   "source": [
    "threshold_fixed = 0.4e8\n",
    "groups = error_df.groupby('cluster')\n",
    "fig, ax = plt.subplots()\n",
    "\n",
    "for name, group in groups:\n",
    "    ax.plot(group.index, group.Recons_error, marker='o', ms=3.0, linestyle='',\n",
    "            label= \"Susp\" if name == 0 else \"Normal\")\n",
    "ax.hlines(threshold_fixed, ax.get_xlim()[0], ax.get_xlim()[1], colors=\"r\", zorder=100, label='Threshold')\n",
    "ax.legend()\n",
    "plt.title(\"Reconst error for susp and normal\")\n",
    "plt.ylabel(\"Reconstr error\")\n",
    "plt.xlabel(\"Data point\")\n",
    "plt.show();"
   ]
  },
  {
   "cell_type": "code",
   "execution_count": 132,
   "metadata": {},
   "outputs": [
    {
     "name": "stdout",
     "output_type": "stream",
     "text": [
      "_________________________________________________________________\n",
      "Layer (type)                 Output Shape              Param #   \n",
      "=================================================================\n",
      "dense_16 (Dense)             (None, 8)                 96        \n",
      "_________________________________________________________________\n",
      "dense_17 (Dense)             (None, 4)                 36        \n",
      "_________________________________________________________________\n",
      "dense_18 (Dense)             (None, 4)                 20        \n",
      "_________________________________________________________________\n",
      "dense_19 (Dense)             (None, 8)                 40        \n",
      "_________________________________________________________________\n",
      "dense_20 (Dense)             (None, 11)                99        \n",
      "=================================================================\n",
      "Total params: 291\n",
      "Trainable params: 291\n",
      "Non-trainable params: 0\n",
      "_________________________________________________________________\n"
     ]
    }
   ],
   "source": [
    "####Train-Dense-layer###\n",
    "####Training-LSTM-layer####\n",
    "n_features =  X.shape[2] \n",
    "epochs = 10\n",
    "batch = 64\n",
    "lr = 0.001\n",
    "hidden_unit_1=8\n",
    "hidden_unit_2=4\n",
    "##########\n",
    "lstm_encoder = Sequential()\n",
    "# Encoder\n",
    "lstm_encoder.add(Dense(hidden_unit_1, activation='relu', input_shape=(n_features,)))\n",
    "lstm_encoder.add(Dense(hidden_unit_2, activation='relu'))\n",
    "# Decoder\n",
    "lstm_encoder.add(Dense(hidden_unit_2, activation='relu'))\n",
    "lstm_encoder.add(Dense(hidden_unit_1, activation='relu'))\n",
    "lstm_encoder.add(Dense(n_features, activation='linear'))\n",
    "lstm_encoder.summary()"
   ]
  },
  {
   "cell_type": "code",
   "execution_count": 137,
   "metadata": {},
   "outputs": [],
   "source": [
    "df2_sub=df1.copy()\n",
    "df2_sub=df2_sub[df2_sub['cluster']==4]\n",
    "df2_sub=df2_sub.drop(['X0','X1','X2','X24','word','cust_id','cluster'],axis=1)"
   ]
  }
 ],
 "metadata": {
  "kernelspec": {
   "display_name": "Python 3",
   "language": "python",
   "name": "python3"
  },
  "language_info": {
   "codemirror_mode": {
    "name": "ipython",
    "version": 3
   },
   "file_extension": ".py",
   "mimetype": "text/x-python",
   "name": "python",
   "nbconvert_exporter": "python",
   "pygments_lexer": "ipython3",
   "version": "3.7.3"
  }
 },
 "nbformat": 4,
 "nbformat_minor": 2
}
