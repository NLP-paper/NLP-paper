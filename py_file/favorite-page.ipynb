{
 "cells": [
  {
   "cell_type": "code",
   "execution_count": 2,
   "metadata": {},
   "outputs": [],
   "source": [
    "import re\n",
    "from urllib import request\n",
    "import random"
   ]
  },
  {
   "cell_type": "code",
   "execution_count": 3,
   "metadata": {},
   "outputs": [],
   "source": [
    "class Crawler:\n",
    "    \n",
    "    def __init__(self,\n",
    "                 page_number,\n",
    "                 user_agent_list,\n",
    "                 proxy_list):\n",
    "        \n",
    "        self.page_number=page_number\n",
    "        self.user_agent_list=user_agent_list\n",
    "        self.proxy_list=proxy_list\n",
    "        self.default_user_agent=self.user_agent_list[0]\n",
    "    \n",
    "    def user_agent(self):\n",
    "        return random.choice(user_agent_list)\n",
    "    \n",
    "    def user_proxy(self):\n",
    "        return random.choice(proxy_list)\n",
    "    \n",
    "    ## The fast download function uses fixed User-Agent and fixed Ip address\n",
    "    ## It may occur failure of Crawler task for high frequency sending request to server\n",
    "    ## However, here I put some commands(functions) between each time of request in the loop of\n",
    "    ## for i in range(1,cwl_first_name.page_number+1):\n",
    "    ## Thus, this request is not high frequency. So you can use this simple one \n",
    "    def fast_download_html(self,url): \n",
    "        headers = {'Accept': '*/*',\n",
    "               'Accept-Language': 'en-US,en;q=0.8',\n",
    "               'Cache-Control': 'max-age=0',\n",
    "               'User-Agent':self.default_user_agent,\n",
    "               'Connection': 'keep-alive',\n",
    "                   }\n",
    "        response=request.Request(url,headers=headers)\n",
    "        html=request.urlopen(response).read().decode('utf-8')\n",
    "        return html \n",
    "    \n",
    "    \n",
    "    ## The download function uses random proxy IP address and user_agent, so it is much safe\n",
    "    ## But I have to maintain the proxy_list in which many IP address may out of date in the future\n",
    "    ## The four Ip address in proxy_list are available when I run the crawler\n",
    "    def download_html(self,url):\n",
    "        proxy={'http':self.user_proxy()}\n",
    "        proxy_support =request.ProxyHandler(proxy)\n",
    "        opener = request.build_opener(proxy_support)\n",
    "        request.install_opener(opener)\n",
    "        user_agent=self.user_agent()\n",
    "        headers = {'Accept': '*/*',\n",
    "                   'Accept-Language': 'en-US,en;q=0.8',\n",
    "                   'Cache-Control': 'max-age=0',\n",
    "                   'User-Agent':user_agent ,\n",
    "                   'Connection': 'keep-alive',\n",
    "                   }\n",
    "        response=request.Request(url,headers=headers)\n",
    "        html=request.urlopen(response).read().decode('utf-8')\n",
    "        print('done')\n",
    "        return html\n",
    "    \n",
    "    ## search the all names from one page\n",
    "    def scrap_name(self,html):   \n",
    "        pattern='result=[0-9]*\">[a-z]+'\n",
    "        all_name=re.findall(pattern,html,re.I)\n",
    "        all_name=list(map(lambda x: re.search('[A-Z][a-z]*',x).group(),all_name))\n",
    "        return all_name\n",
    "\n",
    "    \n",
    "##########\n",
    "##Main####\n",
    "##########\n",
    "\n",
    "user_agent_list = [\n",
    "\"Mozilla/4.0 (compatible; MSIE 6.0; Windows NT 5.1; SV1; AcooBrowser; .NET CLR 1.1.4322; .NET CLR 2.0.50727)\",\n",
    "\"Mozilla/4.0 (compatible; MSIE 7.0; Windows NT 6.0; Acoo Browser; SLCC1; .NET CLR 2.0.50727; Media Center PC 5.0; .NET CLR 3.0.04506)\",\n",
    "\"Mozilla/4.0 (compatible; MSIE 7.0; AOL 9.5; AOLBuild 4337.35; Windows NT 5.1; .NET CLR 1.1.4322; .NET CLR 2.0.50727)\",\n",
    "\"Mozilla/5.0 (Windows; U; MSIE 9.0; Windows NT 9.0; en-US)\",\n",
    "\"Mozilla/5.0 (compatible; MSIE 9.0; Windows NT 6.1; Win64; x64; Trident/5.0; .NET CLR 3.5.30729; .NET CLR 3.0.30729; .NET CLR 2.0.50727; Media Center PC 6.0)\",\n",
    "\"Mozilla/5.0 (compatible; MSIE 8.0; Windows NT 6.0; Trident/4.0; WOW64; Trident/4.0; SLCC2; .NET CLR 2.0.50727; .NET CLR 3.5.30729; .NET CLR 3.0.30729; .NET CLR 1.0.3705; .NET CLR 1.1.4322)\",\n",
    "\"Mozilla/4.0 (compatible; MSIE 7.0b; Windows NT 5.2; .NET CLR 1.1.4322; .NET CLR 2.0.50727; InfoPath.2; .NET CLR 3.0.04506.30)\",\n",
    "\"Mozilla/5.0 (Windows; U; Windows NT 5.1; zh-CN) AppleWebKit/523.15 (KHTML, like Gecko, Safari/419.3) Arora/0.3 (Change: 287 c9dfb30)\",\n",
    "\"Mozilla/5.0 (X11; U; Linux; en-US) AppleWebKit/527+ (KHTML, like Gecko, Safari/419.3) Arora/0.6\",\n",
    "\"Mozilla/5.0 (Windows; U; Windows NT 5.1; en-US; rv:1.8.1.2pre) Gecko/20070215 K-Ninja/2.1.1\",\n",
    "\"Mozilla/5.0 (Windows; U; Windows NT 5.1; zh-CN; rv:1.9) Gecko/20080705 Firefox/3.0 Kapiko/3.0\",\n",
    "\"Mozilla/5.0 (X11; Linux i686; U;) Gecko/20070322 Kazehakase/0.4.5\",\n",
    "\"Mozilla/5.0 (X11; U; Linux i686; en-US; rv:1.9.0.8) Gecko Fedora/1.9.0.8-1.fc10 Kazehakase/0.5.6\",\n",
    "\"Mozilla/5.0 (Windows NT 6.1; WOW64) AppleWebKit/535.11 (KHTML, like Gecko) Chrome/17.0.963.56 Safari/535.11\",\n",
    "\"Mozilla/5.0 (Macintosh; Intel Mac OS X 10_7_3) AppleWebKit/535.20 (KHTML, like Gecko) Chrome/19.0.1036.7 Safari/535.20\",\n",
    "\"Opera/9.80 (Macintosh; Intel Mac OS X 10.6.8; U; fr) Presto/2.9.168 Version/11.52\",\n",
    "]\n",
    "proxy_list = ['138.219.229.239:80',\n",
    "             '77.242.105.88:80',\n",
    "             '171.97.103.31:80',\n",
    "             '89.40.115.70:80']\n",
    "c=Crawler(1,user_agent_list,proxy_list)"
   ]
  },
  {
   "cell_type": "code",
   "execution_count": 4,
   "metadata": {},
   "outputs": [
    {
     "data": {
      "text/plain": [
       "['https://en.wikipedia.org/wiki/Singular_value_decomposition',\n",
       " 'https://machinelearningmastery.com/singular-value-decomposition-for-machine-learning/',\n",
       " 'https://hadrienj.github.io/posts/Deep-Learning-Book-Series-2.8-Singular-Value-Decomposition/',\n",
       " 'https://www.analyticsvidhya.com/blog/2019/08/5-applications-singular-value-decomposition-svd-data-science/',\n",
       " 'https://blog.statsbot.co/singular-value-decomposition-tutorial-52c695315254']"
      ]
     },
     "execution_count": 4,
     "metadata": {},
     "output_type": "execute_result"
    }
   ],
   "source": [
    "url_svd=[]\n",
    "url_svd.append('https://en.wikipedia.org/wiki/Singular_value_decomposition')\n",
    "url_svd.append('https://machinelearningmastery.com/singular-value-decomposition-for-machine-learning/')\n",
    "url_svd.append('https://hadrienj.github.io/posts/Deep-Learning-Book-Series-2.8-Singular-Value-Decomposition/')\n",
    "url_svd.append('https://www.analyticsvidhya.com/blog/2019/08/5-applications-singular-value-decomposition-svd-data-science/')\n",
    "url_svd.append('https://blog.statsbot.co/singular-value-decomposition-tutorial-52c695315254')\n",
    "url_svd"
   ]
  },
  {
   "cell_type": "code",
   "execution_count": 5,
   "metadata": {},
   "outputs": [
    {
     "name": "stdout",
     "output_type": "stream",
     "text": [
      "done\n",
      "done\n",
      "done\n",
      "done\n",
      "done\n"
     ]
    }
   ],
   "source": [
    "html_svd=[c.download_html(url) for url in url_svd]"
   ]
  },
  {
   "cell_type": "code",
   "execution_count": 6,
   "metadata": {},
   "outputs": [
    {
     "data": {
      "text/plain": [
       "['https://en.wikipedia.org/wiki/Non-negative_matrix_factorization',\n",
       " 'https://mlexplained.com/2017/12/28/a-practical-introduction-to-nmf-nonnegative-matrix-factorization/',\n",
       " 'https://blog.acolyer.org/2019/02/18/the-why-and-how-of-nonnegative-matrix-factorization/',\n",
       " 'https://medium.com/logicai/non-negative-matrix-factorization-for-recommendation-systems-985ca8d5c16c',\n",
       " 'https://yliapis.github.io/Non-Negative-Matrix-Factorization/']"
      ]
     },
     "execution_count": 6,
     "metadata": {},
     "output_type": "execute_result"
    }
   ],
   "source": [
    "url_nmf=[]\n",
    "url_nmf.append('https://en.wikipedia.org/wiki/Non-negative_matrix_factorization')\n",
    "url_nmf.append('https://mlexplained.com/2017/12/28/a-practical-introduction-to-nmf-nonnegative-matrix-factorization/')\n",
    "url_nmf.append('https://blog.acolyer.org/2019/02/18/the-why-and-how-of-nonnegative-matrix-factorization/')\n",
    "url_nmf.append('https://medium.com/logicai/non-negative-matrix-factorization-for-recommendation-systems-985ca8d5c16c')\n",
    "url_nmf.append('https://yliapis.github.io/Non-Negative-Matrix-Factorization/')\n",
    "url_nmf"
   ]
  },
  {
   "cell_type": "code",
   "execution_count": 7,
   "metadata": {},
   "outputs": [
    {
     "name": "stdout",
     "output_type": "stream",
     "text": [
      "done\n",
      "done\n",
      "done\n",
      "done\n",
      "done\n"
     ]
    }
   ],
   "source": [
    "html_nmf=[c.download_html(url) for url in url_nmf]"
   ]
  },
  {
   "cell_type": "code",
   "execution_count": 8,
   "metadata": {},
   "outputs": [
    {
     "data": {
      "text/plain": [
       "['https://en.wikipedia.org/wiki/Latent_Dirichlet_allocation',\n",
       " 'https://medium.com/@lettier/how-does-lda-work-ill-explain-using-emoji-108abf40fa7d',\n",
       " 'https://blog.echen.me/2011/08/22/introduction-to-latent-dirichlet-allocation/',\n",
       " 'https://jamesmccaffrey.wordpress.com/2018/05/14/latent-dirichlet-allocation-what-is-it/',\n",
       " 'https://www.analyticsvidhya.com/blog/2016/08/beginners-guide-to-topic-modeling-in-python/']"
      ]
     },
     "execution_count": 8,
     "metadata": {},
     "output_type": "execute_result"
    }
   ],
   "source": [
    "url_lda=[]\n",
    "url_lda.append('https://en.wikipedia.org/wiki/Latent_Dirichlet_allocation')\n",
    "url_lda.append('https://medium.com/@lettier/how-does-lda-work-ill-explain-using-emoji-108abf40fa7d')\n",
    "url_lda.append('https://blog.echen.me/2011/08/22/introduction-to-latent-dirichlet-allocation/')\n",
    "url_lda.append('https://jamesmccaffrey.wordpress.com/2018/05/14/latent-dirichlet-allocation-what-is-it/')\n",
    "url_lda.append('https://www.analyticsvidhya.com/blog/2016/08/beginners-guide-to-topic-modeling-in-python/')\n",
    "url_lda"
   ]
  },
  {
   "cell_type": "code",
   "execution_count": 9,
   "metadata": {},
   "outputs": [
    {
     "name": "stdout",
     "output_type": "stream",
     "text": [
      "done\n",
      "done\n",
      "done\n",
      "done\n",
      "done\n"
     ]
    }
   ],
   "source": [
    "html_lda=[c.download_html(url) for url in url_lda]"
   ]
  },
  {
   "cell_type": "code",
   "execution_count": 10,
   "metadata": {},
   "outputs": [
    {
     "data": {
      "text/plain": [
       "['https://www.investopedia.com/terms/b/business-banking.asp',\n",
       " 'https://www.fundera.com/blog/best-bank-for-small-business',\n",
       " 'https://www.usbank.com/business.html',\n",
       " 'https://en.wikipedia.org/wiki/Bank',\n",
       " 'https://smallbusiness.chron.com/difference-between-corporate-commercial-banking-62835.html']"
      ]
     },
     "execution_count": 10,
     "metadata": {},
     "output_type": "execute_result"
    }
   ],
   "source": [
    "url_bank=[]\n",
    "url_bank.append('https://www.investopedia.com/terms/b/business-banking.asp')\n",
    "url_bank.append('https://www.fundera.com/blog/best-bank-for-small-business')\n",
    "url_bank.append('https://www.usbank.com/business.html')\n",
    "url_bank.append('https://en.wikipedia.org/wiki/Bank')\n",
    "url_bank.append('https://smallbusiness.chron.com/difference-between-corporate-commercial-banking-62835.html')\n",
    "url_bank"
   ]
  },
  {
   "cell_type": "code",
   "execution_count": 11,
   "metadata": {},
   "outputs": [
    {
     "name": "stdout",
     "output_type": "stream",
     "text": [
      "done\n",
      "done\n",
      "done\n",
      "done\n",
      "done\n"
     ]
    }
   ],
   "source": [
    "html_bank=[c.download_html(url) for url in url_bank]"
   ]
  },
  {
   "cell_type": "code",
   "execution_count": null,
   "metadata": {},
   "outputs": [],
   "source": [
    "url=[,]"
   ]
  },
  {
   "cell_type": "code",
   "execution_count": 12,
   "metadata": {},
   "outputs": [],
   "source": [
    "html_doc=[]\n",
    "html_doc.extend(html_nmf)\n",
    "html_doc.extend(html_lda)\n",
    "html_doc.extend(html_bank)\n",
    "html_doc.extend(html_svd)"
   ]
  },
  {
   "cell_type": "code",
   "execution_count": 13,
   "metadata": {},
   "outputs": [
    {
     "data": {
      "text/plain": [
       "20"
      ]
     },
     "execution_count": 13,
     "metadata": {},
     "output_type": "execute_result"
    }
   ],
   "source": [
    "len(html_doc)"
   ]
  },
  {
   "cell_type": "code",
   "execution_count": 14,
   "metadata": {},
   "outputs": [],
   "source": [
    "def extract_title(html):\n",
    "    title=re.search('<title.*?>[^<>]+</title>',html).group()\n",
    "    title=re.sub('<.*?>','',title)\n",
    "    return title\n",
    "\n",
    "html_title=[extract_title(i) for i in html_doc]"
   ]
  },
  {
   "cell_type": "code",
   "execution_count": 15,
   "metadata": {},
   "outputs": [
    {
     "name": "stderr",
     "output_type": "stream",
     "text": [
      "D:\\anaconda3\\envs\\tensorflow\\lib\\site-packages\\smart_open\\ssh.py:34: UserWarning: paramiko missing, opening SSH/SCP/SFTP paths will be disabled.  `pip install paramiko` to suppress\n",
      "  warnings.warn('paramiko missing, opening SSH/SCP/SFTP paths will be disabled.  `pip install paramiko` to suppress')\n",
      "D:\\anaconda3\\envs\\tensorflow\\lib\\site-packages\\gensim\\utils.py:1197: UserWarning: detected Windows; aliasing chunkize to chunkize_serial\n",
      "  warnings.warn(\"detected Windows; aliasing chunkize to chunkize_serial\")\n"
     ]
    }
   ],
   "source": [
    "from gensim.parsing.preprocessing import preprocess_string\n",
    "from gensim.parsing.preprocessing import split_alphanum\n",
    "from gensim.parsing.preprocessing import stem_text\n",
    "from gensim.parsing.preprocessing import strip_numeric\n",
    "from gensim.parsing.preprocessing import strip_punctuation\n",
    "#from gensim.parsing.preprocessing import strip_short\n",
    "from gensim.parsing.preprocessing import strip_tags\n",
    "from gensim.parsing.preprocessing import remove_stopwords\n",
    "from gensim.parsing.preprocessing import preprocess_string\n",
    "from gensim import utils\n",
    "def strip_short(s, minsize=2):\n",
    "    s = utils.to_unicode(s)\n",
    "    return \" \".join(e for e in s.split() if len(e) >= minsize)\n",
    "\n",
    "CUSTOM_FILTERS = [\n",
    "                  strip_tags, \n",
    "                  split_alphanum,\n",
    "                  strip_punctuation,\n",
    "                  strip_numeric,\n",
    "                  stem_text,\n",
    "                  strip_short,\n",
    "                  remove_stopwords\n",
    "                  ]\n",
    "\n",
    "final_doc=[preprocess_string(i,CUSTOM_FILTERS) for i in html_title]"
   ]
  },
  {
   "cell_type": "code",
   "execution_count": 16,
   "metadata": {},
   "outputs": [
    {
     "data": {
      "text/plain": [
       "20"
      ]
     },
     "execution_count": 16,
     "metadata": {},
     "output_type": "execute_result"
    }
   ],
   "source": [
    "len(final_doc)"
   ]
  },
  {
   "cell_type": "code",
   "execution_count": 27,
   "metadata": {},
   "outputs": [],
   "source": [
    "def count_vect(data):\n",
    "        count=CountVectorizer()\n",
    "        sentence=[' '.join(i) for i in data]\n",
    "        count_mat=count.fit_transform(sentence)\n",
    "        return count_mat,count.get_feature_names()\n",
    "data,feature=count_vect(final_doc)"
   ]
  },
  {
   "cell_type": "code",
   "execution_count": 46,
   "metadata": {},
   "outputs": [
    {
     "data": {
      "text/plain": [
       "['busi', 'introduct', 'neg', 'non', 'python', 'svd']"
      ]
     },
     "execution_count": 46,
     "metadata": {},
     "output_type": "execute_result"
    }
   ],
   "source": [
    "a=[ 6, 25, 39, 41, 46, 54]\n",
    "[feature[i] for i in a]"
   ]
  },
  {
   "cell_type": "code",
   "execution_count": 45,
   "metadata": {},
   "outputs": [
    {
     "data": {
      "text/plain": [
       "(array([ 6, 25, 39, 41, 46, 54], dtype=int64),)"
      ]
     },
     "execution_count": 45,
     "metadata": {},
     "output_type": "execute_result"
    }
   ],
   "source": [
    "np.where(np.sum(data.toarray(),axis=0)==3)"
   ]
  },
  {
   "cell_type": "code",
   "execution_count": 44,
   "metadata": {},
   "outputs": [
    {
     "data": {
      "text/plain": [
       "array([4, 1, 2, 5, 1, 1, 3, 1, 1, 1, 1, 1, 1, 5, 1, 1, 1, 4, 1, 2, 1, 1,\n",
       "       5, 1, 2, 3, 1, 1, 4, 1, 1, 1, 1, 1, 5, 1, 1, 1, 1, 3, 1, 3, 2, 1,\n",
       "       1, 1, 3, 1, 1, 1, 1, 1, 5, 1, 3, 1, 1, 5, 4], dtype=int64)"
      ]
     },
     "execution_count": 44,
     "metadata": {},
     "output_type": "execute_result"
    }
   ],
   "source": [
    "np.sum(data.toarray(),axis=0)"
   ]
  },
  {
   "cell_type": "code",
   "execution_count": 48,
   "metadata": {},
   "outputs": [
    {
     "name": "stderr",
     "output_type": "stream",
     "text": [
      "100%|██████████████████████████████████████████| 10/10 [00:01<00:00,  6.86it/s]\n"
     ]
    },
    {
     "name": "stdout",
     "output_type": "stream",
     "text": [
      "Kmeans running time:1.041067 sec!\n",
      "SVD running time:0.153007 sec!\n",
      "PCA running time:0.001000 sec!\n"
     ]
    },
    {
     "name": "stderr",
     "output_type": "stream",
     "text": [
      "100%|█████████████████████████████████████████| 10/10 [00:00<00:00, 166.66it/s]\n"
     ]
    },
    {
     "name": "stdout",
     "output_type": "stream",
     "text": [
      "NMF running time:0.065001 sec!\n"
     ]
    },
    {
     "data": {
      "image/png": "[encoded data removed]",
      "text/plain": [
       "<Figure size 1296x720 with 5 Axes>"
      ]
     },
     "metadata": {
      "needs_background": "light"
     },
     "output_type": "display_data"
    },
    {
     "ename": "TypeError",
     "evalue": "cannot unpack non-iterable NoneType object",
     "output_type": "error",
     "traceback": [
      "\u001b[1;31m---------------------------------------------------------------------------\u001b[0m",
      "\u001b[1;31mTypeError\u001b[0m                                 Traceback (most recent call last)",
      "\u001b[1;32m<ipython-input-48-8f2163a1493b>\u001b[0m in \u001b[0;36m<module>\u001b[1;34m\u001b[0m\n\u001b[1;32m----> 1\u001b[1;33m \u001b[0mk\u001b[0m\u001b[1;33m,\u001b[0m\u001b[0msvd\u001b[0m\u001b[1;33m,\u001b[0m\u001b[0mp\u001b[0m\u001b[1;33m,\u001b[0m\u001b[0mn\u001b[0m\u001b[1;33m=\u001b[0m\u001b[0ms\u001b[0m\u001b[1;33m.\u001b[0m\u001b[0msub_plot_K\u001b[0m\u001b[1;33m(\u001b[0m\u001b[0mdata\u001b[0m\u001b[1;33m,\u001b[0m\u001b[1;36m10\u001b[0m\u001b[1;33m)\u001b[0m\u001b[1;33m\u001b[0m\u001b[1;33m\u001b[0m\u001b[0m\n\u001b[0m",
      "\u001b[1;31mTypeError\u001b[0m: cannot unpack non-iterable NoneType object"
     ]
    }
   ],
   "source": [
    "k,svd,p,n=s.sub_plot_K(data,10)"
   ]
  },
  {
   "cell_type": "code",
   "execution_count": 53,
   "metadata": {},
   "outputs": [
    {
     "name": "stdout",
     "output_type": "stream",
     "text": [
      "*********K-means*********\n",
      "[[5 0 0 0]\n",
      " [0 0 4 1]\n",
      " [0 0 0 5]\n",
      " [0 5 0 0]]\n",
      "*********NMF*************\n",
      "[[0 5 0 0]\n",
      " [0 0 5 0]\n",
      " [0 0 0 5]\n",
      " [5 0 0 0]]\n",
      "*********PCA*************\n",
      "[[0 5 0 0]\n",
      " [4 0 1 0]\n",
      " [0 0 5 0]\n",
      " [0 0 0 5]]\n",
      "*********SVD**************\n",
      "[[0 0 0 5]\n",
      " [0 1 4 0]\n",
      " [0 5 0 0]\n",
      " [5 0 0 0]]\n",
      "*********LDA**************\n",
      "[[1 1 0 3]\n",
      " [1 1 2 1]\n",
      " [2 0 2 1]\n",
      " [2 1 1 1]]\n"
     ]
    }
   ],
   "source": [
    "real_label=[0]*5\n",
    "real_label.extend([1]*5)\n",
    "real_label.extend([2]*5)\n",
    "real_label.extend([3]*5)\n",
    "s.conf_mat(data,4,real_label)"
   ]
  },
  {
   "cell_type": "code",
   "execution_count": 47,
   "metadata": {},
   "outputs": [
    {
     "name": "stdout",
     "output_type": "stream",
     "text": [
      "Sythetic instance has been created!\n"
     ]
    }
   ],
   "source": [
    "import pandas as pd\n",
    "from sklearn.cluster import KMeans\n",
    "from sklearn.decomposition import TruncatedSVD\n",
    "from sklearn.decomposition import PCA\n",
    "from sklearn.decomposition import NMF\n",
    "import numpy as np\n",
    "from time import time\n",
    "import matplotlib.pyplot as plt\n",
    "from sklearn.metrics import confusion_matrix\n",
    "from sklearn.feature_extraction.text import CountVectorizer\n",
    "from tqdm import tqdm\n",
    "from scipy.sparse import issparse\n",
    "import gensim\n",
    "import gensim.corpora as corpora\n",
    "from gensim.models import CoherenceModel\n",
    "%matplotlib inline\n",
    "#feature and dimension expand, why?\n",
    "#what if we only use original features?\n",
    "#Assume we have five orignal features: amt, paymtd, paytype, RecorPay, beneficiary\n",
    "#dictionary for each feature is as following, all features are categorical data:\n",
    "##Amt:0-9 (Amount of each txn)\n",
    "##Paymtd:0-9 (payment method of each txn)\n",
    "##Paytype:0-9 (payment type of each txn)\n",
    "##RecorPay:0-9 (receive or pay type of each txn)\n",
    "##bene:0-9 (beneficiary of each txn)\n",
    "\n",
    "class Sythetic:\n",
    "    def __init__(self):\n",
    "        print('Sythetic instance has been created!')\n",
    "        \n",
    "    def Kmeans(self,data,K,plt):\n",
    "        sse = {}\n",
    "        t0=time()\n",
    "        for k in tqdm(range(1, K+1)):\n",
    "            kmeans = KMeans(n_clusters=k, max_iter=1000).fit(data)\n",
    "            sse[k] = kmeans.inertia_ \n",
    "        t1=time()\n",
    "        plt.plot(list(sse.keys()), list(sse.values()))\n",
    "        plt.set_title('Kmeans')\n",
    "        plt.set_xlabel(\"Number of cluster\")\n",
    "        plt.set_ylabel(\"SSE\")\n",
    "        print('Kmeans running time:%f sec!'%(t1-t0))\n",
    "        return sse\n",
    "        \n",
    "    def SVD(self,data,K,plt):\n",
    "        t0=time()\n",
    "        svd=TruncatedSVD(n_components=K,n_iter=500,random_state=0)\n",
    "        svd.fit(data)\n",
    "        sigma=svd.singular_values_\n",
    "        t1=time()\n",
    "        x=[i for i in range(1,K+1)]\n",
    "        plt.plot(x,sigma)\n",
    "        plt.set_title('SVD')\n",
    "        plt.set_xlabel(\"Singular Value Position\")\n",
    "        plt.set_ylabel(\"Singular Value\")\n",
    "        print('SVD running time:%f sec!'%(t1-t0))\n",
    "        return sigma, svd.explained_variance_ratio_,svd.explained_variance_ratio_.sum()\n",
    "        \n",
    "    \n",
    "    def PCA(self,data,K,plt):\n",
    "        sparse=issparse(data)\n",
    "        t0=time()\n",
    "        pca = PCA(n_components=K)\n",
    "        if sparse:\n",
    "            pca.fit(data.toarray())\n",
    "        else:\n",
    "            pca.fit(data)\n",
    "        sigma=pca.singular_values_\n",
    "        t1=time()\n",
    "        x=[i for i in range(1,K+1)]\n",
    "        plt.plot(x,sigma)\n",
    "        plt.set_title('PCA')\n",
    "        plt.set_xlabel(\"Singular Value Position\")\n",
    "        plt.set_ylabel(\"Singular Value\")\n",
    "        print('PCA running time:%f sec!'%(t1-t0))\n",
    "        return sigma, pca.explained_variance_ratio_,pca.explained_variance_ratio_.sum()\n",
    "        \n",
    "    def NMF(self,data,K,plt):\n",
    "        re = {}\n",
    "        t0=time()\n",
    "        for k in tqdm(range(1, K+1)):\n",
    "            nmf = NMF(n_components=k, max_iter=1000).fit(data)\n",
    "            re[k] = nmf.reconstruction_err_  \n",
    "        t1=time()\n",
    "        plt.plot(list(re.keys()), list(re.values()))\n",
    "        plt.set_title('NMF')\n",
    "        plt.set_xlabel(\"Number of cluster\")\n",
    "        plt.set_ylabel(\"Reconstruction-error\")\n",
    "        print('NMF running time:%f sec!'%(t1-t0))\n",
    "        return re\n",
    "    \n",
    "    def LDA(self,data,K,plt):\n",
    "        t0=time()\n",
    "        coherence_values = []\n",
    "        data=[[str(word) for word in doc] for doc in data]\n",
    "        id2word=corpora.Dictionary(data)\n",
    "        corpus = [id2word.doc2bow(text) for text in data]\n",
    "        for num_topics in tqdm(range(1,K+1)):\n",
    "            model=gensim.models.ldamodel.LdaModel(corpus=corpus,\n",
    "                                                   id2word=id2word,\n",
    "                                                   num_topics=num_topics, \n",
    "                                                   random_state=0,\n",
    "                                                   update_every=1,\n",
    "                                                   alpha='auto',\n",
    "                                                   per_word_topics=True)\n",
    "            coherencemodel = CoherenceModel(model=model, texts=data, dictionary=id2word, coherence='c_v')\n",
    "            coherence_values.append(coherencemodel.get_coherence())\n",
    "        t1=time()\n",
    "        x=[i for i in range(1,K+1)]\n",
    "        plt.plot(x,coherence_values)\n",
    "        plt.set_title('LDA')\n",
    "        plt.set_xlabel(\"Number of cluster\")\n",
    "        plt.set_ylabel(\"Coherence score\")\n",
    "        print('LDA running time:%f sec!'%(t1-t0))\n",
    "        return coherence_values\n",
    "\n",
    "    def Kmeans_pred(self,data,K,real_label):\n",
    "        kmeans=KMeans(n_clusters=K,max_iter=1000)\n",
    "        kmeans_pred=kmeans.fit_predict(data)\n",
    "        conf_mat=confusion_matrix(real_label,kmeans_pred)\n",
    "        return kmeans_pred,conf_mat\n",
    "    \n",
    "    def NMF_pred(self,data,K,real_label):\n",
    "        nmf=NMF(n_components=K, max_iter=1000)\n",
    "        W=nmf.fit_transform(data)\n",
    "        nmf_pred=[np.argmax(i) for i in W]\n",
    "        conf_mat=confusion_matrix(real_label,nmf_pred)\n",
    "        return nmf_pred,conf_mat\n",
    "    \n",
    "    def LDA_pred(self,data,K,real_label):\n",
    "        data=[[str(word) for word in doc] for doc in data]\n",
    "        id2word=corpora.Dictionary(data)\n",
    "        corpus = [id2word.doc2bow(text) for text in data]\n",
    "        model=gensim.models.ldamodel.LdaModel(corpus=corpus,\n",
    "                                               id2word=id2word,\n",
    "                                               num_topics=K, \n",
    "                                               random_state=0,\n",
    "                                               update_every=1,\n",
    "                                               alpha='auto',\n",
    "                                               per_word_topics=True)\n",
    "        topic_dist=model.get_document_topics(corpus)\n",
    "        topic_dist=[list(zip(*i))[1] for i in list(topic_dist)]\n",
    "        LDA_pred=[np.argmax(np.array(i)) for i in topic_dist]\n",
    "        conf_mat=confusion_matrix(real_label,LDA_pred)\n",
    "        return LDA_pred,conf_mat\n",
    "    \n",
    "    def sub_plot_K(self,data,K):\n",
    "        fig = plt.figure(figsize=(18,10))\n",
    "        ax1=fig.add_subplot(231)\n",
    "        self.Kmeans(data,K,ax1)\n",
    "        ax2=fig.add_subplot(232)\n",
    "        self.SVD(data,K,ax2)\n",
    "        ax3=fig.add_subplot(233)\n",
    "        self.PCA(data,K,ax3)\n",
    "        ax4=fig.add_subplot(234)\n",
    "        self.NMF(data,K,ax4)\n",
    "        ax5=fig.add_subplot(235)\n",
    "        #self.LDA(data,K,ax5)\n",
    "        plt.show()\n",
    "        \n",
    "    def conf_mat(self,data,K,real_label):\n",
    "        print('*********K-means*********')\n",
    "        print(self.Kmeans_pred(data,K,real_label)[1])\n",
    "        print('*********NMF*************')\n",
    "        print(self.NMF_pred(data,K,real_label)[1])\n",
    "        print('*********PCA*************')\n",
    "        sparse=issparse(data)\n",
    "        if sparse:\n",
    "            print(self.Kmeans_pred(PCA(K).fit_transform(data.toarray()),K,real_label)[1])\n",
    "        else:\n",
    "            print(self.Kmeans_pred(PCA(K).fit_transform(data),K,real_label)[1])\n",
    "        print('*********SVD**************')\n",
    "        print(self.Kmeans_pred(TruncatedSVD(K).fit_transform(data),K,real_label)[1])\n",
    "        print('*********LDA**************')\n",
    "        print(self.LDA_pred(data,K,real_label)[1])\n",
    "        \n",
    "s=Sythetic()"
   ]
  }
 ],
 "metadata": {
  "kernelspec": {
   "display_name": "Python 3",
   "language": "python",
   "name": "python3"
  },
  "language_info": {
   "codemirror_mode": {
    "name": "ipython",
    "version": 3
   },
   "file_extension": ".py",
   "mimetype": "text/x-python",
   "name": "python",
   "nbconvert_exporter": "python",
   "pygments_lexer": "ipython3",
   "version": "3.7.3"
  }
 },
 "nbformat": 4,
 "nbformat_minor": 2
}
