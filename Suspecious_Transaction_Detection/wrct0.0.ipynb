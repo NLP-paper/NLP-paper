{
 "cells": [
  {
   "cell_type": "code",
   "execution_count": 1,
   "metadata": {},
   "outputs": [
    {
     "name": "stderr",
     "output_type": "stream",
     "text": [
      "Using TensorFlow backend.\n"
     ]
    }
   ],
   "source": [
    "import tensorflow as tf\n",
    "import keras"
   ]
  },
  {
   "cell_type": "code",
   "execution_count": 2,
   "metadata": {},
   "outputs": [],
   "source": [
    "from keras.layers import Input, Dense\n",
    "from keras.models import Model, Sequential\n",
    "from keras import regularizers\n",
    "from sklearn.model_selection import train_test_split \n",
    "from sklearn.linear_model import LogisticRegression\n",
    "from sklearn.metrics import classification_report, accuracy_score\n",
    "from sklearn.manifold import TSNE\n",
    "from sklearn import preprocessing \n",
    "import matplotlib.pyplot as plt\n",
    "import pandas as pd \n",
    "import numpy as np\n",
    "import seaborn as sns"
   ]
  },
  {
   "cell_type": "code",
   "execution_count": 3,
   "metadata": {},
   "outputs": [],
   "source": [
    "import pandas as pd\n",
    "data=pd.read_csv('C:/Users/042300/Desktop/BAU/creditcard.csv')\n",
    "data=data.drop(['Time'],axis=1)\n",
    "y=data['Class']"
   ]
  },
  {
   "cell_type": "code",
   "execution_count": 4,
   "metadata": {},
   "outputs": [],
   "source": [
    "from sklearn.model_selection import train_test_split\n",
    "x_train,x_test,y_train,y_test=train_test_split(data,y,test_size=0.2,random_state=123,stratify=y)\n",
    "x_train_norm=x_train[x_train['Class']==0].drop(['Class'],axis=1)\n",
    "x_train_fraud=x_train[x_train['Class']==1].drop(['Class'],axis=1)\n",
    "x_test_norm=x_test[x_test['Class']==0].drop(['Class'],axis=1)\n",
    "x_test_fraud=x_test[x_test['Class']==1].drop(['Class'],axis=1)\n",
    "x_train=x_train.drop(['Class'],axis=1)\n",
    "x_test=x_test.drop(['Class'],axis=1)"
   ]
  },
  {
   "cell_type": "code",
   "execution_count": 6,
   "metadata": {},
   "outputs": [
    {
     "name": "stdout",
     "output_type": "stream",
     "text": [
      "Model: \"sequential_2\"\n",
      "_________________________________________________________________\n",
      "Layer (type)                 Output Shape              Param #   \n",
      "=================================================================\n",
      "dense_6 (Dense)              (None, 10)                300       \n",
      "_________________________________________________________________\n",
      "dense_7 (Dense)              (None, 5)                 55        \n",
      "_________________________________________________________________\n",
      "dense_8 (Dense)              (None, 5)                 30        \n",
      "_________________________________________________________________\n",
      "dense_9 (Dense)              (None, 10)                60        \n",
      "_________________________________________________________________\n",
      "dense_10 (Dense)             (None, 29)                319       \n",
      "=================================================================\n",
      "Total params: 764\n",
      "Trainable params: 764\n",
      "Non-trainable params: 0\n",
      "_________________________________________________________________\n"
     ]
    }
   ],
   "source": [
    "#AE\n",
    "####Train-Dense-layer###\n",
    "import tensorflow as tf\n",
    "from keras import optimizers, Sequential\n",
    "from keras.models import Model\n",
    "from keras.utils import plot_model\n",
    "from keras.layers import Dense, LSTM, RepeatVector, TimeDistributed\n",
    "from keras.callbacks import TensorBoard\n",
    "n_features =x_train_norm.shape[1]\n",
    "epochs = 20\n",
    "batch = 64\n",
    "lr = 0.001\n",
    "hidden_unit_1=10\n",
    "hidden_unit_2=5\n",
    "auto_encoder = Sequential()\n",
    "# Encoder \n",
    "auto_encoder.add(Dense(hidden_unit_1, activation='relu', input_shape=(n_features,)))\n",
    "auto_encoder.add(Dense(hidden_unit_2, activation='relu'))\n",
    "# Decoder\n",
    "auto_encoder.add(Dense(hidden_unit_2, activation='relu'))\n",
    "auto_encoder.add(Dense(hidden_unit_1, activation='relu'))\n",
    "auto_encoder.add(Dense(n_features, activation='linear'))\n",
    "auto_encoder.summary()"
   ]
  },
  {
   "cell_type": "code",
   "execution_count": 7,
   "metadata": {},
   "outputs": [
    {
     "name": "stdout",
     "output_type": "stream",
     "text": [
      "Train on 181960 samples, validate on 45491 samples\n",
      "Epoch 1/20\n",
      "181960/181960 [==============================] - 11s 59us/step - loss: 228.3573 - val_loss: 1.1962\n",
      "\n",
      "Epoch 00001: val_loss improved from inf to 1.19623, saving model to best_auto.h5\n",
      "Epoch 2/20\n",
      "181960/181960 [==============================] - 11s 62us/step - loss: 1.5338 - val_loss: 1.0256\n",
      "\n",
      "Epoch 00002: val_loss improved from 1.19623 to 1.02560, saving model to best_auto.h5\n",
      "Epoch 3/20\n",
      "181960/181960 [==============================] - 12s 67us/step - loss: 0.9197 - val_loss: 0.7349\n",
      "\n",
      "Epoch 00003: val_loss improved from 1.02560 to 0.73491, saving model to best_auto.h5\n",
      "Epoch 4/20\n",
      "181960/181960 [==============================] - 12s 64us/step - loss: 1.4647 - val_loss: 1.0567\n",
      "\n",
      "Epoch 00004: val_loss did not improve from 0.73491\n",
      "Epoch 5/20\n",
      "181960/181960 [==============================] - 11s 60us/step - loss: 1.2111 - val_loss: 0.7198\n",
      "\n",
      "Epoch 00005: val_loss improved from 0.73491 to 0.71984, saving model to best_auto.h5\n",
      "Epoch 6/20\n",
      "181960/181960 [==============================] - 11s 63us/step - loss: 1.1523 - val_loss: 0.7939\n",
      "\n",
      "Epoch 00006: val_loss did not improve from 0.71984\n",
      "Epoch 7/20\n",
      "181960/181960 [==============================] - 9s 52us/step - loss: 0.9083 - val_loss: 0.7044\n",
      "\n",
      "Epoch 00007: val_loss improved from 0.71984 to 0.70436, saving model to best_auto.h5\n",
      "Epoch 8/20\n",
      "181960/181960 [==============================] - 9s 51us/step - loss: 1.9795 - val_loss: 0.7525\n",
      "\n",
      "Epoch 00008: val_loss did not improve from 0.70436\n",
      "Epoch 9/20\n",
      "181960/181960 [==============================] - 9s 50us/step - loss: 0.7678 - val_loss: 0.6651\n",
      "\n",
      "Epoch 00009: val_loss improved from 0.70436 to 0.66509, saving model to best_auto.h5\n",
      "Epoch 10/20\n",
      "181960/181960 [==============================] - 9s 51us/step - loss: 1.0164 - val_loss: 0.7022\n",
      "\n",
      "Epoch 00010: val_loss did not improve from 0.66509\n",
      "Epoch 11/20\n",
      "181960/181960 [==============================] - 9s 47us/step - loss: 1.2592 - val_loss: 0.6639\n",
      "\n",
      "Epoch 00011: val_loss improved from 0.66509 to 0.66389, saving model to best_auto.h5\n",
      "Epoch 12/20\n",
      "181960/181960 [==============================] - 10s 56us/step - loss: 1.0430 - val_loss: 0.7092\n",
      "\n",
      "Epoch 00012: val_loss did not improve from 0.66389\n",
      "Epoch 13/20\n",
      "181960/181960 [==============================] - 12s 66us/step - loss: 0.8552 - val_loss: 6.4228\n",
      "\n",
      "Epoch 00013: val_loss did not improve from 0.66389\n",
      "Epoch 14/20\n",
      "181960/181960 [==============================] - 12s 66us/step - loss: 1.2577 - val_loss: 0.7078\n",
      "\n",
      "Epoch 00014: val_loss did not improve from 0.66389\n",
      "Epoch 00014: early stopping\n"
     ]
    }
   ],
   "source": [
    "from keras.callbacks import EarlyStopping, ModelCheckpoint\n",
    "from keras.models import load_model\n",
    "###optim\n",
    "auto_encoder.compile(loss='mse', optimizer=optimizers.Adam(lr))\n",
    "##earlystoping\n",
    "es=EarlyStopping(monitor='val_loss',mode='min',verbose=1,patience=3)\n",
    "mc=ModelCheckpoint('best_auto.h5',monitor='val_loss',mode='auto',verbose=1,save_best_only=True)\n",
    "###training\n",
    "auto_encoder_history = auto_encoder.fit(x_train_norm.values, x_train_norm.values, epochs=epochs,validation_split=0.2,\n",
    "                                        batch_size=batch,verbose=1,callbacks=[es,mc]).history"
   ]
  },
  {
   "cell_type": "code",
   "execution_count": 8,
   "metadata": {
    "scrolled": true
   },
   "outputs": [
    {
     "data": {
      "image/png": "[encoded data removed]",
      "text/plain": [
       "<Figure size 432x288 with 1 Axes>"
      ]
     },
     "metadata": {
      "needs_background": "light"
     },
     "output_type": "display_data"
    }
   ],
   "source": [
    "%matplotlib inline\n",
    "plt.plot(auto_encoder_history['loss'][1:-1], linewidth=2, label='train')\n",
    "plt.plot(auto_encoder_history['val_loss'][1:-1], linewidth=2, label='valid')\n",
    "plt.ylabel('Loss')\n",
    "plt.xlabel('Epoch')\n",
    "plt.legend()\n",
    "plt.show()"
   ]
  },
  {
   "cell_type": "code",
   "execution_count": 9,
   "metadata": {},
   "outputs": [],
   "source": [
    "best_AE=tf.keras.models.load_model('best_auto.h5')"
   ]
  },
  {
   "cell_type": "code",
   "execution_count": 10,
   "metadata": {},
   "outputs": [],
   "source": [
    "predict_normal=best_AE.predict(x_test_norm.values)\n",
    "mse_normal=np.mean(np.power( predict_normal - x_test_norm.values, 2),axis=1)"
   ]
  },
  {
   "cell_type": "code",
   "execution_count": 11,
   "metadata": {},
   "outputs": [],
   "source": [
    "predict_fraud=best_AE.predict(x_test_fraud.values)\n",
    "mse_fraud=np.mean(np.power( predict_fraud - x_test_fraud.values, 2),axis=1)"
   ]
  },
  {
   "cell_type": "code",
   "execution_count": 12,
   "metadata": {},
   "outputs": [
    {
     "data": {
      "text/plain": [
       "0.6530551174676869"
      ]
     },
     "execution_count": 12,
     "metadata": {},
     "output_type": "execute_result"
    }
   ],
   "source": [
    "mse_normal.mean()"
   ]
  },
  {
   "cell_type": "code",
   "execution_count": 13,
   "metadata": {},
   "outputs": [
    {
     "data": {
      "text/plain": [
       "17.930624149895035"
      ]
     },
     "execution_count": 13,
     "metadata": {},
     "output_type": "execute_result"
    }
   ],
   "source": [
    "mse_fraud.mean()"
   ]
  },
  {
   "cell_type": "code",
   "execution_count": 14,
   "metadata": {},
   "outputs": [
    {
     "data": {
      "image/png": "[encoded data removed]",
      "text/plain": [
       "<Figure size 432x288 with 1 Axes>"
      ]
     },
     "metadata": {
      "needs_background": "light"
     },
     "output_type": "display_data"
    }
   ],
   "source": [
    "threshold_fixed = 3\n",
    "import pandas as pd\n",
    "from sklearn.utils import shuffle\n",
    "## Compare the reconstruct-error\n",
    "error_df=pd.DataFrame({'Recons_error':mse_normal,'isFraud':0})\n",
    "error_df=pd.concat([error_df,pd.DataFrame({'Recons_error':mse_fraud,'isFraud':1})],axis=0)\n",
    "error_df = shuffle(error_df)\n",
    "error_df=pd.DataFrame({'Recons_error':error_df['Recons_error'].values,'isFraud':error_df['isFraud'].values})\n",
    "groups = error_df.groupby('isFraud')\n",
    "fig, ax = plt.subplots()\n",
    "\n",
    "for name, group in groups:\n",
    "    ax.plot(group.index, group.Recons_error, marker='o', ms=3.0, linestyle='',\n",
    "            label= \"Fraud\" if name == 1 else \"Normal\")\n",
    "    \n",
    "ax.hlines(threshold_fixed, ax.get_xlim()[0], ax.get_xlim()[1], colors=\"r\", zorder=100, label='Threshold')\n",
    "ax.legend()\n",
    "plt.title(\"Reconst error for fraud and normal\")\n",
    "plt.ylabel(\"Reconstr error\")\n",
    "plt.xlabel(\"Data point\")\n",
    "plt.show()\n"
   ]
  },
  {
   "cell_type": "code",
   "execution_count": 15,
   "metadata": {},
   "outputs": [
    {
     "data": {
      "text/plain": [
       "0.7551020408163265"
      ]
     },
     "execution_count": 15,
     "metadata": {},
     "output_type": "execute_result"
    }
   ],
   "source": [
    "sum(mse_fraud>3)/len(mse_fraud)"
   ]
  },
  {
   "cell_type": "code",
   "execution_count": 16,
   "metadata": {},
   "outputs": [
    {
     "data": {
      "text/plain": [
       "0.013875211029825548"
      ]
     },
     "execution_count": 16,
     "metadata": {},
     "output_type": "execute_result"
    }
   ],
   "source": [
    "sum(mse_normal>3)/len(mse_normal)"
   ]
  },
  {
   "cell_type": "code",
   "execution_count": 17,
   "metadata": {},
   "outputs": [],
   "source": [
    "y_test_predict=best_AE.predict(x_test.values)\n",
    "mse_test=np.mean(np.power( y_test_predict - x_test.values, 2),axis=1)"
   ]
  },
  {
   "cell_type": "code",
   "execution_count": 18,
   "metadata": {},
   "outputs": [
    {
     "name": "stdout",
     "output_type": "stream",
     "text": [
      "[[56716   148]\n",
      " [   54    44]]\n"
     ]
    },
    {
     "data": {
      "text/plain": [
       "0    0.229167\n",
       "1    0.448980\n",
       "2    0.303448\n",
       "dtype: float64"
      ]
     },
     "execution_count": 18,
     "metadata": {},
     "output_type": "execute_result"
    }
   ],
   "source": [
    "y_test_predict=[1 if i >10 else 0 for i in mse_test]\n",
    "from sklearn.metrics import confusion_matrix,precision_score,recall_score,f1_score\n",
    "print(confusion_matrix(y_test.values,y_test_predict))\n",
    "metrics=pd.Series([precision_score,\n",
    "recall_score,\n",
    "f1_score])\n",
    "metrics.apply(lambda x:x(y_test.values,y_test_predict))"
   ]
  },
  {
   "cell_type": "code",
   "execution_count": null,
   "metadata": {},
   "outputs": [],
   "source": [
    "##T-SNE\n",
    "def tsne_plot(X, y, name=\"graph.png\"):\n",
    "    tsne = TSNE(n_components=2, random_state=0)\n",
    "    X_t = tsne.fit_transform(X)\n",
    "    plt.figure(figsize=(12, 8))\n",
    "    plt.scatter(X_t[np.where(y1 == 0), 0], \n",
    "                X_t[np.where(y1 == 0), 1], \n",
    "                marker='o', color='g', \n",
    "                linewidth='1', \n",
    "                alpha=0.8, \n",
    "                label='Non Fraud')\n",
    "    plt.scatter(X_t[np.where(y1 == 1), 0], \n",
    "                X_t[np.where(y1 == 1), 1], \n",
    "                marker='o', color='r', \n",
    "                linewidth='1', \n",
    "                alpha=0.8, \n",
    "                label='Fraud')\n",
    "    plt.legend(loc='best');\n",
    "    plt.savefig(name);\n",
    "    plt.show();\n",
    "    \n",
    "tsne_plot(x_train,y_train)"
   ]
  },
  {
   "cell_type": "code",
   "execution_count": 32,
   "metadata": {},
   "outputs": [],
   "source": [
    "hidden_representation = Sequential()\n",
    "hidden_representation.add(auto_encoder.layers[0])\n",
    "hidden_representation.add(auto_encoder.layers[1])\n",
    "hidden_representation.add(auto_encoder.layers[2])"
   ]
  },
  {
   "cell_type": "code",
   "execution_count": 33,
   "metadata": {},
   "outputs": [
    {
     "data": {
      "text/plain": [
       "array([[1.21420679e+01, 2.05239224e+00, 4.43142014e+01, 8.31779099e+00,\n",
       "        1.96414280e+00],\n",
       "       [0.00000000e+00, 1.88493657e+00, 6.17661667e+00, 2.28941369e+00,\n",
       "        9.58861530e-01],\n",
       "       [5.72886705e-01, 4.08548403e+00, 1.89629555e+00, 2.96394378e-02,\n",
       "        3.83366632e+00],\n",
       "       [4.60795689e+00, 3.25723529e+00, 7.26656866e+00, 1.60945189e+00,\n",
       "        9.01821673e-01],\n",
       "       [4.17434597e+00, 4.59242868e+00, 2.91562247e+00, 9.73485112e-01,\n",
       "        1.46654081e+00],\n",
       "       [1.28245840e+01, 8.71282279e-01, 5.19788666e+01, 9.72405624e+00,\n",
       "        2.38670993e+00],\n",
       "       [3.31927729e+00, 2.45866919e+00, 1.18223181e+01, 1.69374681e+00,\n",
       "        2.74608135e+00],\n",
       "       [4.55744133e+01, 2.42188954e+00, 2.12958420e+02, 4.04577560e+01,\n",
       "        7.05785227e+00],\n",
       "       [1.86874986e+00, 2.29817734e+01, 2.77393436e+00, 1.14113951e+01,\n",
       "        0.00000000e+00],\n",
       "       [1.81807251e+01, 4.35929823e+00, 5.36596260e+01, 1.21040735e+01,\n",
       "        1.49049306e+00],\n",
       "       [0.00000000e+00, 3.51376534e+00, 1.58714342e+00, 4.77717698e-01,\n",
       "        3.01981378e+00],\n",
       "       [4.46611547e+00, 1.15388098e+01, 3.02541065e+00, 4.44977570e+00,\n",
       "        8.81720781e-02],\n",
       "       [1.25900831e+01, 1.38558459e+00, 5.56742630e+01, 1.04736814e+01,\n",
       "        4.20832348e+00],\n",
       "       [6.29446411e+00, 2.32934380e+00, 2.86708775e+01, 4.95670843e+00,\n",
       "        4.06637764e+00],\n",
       "       [4.86404037e+00, 5.52321339e+00, 4.04470253e+00, 1.51532459e+00,\n",
       "        3.12021971e-01],\n",
       "       [6.10606670e+00, 3.86592603e+00, 1.43204021e+01, 2.87599015e+00,\n",
       "        3.17885804e+00],\n",
       "       [1.93643069e+00, 4.53659010e+00, 1.08439064e+00, 1.67889786e+00,\n",
       "        0.00000000e+00],\n",
       "       [2.42512085e+02, 6.39693975e+00, 1.18261731e+03, 2.27906647e+02,\n",
       "        2.86705551e+01],\n",
       "       [2.91754532e+00, 1.74685347e+00, 1.55521584e+00, 4.42244351e-01,\n",
       "        1.49968719e+00],\n",
       "       [4.09383125e+01, 1.58873308e+00, 1.89943298e+02, 3.62519646e+01,\n",
       "        6.25811815e+00],\n",
       "       [2.84080672e+00, 9.36744308e+00, 1.89314127e+00, 3.72225595e+00,\n",
       "        9.15262341e-01],\n",
       "       [1.14336071e+01, 3.76864147e+00, 2.94141884e+01, 7.05977678e+00,\n",
       "        1.26746964e+00],\n",
       "       [2.70516664e-01, 2.83670926e+00, 2.14336061e+00, 2.82506824e-01,\n",
       "        4.04237938e+00],\n",
       "       [1.31705332e+01, 5.32109547e+00, 5.07932129e+01, 1.09165974e+01,\n",
       "        2.27880168e+00],\n",
       "       [2.45711255e+00, 3.23402095e+00, 3.62603259e+00, 4.69446659e-01,\n",
       "        1.63703692e+00],\n",
       "       [8.33774185e+00, 4.61518478e+00, 2.43426189e+01, 5.54007053e+00,\n",
       "        1.85645723e+00],\n",
       "       [6.09631395e+00, 1.65263069e+00, 2.41582699e+01, 4.15030575e+00,\n",
       "        3.37425303e+00],\n",
       "       [2.10651726e-01, 1.41682673e+00, 5.04576588e+00, 1.74066710e+00,\n",
       "        4.69845355e-01],\n",
       "       [7.87060976e-01, 3.12463450e+00, 5.58194876e+00, 9.19893742e-01,\n",
       "        3.59343004e+00],\n",
       "       [1.52343643e+02, 4.26062202e+00, 7.37424744e+02, 1.41897842e+02,\n",
       "        1.85980568e+01],\n",
       "       [5.93556166e+00, 3.57325673e+00, 2.55181336e+00, 2.99666333e+00,\n",
       "        7.86442101e-01],\n",
       "       [1.34493959e+00, 9.76386356e+00, 2.67960334e+00, 5.60200119e+00,\n",
       "        3.20083141e-01],\n",
       "       [4.74281740e+00, 2.44855142e+00, 2.28045063e+01, 3.89589524e+00,\n",
       "        5.22760582e+00],\n",
       "       [2.14828873e+00, 3.61880708e+00, 1.60631859e+00, 1.41061693e-02,\n",
       "        2.86813784e+00],\n",
       "       [2.91622376e+00, 2.98457694e+00, 1.19573021e+01, 1.89287472e+00,\n",
       "        3.57469273e+00],\n",
       "       [8.89104366e-01, 5.29717541e+00, 8.27374756e-01, 3.77286768e+00,\n",
       "        0.00000000e+00],\n",
       "       [1.52662907e+01, 2.92299485e+00, 5.89642868e+01, 1.14396048e+01,\n",
       "        2.97896671e+00],\n",
       "       [5.92060423e+00, 3.95806146e+00, 9.23235035e+00, 1.91896927e+00,\n",
       "        2.90648842e+00],\n",
       "       [5.57249947e+01, 1.94913435e+00, 2.62351044e+02, 5.03895988e+01,\n",
       "        7.84253597e+00],\n",
       "       [1.68112488e+01, 1.74691331e+00, 6.58619080e+01, 1.23580370e+01,\n",
       "        2.63292646e+00],\n",
       "       [2.52371693e+00, 3.96757865e+00, 1.04840100e+00, 8.79835248e-01,\n",
       "        2.04407644e+00],\n",
       "       [5.02943659e+00, 1.42041278e+00, 2.47803268e+01, 5.08051634e+00,\n",
       "        4.02423763e+00],\n",
       "       [5.21840525e+00, 2.26098466e+00, 1.20839186e+01, 2.88654900e+00,\n",
       "        1.66840506e+00],\n",
       "       [3.77925372e+00, 5.34130239e+00, 2.03922462e+00, 1.31619561e+00,\n",
       "        1.79523230e+00],\n",
       "       [2.73349571e+00, 3.50588655e+00, 4.45257139e+00, 5.22347152e-01,\n",
       "        3.27081513e+00],\n",
       "       [5.67693996e+00, 1.31200314e+00, 3.06578484e+01, 5.65252495e+00,\n",
       "        3.59069395e+00],\n",
       "       [2.39567494e+00, 2.64830470e+00, 2.84215736e+00, 2.72010446e-01,\n",
       "        3.03228021e+00],\n",
       "       [2.90345120e+00, 5.32212448e+00, 1.41235447e+01, 5.93702984e+00,\n",
       "        0.00000000e+00],\n",
       "       [8.13496709e-02, 3.39184237e+00, 1.91842353e+00, 2.28987187e-01,\n",
       "        4.17623043e+00],\n",
       "       [9.04937077e+00, 1.26084185e+00, 3.65330505e+01, 6.94245148e+00,\n",
       "        3.58221483e+00],\n",
       "       [4.52670479e+00, 2.51863122e+00, 1.50146112e+01, 2.52198839e+00,\n",
       "        3.19930410e+00],\n",
       "       [4.14197922e+00, 3.33935428e+00, 1.28492320e+00, 7.83438623e-01,\n",
       "        1.58317780e+00],\n",
       "       [3.98401666e+00, 7.95766592e+00, 3.60803628e+00, 2.88696980e+00,\n",
       "        2.97990894e+00],\n",
       "       [4.83998108e+00, 4.56937742e+00, 2.60084414e+00, 1.52865255e+00,\n",
       "        2.03130960e+00],\n",
       "       [4.08036757e+00, 4.05348110e+00, 3.97579360e+00, 1.49303579e+00,\n",
       "        1.08719599e+00],\n",
       "       [0.00000000e+00, 2.22356081e+00, 1.55598640e+00, 1.22697806e+00,\n",
       "        6.97009563e-02],\n",
       "       [3.23081756e+00, 5.07329893e+00, 6.17972946e+00, 2.05336428e+00,\n",
       "        0.00000000e+00],\n",
       "       [3.14042425e+00, 1.63824463e+00, 2.38579822e+00, 4.66126174e-01,\n",
       "        2.73474932e+00],\n",
       "       [1.32951164e+01, 8.62194748e+01, 8.19402504e+00, 3.39476013e+01,\n",
       "        0.00000000e+00],\n",
       "       [3.88679767e+00, 5.08286715e+00, 1.82075942e+00, 6.10452175e-01,\n",
       "        1.81061172e+00],\n",
       "       [7.22038574e+01, 3.37149739e+00, 3.45959808e+02, 6.57309647e+01,\n",
       "        1.02190838e+01],\n",
       "       [6.91012335e+00, 4.07706785e+00, 1.42289209e+01, 3.23877525e+00,\n",
       "        1.82351053e+00],\n",
       "       [1.91613865e+01, 3.44046521e+00, 7.81785202e+01, 1.50691814e+01,\n",
       "        2.14076900e+00],\n",
       "       [3.09343457e+00, 6.52591753e+00, 4.19955969e+00, 1.63369668e+00,\n",
       "        2.96290398e+00],\n",
       "       [8.00617123e+00, 5.88735437e+00, 2.51574154e+01, 6.00080633e+00,\n",
       "        2.65233803e+00],\n",
       "       [3.99149108e+00, 4.16982698e+00, 1.10518198e+01, 3.67791629e+00,\n",
       "        2.35987425e+00],\n",
       "       [0.00000000e+00, 2.98942256e+00, 1.75133312e+00, 2.53069073e-01,\n",
       "        3.74386168e+00],\n",
       "       [2.71005058e+00, 3.58652282e+00, 2.08787251e+00, 0.00000000e+00,\n",
       "        3.64973164e+00],\n",
       "       [5.22684479e+00, 1.75950372e+00, 1.82654076e+01, 3.23962665e+00,\n",
       "        4.17627287e+00],\n",
       "       [1.01786747e+01, 5.05072975e+00, 3.54562912e+01, 7.27202082e+00,\n",
       "        3.47876167e+00],\n",
       "       [8.43058014e+00, 2.50505328e+00, 3.37819824e+01, 6.05248880e+00,\n",
       "        2.96861815e+00],\n",
       "       [1.92205453e+00, 2.34206343e+00, 3.98802018e+00, 9.54470873e-01,\n",
       "        2.81704855e+00],\n",
       "       [8.22001839e+00, 5.63354492e-01, 4.76865616e+01, 9.89028454e+00,\n",
       "        1.68765509e+00],\n",
       "       [4.63312483e+00, 6.51988697e+00, 5.49961758e+00, 2.50700092e+00,\n",
       "        2.28804445e+00],\n",
       "       [2.69711137e+00, 2.37817764e+00, 9.03608131e+00, 1.43231678e+00,\n",
       "        4.27344942e+00],\n",
       "       [2.26135701e-01, 1.63158178e+00, 3.94717550e+00, 5.68345070e-01,\n",
       "        4.18821096e+00],\n",
       "       [6.02024460e+00, 7.27490330e+00, 1.51999874e+01, 5.74769831e+00,\n",
       "        1.49822795e+00],\n",
       "       [7.90281057e+00, 7.00468493e+00, 6.52788877e+00, 3.85343242e+00,\n",
       "        1.09460413e+00],\n",
       "       [2.63044834e+00, 1.27433186e+01, 2.02559686e+00, 5.38154411e+00,\n",
       "        0.00000000e+00],\n",
       "       [7.38387871e+00, 1.70661008e+00, 2.98510551e+01, 5.31410408e+00,\n",
       "        4.29013014e+00],\n",
       "       [4.16896200e+00, 4.19542837e+00, 1.37888777e+00, 8.65859747e-01,\n",
       "        7.63755441e-01],\n",
       "       [1.04966474e+00, 2.44628024e+00, 1.06397915e+01, 2.50438213e+00,\n",
       "        1.70994604e+00],\n",
       "       [2.07157302e+00, 3.84180236e+00, 4.82075024e+00, 2.44693160e+00,\n",
       "        2.71091723e+00],\n",
       "       [6.97707510e+00, 1.75756657e+00, 1.92083397e+01, 3.75835776e+00,\n",
       "        2.52153325e+00],\n",
       "       [7.48827410e+00, 1.13127546e+01, 3.37284431e+01, 1.43698769e+01,\n",
       "        2.06063271e-01],\n",
       "       [3.95565534e+00, 5.82412815e+00, 7.30499363e+00, 2.54511905e+00,\n",
       "        0.00000000e+00],\n",
       "       [4.33890772e+00, 5.56371212e+00, 3.63312268e+00, 1.77854335e+00,\n",
       "        3.26858616e+00],\n",
       "       [2.67659588e+01, 1.01435399e+00, 1.17092255e+02, 2.25028210e+01,\n",
       "        4.00063038e+00],\n",
       "       [1.24923744e+01, 1.69564831e+00, 5.56722717e+01, 1.03797417e+01,\n",
       "        4.75086212e+00],\n",
       "       [4.34096289e+00, 4.57099342e+00, 7.65197563e+00, 2.51684070e+00,\n",
       "        2.07809806e-01],\n",
       "       [5.65912867e+00, 2.68001604e+00, 1.25269022e+01, 2.52890801e+00,\n",
       "        1.40241766e+00],\n",
       "       [4.18585110e+00, 2.42114305e+00, 2.27576656e+01, 3.78425622e+00,\n",
       "        4.78871632e+00],\n",
       "       [4.09065914e+00, 2.07552052e+00, 2.27285824e+01, 3.77236176e+00,\n",
       "        4.83419180e+00],\n",
       "       [6.18582535e+00, 4.59295225e+00, 1.29023161e+01, 3.54003000e+00,\n",
       "        1.00535846e+00],\n",
       "       [3.47422099e+00, 1.82611251e+00, 1.56809006e+01, 3.23158836e+00,\n",
       "        4.46892691e+00],\n",
       "       [2.12277126e+00, 2.48497605e+00, 2.74630356e+00, 4.13118541e-01,\n",
       "        3.63466787e+00],\n",
       "       [2.17326474e+00, 3.35008550e+00, 2.83392811e+00, 1.47086072e+00,\n",
       "        2.54915142e+00],\n",
       "       [1.50118303e+00, 3.34443426e+00, 1.58525825e+00, 2.48638079e-01,\n",
       "        3.00985479e+00],\n",
       "       [3.62056231e+00, 3.19785476e+00, 9.34532833e+00, 1.30121684e+00,\n",
       "        2.52568793e+00],\n",
       "       [9.35531044e+00, 1.21751690e+00, 3.87233772e+01, 7.00193357e+00,\n",
       "        3.52150536e+00],\n",
       "       [4.84204750e+01, 1.80060196e+00, 2.31834473e+02, 4.43123512e+01,\n",
       "        7.52159882e+00],\n",
       "       [7.69809198e+00, 4.47442245e+00, 2.21908760e+01, 5.07623625e+00,\n",
       "        1.24831033e+00],\n",
       "       [1.06814470e+01, 1.40514946e+00, 4.37731819e+01, 8.11805534e+00,\n",
       "        3.92987967e+00],\n",
       "       [1.42238295e+00, 3.16845441e+00, 1.25482261e+00, 3.56075138e-01,\n",
       "        5.09573400e-01],\n",
       "       [2.59858179e+00, 2.76682901e+00, 1.37625351e+01, 2.54060292e+00,\n",
       "        3.24948525e+00],\n",
       "       [3.43335414e+00, 2.89806938e+00, 1.00477791e+01, 1.74604774e+00,\n",
       "        2.65583539e+00],\n",
       "       [5.87240982e+00, 1.96857834e+00, 1.34524355e+01, 2.22471380e+00,\n",
       "        1.98050785e+00],\n",
       "       [8.48429799e-02, 3.25709724e+00, 3.71449018e+00, 7.90617287e-01,\n",
       "        3.32466030e+00],\n",
       "       [1.35670967e+01, 1.16274095e+00, 6.74691772e+01, 1.28331404e+01,\n",
       "        4.42089128e+00],\n",
       "       [4.53054390e+01, 4.17735434e+00, 1.98374069e+02, 3.92520370e+01,\n",
       "        7.67860413e+00],\n",
       "       [6.90830946e-01, 3.01542449e+00, 2.94667029e+00, 2.01125726e-01,\n",
       "        4.66364717e+00],\n",
       "       [4.04202509e+00, 2.70623636e+00, 5.01945591e+00, 1.90416741e+00,\n",
       "        9.41469312e-01],\n",
       "       [1.17849007e+01, 1.83921850e+00, 5.49462318e+01, 1.00653467e+01,\n",
       "        4.52264643e+00],\n",
       "       [4.63193893e+00, 4.42681789e+00, 7.98452330e+00, 1.20189023e+00,\n",
       "        2.75360918e+00],\n",
       "       [5.79822159e+00, 1.10993147e+01, 3.19816661e+00, 5.06679440e+00,\n",
       "        0.00000000e+00],\n",
       "       [1.40946352e+00, 2.27389431e+00, 5.76678324e+00, 1.19139802e+00,\n",
       "        5.07640219e+00],\n",
       "       [9.53811073e+00, 4.02112770e+00, 2.65790710e+01, 5.68018532e+00,\n",
       "        2.26724553e+00],\n",
       "       [6.21206903e+00, 3.50901699e+00, 1.43727074e+01, 3.77823138e+00,\n",
       "        1.73566747e+00],\n",
       "       [5.85263586e+00, 5.56214046e+00, 2.47978568e+00, 3.29517269e+00,\n",
       "        8.67288530e-01],\n",
       "       [3.76765323e+00, 5.35970068e+00, 5.62998247e+00, 1.26429915e+00,\n",
       "        3.89279127e+00],\n",
       "       [6.29951334e+00, 4.57868147e+00, 1.34587269e+01, 3.62339020e+00,\n",
       "        2.65970898e+00],\n",
       "       [4.09995079e+00, 2.48184872e+00, 1.38984051e+01, 2.46240377e+00,\n",
       "        2.19408417e+00],\n",
       "       [1.32981634e+00, 2.64481831e+00, 1.59618342e+00, 1.36665487e+00,\n",
       "        1.61379910e+00],\n",
       "       [7.83995271e-01, 1.55926788e+00, 2.08601546e+00, 2.76080310e-01,\n",
       "        3.91110945e+00],\n",
       "       [6.46082544e+00, 5.28721476e+00, 2.68688412e+01, 7.45847464e+00,\n",
       "        2.43565321e-01],\n",
       "       [7.40434980e+00, 5.81491661e+00, 1.87601891e+01, 5.00267029e+00,\n",
       "        1.35631680e+00],\n",
       "       [1.83281078e+01, 2.58236408e+00, 6.93707581e+01, 1.35546389e+01,\n",
       "        3.47900915e+00],\n",
       "       [2.62808490e+00, 3.70692348e+00, 1.77152789e+00, 0.00000000e+00,\n",
       "        3.13492870e+00],\n",
       "       [5.39561224e+00, 2.15248537e+00, 1.47305307e+01, 2.95671248e+00,\n",
       "        2.47411418e+00],\n",
       "       [1.40041428e+01, 1.84846473e+00, 5.62188606e+01, 1.06195908e+01,\n",
       "        3.76973057e+00],\n",
       "       [2.28302217e+00, 2.12860918e+00, 6.10297394e+00, 1.28426886e+00,\n",
       "        3.60969687e+00],\n",
       "       [6.94177866e-01, 4.13125038e+00, 2.58215690e+00, 1.50303662e-01,\n",
       "        3.83539248e+00],\n",
       "       [9.41513920e+00, 2.74175620e+00, 3.04796028e+01, 6.25035810e+00,\n",
       "        2.67409182e+00],\n",
       "       [1.40572405e+00, 3.08531809e+00, 1.52395487e+00, 2.87002802e-01,\n",
       "        2.77511787e+00],\n",
       "       [3.01955152e+00, 2.82078195e+00, 5.55690765e+00, 6.60636723e-01,\n",
       "        5.58810854e+00],\n",
       "       [4.02778244e+00, 4.27030420e+00, 2.53677773e+00, 9.09470856e-01,\n",
       "        2.08454990e+00],\n",
       "       [8.16338158e+00, 2.10821533e+00, 3.31815910e+01, 5.94089556e+00,\n",
       "        3.37694383e+00],\n",
       "       [1.34314120e+00, 3.13296413e+00, 9.95868111e+00, 1.85337663e+00,\n",
       "        4.42136765e+00],\n",
       "       [6.10623503e+00, 4.76359224e+00, 3.10075307e+00, 2.51023912e+00,\n",
       "        1.09193802e-01],\n",
       "       [8.71899891e+00, 2.62699699e+00, 2.52297878e+01, 4.87524176e+00,\n",
       "        1.64431357e+00],\n",
       "       [3.59909964e+00, 3.46206260e+00, 1.50401182e+01, 3.76233077e+00,\n",
       "        3.30900383e+00],\n",
       "       [7.62917757e+00, 1.17006516e+00, 3.63669128e+01, 6.66744471e+00,\n",
       "        3.90125847e+00],\n",
       "       [2.81877003e+01, 7.87675500e-01, 1.31198135e+02, 2.47977104e+01,\n",
       "        4.19849062e+00],\n",
       "       [5.71326542e+00, 7.11051035e+00, 1.16424942e+01, 4.96397781e+00,\n",
       "        1.86355674e+00],\n",
       "       [1.61657226e+00, 1.17688713e+01, 5.68352890e+00, 7.10598326e+00,\n",
       "        2.66476059e+00],\n",
       "       [3.95739150e+00, 3.10898519e+00, 1.40673554e+00, 3.10876250e-01,\n",
       "        2.63204837e+00],\n",
       "       [2.06865644e+00, 3.37681317e+00, 1.16154518e+01, 3.98050785e+00,\n",
       "        0.00000000e+00],\n",
       "       [1.22674389e+01, 2.28438234e+00, 4.57854614e+01, 8.50266171e+00,\n",
       "        2.16822314e+00],\n",
       "       [4.73157120e+00, 4.72566271e+00, 1.16571894e+01, 2.68203282e+00,\n",
       "        2.48497152e+00],\n",
       "       [4.38374329e+00, 4.15571070e+00, 1.47268400e+01, 3.50905395e+00,\n",
       "        2.33104777e+00],\n",
       "       [4.48922396e+00, 6.96087360e+00, 6.09170151e+00, 2.92878318e+00,\n",
       "        1.72875810e+00],\n",
       "       [5.68564510e+00, 5.27089071e+00, 9.04967499e+00, 1.78458083e+00,\n",
       "        1.90994692e+00],\n",
       "       [1.13354445e+00, 2.57539296e+00, 1.92869835e+01, 4.83505392e+00,\n",
       "        1.76722133e+00],\n",
       "       [3.59073877e+00, 4.86269379e+00, 1.70443475e+00, 1.40165401e+00,\n",
       "        8.75102937e-01],\n",
       "       [1.79482985e+00, 6.03684807e+00, 1.59197974e+00, 2.27751684e+00,\n",
       "        1.73870945e+00],\n",
       "       [2.19677240e-01, 3.08228803e+00, 4.36676311e+00, 3.16298437e+00,\n",
       "        0.00000000e+00],\n",
       "       [5.57383966e+00, 3.02564478e+00, 1.36821814e+01, 3.77973437e+00,\n",
       "        2.63332748e+00],\n",
       "       [3.31663638e-01, 2.74341631e+00, 4.54194212e+00, 1.87365937e+00,\n",
       "        0.00000000e+00],\n",
       "       [2.43135452e+00, 4.49301052e+00, 1.29090071e+00, 1.03219092e+00,\n",
       "        8.69119167e-02],\n",
       "       [3.17804360e+00, 3.48986459e+00, 6.66384315e+00, 7.83723831e-01,\n",
       "        4.11428499e+00],\n",
       "       [4.41542196e+00, 4.01885176e+00, 5.90752506e+00, 1.66597080e+00,\n",
       "        6.25851929e-01],\n",
       "       [3.19966364e+00, 3.77955317e+00, 1.52035356e+00, 7.72187352e-01,\n",
       "        1.99984670e+00],\n",
       "       [3.31787348e+00, 3.65758467e+00, 1.29837275e+00, 7.79220939e-01,\n",
       "        2.23837328e+00],\n",
       "       [3.19507961e+01, 2.26183748e+00, 1.39536179e+02, 2.64735317e+01,\n",
       "        4.98739386e+00],\n",
       "       [2.74068856e+00, 4.34828234e+00, 1.15390854e+01, 5.28121042e+00,\n",
       "        0.00000000e+00],\n",
       "       [3.26287794e+00, 8.54256153e+00, 3.77700496e+00, 2.49100447e+00,\n",
       "        2.21477342e+00],\n",
       "       [6.33166122e+00, 7.09815502e+00, 4.34693146e+00, 2.42449093e+00,\n",
       "        9.57370877e-01],\n",
       "       [1.11371493e+00, 1.66461527e+00, 7.71316099e+00, 1.16377532e+00,\n",
       "        3.80105925e+00],\n",
       "       [3.66418219e+00, 4.52287245e+00, 2.37794662e+00, 1.58405089e+00,\n",
       "        1.07347941e+00],\n",
       "       [3.11619473e+01, 1.26921093e+00, 1.49613266e+02, 2.87463665e+01,\n",
       "        5.53651237e+00],\n",
       "       [7.32642126e+00, 2.14445806e+00, 3.59358253e+01, 6.39175129e+00,\n",
       "        4.21231794e+00],\n",
       "       [1.39204526e+00, 2.25098681e+00, 2.04094810e+01, 5.25052881e+00,\n",
       "        6.68297112e-01],\n",
       "       [2.07938999e-01, 2.53908157e+00, 3.83162117e+00, 7.34206498e-01,\n",
       "        4.08784246e+00],\n",
       "       [1.16348228e+01, 3.99252820e+00, 3.88137398e+01, 7.21447754e+00,\n",
       "        1.99606156e+00],\n",
       "       [1.84988928e+00, 1.12922249e+01, 3.36096072e+00, 5.81653786e+00,\n",
       "        1.05031896e+00],\n",
       "       [3.47762847e+00, 3.45377183e+00, 1.79862690e+01, 3.15423846e+00,\n",
       "        3.68699741e+00],\n",
       "       [2.30432415e+01, 9.87327754e-01, 1.00660469e+02, 1.90567551e+01,\n",
       "        3.77084684e+00],\n",
       "       [3.48553133e+00, 4.70858574e+00, 2.13037109e+00, 1.33218443e+00,\n",
       "        1.52985752e+00],\n",
       "       [5.40181923e+00, 8.22974741e-01, 1.24669142e+01, 2.28733420e+00,\n",
       "        2.17509818e+00],\n",
       "       [1.26781410e+02, 2.80553508e+00, 6.21346985e+02, 1.19720116e+02,\n",
       "        1.50814581e+01],\n",
       "       [4.05212307e+00, 4.36446428e+00, 4.41635513e+00, 1.38890195e+00,\n",
       "        1.41177523e+00],\n",
       "       [6.31933117e+00, 3.15815258e+00, 2.02900581e+01, 3.49248838e+00,\n",
       "        1.59279227e+00],\n",
       "       [6.14591646e+00, 4.69603205e+00, 1.95146370e+01, 5.56304646e+00,\n",
       "        1.73796463e+00],\n",
       "       [5.54212570e-01, 3.43871784e+00, 2.58213520e+00, 1.90742120e-01,\n",
       "        4.80196857e+00],\n",
       "       [8.57103539e+00, 1.88219261e+00, 3.56126747e+01, 6.51857662e+00,\n",
       "        2.35474563e+00],\n",
       "       [5.48952198e+00, 1.22799265e+00, 2.11423817e+01, 3.87258077e+00,\n",
       "        3.45218945e+00],\n",
       "       [6.37156343e+00, 9.71162891e+00, 1.28740797e+01, 5.11448812e+00,\n",
       "        2.28367758e+00],\n",
       "       [2.78100061e+00, 6.23544025e+00, 6.36075926e+00, 3.88710952e+00,\n",
       "        2.36700273e+00],\n",
       "       [7.05448341e+00, 3.44305873e+00, 1.61905823e+01, 3.48802161e+00,\n",
       "        1.95148575e+00],\n",
       "       [2.14432831e+01, 8.29993725e-01, 9.73652954e+01, 1.84217472e+01,\n",
       "        3.82342911e+00],\n",
       "       [1.64603863e+01, 8.70517492e-01, 7.18660736e+01, 1.35819893e+01,\n",
       "        3.30949903e+00],\n",
       "       [1.77123299e+01, 1.90980184e+00, 8.62476578e+01, 1.64352036e+01,\n",
       "        5.79146385e+00],\n",
       "       [2.80465841e+00, 3.45497203e+00, 8.35263252e+00, 1.53854740e+00,\n",
       "        1.70999682e+00],\n",
       "       [3.56955552e+00, 1.66205537e+00, 1.18099775e+01, 1.88500226e+00,\n",
       "        4.05466366e+00],\n",
       "       [8.21071386e-01, 4.53880072e+00, 1.08323765e+00, 2.17004204e+00,\n",
       "        0.00000000e+00],\n",
       "       [1.82616735e+00, 3.11589456e+00, 4.06299829e+00, 2.77522707e+00,\n",
       "        0.00000000e+00],\n",
       "       [1.03631477e+01, 1.63944161e+00, 4.19498711e+01, 7.72117662e+00,\n",
       "        3.64958906e+00],\n",
       "       [3.85191751e+00, 7.57514811e+00, 6.86794710e+00, 3.55988169e+00,\n",
       "        2.62537575e+00],\n",
       "       [3.02400661e+00, 1.17672157e+01, 1.80440104e+00, 5.39249992e+00,\n",
       "        0.00000000e+00],\n",
       "       [3.26936793e+00, 4.21131659e+00, 2.56547761e+00, 1.87485576e+00,\n",
       "        0.00000000e+00]], dtype=float32)"
      ]
     },
     "execution_count": 33,
     "metadata": {},
     "output_type": "execute_result"
    }
   ],
   "source": [
    "hidden_representation.predict(x_train_norm[:200])"
   ]
  },
  {
   "cell_type": "code",
   "execution_count": null,
   "metadata": {},
   "outputs": [],
   "source": [
    "cnxn = pyodbc.connect('Driver={SQL Server};'\n",
    "                              'Server=10.13.11.4;'\n",
    "                              'Database=WRCT;'\n",
    "                              'Trusted_Connection=yes;')\n",
    "df = pd.read_sql(sql2,cnxn,index_col=None)"
   ]
  }
 ],
 "metadata": {
  "kernelspec": {
   "display_name": "Python 3",
   "language": "python",
   "name": "python3"
  },
  "language_info": {
   "codemirror_mode": {
    "name": "ipython",
    "version": 3
   },
   "file_extension": ".py",
   "mimetype": "text/x-python",
   "name": "python",
   "nbconvert_exporter": "python",
   "pygments_lexer": "ipython3",
   "version": "3.7.4"
  }
 },
 "nbformat": 4,
 "nbformat_minor": 2
}
