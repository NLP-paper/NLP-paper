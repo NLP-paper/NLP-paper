{
 "cells": [
  {
   "cell_type": "code",
   "execution_count": 33,
   "metadata": {
    "scrolled": true
   },
   "outputs": [
    {
     "name": "stderr",
     "output_type": "stream",
     "text": [
      "C:\\Users\\042300\\AppData\\Local\\Continuum\\anaconda3\\lib\\site-packages\\IPython\\core\\interactiveshell.py:3058: DtypeWarning: Columns (8) have mixed types. Specify dtype option on import or set low_memory=False.\n",
      "  interactivity=interactivity, compiler=compiler, result=result)\n"
     ]
    },
    {
     "data": {
      "text/html": [
       "<div>\n",
       "<style scoped>\n",
       "    .dataframe tbody tr th:only-of-type {\n",
       "        vertical-align: middle;\n",
       "    }\n",
       "\n",
       "    .dataframe tbody tr th {\n",
       "        vertical-align: top;\n",
       "    }\n",
       "\n",
       "    .dataframe thead th {\n",
       "        text-align: right;\n",
       "    }\n",
       "</style>\n",
       "<table border=\"1\" class=\"dataframe\">\n",
       "  <thead>\n",
       "    <tr style=\"text-align: right;\">\n",
       "      <th></th>\n",
       "      <th>account_id</th>\n",
       "      <th>date</th>\n",
       "      <th>type</th>\n",
       "      <th>operation</th>\n",
       "      <th>amount</th>\n",
       "      <th>balance</th>\n",
       "      <th>k_symbol</th>\n",
       "      <th>bank</th>\n",
       "    </tr>\n",
       "  </thead>\n",
       "  <tbody>\n",
       "    <tr>\n",
       "      <td>15</td>\n",
       "      <td>2177</td>\n",
       "      <td>930105</td>\n",
       "      <td>PRIJEM</td>\n",
       "      <td>PREVOD Z UCTU</td>\n",
       "      <td>5123.0</td>\n",
       "      <td>5923.0</td>\n",
       "      <td>DUCHOD</td>\n",
       "      <td>YZ</td>\n",
       "    </tr>\n",
       "    <tr>\n",
       "      <td>24</td>\n",
       "      <td>1972</td>\n",
       "      <td>930107</td>\n",
       "      <td>PRIJEM</td>\n",
       "      <td>PREVOD Z UCTU</td>\n",
       "      <td>5298.0</td>\n",
       "      <td>5698.0</td>\n",
       "      <td>DUCHOD</td>\n",
       "      <td>UV</td>\n",
       "    </tr>\n",
       "    <tr>\n",
       "      <td>46</td>\n",
       "      <td>3592</td>\n",
       "      <td>930110</td>\n",
       "      <td>PRIJEM</td>\n",
       "      <td>PREVOD Z UCTU</td>\n",
       "      <td>6007.0</td>\n",
       "      <td>6607.0</td>\n",
       "      <td>DUCHOD</td>\n",
       "      <td>MN</td>\n",
       "    </tr>\n",
       "    <tr>\n",
       "      <td>49</td>\n",
       "      <td>576</td>\n",
       "      <td>930111</td>\n",
       "      <td>PRIJEM</td>\n",
       "      <td>PREVOD Z UCTU</td>\n",
       "      <td>6207.0</td>\n",
       "      <td>7107.0</td>\n",
       "      <td>DUCHOD</td>\n",
       "      <td>YZ</td>\n",
       "    </tr>\n",
       "    <tr>\n",
       "      <td>53</td>\n",
       "      <td>2357</td>\n",
       "      <td>930112</td>\n",
       "      <td>PRIJEM</td>\n",
       "      <td>PREVOD Z UCTU</td>\n",
       "      <td>6434.0</td>\n",
       "      <td>7234.0</td>\n",
       "      <td>DUCHOD</td>\n",
       "      <td>OP</td>\n",
       "    </tr>\n",
       "    <tr>\n",
       "      <td>...</td>\n",
       "      <td>...</td>\n",
       "      <td>...</td>\n",
       "      <td>...</td>\n",
       "      <td>...</td>\n",
       "      <td>...</td>\n",
       "      <td>...</td>\n",
       "      <td>...</td>\n",
       "      <td>...</td>\n",
       "    </tr>\n",
       "    <tr>\n",
       "      <td>1047131</td>\n",
       "      <td>8564</td>\n",
       "      <td>981214</td>\n",
       "      <td>VYDAJ</td>\n",
       "      <td>PREVOD NA UCET</td>\n",
       "      <td>7170.0</td>\n",
       "      <td>94170.1</td>\n",
       "      <td>SIPO</td>\n",
       "      <td>UV</td>\n",
       "    </tr>\n",
       "    <tr>\n",
       "      <td>1047135</td>\n",
       "      <td>1681</td>\n",
       "      <td>981214</td>\n",
       "      <td>VYDAJ</td>\n",
       "      <td>PREVOD NA UCET</td>\n",
       "      <td>8550.0</td>\n",
       "      <td>60559.8</td>\n",
       "      <td>SIPO</td>\n",
       "      <td>UV</td>\n",
       "    </tr>\n",
       "    <tr>\n",
       "      <td>1047136</td>\n",
       "      <td>1672</td>\n",
       "      <td>981214</td>\n",
       "      <td>VYDAJ</td>\n",
       "      <td>PREVOD NA UCET</td>\n",
       "      <td>3898.0</td>\n",
       "      <td>52169.8</td>\n",
       "      <td>SIPO</td>\n",
       "      <td>ST</td>\n",
       "    </tr>\n",
       "    <tr>\n",
       "      <td>1047137</td>\n",
       "      <td>1773</td>\n",
       "      <td>981214</td>\n",
       "      <td>PRIJEM</td>\n",
       "      <td>PREVOD Z UCTU</td>\n",
       "      <td>4316.0</td>\n",
       "      <td>17215.9</td>\n",
       "      <td>DUCHOD</td>\n",
       "      <td>CD</td>\n",
       "    </tr>\n",
       "    <tr>\n",
       "      <td>1047140</td>\n",
       "      <td>1767</td>\n",
       "      <td>981214</td>\n",
       "      <td>VYDAJ</td>\n",
       "      <td>PREVOD NA UCET</td>\n",
       "      <td>2266.0</td>\n",
       "      <td>73784.4</td>\n",
       "      <td>SIPO</td>\n",
       "      <td>ST</td>\n",
       "    </tr>\n",
       "  </tbody>\n",
       "</table>\n",
       "<p>230465 rows × 8 columns</p>\n",
       "</div>"
      ],
      "text/plain": [
       "         account_id    date    type       operation  amount  balance k_symbol  \\\n",
       "15             2177  930105  PRIJEM   PREVOD Z UCTU  5123.0   5923.0   DUCHOD   \n",
       "24             1972  930107  PRIJEM   PREVOD Z UCTU  5298.0   5698.0   DUCHOD   \n",
       "46             3592  930110  PRIJEM   PREVOD Z UCTU  6007.0   6607.0   DUCHOD   \n",
       "49              576  930111  PRIJEM   PREVOD Z UCTU  6207.0   7107.0   DUCHOD   \n",
       "53             2357  930112  PRIJEM   PREVOD Z UCTU  6434.0   7234.0   DUCHOD   \n",
       "...             ...     ...     ...             ...     ...      ...      ...   \n",
       "1047131        8564  981214   VYDAJ  PREVOD NA UCET  7170.0  94170.1     SIPO   \n",
       "1047135        1681  981214   VYDAJ  PREVOD NA UCET  8550.0  60559.8     SIPO   \n",
       "1047136        1672  981214   VYDAJ  PREVOD NA UCET  3898.0  52169.8     SIPO   \n",
       "1047137        1773  981214  PRIJEM   PREVOD Z UCTU  4316.0  17215.9   DUCHOD   \n",
       "1047140        1767  981214   VYDAJ  PREVOD NA UCET  2266.0  73784.4     SIPO   \n",
       "\n",
       "        bank  \n",
       "15        YZ  \n",
       "24        UV  \n",
       "46        MN  \n",
       "49        YZ  \n",
       "53        OP  \n",
       "...      ...  \n",
       "1047131   UV  \n",
       "1047135   UV  \n",
       "1047136   ST  \n",
       "1047137   CD  \n",
       "1047140   ST  \n",
       "\n",
       "[230465 rows x 8 columns]"
      ]
     },
     "execution_count": 33,
     "metadata": {},
     "output_type": "execute_result"
    }
   ],
   "source": [
    "import pandas as pd\n",
    "data=pd.read_csv('C:/Users/042300/Desktop/data/data_berka/trans.asc',sep=';')\n",
    "data=data.drop(['trans_id','account'],axis=1)\n",
    "data=data.dropna(how='any')\n",
    "data"
   ]
  },
  {
   "cell_type": "code",
   "execution_count": 34,
   "metadata": {},
   "outputs": [
    {
     "data": {
      "text/plain": [
       "(230465, 8)"
      ]
     },
     "execution_count": 34,
     "metadata": {},
     "output_type": "execute_result"
    }
   ],
   "source": [
    "data.shape"
   ]
  },
  {
   "cell_type": "code",
   "execution_count": 35,
   "metadata": {},
   "outputs": [],
   "source": [
    "cat=['account_id','date','type','operation','k_symbol','bank']\n",
    "conti=['amount','balance']"
   ]
  },
  {
   "cell_type": "code",
   "execution_count": 36,
   "metadata": {},
   "outputs": [
    {
     "data": {
      "text/plain": [
       "OrdinalEncoder(categories='auto', dtype=<class 'numpy.float64'>)"
      ]
     },
     "execution_count": 36,
     "metadata": {},
     "output_type": "execute_result"
    }
   ],
   "source": [
    "# fit the OrdinalEncoder on entire dataset\n",
    "from sklearn.preprocessing import OrdinalEncoder\n",
    "oe=OrdinalEncoder()\n",
    "oe.fit(data[cat])"
   ]
  },
  {
   "cell_type": "code",
   "execution_count": 37,
   "metadata": {},
   "outputs": [
    {
     "data": {
      "text/plain": [
       "array([[1.492e+03, 1.070e+02, 0.000e+00, 1.000e+00, 1.000e+00, 2.000e+00],\n",
       "       [2.377e+03, 5.660e+02, 1.000e+00, 0.000e+00, 3.000e+00, 5.000e+00],\n",
       "       [5.100e+02, 6.100e+02, 1.000e+00, 0.000e+00, 3.000e+00, 1.100e+01],\n",
       "       ...,\n",
       "       [3.359e+03, 4.430e+02, 1.000e+00, 0.000e+00, 4.000e+00, 2.000e+00],\n",
       "       [2.569e+03, 6.590e+02, 0.000e+00, 1.000e+00, 1.000e+00, 7.000e+00],\n",
       "       [8.770e+02, 2.760e+02, 1.000e+00, 0.000e+00, 0.000e+00, 6.000e+00]])"
      ]
     },
     "execution_count": 37,
     "metadata": {},
     "output_type": "execute_result"
    }
   ],
   "source": [
    "# split data into training set and testing set\n",
    "from sklearn.model_selection import train_test_split\n",
    "train, test = train_test_split(data,test_size=0.3)\n",
    "# convert training categorical features to numeric \n",
    "train_cat=oe.transform(train[cat])\n",
    "train_cat"
   ]
  },
  {
   "cell_type": "code",
   "execution_count": 44,
   "metadata": {},
   "outputs": [
    {
     "name": "stdout",
     "output_type": "stream",
     "text": [
      "(161325, 8)\n"
     ]
    },
    {
     "data": {
      "text/plain": [
       "array([[1.49200e+03, 1.07000e+02, 0.00000e+00, ..., 2.00000e+00,\n",
       "        5.28000e+03, 2.22953e+04],\n",
       "       [2.37700e+03, 5.66000e+02, 1.00000e+00, ..., 5.00000e+00,\n",
       "        1.59900e+03, 2.85490e+04],\n",
       "       [5.10000e+02, 6.10000e+02, 1.00000e+00, ..., 1.10000e+01,\n",
       "        1.11600e+03, 2.11628e+04],\n",
       "       ...,\n",
       "       [3.35900e+03, 4.43000e+02, 1.00000e+00, ..., 2.00000e+00,\n",
       "        5.81350e+03, 5.70434e+04],\n",
       "       [2.56900e+03, 6.59000e+02, 0.00000e+00, ..., 7.00000e+00,\n",
       "        4.28000e+03, 2.48758e+04],\n",
       "       [8.77000e+02, 2.76000e+02, 1.00000e+00, ..., 6.00000e+00,\n",
       "        4.99200e+03, 5.26219e+04]])"
      ]
     },
     "execution_count": 44,
     "metadata": {},
     "output_type": "execute_result"
    }
   ],
   "source": [
    "# concate categorical features and continous features for training set\n",
    "import numpy as np\n",
    "train_oe=np.append(train_cat,train[conti],axis=1)\n",
    "train_oe"
   ]
  },
  {
   "cell_type": "code",
   "execution_count": 45,
   "metadata": {},
   "outputs": [
    {
     "name": "stderr",
     "output_type": "stream",
     "text": [
      "C:\\Users\\042300\\AppData\\Local\\Continuum\\anaconda3\\lib\\site-packages\\sklearn\\preprocessing\\_encoders.py:451: DeprecationWarning: The 'categorical_features' keyword is deprecated in version 0.20 and will be removed in 0.22. You can use the ColumnTransformer instead.\n",
      "  \"use the ColumnTransformer instead.\", DeprecationWarning)\n"
     ]
    },
    {
     "data": {
      "text/plain": [
       "<161325x4196 sparse matrix of type '<class 'numpy.float64'>'\n",
       "\twith 1290600 stored elements in COOrdinate format>"
      ]
     },
     "execution_count": 45,
     "metadata": {},
     "output_type": "execute_result"
    }
   ],
   "source": [
    "# apply onehotencoder on train_array\n",
    "from sklearn.preprocessing import OneHotEncoder\n",
    "# fit onehotencoder only on training set\n",
    "cat_index=[i for i in range(len(cat))]\n",
    "ohe=OneHotEncoder(handle_unknown='ignore',categorical_features=cat_index)\n",
    "train_ohe=ohe.fit_transform(train_oe)\n",
    "train_ohe"
   ]
  },
  {
   "cell_type": "code",
   "execution_count": null,
   "metadata": {},
   "outputs": [],
   "source": []
  }
 ],
 "metadata": {
  "kernelspec": {
   "display_name": "Python 3",
   "language": "python",
   "name": "python3"
  },
  "language_info": {
   "codemirror_mode": {
    "name": "ipython",
    "version": 3
   },
   "file_extension": ".py",
   "mimetype": "text/x-python",
   "name": "python",
   "nbconvert_exporter": "python",
   "pygments_lexer": "ipython3",
   "version": "3.7.4"
  }
 },
 "nbformat": 4,
 "nbformat_minor": 2
}
