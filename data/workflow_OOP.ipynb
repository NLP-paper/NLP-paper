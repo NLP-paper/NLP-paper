{
 "cells": [
  {
   "cell_type": "code",
   "execution_count": 287,
   "metadata": {},
   "outputs": [],
   "source": [
    "import pandas as pd\n",
    "import numpy as np\n",
    "import os"
   ]
  },
  {
   "cell_type": "code",
   "execution_count": null,
   "metadata": {},
   "outputs": [],
   "source": [
    "verbiage_dic={}"
   ]
  },
  {
   "cell_type": "code",
   "execution_count": 290,
   "metadata": {},
   "outputs": [
    {
     "ename": "SyntaxError",
     "evalue": "unexpected EOF while parsing (<ipython-input-290-060e015c5e5d>, line 20)",
     "output_type": "error",
     "traceback": [
      "\u001b[0;36m  File \u001b[0;32m\"<ipython-input-290-060e015c5e5d>\"\u001b[0;36m, line \u001b[0;32m20\u001b[0m\n\u001b[0;31m    \u001b[0m\n\u001b[0m    ^\u001b[0m\n\u001b[0;31mSyntaxError\u001b[0m\u001b[0;31m:\u001b[0m unexpected EOF while parsing\n"
     ]
    }
   ],
   "source": [
    "class AnalystToolMixIn:\n",
    "\n",
    "    def set_verbiage(self,case_ID,verbiage='code1'):\n",
    "        df=pd.read_csv(self.save_path+self.ID+'.csv',index_col=0)\n",
    "        if case_ID in df.index:\n",
    "            df.loc[case_ID,self.level+'_verbiage']=verbiage\n",
    "        else:\n",
    "            raise ValueError('Case not in your list!')\n",
    "        df.to_csv(self.save_path+self.ID+'.csv')\n",
    "        \n",
    "    def set_conclusion(self,case_ID,conclude='waive'):\n",
    "        df=pd.read_csv(self.save_path+self.ID+'.csv',index_col=0)\n",
    "        if case_ID in df.index:\n",
    "            df.loc[case_ID,self.level+'_conclusion']=conclude\n",
    "        else:\n",
    "            raise ValueError('Case not in your list!')\n",
    "        df.to_csv(self.save_path+self.ID+'.csv')\n",
    "    \n",
    "    def send_df_to_lead(self,):\n",
    "        \n",
    "    def "
   ]
  },
  {
   "cell_type": "code",
   "execution_count": null,
   "metadata": {},
   "outputs": [],
   "source": [
    "class LeadToolMixIn:\n",
    "\n",
    "    def set_verbiage(self,case_ID,verbiage='code1'):\n",
    "        df=pd.read_csv(self.save_path+self.ID+'.csv',index_col=0)\n",
    "        if case_ID in df.index:\n",
    "            df.loc[case_ID,self.level+'_verbiage']=verbiage\n",
    "        else:\n",
    "            raise ValueError('Case not in your list!')\n",
    "        df.to_csv(self.save_path+self.ID+'.csv')\n",
    "        \n",
    "    def set_conclusion(self,case_ID,conclude='waive'):\n",
    "        df=pd.read_csv(self.save_path+self.ID+'.csv',index_col=0)\n",
    "        if case_ID in df.index:\n",
    "            df.loc[case_ID,self.level+'_conclusion']=conclude\n",
    "        else:\n",
    "            raise ValueError('Case not in your list!')\n",
    "        df.to_csv(self.save_path+self.ID+'.csv')\n",
    "    \n",
    "    def send_df_to_lead(self,):\n",
    "        \n",
    "    def request_df_from_analyst(self,):\n",
    "        "
   ]
  },
  {
   "cell_type": "code",
   "execution_count": 362,
   "metadata": {},
   "outputs": [],
   "source": [
    "CL1_Analyst_Path='/home/frank/Desktop/workflow/CL1_Analyst',\n",
    "CL1_Lead_Path='/home/frank/Desktop/workflow/CL1_Lead'"
   ]
  },
  {
   "cell_type": "code",
   "execution_count": 380,
   "metadata": {},
   "outputs": [],
   "source": [
    "from shutil import copyfile\n",
    "class CL1_Analyst(AnalystToolMixIn):\n",
    "    def __init__(self,ID,name,lead_name,lead_ID,case_list,save_path):\n",
    "        self.level='CL1_Analyst'\n",
    "        self.ID=str(ID)\n",
    "        self.name=name\n",
    "        self.lead_name=lead_name\n",
    "        self.lead_ID=str(lead_ID)\n",
    "        self.case_list=case_list\n",
    "        self.save_path=save_path\n",
    "        self.generate_df()\n",
    "        self.df_path=os.path.join(self.save_path,self.ID+'.csv')\n",
    "\n",
    "    def __str__(self):\n",
    "        return 'CL1_Analyst_'+str(self.ID)\n",
    "    \n",
    "    __repr__=__str__\n",
    "    \n",
    "    def generate_df(self):\n",
    "        df=pd.DataFrame({\n",
    "                         self.level+'_name':self.name,\n",
    "                         self.level+'_verbiage':None,\n",
    "                         self.level+'_conclusion':None},\n",
    "                         index=self.case_list)\n",
    "        if not os.path.exists(self.save_path):\n",
    "            os.mkdir(self.save_path)\n",
    "        path=os.path.join(self.save_path,self.ID+'.csv')\n",
    "        df.to_csv(path)\n",
    "        return df\n",
    "\n",
    "    def check_df(self):\n",
    "        #path=os.path.join(self.save_path,self.ID+'.csv')\n",
    "        df=pd.read_csv(self.df_path,index_col=0)\n",
    "        return df\n",
    "    \n",
    "    def send_df(self):\n",
    "        if os.path.exists(CL1_Lead_Path):\n",
    "            copyfile(self.df_path,os.path.join(CL1_Lead_Path,self.lead_ID,self.ID+'.csv'))"
   ]
  },
  {
   "cell_type": "code",
   "execution_count": 375,
   "metadata": {},
   "outputs": [],
   "source": [
    "import shutil\n",
    "class CL1_Lead(AnalystToolMixIn):\n",
    "    def __init__(self,ID,name,analyst_list,save_path):\n",
    "        self.level='CL1_Lead'\n",
    "        self.ID=str(ID)\n",
    "        self.name=name\n",
    "        self.analyst_list=analyst_list\n",
    "        self.save_path=save_path\n",
    "        self.generate_analyst()\n",
    "\n",
    "    def __str__(self):\n",
    "        return 'CL1_Lead_'+str(self.ID)\n",
    "    \n",
    "    __repr__=__str__\n",
    "    \n",
    "    def generate_analyst(self):\n",
    "        path=os.path.join(self.save_path,self.ID)\n",
    "        if not os.path.exists(path):\n",
    "            os.makedirs(path)\n",
    "\n",
    "    def check_df(self,analyst_ID):\n",
    "        return CL1_analyst_list[str(analyst_ID)].check_df()\n",
    "    \n",
    "    def request_df(self,analyst_ID='all'):\n",
    "        if analyst_ID=='all':\n",
    "            for analyst in self.analyst_list:\n",
    "                copyfile(self)\n",
    "                \n",
    "    def "
   ]
  },
  {
   "cell_type": "code",
   "execution_count": 376,
   "metadata": {},
   "outputs": [],
   "source": [
    "import random\n",
    "CL1_analyst_name_list=['A','B','C','D','E','F']\n",
    "CL1_lead_name_list=['alpha','Beta','Gamma']\n",
    "case_list=['Case_'+ str(i) for i in range(60)]\n",
    "random.shuffle(case_list)"
   ]
  },
  {
   "cell_type": "code",
   "execution_count": 377,
   "metadata": {},
   "outputs": [],
   "source": [
    "CL1_analyst_list={str(i):CL1_Analyst(i,CL1_analyst_name_list[i],\n",
    "                              CL1_lead_name_list[i//2],\n",
    "                                     i//2,\n",
    "                              case_list[i*10:(i+1)*10],\n",
    "                              '/home/frank/Desktop/workflow/CL1_Analyst') for i in range(len(CL1_analyst_name_list))}"
   ]
  },
  {
   "cell_type": "code",
   "execution_count": 378,
   "metadata": {},
   "outputs": [],
   "source": [
    "CL1_lead_list={str(i): CL1_Lead(i,CL1_lead_name_list[i],\n",
    "                                CL1_analyst_name_list[i*2:(i+1)*2],\n",
    "                                '/home/frank/Desktop/workflow/CL1_Lead'\n",
    "                              ) for i in range(len(CL1_lead_name_list))}"
   ]
  },
  {
   "cell_type": "code",
   "execution_count": 379,
   "metadata": {},
   "outputs": [],
   "source": [
    "CL1_analyst_list['0'].upload_df()"
   ]
  },
  {
   "cell_type": "code",
   "execution_count": 360,
   "metadata": {},
   "outputs": [
    {
     "data": {
      "text/html": [
       "<div>\n",
       "<style scoped>\n",
       "    .dataframe tbody tr th:only-of-type {\n",
       "        vertical-align: middle;\n",
       "    }\n",
       "\n",
       "    .dataframe tbody tr th {\n",
       "        vertical-align: top;\n",
       "    }\n",
       "\n",
       "    .dataframe thead th {\n",
       "        text-align: right;\n",
       "    }\n",
       "</style>\n",
       "<table border=\"1\" class=\"dataframe\">\n",
       "  <thead>\n",
       "    <tr style=\"text-align: right;\">\n",
       "      <th></th>\n",
       "      <th>CL1_Analyst_name</th>\n",
       "      <th>CL1_Analyst_verbiage</th>\n",
       "      <th>CL1_Analyst_conclusion</th>\n",
       "    </tr>\n",
       "  </thead>\n",
       "  <tbody>\n",
       "    <tr>\n",
       "      <th>Case_44</th>\n",
       "      <td>A</td>\n",
       "      <td>NaN</td>\n",
       "      <td>NaN</td>\n",
       "    </tr>\n",
       "    <tr>\n",
       "      <th>Case_28</th>\n",
       "      <td>A</td>\n",
       "      <td>NaN</td>\n",
       "      <td>NaN</td>\n",
       "    </tr>\n",
       "    <tr>\n",
       "      <th>Case_17</th>\n",
       "      <td>A</td>\n",
       "      <td>NaN</td>\n",
       "      <td>NaN</td>\n",
       "    </tr>\n",
       "    <tr>\n",
       "      <th>Case_19</th>\n",
       "      <td>A</td>\n",
       "      <td>NaN</td>\n",
       "      <td>NaN</td>\n",
       "    </tr>\n",
       "    <tr>\n",
       "      <th>Case_22</th>\n",
       "      <td>A</td>\n",
       "      <td>NaN</td>\n",
       "      <td>NaN</td>\n",
       "    </tr>\n",
       "    <tr>\n",
       "      <th>Case_29</th>\n",
       "      <td>A</td>\n",
       "      <td>NaN</td>\n",
       "      <td>NaN</td>\n",
       "    </tr>\n",
       "    <tr>\n",
       "      <th>Case_23</th>\n",
       "      <td>A</td>\n",
       "      <td>NaN</td>\n",
       "      <td>NaN</td>\n",
       "    </tr>\n",
       "    <tr>\n",
       "      <th>Case_43</th>\n",
       "      <td>A</td>\n",
       "      <td>NaN</td>\n",
       "      <td>NaN</td>\n",
       "    </tr>\n",
       "    <tr>\n",
       "      <th>Case_31</th>\n",
       "      <td>A</td>\n",
       "      <td>NaN</td>\n",
       "      <td>NaN</td>\n",
       "    </tr>\n",
       "    <tr>\n",
       "      <th>Case_18</th>\n",
       "      <td>A</td>\n",
       "      <td>NaN</td>\n",
       "      <td>NaN</td>\n",
       "    </tr>\n",
       "  </tbody>\n",
       "</table>\n",
       "</div>"
      ],
      "text/plain": [
       "        CL1_Analyst_name  CL1_Analyst_verbiage  CL1_Analyst_conclusion\n",
       "Case_44                A                   NaN                     NaN\n",
       "Case_28                A                   NaN                     NaN\n",
       "Case_17                A                   NaN                     NaN\n",
       "Case_19                A                   NaN                     NaN\n",
       "Case_22                A                   NaN                     NaN\n",
       "Case_29                A                   NaN                     NaN\n",
       "Case_23                A                   NaN                     NaN\n",
       "Case_43                A                   NaN                     NaN\n",
       "Case_31                A                   NaN                     NaN\n",
       "Case_18                A                   NaN                     NaN"
      ]
     },
     "execution_count": 360,
     "metadata": {},
     "output_type": "execute_result"
    }
   ],
   "source": [
    "CL1_lead_list['0'].check_df('0')"
   ]
  },
  {
   "cell_type": "code",
   "execution_count": 315,
   "metadata": {},
   "outputs": [
    {
     "data": {
      "text/plain": [
       "{'0': CL1_Analyst_0,\n",
       " '1': CL1_Analyst_1,\n",
       " '2': CL1_Analyst_2,\n",
       " '3': CL1_Analyst_3,\n",
       " '4': CL1_Analyst_4,\n",
       " '5': CL1_Analyst_5}"
      ]
     },
     "execution_count": 315,
     "metadata": {},
     "output_type": "execute_result"
    }
   ],
   "source": [
    "CL1_analyst_list"
   ]
  },
  {
   "cell_type": "code",
   "execution_count": 324,
   "metadata": {},
   "outputs": [
    {
     "data": {
      "text/plain": [
       "CL1_Lead_0"
      ]
     },
     "execution_count": 324,
     "metadata": {},
     "output_type": "execute_result"
    }
   ],
   "source": [
    "CL1_lead_list['0']"
   ]
  },
  {
   "cell_type": "code",
   "execution_count": 316,
   "metadata": {},
   "outputs": [
    {
     "data": {
      "text/html": [
       "<div>\n",
       "<style scoped>\n",
       "    .dataframe tbody tr th:only-of-type {\n",
       "        vertical-align: middle;\n",
       "    }\n",
       "\n",
       "    .dataframe tbody tr th {\n",
       "        vertical-align: top;\n",
       "    }\n",
       "\n",
       "    .dataframe thead th {\n",
       "        text-align: right;\n",
       "    }\n",
       "</style>\n",
       "<table border=\"1\" class=\"dataframe\">\n",
       "  <thead>\n",
       "    <tr style=\"text-align: right;\">\n",
       "      <th></th>\n",
       "      <th>CL1_Analyst_name</th>\n",
       "      <th>CL1_Analyst_verbiage</th>\n",
       "      <th>CL1_Analyst_conclusion</th>\n",
       "    </tr>\n",
       "  </thead>\n",
       "  <tbody>\n",
       "    <tr>\n",
       "      <th>Case_20</th>\n",
       "      <td>C</td>\n",
       "      <td>NaN</td>\n",
       "      <td>NaN</td>\n",
       "    </tr>\n",
       "    <tr>\n",
       "      <th>Case_37</th>\n",
       "      <td>C</td>\n",
       "      <td>NaN</td>\n",
       "      <td>NaN</td>\n",
       "    </tr>\n",
       "    <tr>\n",
       "      <th>Case_36</th>\n",
       "      <td>C</td>\n",
       "      <td>NaN</td>\n",
       "      <td>NaN</td>\n",
       "    </tr>\n",
       "    <tr>\n",
       "      <th>Case_16</th>\n",
       "      <td>C</td>\n",
       "      <td>NaN</td>\n",
       "      <td>NaN</td>\n",
       "    </tr>\n",
       "    <tr>\n",
       "      <th>Case_2</th>\n",
       "      <td>C</td>\n",
       "      <td>NaN</td>\n",
       "      <td>NaN</td>\n",
       "    </tr>\n",
       "    <tr>\n",
       "      <th>Case_10</th>\n",
       "      <td>C</td>\n",
       "      <td>NaN</td>\n",
       "      <td>NaN</td>\n",
       "    </tr>\n",
       "    <tr>\n",
       "      <th>Case_57</th>\n",
       "      <td>C</td>\n",
       "      <td>NaN</td>\n",
       "      <td>NaN</td>\n",
       "    </tr>\n",
       "    <tr>\n",
       "      <th>Case_9</th>\n",
       "      <td>C</td>\n",
       "      <td>NaN</td>\n",
       "      <td>NaN</td>\n",
       "    </tr>\n",
       "    <tr>\n",
       "      <th>Case_6</th>\n",
       "      <td>C</td>\n",
       "      <td>NaN</td>\n",
       "      <td>NaN</td>\n",
       "    </tr>\n",
       "    <tr>\n",
       "      <th>Case_32</th>\n",
       "      <td>C</td>\n",
       "      <td>NaN</td>\n",
       "      <td>NaN</td>\n",
       "    </tr>\n",
       "  </tbody>\n",
       "</table>\n",
       "</div>"
      ],
      "text/plain": [
       "        CL1_Analyst_name  CL1_Analyst_verbiage  CL1_Analyst_conclusion\n",
       "Case_20                C                   NaN                     NaN\n",
       "Case_37                C                   NaN                     NaN\n",
       "Case_36                C                   NaN                     NaN\n",
       "Case_16                C                   NaN                     NaN\n",
       "Case_2                 C                   NaN                     NaN\n",
       "Case_10                C                   NaN                     NaN\n",
       "Case_57                C                   NaN                     NaN\n",
       "Case_9                 C                   NaN                     NaN\n",
       "Case_6                 C                   NaN                     NaN\n",
       "Case_32                C                   NaN                     NaN"
      ]
     },
     "execution_count": 316,
     "metadata": {},
     "output_type": "execute_result"
    }
   ],
   "source": [
    "CL1_analyst_list['2'].check_df()"
   ]
  },
  {
   "cell_type": "code",
   "execution_count": 306,
   "metadata": {},
   "outputs": [],
   "source": [
    "CL1_analyst_list['2'].set_verbiage('Case_38','Code1')"
   ]
  },
  {
   "cell_type": "code",
   "execution_count": 310,
   "metadata": {},
   "outputs": [
    {
     "data": {
      "text/plain": [
       "'home/frank/frnn/cover.csv'"
      ]
     },
     "execution_count": 310,
     "metadata": {},
     "output_type": "execute_result"
    }
   ],
   "source": [
    "os.path.join('home/frank/','frnn','cover.csv')"
   ]
  },
  {
   "cell_type": "code",
   "execution_count": null,
   "metadata": {},
   "outputs": [],
   "source": []
  }
 ],
 "metadata": {
  "kernelspec": {
   "display_name": "Python 3",
   "language": "python",
   "name": "python3"
  },
  "language_info": {
   "codemirror_mode": {
    "name": "ipython",
    "version": 3
   },
   "file_extension": ".py",
   "mimetype": "text/x-python",
   "name": "python",
   "nbconvert_exporter": "python",
   "pygments_lexer": "ipython3",
   "version": "3.7.3"
  }
 },
 "nbformat": 4,
 "nbformat_minor": 2
}
